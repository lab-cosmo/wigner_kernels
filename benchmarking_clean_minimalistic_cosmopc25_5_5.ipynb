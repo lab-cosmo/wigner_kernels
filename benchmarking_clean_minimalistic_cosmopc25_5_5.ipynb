{
 "cells": [
  {
   "cell_type": "markdown",
   "metadata": {},
   "source": [
    "модель пс\n",
    "модель бс\n",
    "тест что инвариантны\n",
    "тест что воспроизводят либраскаловскую штуковину"
   ]
  },
  {
   "cell_type": "code",
   "execution_count": 1,
   "metadata": {},
   "outputs": [
    {
     "data": {
      "text/plain": [
       "'!wget \"https://archive.materialscloud.org/record/file?file_id=b612d8e3-58af-4374-96ba-b3551ac5d2f4&filename=methane.extxyz.gz&record_id=528\" -O methane.extxyz.gz\\n!gunzip -k methane.extxyz.gz'"
      ]
     },
     "execution_count": 1,
     "metadata": {},
     "output_type": "execute_result"
    }
   ],
   "source": [
    "'''!wget \"https://archive.materialscloud.org/record/file?file_id=b612d8e3-58af-4374-96ba-b3551ac5d2f4&filename=methane.extxyz.gz&record_id=528\" -O methane.extxyz.gz\n",
    "!gunzip -k methane.extxyz.gz'''"
   ]
  },
  {
   "cell_type": "code",
   "execution_count": 2,
   "metadata": {},
   "outputs": [],
   "source": [
    "import numpy as np\n",
    "from rascal.representations import SphericalExpansion as SPH\n",
    "import ase.io\n",
    "import tqdm\n",
    "from nice.blocks import *\n",
    "from nice.utilities import *\n",
    "from matplotlib import pyplot as plt\n",
    "from sklearn.linear_model import BayesianRidge\n",
    "import torch\n",
    "torch.set_num_threads(1)\n",
    "import torch.nn\n",
    "from code_pytorch import *\n",
    "import time\n",
    "import numpy as np\n",
    "from sympy.physics.wigner import wigner_3j\n",
    "from sympy.physics.quantum.spin import Rotation as rot\n",
    "from rascal.representations import SphericalInvariants as SOAP\n",
    "from torch2trt import torch2trt"
   ]
  },
  {
   "cell_type": "code",
   "execution_count": 3,
   "metadata": {},
   "outputs": [],
   "source": [
    "class Powerspectrum(torch.nn.Module):\n",
    "    def __init__(self, clebsch):\n",
    "        super(Powerspectrum, self).__init__()\n",
    "        self.first = ClebschCombining(clebsch, 0)       \n",
    "            \n",
    "    def forward(self, X):\n",
    "        ps_invariants = self.first(X, X)       \n",
    "        return ps_invariants\n",
    "    \n",
    "class Bispectrum(torch.nn.Module):\n",
    "    def __init__(self, clebsch, lambda_max):\n",
    "        super(Bispectrum, self).__init__()\n",
    "        self.first = ClebschCombining(clebsch, lambda_max)\n",
    "        self.second = ClebschCombining(clebsch, 0)\n",
    "            \n",
    "    def forward(self, X):\n",
    "        ps_covariants = self.first(X, X)\n",
    "        bs_invariants = self.second(ps_covariants, X)\n",
    "        return bs_invariants\n",
    "    \n",
    "def convert_to_torch(coefficients, device):\n",
    "    result = {}\n",
    "    for lambd in range(coefficients.shape[2]):\n",
    "        result[lambd] = torch.FloatTensor(coefficients[:, :, lambd, : 2 * lambd + 1]).to(device)\n",
    "        result[lambd] = result[lambd].transpose(0, -1)\n",
    "    return result"
   ]
  },
  {
   "cell_type": "code",
   "execution_count": 4,
   "metadata": {},
   "outputs": [],
   "source": [
    "LAMBDA_MAX = 5\n",
    "\n",
    "HYPERS = {\n",
    "    'interaction_cutoff': 6.3,\n",
    "    'max_radial': 5,\n",
    "    'max_angular': LAMBDA_MAX,\n",
    "    'gaussian_sigma_type': 'Constant',\n",
    "    'gaussian_sigma_constant': 0.3,\n",
    "    'cutoff_smooth_width': 0.3,\n",
    "    'radial_basis': 'GTO'\n",
    "}\n",
    "\n",
    "HYPERS_PS = copy.deepcopy(HYPERS)\n",
    "HYPERS_PS['soap_type'] = 'PowerSpectrum'\n",
    "\n",
    "HYPERS_BS = copy.deepcopy(HYPERS)\n",
    "HYPERS_BS['soap_type'] = 'BiSpectrum'\n",
    "HYPERS_BS['inversion_symmetry'] = False"
   ]
  },
  {
   "cell_type": "code",
   "execution_count": 5,
   "metadata": {},
   "outputs": [],
   "source": [
    "def get_rascal_ps(structures):\n",
    "    #nice.rascal_coefficients.process_structures(structures)\n",
    "    soap_ps = SOAP(**HYPERS_PS)   \n",
    "    ps = soap_ps.transform(structures).get_features(soap_ps)\n",
    "    return ps\n",
    "\n",
    "def get_rascal_bs(structures):\n",
    "    soap_bs = SOAP(**HYPERS_BS)    \n",
    "    bs = soap_bs.transform(structures).get_features(soap_bs)\n",
    "    return bs\n",
    "\n",
    "def get_torch_invariants(structures, device, model):\n",
    "    all_species = get_all_species(structures)\n",
    "    coefficients = get_spherical_expansion(structures, HYPERS,\n",
    "                                             all_species)    \n",
    "    \n",
    "    result = {}\n",
    "    for specie in all_species:\n",
    "        result[specie] = model(convert_to_torch(coefficients[specie], device))\n",
    "        \n",
    "    \n",
    "    return result"
   ]
  },
  {
   "cell_type": "code",
   "execution_count": 6,
   "metadata": {},
   "outputs": [],
   "source": [
    "structures = ase.io.read('methane.extxyz', index='0:300')\n",
    "structures = nice.rascal_coefficients.process_structures(structures) #put all inside unit cell for rascal\n",
    "clebsch = nice.clebsch_gordan.ClebschGordan(LAMBDA_MAX)"
   ]
  },
  {
   "cell_type": "code",
   "execution_count": 7,
   "metadata": {},
   "outputs": [
    {
     "name": "stdout",
     "output_type": "stream",
     "text": [
      "0.061212778091430664\n"
     ]
    }
   ],
   "source": [
    "begin = time.time()\n",
    "_ = get_rascal_ps(structures)\n",
    "print(time.time() - begin)"
   ]
  },
  {
   "cell_type": "code",
   "execution_count": 8,
   "metadata": {},
   "outputs": [
    {
     "name": "stderr",
     "output_type": "stream",
     "text": [
      "100%|██████████| 3/3 [00:00<00:00, 37.14it/s]\n",
      "100%|██████████| 2/2 [00:00<00:00, 563.33it/s]"
     ]
    },
    {
     "name": "stdout",
     "output_type": "stream",
     "text": [
      "0.3246273994445801\n"
     ]
    },
    {
     "name": "stderr",
     "output_type": "stream",
     "text": [
      "\n"
     ]
    }
   ],
   "source": [
    "model_ps = Powerspectrum(clebsch.precomputed_)\n",
    "begin = time.time()\n",
    "_ = get_torch_invariants(structures, 'cpu', model_ps)\n",
    "print(time.time() - begin)"
   ]
  },
  {
   "cell_type": "code",
   "execution_count": 9,
   "metadata": {},
   "outputs": [
    {
     "name": "stderr",
     "output_type": "stream",
     "text": [
      "100%|██████████| 3/3 [00:00<00:00, 54.62it/s]\n",
      "100%|██████████| 2/2 [00:00<00:00, 820.32it/s]"
     ]
    },
    {
     "name": "stdout",
     "output_type": "stream",
     "text": [
      "0.39711785316467285\n"
     ]
    },
    {
     "name": "stderr",
     "output_type": "stream",
     "text": [
      "\n"
     ]
    }
   ],
   "source": [
    "model_ps = model_ps.cuda()\n",
    "begin = time.time()\n",
    "_ = get_torch_invariants(structures, 'cuda', model_ps)\n",
    "print(time.time() - begin)"
   ]
  },
  {
   "cell_type": "code",
   "execution_count": 10,
   "metadata": {},
   "outputs": [
    {
     "name": "stdout",
     "output_type": "stream",
     "text": [
      "102.4657506942749\n"
     ]
    }
   ],
   "source": [
    "begin = time.time()\n",
    "_ = get_rascal_bs(structures)\n",
    "print(time.time() - begin)"
   ]
  },
  {
   "cell_type": "code",
   "execution_count": 11,
   "metadata": {},
   "outputs": [
    {
     "name": "stderr",
     "output_type": "stream",
     "text": [
      "100%|██████████| 3/3 [00:00<00:00, 59.31it/s]\n",
      "100%|██████████| 2/2 [00:00<00:00, 714.05it/s]\n"
     ]
    },
    {
     "name": "stdout",
     "output_type": "stream",
     "text": [
      "26.96322751045227\n"
     ]
    }
   ],
   "source": [
    "model_bs = Bispectrum(clebsch.precomputed_, LAMBDA_MAX)\n",
    "begin = time.time()\n",
    "_ = get_torch_invariants(structures, 'cpu', model_bs)\n",
    "print(time.time() - begin)"
   ]
  },
  {
   "cell_type": "code",
   "execution_count": 12,
   "metadata": {},
   "outputs": [
    {
     "name": "stderr",
     "output_type": "stream",
     "text": [
      "100%|██████████| 3/3 [00:00<00:00, 50.02it/s]\n",
      "100%|██████████| 2/2 [00:00<00:00, 719.74it/s]\n"
     ]
    },
    {
     "name": "stdout",
     "output_type": "stream",
     "text": [
      "2.9388179779052734\n"
     ]
    }
   ],
   "source": [
    "model_bs = model_bs.cuda()\n",
    "begin = time.time()\n",
    "_ = get_torch_invariants(structures, 'cuda', model_bs)\n",
    "print(time.time() - begin)"
   ]
  },
  {
   "cell_type": "code",
   "execution_count": null,
   "metadata": {},
   "outputs": [],
   "source": []
  },
  {
   "cell_type": "code",
   "execution_count": null,
   "metadata": {},
   "outputs": [],
   "source": []
  }
 ],
 "metadata": {
  "kernelspec": {
   "display_name": "Python 3",
   "language": "python",
   "name": "python3"
  },
  "language_info": {
   "codemirror_mode": {
    "name": "ipython",
    "version": 3
   },
   "file_extension": ".py",
   "mimetype": "text/x-python",
   "name": "python",
   "nbconvert_exporter": "python",
   "pygments_lexer": "ipython3",
   "version": "3.6.9"
  }
 },
 "nbformat": 4,
 "nbformat_minor": 4
}
