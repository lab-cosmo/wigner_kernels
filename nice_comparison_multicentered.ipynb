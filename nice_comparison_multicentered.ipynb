{
 "cells": [
  {
   "cell_type": "code",
   "execution_count": 1,
   "id": "earned-barcelona",
   "metadata": {},
   "outputs": [],
   "source": [
    "import numpy as np\n",
    "import ase.io\n",
    "import tqdm\n",
    "from nice.blocks import *\n",
    "from nice.utilities import *\n",
    "from matplotlib import pyplot as plt\n",
    "from sklearn.linear_model import BayesianRidge\n",
    "from sklearn.linear_model import Ridge"
   ]
  },
  {
   "cell_type": "code",
   "execution_count": 2,
   "id": "sonic-means",
   "metadata": {},
   "outputs": [
    {
     "name": "stdout",
     "output_type": "stream",
     "text": [
      "-6.458165243625672 21.9666209428583\n"
     ]
    }
   ],
   "source": [
    "HARTREE_TO_EV = 27.211386245988\n",
    "'''train_subset = \"0:50000\"  #input for ase.io.read command\n",
    "test_subset = \"50000:55000\"  #input to ase.io.read command\n",
    "environments_for_fitting = 1000 #number of environments to fit nice transfomers\n",
    "GRID = [150, 200, 350, 500, 750, 1000, 1500, 2000, 2500, 3500, 5000, 7500, 10000, 15000, 20000, 35000, 50000]  #for learning curve\n",
    "\n",
    "#HYPERS for librascal spherical expansion coefficients\n",
    "LAMBDA_MAX = 5\n",
    "HYPERS = {\n",
    "    'interaction_cutoff': 6.3,\n",
    "    'max_radial': 5,\n",
    "    'max_angular': LAMBDA_MAX,\n",
    "    'gaussian_sigma_type': 'Constant',\n",
    "    'gaussian_sigma_constant': 0.05,\n",
    "    'cutoff_smooth_width': 0.3,\n",
    "    'radial_basis': 'GTO'\n",
    "}'''\n",
    "\n",
    "train_subset = \"0:200\"  #input for ase.io.read command\n",
    "test_subset = \"200:250\"  #input to ase.io.read command\n",
    "environments_for_fitting = 100 #number of environments to fit nice transfomers\n",
    "GRID = [150, 200]\n",
    "#HYPERS for librascal spherical expansion coefficients\n",
    "LAMBDA_MAX = 3\n",
    "HYPERS = {\n",
    "    'interaction_cutoff': 6.3,\n",
    "    'max_radial': 5,\n",
    "    'max_angular': LAMBDA_MAX,\n",
    "    'gaussian_sigma_type': 'Constant',\n",
    "    'gaussian_sigma_constant': 0.05,\n",
    "    'cutoff_smooth_width': 0.3,\n",
    "    'radial_basis': 'GTO'\n",
    "}\n",
    "MAGIC_NUMBER = 10000\n",
    "ALPHA = 1e-1\n",
    "N_COMPRESS = 5\n",
    "\n",
    "\n",
    "'''MAGIC_NUMBER = 10000\n",
    "ALPHA = 1e-9\n",
    "N_COMPRESS = 20'''\n",
    "train_structures = ase.io.read('methane.extxyz', index=train_subset)\n",
    "\n",
    "test_structures = ase.io.read('methane.extxyz', index=test_subset)\n",
    "\n",
    "all_species = get_all_species(train_structures + test_structures)\n",
    "\n",
    "train_energies = [structure.info['energy'] for structure in train_structures]\n",
    "train_energies = np.array(train_energies) * HARTREE_TO_EV\n",
    "e_mean = np.mean(train_energies)\n",
    "train_energies -= e_mean\n",
    "\n",
    "test_energies = [structure.info['energy'] for structure in test_structures]\n",
    "test_energies = np.array(test_energies) * HARTREE_TO_EV\n",
    "test_energies -= e_mean\n",
    "print(np.min(train_energies), np.max(train_energies))"
   ]
  },
  {
   "cell_type": "markdown",
   "id": "existing-youth",
   "metadata": {},
   "source": [
    "# NICE cython"
   ]
  },
  {
   "cell_type": "code",
   "execution_count": 3,
   "id": "everyday-variance",
   "metadata": {},
   "outputs": [],
   "source": [
    "'''#our model:\n",
    "def get_nice():\n",
    "    return StandardSequence([\n",
    "        StandardBlock(ThresholdExpansioner(),\n",
    "                      CovariantsPurifierBoth(regressor = Ridge(alpha = ALPHA), num_to_fit='1000x'),\n",
    "                      IndividualLambdaPCAsBoth(n_components=20),\n",
    "                      None,\n",
    "                      None,\n",
    "                      None),\n",
    "        StandardBlock(ThresholdExpansioner(),\n",
    "                      CovariantsPurifierBoth(regressor = Ridge(alpha = ALPHA), num_to_fit='1000x'),\n",
    "                      IndividualLambdaPCAsBoth(n_components=20),\n",
    "                      None,\n",
    "                      None,\n",
    "                      None),\n",
    "        StandardBlock(ThresholdExpansioner(),\n",
    "                      CovariantsPurifierBoth(regressor = Ridge(alpha = ALPHA), num_to_fit='1000x'),\n",
    "                      IndividualLambdaPCAsBoth(n_components=20),\n",
    "                      None,\n",
    "                      None,\n",
    "                      None),\n",
    "       \n",
    "    ],\n",
    "                   )'''\n",
    "\n",
    "\n",
    "def get_nice():\n",
    "    return StandardSequence([\n",
    "        StandardBlock(ThresholdExpansioner(),\n",
    "                      None,\n",
    "                      IndividualLambdaPCAsBoth(n_components=N_COMPRESS),\n",
    "                      None,\n",
    "                      None,\n",
    "                      None),\n",
    "        StandardBlock(ThresholdExpansioner(),\n",
    "                      None,\n",
    "                      IndividualLambdaPCAsBoth(n_components=N_COMPRESS),\n",
    "                      None,\n",
    "                      None,\n",
    "                      None),\n",
    "        StandardBlock(ThresholdExpansioner(),\n",
    "                      None,\n",
    "                      IndividualLambdaPCAsBoth(n_components=N_COMPRESS),\n",
    "                      None,\n",
    "                      None,\n",
    "                      None),\n",
    "       \n",
    "    ],\n",
    "                   )"
   ]
  },
  {
   "cell_type": "code",
   "execution_count": 4,
   "id": "committed-improvement",
   "metadata": {},
   "outputs": [
    {
     "name": "stderr",
     "output_type": "stream",
     "text": [
      "100%|██████████| 2/2 [00:00<00:00, 26.07it/s]\n",
      "100%|██████████| 2/2 [00:00<00:00, 2693.84it/s]\n",
      "100%|██████████| 1/1 [00:00<00:00, 87.26it/s]\n",
      "100%|██████████| 2/2 [00:00<00:00, 6074.30it/s]\n"
     ]
    }
   ],
   "source": [
    "train_coefficients = get_spherical_expansion(train_structures, HYPERS,\n",
    "                                             all_species)\n",
    "\n",
    "test_coefficients = get_spherical_expansion(test_structures, HYPERS,\n",
    "                                            all_species)\n",
    "\n",
    "for key in train_coefficients.keys():\n",
    "    train_coefficients[key] *= MAGIC_NUMBER\n",
    "    test_coefficients[key] *= MAGIC_NUMBER\n",
    "\n"
   ]
  },
  {
   "cell_type": "code",
   "execution_count": 5,
   "id": "technical-prophet",
   "metadata": {},
   "outputs": [
    {
     "data": {
      "text/plain": [
       "'nice = {}\\nfor key in train_coefficients.keys():\\n    nice[key] = get_nice()\\nnp.random.seed(0)\\nfor key in train_coefficients.keys():\\n    nice[key].fit(train_coefficients[key][:environments_for_fitting])'"
      ]
     },
     "execution_count": 5,
     "metadata": {},
     "output_type": "execute_result"
    }
   ],
   "source": [
    "'''nice = {}\n",
    "for key in train_coefficients.keys():\n",
    "    nice[key] = get_nice()\n",
    "np.random.seed(0)\n",
    "for key in train_coefficients.keys():\n",
    "    nice[key].fit(train_coefficients[key][:environments_for_fitting])'''"
   ]
  },
  {
   "cell_type": "code",
   "execution_count": 6,
   "id": "seven-glance",
   "metadata": {},
   "outputs": [
    {
     "data": {
      "text/plain": [
       "'model = get_nice()\\nnp.random.seed(0)\\nall_coefficients = np.concatenate([train_coefficients[1], train_coefficients[6]], axis = 0)\\nprint(all_coefficients.shape)\\np = np.random.permutation(all_coefficients.shape[0])\\nall_coefficients = all_coefficients[p]\\nmodel.fit(all_coefficients[:environments_for_fitting])\\n\\nnice = {}\\nfor key in train_coefficients.keys():\\n    nice[key] = model'"
      ]
     },
     "execution_count": 6,
     "metadata": {},
     "output_type": "execute_result"
    }
   ],
   "source": [
    "'''model = get_nice()\n",
    "np.random.seed(0)\n",
    "all_coefficients = np.concatenate([train_coefficients[1], train_coefficients[6]], axis = 0)\n",
    "print(all_coefficients.shape)\n",
    "p = np.random.permutation(all_coefficients.shape[0])\n",
    "all_coefficients = all_coefficients[p]\n",
    "model.fit(all_coefficients[:environments_for_fitting])\n",
    "\n",
    "nice = {}\n",
    "for key in train_coefficients.keys():\n",
    "    nice[key] = model'''"
   ]
  },
  {
   "cell_type": "code",
   "execution_count": 7,
   "id": "banner-operation",
   "metadata": {},
   "outputs": [],
   "source": [
    "nice = {}\n",
    "np.random.seed(0)\n",
    "for key in train_coefficients.keys():\n",
    "    nice[key] = get_nice()\n",
    "    nice[key].fit(train_coefficients[key][:environments_for_fitting])"
   ]
  },
  {
   "cell_type": "code",
   "execution_count": 8,
   "id": "macro-modem",
   "metadata": {},
   "outputs": [
    {
     "name": "stderr",
     "output_type": "stream",
     "text": [
      "100%|██████████| 1/1 [00:01<00:00,  1.02s/it]\n",
      "100%|██████████| 1/1 [00:00<00:00,  3.55it/s]\n"
     ]
    }
   ],
   "source": [
    "train_features = transform_sequentially(nice, train_structures, HYPERS,\n",
    "                                        all_species)\n",
    "test_features = transform_sequentially(nice, test_structures, HYPERS,\n",
    "                                       all_species)"
   ]
  },
  {
   "cell_type": "code",
   "execution_count": 9,
   "id": "aquatic-hormone",
   "metadata": {},
   "outputs": [
    {
     "name": "stdout",
     "output_type": "stream",
     "text": [
      "(200, 50)\n"
     ]
    }
   ],
   "source": [
    "print(train_features.shape)\n",
    "#print(train_features[1][0:10])\n",
    "#print(train_features[2][0:10])"
   ]
  },
  {
   "cell_type": "code",
   "execution_count": 10,
   "id": "correct-genre",
   "metadata": {},
   "outputs": [],
   "source": [
    "def get_rmse(first, second):\n",
    "    return np.sqrt(np.mean((first - second)**2))\n",
    "\n",
    "\n",
    "def get_standard_deviation(values):\n",
    "    return np.sqrt(np.mean((values - np.mean(values))**2))\n",
    "\n",
    "\n",
    "def get_relative_performance(predictions, values):\n",
    "    return get_rmse(predictions, values) / get_standard_deviation(values)\n",
    "\n",
    "\n",
    "def estimate_performance(regressor, data_train, data_test, targets_train,\n",
    "                         targets_test):\n",
    "    regressor.fit(data_train, targets_train)\n",
    "    return get_relative_performance(regressor.predict(data_test), targets_test)\n",
    "\n",
    "def get_lr(regressor, data_train, data_test, targets_train,\n",
    "           targets_test):\n",
    "    result = []\n",
    "    for el in GRID:\n",
    "        result.append(estimate_performance(regressor, data_train[:el], data_test,\n",
    "                                           targets_train[:el], targets_test))\n",
    "    return result"
   ]
  },
  {
   "cell_type": "code",
   "execution_count": 11,
   "id": "protected-strength",
   "metadata": {},
   "outputs": [
    {
     "name": "stdout",
     "output_type": "stream",
     "text": [
      "(200, 50)\n"
     ]
    }
   ],
   "source": [
    "print(train_features.shape)"
   ]
  },
  {
   "cell_type": "code",
   "execution_count": 12,
   "id": "neutral-function",
   "metadata": {},
   "outputs": [
    {
     "name": "stderr",
     "output_type": "stream",
     "text": [
      "No handles with labels found to put in legend.\n"
     ]
    },
    {
     "data": {
      "image/png": "[encoded data removed]",
      "text/plain": [
       "<Figure size 432x288 with 1 Axes>"
      ]
     },
     "metadata": {
      "needs_background": "light"
     },
     "output_type": "display_data"
    }
   ],
   "source": [
    "lr = get_lr(BayesianRidge(), train_features, test_features, train_energies, test_energies)\n",
    "plt.plot(GRID, lr)\n",
    "plt.xscale('log')\n",
    "plt.yscale('log')\n",
    "plt.legend()\n",
    "plt.show()"
   ]
  },
  {
   "cell_type": "code",
   "execution_count": 13,
   "id": "failing-aruba",
   "metadata": {},
   "outputs": [
    {
     "name": "stdout",
     "output_type": "stream",
     "text": [
      "(200, 10)\n",
      "(200, 15)\n",
      "(200, 20)\n",
      "(200, 25)\n"
     ]
    },
    {
     "data": {
      "image/png": "[encoded data removed]",
      "text/plain": [
       "<Figure size 432x288 with 1 Axes>"
      ]
     },
     "metadata": {
      "needs_background": "light"
     },
     "output_type": "display_data"
    }
   ],
   "source": [
    "train_features = nice[6].transform(train_coefficients[6], return_only_invariants = True)\n",
    "test_features = nice[6].transform(test_coefficients[6], return_only_invariants = True)\n",
    "\n",
    "for index in range(1, 5):\n",
    "    train = [train_features[i] for i in range(1, index + 1)]\n",
    "    test = [test_features[i] for i in range(1, index + 1)]\n",
    "    train = np.concatenate(train, axis = 1)\n",
    "    test = np.concatenate(test, axis = 1)\n",
    "    print(train.shape)\n",
    "    lr = get_lr(BayesianRidge(), train, test, train_energies, test_energies)\n",
    "    plt.plot(GRID, lr, label = \"body order {}\".format(index))\n",
    "plt.xscale('log')\n",
    "plt.yscale('log')\n",
    "plt.legend()\n",
    "plt.show()"
   ]
  },
  {
   "cell_type": "markdown",
   "id": "colonial-expression",
   "metadata": {},
   "source": [
    "# NICE pytorch"
   ]
  },
  {
   "cell_type": "code",
   "execution_count": 14,
   "id": "delayed-worthy",
   "metadata": {},
   "outputs": [],
   "source": [
    "from pytorch_prototype.nice_blocks import *\n",
    "from pytorch_prototype.utilities import *"
   ]
  },
  {
   "cell_type": "code",
   "execution_count": 15,
   "id": "cloudy-humidity",
   "metadata": {},
   "outputs": [
    {
     "name": "stdout",
     "output_type": "stream",
     "text": [
      "0 torch.Size([1000, 10, 1])\n",
      "2 torch.Size([1000, 10, 5])\n",
      "0 torch.Size([250, 10, 1])\n",
      "2 torch.Size([250, 10, 5])\n"
     ]
    }
   ],
   "source": [
    "def split(coefficients):\n",
    "    lambd_max = max(coefficients.keys())\n",
    "    even, odd = {}, {}\n",
    "    for lambd in range(lambd_max + 1):\n",
    "        if lambd % 2 == 0:\n",
    "            even[str(lambd)] = coefficients[lambd]\n",
    "        else:\n",
    "            odd[str(lambd)] = coefficients[lambd]\n",
    "    return even, odd\n",
    "\n",
    "train_coefficients = get_coefs(train_structures, HYPERS, all_species)\n",
    "test_coefficients = get_coefs(test_structures, HYPERS, all_species)\n",
    "\n",
    "                                                   \n",
    "for key in train_coefficients.keys():\n",
    "    train_coefficients[key] *= MAGIC_NUMBER\n",
    "    test_coefficients[key] *= MAGIC_NUMBER\n",
    "    \n",
    "train_even, train_odd = split(train_coefficients)\n",
    "test_even, test_odd = split(test_coefficients)\n",
    "\n",
    "\n",
    "for key in train_even.keys():\n",
    "    print(key, train_even[key].shape)\n",
    "for key in test_even.keys():\n",
    "    print(key, test_even[key].shape)"
   ]
  },
  {
   "cell_type": "code",
   "execution_count": null,
   "id": "precious-press",
   "metadata": {},
   "outputs": [],
   "source": [
    "class NICE_features(torch.nn.Module):\n",
    "    def __init__(self, nice):\n",
    "        super(NICE_features, self).__init__()\n",
    "        self.nice = nice\n",
    "        \n",
    "    def forward(self, coefficients):\n",
    "        even, odd = split(coefficients)\n",
    "        even, _ = self.nice(even, odd)\n",
    "        result = []\n",
    "        for i in range(len(even)):\n",
    "            result.append(even[i]['0'].squeeze())\n",
    "        \n",
    "        return {\"features\" : torch.cat(result, dim = 1)}\n",
    "      \n",
    "'''class NICE_predictions(torch.nn.Module):\n",
    "    def __init__(self, nice_features):\n",
    "        super(NICE_predictions, self).__init__()\n",
    "        self.nice_features = nice_features'''\n",
    "    \n",
    "def get_torch_nice():\n",
    "    blocks = [BodyOrderIteration(Expansioner(LAMBDA_MAX), \n",
    "                           Purifier(regressor = Ridge(alpha = ALPHA)),\n",
    "                           Compressor(N_COMPRESS)),\n",
    "         BodyOrderIteration(Expansioner(LAMBDA_MAX), \n",
    "                           Purifier(regressor = Ridge(alpha = ALPHA)),\n",
    "                           Compressor(N_COMPRESS)),\n",
    "         BodyOrderIteration(Expansioner(LAMBDA_MAX), \n",
    "                           Purifier(regressor = Ridge(alpha = ALPHA)),\n",
    "                           Compressor(N_COMPRESS))]\n",
    "    return NICE(blocks)\n"
   ]
  },
  {
   "cell_type": "code",
   "execution_count": null,
   "id": "accepted-uniform",
   "metadata": {},
   "outputs": [],
   "source": [
    "model = get_torch_nice()\n",
    "for_fit_even, for_fit_odd = {}, {}\n",
    "for key in train_even.keys():\n",
    "    for_fit_even[key] = train_even[key][:environments_for_fitting]\n",
    "    print(for_fit_even[key].shape)\n",
    "for key in test_odd.keys():\n",
    "    for_fit_odd[key] = train_odd[key][:environments_for_fitting]\n",
    "    print(for_fit_odd[key].shape)\n",
    "model.fit(for_fit_even, for_fit_odd)\n",
    "\n",
    "nice = {}\n",
    "for key in all_species:\n",
    "    nice[str(key)] = NICE_features(model)"
   ]
  },
  {
   "cell_type": "code",
   "execution_count": null,
   "id": "exposed-organ",
   "metadata": {},
   "outputs": [],
   "source": [
    "atomistic = Atomistic(nice)\n",
    "train_features = atomistic(train_coefficients, central_species = get_central_species(train_structures), \n",
    "                   structural_indices = get_structural_indices(train_structures))['features']\n",
    "\n",
    "test_features = atomistic(test_coefficients, central_species = get_central_species(test_structures), \n",
    "                   structural_indices = get_structural_indices(test_structures))['features']\n",
    "\n",
    "train_features = train_features.data.cpu().numpy()\n",
    "test_features = test_features.data.cpu().numpy()"
   ]
  },
  {
   "cell_type": "code",
   "execution_count": null,
   "id": "lasting-judgment",
   "metadata": {},
   "outputs": [],
   "source": [
    "print(train_features.shape)\n",
    "print(test_features.shape)"
   ]
  },
  {
   "cell_type": "code",
   "execution_count": null,
   "id": "executive-behavior",
   "metadata": {},
   "outputs": [],
   "source": [
    "lr = get_lr(BayesianRidge(), train_features, test_features, train_energies, test_energies)\n",
    "plt.plot(GRID, lr, label = \"body order {}\".format(index))\n",
    "plt.xscale('log')\n",
    "plt.yscale('log')\n",
    "plt.legend()\n",
    "plt.show()"
   ]
  },
  {
   "cell_type": "code",
   "execution_count": null,
   "id": "pregnant-cedar",
   "metadata": {},
   "outputs": [],
   "source": []
  }
 ],
 "metadata": {
  "kernelspec": {
   "display_name": "Python 3",
   "language": "python",
   "name": "python3"
  },
  "language_info": {
   "codemirror_mode": {
    "name": "ipython",
    "version": 3
   },
   "file_extension": ".py",
   "mimetype": "text/x-python",
   "name": "python",
   "nbconvert_exporter": "python",
   "pygments_lexer": "ipython3",
   "version": "3.8.5"
  }
 },
 "nbformat": 4,
 "nbformat_minor": 5
}
