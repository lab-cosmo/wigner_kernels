{
 "cells": [
  {
   "cell_type": "code",
   "execution_count": 1,
   "metadata": {},
   "outputs": [],
   "source": [
    "import numpy as np\n",
    "import ase.io\n",
    "import tqdm\n",
    "from nice.blocks import *\n",
    "from nice.utilities import *\n",
    "from matplotlib import pyplot as plt\n",
    "import torch\n",
    "from torch import nn\n",
    "import sys\n",
    "sys.path.append('./code/')\n",
    "from code_pytorch import *\n",
    "from test_utilities import *\n",
    "from utilities import *"
   ]
  },
  {
   "cell_type": "code",
   "execution_count": 2,
   "metadata": {},
   "outputs": [],
   "source": [
    "HYPERS = {\n",
    "    'interaction_cutoff': 6.3,\n",
    "    'max_radial': 5,\n",
    "    'max_angular': 5,\n",
    "    'gaussian_sigma_type': 'Constant',\n",
    "    'gaussian_sigma_constant': 0.3,\n",
    "    'cutoff_smooth_width': 0.3,\n",
    "    'radial_basis': 'GTO'\n",
    "}\n",
    "index = '0:3'"
   ]
  },
  {
   "cell_type": "code",
   "execution_count": 3,
   "metadata": {},
   "outputs": [
    {
     "name": "stderr",
     "output_type": "stream",
     "text": [
      "100%|██████████| 1/1 [00:00<00:00, 38.33it/s]"
     ]
    },
    {
     "name": "stdout",
     "output_type": "stream",
     "text": [
      "(15, 10, 6, 11)\n"
     ]
    },
    {
     "name": "stderr",
     "output_type": "stream",
     "text": [
      "\n"
     ]
    }
   ],
   "source": [
    "structures = ase.io.read('methane.extxyz', index=index)\n",
    "all_species = get_all_species(structures)\n",
    "coefficients = get_spherical_expansion(structures, HYPERS,\n",
    "                                             all_species, split_by_central_specie = False)\n",
    "print(coefficients.shape)"
   ]
  },
  {
   "cell_type": "code",
   "execution_count": 4,
   "metadata": {},
   "outputs": [
    {
     "name": "stderr",
     "output_type": "stream",
     "text": [
      "100%|██████████| 3/3 [00:00<00:00, 239.07it/s]\n",
      "100%|██████████| 3/3 [00:00<00:00, 201.00it/s]\n",
      "100%|██████████| 3/3 [00:00<00:00, 447.85it/s]\n"
     ]
    },
    {
     "name": "stdout",
     "output_type": "stream",
     "text": [
      "(75, 3, 10, 6, 11) (75,) (75,)\n",
      "[0 1 2 3 4 0 1 2 3 4] 14\n",
      "[0 0 0 0 0 1 1 1 1 1] 14\n"
     ]
    }
   ],
   "source": [
    "num_derivatives, central_indices, derivative_indices = get_numerical_derivatives(structures, all_species, \n",
    "                                                                                HYPERS)\n",
    "print(num_derivatives.shape, central_indices.shape, derivative_indices.shape)\n",
    "print(central_indices[0:10], np.max(central_indices))\n",
    "print(derivative_indices[0:10], np.max(derivative_indices))"
   ]
  },
  {
   "cell_type": "code",
   "execution_count": 5,
   "metadata": {},
   "outputs": [
    {
     "name": "stdout",
     "output_type": "stream",
     "text": [
      "[ 3.23914810e-03  0.00000000e+00  0.00000000e+00  0.00000000e+00\n",
      "  0.00000000e+00 -7.87110488e-04  5.32148631e-06 -7.00104905e-06\n",
      " -5.55327884e-05  6.78553255e-05]\n"
     ]
    }
   ],
   "source": [
    "print(num_derivatives[:10, 0, 0, 0, 0])"
   ]
  },
  {
   "cell_type": "code",
   "execution_count": null,
   "metadata": {},
   "outputs": [],
   "source": []
  }
 ],
 "metadata": {
  "kernelspec": {
   "display_name": "Python 3",
   "language": "python",
   "name": "python3"
  },
  "language_info": {
   "codemirror_mode": {
    "name": "ipython",
    "version": 3
   },
   "file_extension": ".py",
   "mimetype": "text/x-python",
   "name": "python",
   "nbconvert_exporter": "python",
   "pygments_lexer": "ipython3",
   "version": "3.6.9"
  }
 },
 "nbformat": 4,
 "nbformat_minor": 4
}
