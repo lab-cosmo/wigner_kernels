{
 "cells": [
  {
   "cell_type": "code",
   "execution_count": 1,
   "id": "restricted-original",
   "metadata": {},
   "outputs": [],
   "source": [
    "import numpy as np\n",
    "import ase.io\n",
    "from nice.rascal_coefficients import process_structures\n",
    "import copy\n",
    "from rascal.representations import SphericalExpansion as SPH\n",
    "import sys\n",
    "sys.path.append('./code/')\n",
    "from code_pytorch import *\n",
    "from utilities import *\n",
    "from test_utilities import *\n",
    "import tqdm\n",
    "from matplotlib import pyplot as plt"
   ]
  },
  {
   "cell_type": "code",
   "execution_count": 2,
   "id": "statutory-transcription",
   "metadata": {},
   "outputs": [],
   "source": [
    "small_index = '0:100'\n",
    "structures = ase.io.read('methane.extxyz', index=small_index)"
   ]
  },
  {
   "cell_type": "code",
   "execution_count": 3,
   "id": "interpreted-relationship",
   "metadata": {},
   "outputs": [],
   "source": [
    "LAMBDA_MAX = 5\n",
    "HYPERS = {\n",
    "    'interaction_cutoff': 6.3,\n",
    "    'max_radial': 5,\n",
    "    'max_angular': LAMBDA_MAX,\n",
    "    'gaussian_sigma_type': 'Constant',\n",
    "    'gaussian_sigma_constant': 0.05,\n",
    "    'cutoff_smooth_width': 0.3,\n",
    "    'radial_basis': 'GTO'\n",
    "}\n"
   ]
  },
  {
   "cell_type": "code",
   "execution_count": 4,
   "id": "damaged-lobby",
   "metadata": {},
   "outputs": [],
   "source": [
    "def standardize_order_derivatives(features, central_indices, derivative_indices):\n",
    "    hashes = central_indices * (np.max(derivative_indices) + 1) + derivative_indices\n",
    "    indices = np.argsort(hashes)\n",
    "    return features[indices]"
   ]
  },
  {
   "cell_type": "code",
   "execution_count": 5,
   "id": "composite-victor",
   "metadata": {},
   "outputs": [
    {
     "name": "stdout",
     "output_type": "stream",
     "text": [
      "(2500,) 0 499\n",
      "-6.473206998511946e-05 7.614990687807527e-05\n",
      "-0.00012510689844582654 0.00012252595241028978\n",
      "-0.000244947832316025 0.00023972888256507452\n",
      "-0.000389892873802644 0.00038094324977485923\n",
      "-0.000493854717846371 0.000495460728105901\n",
      "-0.0006022654258825696 0.0006101705661692979\n"
     ]
    }
   ],
   "source": [
    "all_species = get_all_species(structures)\n",
    "rascal_der, rascal_central_ind, rascal_der_ind = get_coef_ders(structures, HYPERS, all_species)\n",
    "print(rascal_der_ind.shape, np.min(rascal_der_ind), np.max(rascal_der_ind))\n",
    "rascal_ordered = {}\n",
    "for key in rascal_der.keys():\n",
    "    rascal_ordered[key] = standardize_order_derivatives(rascal_der[key], rascal_central_ind, rascal_der_ind)\n",
    "  \n",
    "for key in rascal_ordered.keys():\n",
    "    print(np.min(rascal_ordered[key]), np.max(rascal_ordered[key]))"
   ]
  },
  {
   "cell_type": "code",
   "execution_count": 6,
   "id": "furnished-basis",
   "metadata": {},
   "outputs": [
    {
     "name": "stderr",
     "output_type": "stream",
     "text": [
      "100%|██████████| 101/101 [01:43<00:00,  1.03s/it]\n"
     ]
    }
   ],
   "source": [
    "grid = []\n",
    "values = []\n",
    "for epsilon in tqdm.tqdm(np.logspace(-10, 0, 101)):\n",
    "    coef_der, central_indices, derivative_indices = \\\n",
    "    get_numerical_derivatives(structures, all_species,\\\n",
    "                              HYPERS, epsilon = epsilon, show_progress = False)\n",
    "    grid.append(epsilon)\n",
    "    numerical_ordered = {}\n",
    "    for key in coef_der.keys():\n",
    "        numerical_ordered[key] = standardize_order_derivatives(coef_der[key], central_indices, derivative_indices)\n",
    "   \n",
    "    \n",
    "    numenator, denumenator = 0, 0\n",
    "    for key in coef_der.keys():\n",
    "        numenator += np.mean(np.abs(rascal_ordered[key] - numerical_ordered[key]))\n",
    "        denumenator += np.mean(np.abs(rascal_ordered[key]))\n",
    "        '''numenator += np.mean(np.abs(rascal_der[key] - coef_der[key]))\n",
    "        denumenator += np.mean(np.abs(rascal_der[key]))'''\n",
    "   \n",
    "    values.append(numenator / denumenator)\n",
    "    \n"
   ]
  },
  {
   "cell_type": "code",
   "execution_count": 7,
   "id": "noted-figure",
   "metadata": {},
   "outputs": [
    {
     "data": {
      "image/png": "[encoded data removed]",
      "text/plain": [
       "<Figure size 432x288 with 1 Axes>"
      ]
     },
     "metadata": {
      "needs_background": "light"
     },
     "output_type": "display_data"
    }
   ],
   "source": [
    "plt.plot(grid, values)\n",
    "plt.xlabel(\"epsilon\")\n",
    "plt.ylabel(\"relative error\")\n",
    "plt.xscale('log')\n",
    "plt.yscale('log')\n",
    "plt.show()"
   ]
  },
  {
   "cell_type": "code",
   "execution_count": null,
   "id": "wound-mailman",
   "metadata": {},
   "outputs": [],
   "source": []
  }
 ],
 "metadata": {
  "kernelspec": {
   "display_name": "Python 3",
   "language": "python",
   "name": "python3"
  },
  "language_info": {
   "codemirror_mode": {
    "name": "ipython",
    "version": 3
   },
   "file_extension": ".py",
   "mimetype": "text/x-python",
   "name": "python",
   "nbconvert_exporter": "python",
   "pygments_lexer": "ipython3",
   "version": "3.8.5"
  }
 },
 "nbformat": 4,
 "nbformat_minor": 5
}
