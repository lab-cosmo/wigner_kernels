{
 "cells": [
  {
   "cell_type": "code",
   "execution_count": 1,
   "id": "refined-armstrong",
   "metadata": {},
   "outputs": [],
   "source": [
    "import torch\n",
    "torch.set_default_dtype(torch.float64)\n",
    "import numpy as np\n",
    "import ase.io\n",
    "import tqdm\n",
    "\n",
    "import sys\n",
    "sys.path.append('../code/')\n",
    "from code_pytorch import *\n",
    "from utilities import *\n",
    "from miscellaneous import ClebschGordan\n",
    "\n",
    "from sklearn.linear_model import Ridge\n",
    "from matplotlib import pyplot as plt"
   ]
  },
  {
   "cell_type": "code",
   "execution_count": 2,
   "id": "appointed-chambers",
   "metadata": {},
   "outputs": [],
   "source": [
    "HARTREE_TO_EV = 27.211386245988\n",
    "FORCE_FACTOR = 51.42208619083232\n",
    "LAMBDA_MAX = 5\n",
    "HYPERS = {\n",
    "    'interaction_cutoff': 6.3,\n",
    "    'max_radial': 5,\n",
    "    'max_angular': LAMBDA_MAX,\n",
    "    'gaussian_sigma_type': 'Constant',\n",
    "    'gaussian_sigma_constant': 0.05,\n",
    "    'cutoff_smooth_width': 0.3,\n",
    "    'radial_basis': 'GTO'\n",
    "    \n",
    "}\n",
    "np.random.seed(0)\n",
    "train_subset = '0:10000'\n",
    "test_subset = '10000:11000'\n",
    "DEVICE = 'cuda'\n",
    "METHANE_PATH = '../methane.extxyz'\n",
    "N_SPARSE = 100\n",
    "clebsch = ClebschGordan(LAMBDA_MAX)"
   ]
  },
  {
   "cell_type": "markdown",
   "id": "applicable-scholarship",
   "metadata": {},
   "source": [
    "# Data preparation"
   ]
  },
  {
   "cell_type": "code",
   "execution_count": 3,
   "id": "elder-dividend",
   "metadata": {},
   "outputs": [],
   "source": [
    "train_structures = ase.io.read(METHANE_PATH , index=train_subset)\n",
    "test_structures = ase.io.read(METHANE_PATH , index=test_subset)\n",
    "\n",
    "all_species = get_all_species(train_structures + test_structures)\n",
    "\n",
    "train_coefficients = get_coefs(train_structures, HYPERS, all_species)\n",
    "test_coefficients = get_coefs(test_structures, HYPERS, all_species) \n",
    "L2_mean = get_L2_mean(train_coefficients)\n",
    "\n",
    "for key in train_coefficients.keys():\n",
    "    train_coefficients[key] /= torch.sqrt(L2_mean)\n",
    "    test_coefficients[key] /= torch.sqrt(L2_mean)\n",
    "\n",
    "\n",
    "train_energies = [structure.info['energy'] for structure in train_structures]\n",
    "train_energies = np.array(train_energies) * HARTREE_TO_EV\n",
    "\n",
    "test_energies = [structure.info['energy'] for structure in test_structures]\n",
    "test_energies = np.array(test_energies) * HARTREE_TO_EV\n",
    "\n",
    "mean_e = np.mean(train_energies)\n",
    "train_energies = train_energies - mean_e\n",
    "test_energies = test_energies - mean_e\n",
    "\n",
    "#train_energies = torch.FloatTensor(train_energies).to(DEVICE)\n",
    "#test_energies = torch.FloatTensor(test_energies).to(DEVICE)\n"
   ]
  },
  {
   "cell_type": "markdown",
   "id": "committed-suicide",
   "metadata": {},
   "source": [
    "# Model definition"
   ]
  },
  {
   "cell_type": "code",
   "execution_count": 4,
   "id": "adopted-friendly",
   "metadata": {},
   "outputs": [],
   "source": [
    "def get_kernel(features, sparse_points):\n",
    "    return torch.matmul(features, torch.transpose(sparse_points, 0, 1)) ** 2\n",
    "\n",
    "class KernelSingle(torch.nn.Module):\n",
    "    def __init__(self, clebsch, sparse_points):\n",
    "        super(KernelSingle, self).__init__()\n",
    "        self.clebsch_combining = ClebschCombining(clebsch, 0)\n",
    "        self.register_parameter('sparse_points', torch.nn.Parameter(sparse_points))\n",
    "        self.linear = torch.nn.Linear(N_SPARSE, 1, bias = False)\n",
    "        \n",
    "    def forward(self, X):\n",
    "        #X = L2_normalize(X)\n",
    "        ps = self.clebsch_combining(X, X)['0'].squeeze()\n",
    "        kernel_values = get_kernel(ps, self.sparse_points)\n",
    "        return {'energies' : self.linear(kernel_values)}\n",
    "    "
   ]
  },
  {
   "cell_type": "markdown",
   "id": "considerable-genre",
   "metadata": {},
   "source": [
    "# Ridge regression in closed form and assigning weights to model"
   ]
  },
  {
   "cell_type": "code",
   "execution_count": 5,
   "id": "distributed-dispatch",
   "metadata": {},
   "outputs": [
    {
     "data": {
      "text/plain": [
       "Ridge(alpha=1e-10, fit_intercept=False)"
      ]
     },
     "execution_count": 5,
     "metadata": {},
     "output_type": "execute_result"
    }
   ],
   "source": [
    "block = ClebschCombining(clebsch.precomputed_, 0)\n",
    "#train_coefficients_n = L2_normalize(train_coefficients)\n",
    "#test_coefficients_n = L2_normalize(test_coefficients)\n",
    "train_ps = block(train_coefficients, train_coefficients)['0'].squeeze()\n",
    "test_ps = block(test_coefficients, test_coefficients)['0'].squeeze()\n",
    "\n",
    "sparse_ind = np.random.permutation(train_ps.shape[0])[0:N_SPARSE]\n",
    "sparse_points = train_ps[sparse_ind]\n",
    "\n",
    "\n",
    "train_kernel = get_kernel(train_ps, sparse_points)\n",
    "test_kernel = get_kernel(test_ps, sparse_points)\n",
    "\n",
    "accumulator = Accumulator()\n",
    "\n",
    "train_kernel = accumulator({\"kernel\": train_kernel}, get_structural_indices(train_structures))['kernel']\n",
    "test_kernel = accumulator({\"kernel\": test_kernel}, get_structural_indices(test_structures))['kernel']\n",
    "\n",
    "\n",
    "regr = Ridge(alpha = 1e-10, fit_intercept = False)\n",
    "regr.fit(train_kernel.data.cpu().numpy(), train_energies)"
   ]
  },
  {
   "cell_type": "code",
   "execution_count": 6,
   "id": "adequate-tennessee",
   "metadata": {},
   "outputs": [],
   "source": [
    "block = KernelSingle(clebsch.precomputed_, sparse_points)\n",
    "with torch.no_grad():\n",
    "    block.linear.weight = torch.nn.Parameter(torch.from_numpy(regr.coef_).type(torch.get_default_dtype()))\n",
    "model = Atomistic(block)  \n"
   ]
  },
  {
   "cell_type": "markdown",
   "id": "genuine-bracket",
   "metadata": {},
   "source": [
    "# predicting test energies"
   ]
  },
  {
   "cell_type": "code",
   "execution_count": 7,
   "id": "enabling-double",
   "metadata": {},
   "outputs": [
    {
     "data": {
      "image/png": "[encoded data removed]",
      "text/plain": [
       "<Figure size 432x288 with 1 Axes>"
      ]
     },
     "metadata": {
      "needs_background": "light"
     },
     "output_type": "display_data"
    }
   ],
   "source": [
    "test_struc_ind = get_structural_indices(test_structures)\n",
    "test_predictions = model(test_coefficients, structural_indices = test_struc_ind)\n",
    "plt.plot(test_energies, test_predictions['energies'].data.cpu().numpy(), 'o')\n",
    "plt.show()"
   ]
  },
  {
   "cell_type": "markdown",
   "id": "genuine-jumping",
   "metadata": {},
   "source": [
    "# Predicting test forces"
   ]
  },
  {
   "cell_type": "code",
   "execution_count": 8,
   "id": "timely-pattern",
   "metadata": {},
   "outputs": [],
   "source": [
    "test_forces = [structure.arrays[\"forces\"] for structure in test_structures]\n",
    "test_forces = np.concatenate(test_forces, axis = 0) * FORCE_FACTOR\n",
    "\n",
    "coef_der_test, central_indices_test, derivative_indices_test = \\\n",
    "get_coef_ders(test_structures, HYPERS, all_species)\n",
    "for key in coef_der_test.keys():\n",
    "    coef_der_test[key] /= torch.sqrt(L2_mean)"
   ]
  },
  {
   "cell_type": "code",
   "execution_count": 9,
   "id": "intended-enterprise",
   "metadata": {},
   "outputs": [
    {
     "data": {
      "image/png": "[encoded data removed]",
      "text/plain": [
       "<Figure size 432x288 with 1 Axes>"
      ]
     },
     "metadata": {
      "needs_background": "light"
     },
     "output_type": "display_data"
    }
   ],
   "source": [
    "for key in test_coefficients.keys():\n",
    "    test_coefficients[key].requires_grad = True\n",
    "prediction_forces = model.get_forces(coef_der_test, central_indices_test, derivative_indices_test, \n",
    "                                         test_coefficients, structural_indices = test_struc_ind)\n",
    "plt.plot(test_forces.reshape([-1]), prediction_forces.data.cpu().numpy().reshape([-1]), 'o')\n",
    "min_f = np.min(test_forces)\n",
    "max_f = np.max(test_forces)\n",
    "plt.plot([min_f, max_f], [min_f, max_f])\n",
    "plt.show()"
   ]
  },
  {
   "cell_type": "markdown",
   "id": "published-equivalent",
   "metadata": {},
   "source": [
    "# C++ invoke"
   ]
  },
  {
   "cell_type": "markdown",
   "id": "improved-hundred",
   "metadata": {},
   "source": [
    "## It is possible to use model with dict of torch.tensors as input and output.\n",
    "\n",
    "random link: https://stackoverflow.com/questions/63917001/get-value-from-c10dictc10ivalue-c10ivalue-in-pytorch-c\n",
    "\n",
    "but it takes too much time to learn this for prototype"
   ]
  },
  {
   "cell_type": "code",
   "execution_count": 10,
   "id": "sensitive-jurisdiction",
   "metadata": {},
   "outputs": [],
   "source": [
    "test_central_species =  torch.IntTensor(get_central_species(test_structures))\n",
    "test_structural_indices =  torch.IntTensor(get_structural_indices(test_structures))\n",
    "traced = torch.jit.trace(model, [test_coefficients, test_central_species,\n",
    "                                 test_structural_indices], strict = False)\n",
    "traced.save(\"sparse_kernel_model_dict.pt\")"
   ]
  },
  {
   "cell_type": "markdown",
   "id": "inner-catch",
   "metadata": {},
   "source": [
    "## Lists input and output model wrapper"
   ]
  },
  {
   "cell_type": "code",
   "execution_count": 11,
   "id": "dramatic-mention",
   "metadata": {},
   "outputs": [],
   "source": [
    "class ListsWrapper(torch.nn.Module):\n",
    "    def __init__(self, model):\n",
    "        super(ListsWrapper, self).__init__()\n",
    "        self.model = model\n",
    "        \n",
    "    def forward(self, *X):\n",
    "        coefs = {}\n",
    "        for lambd in range(LAMBDA_MAX + 1):\n",
    "            coefs[lambd] = X[lambd]\n",
    "        central_ind = X[LAMBDA_MAX + 1]\n",
    "        struc_ind = X[LAMBDA_MAX + 2]\n",
    "        result = self.model(coefs, central_ind, struc_ind)\n",
    "        return result['energies']"
   ]
  },
  {
   "cell_type": "code",
   "execution_count": 12,
   "id": "extended-freedom",
   "metadata": {},
   "outputs": [
    {
     "name": "stdout",
     "output_type": "stream",
     "text": [
      "tensor([-2.6278, -3.3046, -1.3031,  0.6548, -3.1033, -1.9019,  1.2502,  1.5296,\n",
      "         0.7976, -1.5875], grad_fn=<SliceBackward>)\n"
     ]
    }
   ],
   "source": [
    "model_list = ListsWrapper(model)\n",
    "inputs = []\n",
    "for lambd in range(LAMBDA_MAX + 1):\n",
    "    inputs.append(test_coefficients[lambd])\n",
    "inputs.append(test_central_species)\n",
    "inputs.append(test_structural_indices)\n",
    "result = model_list(*inputs)\n",
    "print(result[0:10])"
   ]
  },
  {
   "cell_type": "code",
   "execution_count": 13,
   "id": "imposed-playing",
   "metadata": {},
   "outputs": [],
   "source": [
    "traced = torch.jit.trace(model_list, inputs, strict = False)\n",
    "traced.save(\"sparse_kernel_model_list.pt\")"
   ]
  },
  {
   "cell_type": "code",
   "execution_count": 14,
   "id": "geographic-savannah",
   "metadata": {},
   "outputs": [],
   "source": [
    "coef_small = {}\n",
    "for key in test_coefficients.keys():\n",
    "    coef_small[key] = test_coefficients[key][0:50]\n",
    "struc_ind_small = torch.IntTensor(get_structural_indices(test_structures)[0:50])\n",
    "central_species_small = torch.IntTensor(get_central_species(test_structures)[0:50])\n",
    "\n",
    "inputs_small = []\n",
    "for lambd in range(LAMBDA_MAX + 1):\n",
    "    inputs_small.append(coef_small[lambd])\n",
    "inputs_small.append(central_species_small)\n",
    "inputs_small.append(struc_ind_small)"
   ]
  },
  {
   "cell_type": "code",
   "execution_count": 15,
   "id": "obvious-carolina",
   "metadata": {},
   "outputs": [
    {
     "name": "stdout",
     "output_type": "stream",
     "text": [
      "rm: cannot remove 'inputs/*': No such file or directory\r\n"
     ]
    }
   ],
   "source": [
    "!rm inputs/*"
   ]
  },
  {
   "cell_type": "code",
   "execution_count": 16,
   "id": "flying-active",
   "metadata": {},
   "outputs": [
    {
     "name": "stderr",
     "output_type": "stream",
     "text": [
      "100%|██████████| 8/8 [00:00<00:00, 249.41it/s]\n"
     ]
    }
   ],
   "source": [
    "for i in tqdm.tqdm(range(len(inputs_small))):\n",
    "    shape_now = inputs_small[i].shape\n",
    "    now = inputs_small[i].reshape(-1)\n",
    "    with open(\"inputs/{}\".format(i), \"w\") as f:\n",
    "        print(len(shape_now), file = f)\n",
    "        for dim in shape_now:\n",
    "            print(dim, file = f, end = ' ')\n",
    "        print(file = f)\n",
    "        for j in range(now.shape[0]):\n",
    "            print(now[j].item(), file = f, end = ' ')\n",
    "    "
   ]
  },
  {
   "cell_type": "code",
   "execution_count": 17,
   "id": "automotive-information",
   "metadata": {},
   "outputs": [],
   "source": [
    "LIBTORCH_PATH = \"/home/sergey/libtorch_installation/libtorch/\""
   ]
  },
  {
   "cell_type": "code",
   "execution_count": 18,
   "id": "naughty-dealer",
   "metadata": {},
   "outputs": [
    {
     "name": "stdout",
     "output_type": "stream",
     "text": [
      "-- The C compiler identification is GNU 9.3.0\n",
      "-- The CXX compiler identification is GNU 9.3.0\n",
      "-- Check for working C compiler: /usr/bin/cc\n",
      "-- Check for working C compiler: /usr/bin/cc -- works\n",
      "-- Detecting C compiler ABI info\n",
      "-- Detecting C compiler ABI info - done\n",
      "-- Detecting C compile features\n",
      "-- Detecting C compile features - done\n",
      "-- Check for working CXX compiler: /usr/bin/c++\n",
      "-- Check for working CXX compiler: /usr/bin/c++ -- works\n",
      "-- Detecting CXX compiler ABI info\n",
      "-- Detecting CXX compiler ABI info - done\n",
      "-- Detecting CXX compile features\n",
      "-- Detecting CXX compile features - done\n",
      "-- Looking for pthread.h\n",
      "-- Looking for pthread.h - found\n",
      "-- Performing Test CMAKE_HAVE_LIBC_PTHREAD\n",
      "-- Performing Test CMAKE_HAVE_LIBC_PTHREAD - Failed\n",
      "-- Looking for pthread_create in pthreads\n",
      "-- Looking for pthread_create in pthreads - not found\n",
      "-- Looking for pthread_create in pthread\n",
      "-- Looking for pthread_create in pthread - found\n",
      "-- Found Threads: TRUE  \n",
      "-- Found Torch: /home/sergey/libtorch_installation/libtorch/lib/libtorch.so  \n",
      "-- Configuring done\n",
      "-- Generating done\n",
      "-- Build files have been written to: /home/sergey/tmp_pytorch/meeting/cpp_invoke/build\n",
      "\u001b[35m\u001b[1mScanning dependencies of target run\u001b[0m\n",
      "[ 50%] \u001b[32mBuilding CXX object CMakeFiles/run.dir/run.cpp.o\u001b[0m\n",
      "[100%] \u001b[32m\u001b[1mLinking CXX executable run\u001b[0m\n",
      "[100%] Built target run\n"
     ]
    }
   ],
   "source": [
    "!rm -r cpp_invoke/build/*\n",
    "!cmake -DCMAKE_PREFIX_PATH=$LIBTORCH_PATH -H./cpp_invoke/ -B./cpp_invoke/build/\n",
    "!cmake --build ./cpp_invoke/build/ --config Release"
   ]
  },
  {
   "cell_type": "code",
   "execution_count": 19,
   "id": "confused-contributor",
   "metadata": {},
   "outputs": [
    {
     "name": "stdout",
     "output_type": "stream",
     "text": [
      "energies: -2.6278\r\n",
      "-3.3046\r\n",
      "-1.3031\r\n",
      " 0.6548\r\n",
      "-3.1033\r\n",
      "-1.9019\r\n",
      " 1.2502\r\n",
      " 1.5296\r\n",
      " 0.7976\r\n",
      "-1.5875\r\n",
      "[ CPUDoubleType{10} ]\r\n",
      "ok\r\n"
     ]
    }
   ],
   "source": [
    "!./cpp_invoke/build/run ./sparse_kernel_model_list.pt ./inputs"
   ]
  }
 ],
 "metadata": {
  "kernelspec": {
   "display_name": "Python 3",
   "language": "python",
   "name": "python3"
  },
  "language_info": {
   "codemirror_mode": {
    "name": "ipython",
    "version": 3
   },
   "file_extension": ".py",
   "mimetype": "text/x-python",
   "name": "python",
   "nbconvert_exporter": "python",
   "pygments_lexer": "ipython3",
   "version": "3.8.5"
  }
 },
 "nbformat": 4,
 "nbformat_minor": 5
}
