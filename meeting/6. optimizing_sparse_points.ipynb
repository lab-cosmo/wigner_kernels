{
 "cells": [
  {
   "cell_type": "code",
   "execution_count": 1,
   "metadata": {},
   "outputs": [
    {
     "data": {
      "text/plain": [
       "'!wget \"https://archive.materialscloud.org/record/file?file_id=b612d8e3-58af-4374-96ba-b3551ac5d2f4&filename=methane.extxyz.gz&record_id=528\" -O methane.extxyz.gz\\n!gunzip -k methane.extxyz.gz'"
      ]
     },
     "execution_count": 1,
     "metadata": {},
     "output_type": "execute_result"
    }
   ],
   "source": [
    "# downloading dataset from https://archive.materialscloud.org/record/2020.110\n",
    "'''!wget \"https://archive.materialscloud.org/record/file?file_id=b612d8e3-58af-4374-96ba-b3551ac5d2f4&filename=methane.extxyz.gz&record_id=528\" -O methane.extxyz.gz\n",
    "!gunzip -k methane.extxyz.gz'''"
   ]
  },
  {
   "cell_type": "code",
   "execution_count": 2,
   "metadata": {},
   "outputs": [],
   "source": [
    "import numpy as np\n",
    "import ase.io\n",
    "import tqdm\n",
    "from matplotlib import pyplot as plt\n",
    "import torch\n",
    "\n",
    "\n",
    "torch.set_default_tensor_type(torch.DoubleTensor)\n",
    "from torch import nn\n",
    "import sys\n",
    "sys.path.append('../code/')\n",
    "from code_pytorch import *\n",
    "from utilities import *\n",
    "from miscellaneous import ClebschGordan"
   ]
  },
  {
   "cell_type": "code",
   "execution_count": 3,
   "metadata": {
    "code_folding": []
   },
   "outputs": [],
   "source": [
    "HARTREE_TO_EV = 27.211386245988\n",
    "FORCE_FACTOR = 51.42208619083232\n",
    "LAMBDA_MAX = 5\n",
    "HYPERS = {\n",
    "    'interaction_cutoff': 6.3,\n",
    "    'max_radial': 5,\n",
    "    'max_angular': LAMBDA_MAX,\n",
    "    'gaussian_sigma_type': 'Constant',\n",
    "    'gaussian_sigma_constant': 0.05,\n",
    "    'cutoff_smooth_width': 0.3,\n",
    "    'radial_basis': 'GTO'    \n",
    "}\n",
    "train_subset = '0:10000'\n",
    "test_subset = '10000:11000'\n",
    "DEVICE = 'cuda'\n",
    "FIRST_BATCH_NORM_EPSILON = 1e-20 #spherical expansion coefficients from rascal might be really small!"
   ]
  },
  {
   "cell_type": "code",
   "execution_count": 4,
   "metadata": {},
   "outputs": [],
   "source": [
    "train_structures = ase.io.read('../methane.extxyz', index=train_subset)\n",
    "\n",
    "test_structures = ase.io.read('../methane.extxyz', index=test_subset)\n",
    "\n",
    "all_species = get_all_species(train_structures + test_structures)\n",
    "\n",
    "train_coefficients = get_coefs(train_structures, HYPERS, all_species)\n",
    "test_coefficients = get_coefs(test_structures, HYPERS, all_species)\n",
    "\n",
    "\n",
    "for key in train_coefficients.keys():\n",
    "    train_coefficients[key] = train_coefficients[key]\n",
    "for key in test_coefficients.keys():\n",
    "    test_coefficients[key] = test_coefficients[key]"
   ]
  },
  {
   "cell_type": "code",
   "execution_count": 5,
   "metadata": {},
   "outputs": [
    {
     "name": "stdout",
     "output_type": "stream",
     "text": [
      "0\n",
      "2499\n",
      "0\n",
      "2499\n"
     ]
    }
   ],
   "source": [
    "train_energies = [structure.info['energy'] for structure in train_structures]\n",
    "train_energies = np.array(train_energies) * HARTREE_TO_EV\n",
    "\n",
    "test_energies = [structure.info['energy'] for structure in test_structures]\n",
    "test_energies = np.array(test_energies) * HARTREE_TO_EV\n",
    "\n",
    "mean_e = np.mean(train_energies)\n",
    "train_energies = train_energies - mean_e\n",
    "test_energies = test_energies - mean_e\n",
    "\n",
    "train_energies = torch.FloatTensor(train_energies).to(DEVICE)\n",
    "test_energies = torch.FloatTensor(test_energies).to(DEVICE)\n",
    "\n",
    "train_forces = [structure.arrays[\"forces\"] for structure in train_structures]\n",
    "train_forces = np.concatenate(train_forces, axis = 0) * FORCE_FACTOR\n",
    "\n",
    "test_forces = [structure.arrays[\"forces\"] for structure in test_structures]\n",
    "test_forces = np.concatenate(test_forces, axis = 0) * FORCE_FACTOR\n",
    "\n",
    "\n",
    "coef_der_train, central_indices_train, derivative_indices_train = \\\n",
    "get_coef_ders(train_structures, HYPERS, all_species)\n",
    "print(np.min(derivative_indices_train[0:12500]))\n",
    "print(np.max(derivative_indices_train[0:12500]))\n",
    "print(np.min(central_indices_train[0:12500]))\n",
    "print(np.max(central_indices_train[0:12500]))\n",
    "\n",
    "for key in coef_der_train.keys():\n",
    "    coef_der_train[key] = coef_der_train[key]\n",
    "\n",
    "    \n",
    "coef_der_test, central_indices_test, derivative_indices_test = \\\n",
    "get_coef_ders(test_structures, HYPERS, all_species)\n",
    "\n",
    "\n",
    "for key in coef_der_test.keys():\n",
    "    coef_der_test[key] = coef_der_test[key]"
   ]
  },
  {
   "cell_type": "code",
   "execution_count": 6,
   "metadata": {},
   "outputs": [],
   "source": [
    "def get_loss(predictions, targets):\n",
    "    delta = predictions - targets\n",
    "    return torch.mean(delta * delta)\n",
    "\n",
    "def get_mae(first, second):\n",
    "    return np.mean(np.abs(first - second))\n",
    "\n",
    "def get_rmse(first, second):\n",
    "    delta = first - second\n",
    "    return np.sqrt(np.mean(delta * delta))\n",
    "\n"
   ]
  },
  {
   "cell_type": "code",
   "execution_count": 7,
   "metadata": {},
   "outputs": [],
   "source": [
    "def get_kernel(features, sparse_points):\n",
    "    features = features / torch.sqrt(torch.sum(features * features, dim = 1))[:, None]\n",
    "    return torch.matmul(features, torch.transpose(sparse_points, 0, 1)) ** 2\n",
    "\n",
    "class Model(torch.nn.Module):\n",
    "    def __init__(self, clebsch, n_sparse):\n",
    "        super(Model, self).__init__()\n",
    "        sparse_points = torch.randn(n_sparse, 600)\n",
    "        sparse_points = sparse_points / torch.sqrt(torch.sum(sparse_points * sparse_points, dim = 1))[:, None]\n",
    "        self.clebsch_combining = ClebschCombining(clebsch, 0)\n",
    "        self.register_parameter('sparse_points', torch.nn.Parameter(sparse_points))\n",
    "        self.batch_norm = torch.nn.BatchNorm1d(n_sparse)\n",
    "        self.linear = torch.nn.Linear(n_sparse, 1, bias = False)\n",
    "        \n",
    "    def forward(self, X):\n",
    "        #X = L2_normalize(X)\n",
    "        ps = self.clebsch_combining(X, X)['0'].squeeze()\n",
    "        kernel_values = get_kernel(ps, self.sparse_points)\n",
    "        kernel_values = self.batch_norm(kernel_values)\n",
    "        return {'predictions' : self.linear(kernel_values)}"
   ]
  },
  {
   "cell_type": "code",
   "execution_count": 8,
   "metadata": {},
   "outputs": [],
   "source": [
    "models = {}\n",
    "for key in all_species:\n",
    "    models[str(key)] = Model(ClebschGordan(LAMBDA_MAX).precomputed_, 100)\n",
    "    "
   ]
  },
  {
   "cell_type": "code",
   "execution_count": 9,
   "metadata": {},
   "outputs": [
    {
     "name": "stdout",
     "output_type": "stream",
     "text": [
      "train mae:  1.066426628495734\n",
      "train rmse:  1.8343699287682933\n",
      "test mae:  2.1967545959441024\n",
      "test rmse:  3.450224216792947\n",
      "train mae:  0.26939461633171785\n",
      "train rmse:  0.3804403141323556\n",
      "test mae:  0.2498435292716499\n",
      "test rmse:  0.38460863612035445\n",
      "train mae:  0.24586135224180788\n",
      "train rmse:  0.33158037816695174\n",
      "test mae:  0.2425819379314028\n",
      "test rmse:  0.33508993684954136\n",
      "train mae:  0.23550101372637983\n",
      "train rmse:  0.31514110452146077\n",
      "test mae:  0.2219958306077336\n",
      "test rmse:  0.3139130239834561\n",
      "train mae:  0.2246288875116209\n",
      "train rmse:  0.29962749531434096\n",
      "test mae:  0.20449551317008835\n",
      "test rmse:  0.295439869992533\n",
      "train mae:  0.21519408845325547\n",
      "train rmse:  0.28457369579540104\n",
      "test mae:  0.19318018106235432\n",
      "test rmse:  0.2840047825658574\n",
      "train mae:  0.20819450763981953\n",
      "train rmse:  0.2733634513920828\n",
      "test mae:  0.18532514842043515\n",
      "test rmse:  0.2734190416136082\n",
      "train mae:  0.2025532995834029\n",
      "train rmse:  0.2646183789390166\n",
      "test mae:  0.1785419758043866\n",
      "test rmse:  0.26330223642001677\n",
      "train mae:  0.19806332420947512\n",
      "train rmse:  0.25763615127441664\n",
      "test mae:  0.17291450193940108\n",
      "test rmse:  0.2544493665780668\n",
      "train mae:  0.1944169196201638\n",
      "train rmse:  0.2518481414915783\n",
      "test mae:  0.1697947500324295\n",
      "test rmse:  0.24748149075342174\n"
     ]
    }
   ],
   "source": [
    "atomistic = Atomistic(models).to(DEVICE)\n",
    "optim = torch.optim.Adam(atomistic.parameters())\n",
    "\n",
    "\n",
    "\n",
    "\n",
    "train_struc = {'energies' : train_energies}\n",
    "test_struc = {'energies' : test_energies}\n",
    "#print(train_atomic[0].device)\n",
    "#print(torch.is_tensor(train_atomic[0]))\n",
    "BATCH_SIZE = 500\n",
    "history = {'train_mae' : [], 'test_mae' : [],\n",
    "           'train_rmse' : [], 'test_rmse' : []}\n",
    "for epoch_num in range(100):\n",
    "    train_predictions = []\n",
    "    atomistic.train(True)\n",
    "    for _, _, _, coef_batch, structural_batch, structures_batch in iterate_minibatches(None, None, None, train_coefficients, train_struc,\n",
    "                                                  train_structures, BATCH_SIZE, DEVICE):\n",
    "        energies_now = structural_batch['energies']\n",
    "       \n",
    "        predictions = atomistic(coef_batch, central_species = get_central_species(structures_batch),\n",
    "                                structural_indices = get_structural_indices(structures_batch)\n",
    "                               )['predictions'].squeeze()\n",
    "        train_predictions.append(predictions.data.cpu().numpy())       \n",
    "        loss = get_loss(predictions, energies_now)\n",
    "        loss.backward()\n",
    "        optim.step()\n",
    "        optim.zero_grad()\n",
    "    atomistic.train(False)\n",
    "    train_predictions = np.concatenate(train_predictions, axis = 0)\n",
    "    train_mae = get_mae(train_predictions, train_energies.data.cpu().numpy())\n",
    "    train_rmse = get_rmse(train_predictions, train_energies.data.cpu().numpy())\n",
    "    if epoch_num % 10 == 0:\n",
    "        print(\"train mae: \", train_mae)\n",
    "        print(\"train rmse: \", train_rmse)\n",
    "        \n",
    "    test_predictions = []\n",
    "    for _, _, _, coef_batch, structural_batch, structures_batch in iterate_minibatches(None, None, None, test_coefficients, test_struc,\n",
    "                                                   test_structures, BATCH_SIZE, DEVICE):\n",
    "        \n",
    "        energies_now = structural_batch['energies']\n",
    "        predictions = atomistic(coef_batch, central_species = get_central_species(structures_batch),\n",
    "                                structural_indices = get_structural_indices(structures_batch),\n",
    "                                )['predictions'].squeeze()\n",
    "        test_predictions.append(predictions.data.cpu().numpy())\n",
    "    test_predictions = np.concatenate(test_predictions, axis = 0)\n",
    "    test_mae = get_mae(test_predictions, test_energies.data.cpu().numpy())\n",
    "    test_rmse = get_rmse(test_predictions, test_energies.data.cpu().numpy())\n",
    "    if epoch_num % 10 == 0:\n",
    "        print(\"test mae: \", test_mae)\n",
    "        print(\"test rmse: \", test_rmse)\n",
    "    history['train_mae'].append(train_mae)\n",
    "    history['test_mae'].append(test_mae)\n",
    "    history['train_rmse'].append(train_rmse)\n",
    "    history['test_rmse'].append(test_rmse)"
   ]
  },
  {
   "cell_type": "code",
   "execution_count": 10,
   "metadata": {},
   "outputs": [
    {
     "data": {
      "image/png": "[encoded data removed]",
      "text/plain": [
       "<Figure size 432x288 with 1 Axes>"
      ]
     },
     "metadata": {
      "needs_background": "light"
     },
     "output_type": "display_data"
    },
    {
     "name": "stdout",
     "output_type": "stream",
     "text": [
      "train rmse 0.24732827845151545\n",
      "train mae:  0.1915759913208705\n"
     ]
    }
   ],
   "source": [
    "plt.plot(train_energies.data.cpu().numpy(), train_predictions, 'o')\n",
    "plt.title(\"train\")\n",
    "plt.show()\n",
    "print(\"train rmse\", get_rmse(train_energies.data.cpu().numpy(), train_predictions))\n",
    "print(\"train mae: \", get_mae(train_energies.data.cpu().numpy(), train_predictions))\n",
    "\n"
   ]
  },
  {
   "cell_type": "code",
   "execution_count": 11,
   "metadata": {},
   "outputs": [
    {
     "name": "stdout",
     "output_type": "stream",
     "text": [
      "test rmse 0.24253580540220515\n",
      "test mae:  0.1692002737319058\n"
     ]
    },
    {
     "data": {
      "image/png": "[encoded data removed]",
      "text/plain": [
       "<Figure size 432x288 with 1 Axes>"
      ]
     },
     "metadata": {
      "needs_background": "light"
     },
     "output_type": "display_data"
    }
   ],
   "source": [
    "plt.plot(test_energies.data.cpu().numpy(), test_predictions, 'o')\n",
    "plt.title(\"test\")\n",
    "\n",
    "print(\"test rmse\", get_rmse(test_energies.data.cpu().numpy(), test_predictions))\n",
    "print(\"test mae: \", get_mae(test_energies.data.cpu().numpy(), test_predictions))\n",
    "plt.show()"
   ]
  },
  {
   "cell_type": "code",
   "execution_count": 12,
   "metadata": {},
   "outputs": [],
   "source": [
    "atomistic = atomistic.train(False)"
   ]
  },
  {
   "cell_type": "code",
   "execution_count": 13,
   "metadata": {},
   "outputs": [
    {
     "data": {
      "image/png": "[encoded data removed]",
      "text/plain": [
       "<Figure size 432x288 with 1 Axes>"
      ]
     },
     "metadata": {
      "needs_background": "light"
     },
     "output_type": "display_data"
    },
    {
     "name": "stdout",
     "output_type": "stream",
     "text": [
      "train mae:  0.3461674226668941\n",
      "train rmse:  0.8783189342784057\n"
     ]
    }
   ],
   "source": [
    "forces_predictions_train = []\n",
    "for key in train_coefficients.keys():\n",
    "    train_coefficients[key].requires_grad = True\n",
    "for coef_der_batch, central_batch, derivative_batch, coef_batch, _, structures_batch in iterate_minibatches(coef_der_train,\n",
    "                                                    central_indices_train, derivative_indices_train, train_coefficients, None,\n",
    "                                                   train_structures, BATCH_SIZE, DEVICE):\n",
    "    forces_predictions_now = atomistic.get_forces(coef_der_batch, central_batch, derivative_batch,\n",
    "                                                 coef_batch, get_central_species(structures_batch),\n",
    "                                                  get_structural_indices(structures_batch))\n",
    "    #print(forces_predictions_now.shape)\n",
    "    forces_predictions_train.append(forces_predictions_now)\n",
    "    \n",
    "forces_predictions_train = torch.cat(forces_predictions_train, dim = 0)\n",
    "forces_predictions_a = forces_predictions_train.data.cpu().numpy().reshape([-1])\n",
    "forces_a = train_forces.reshape([-1])\n",
    "plt.plot(forces_a, forces_predictions_a, 'o')\n",
    "plt.plot([np.min(forces_a), np.max(forces_a)],\n",
    "         [np.min(forces_a), np.max(forces_a)])\n",
    "plt.show()\n",
    "print(\"train mae: \", get_mae(forces_a, forces_predictions_a))\n",
    "print(\"train rmse: \", get_rmse(forces_a, forces_predictions_a))"
   ]
  },
  {
   "cell_type": "code",
   "execution_count": 14,
   "metadata": {},
   "outputs": [
    {
     "name": "stdout",
     "output_type": "stream",
     "text": [
      "torch.Size([2500, 3])\n",
      "torch.Size([2500, 3])\n"
     ]
    },
    {
     "data": {
      "image/png": "[encoded data removed]",
      "text/plain": [
       "<Figure size 432x288 with 1 Axes>"
      ]
     },
     "metadata": {
      "needs_background": "light"
     },
     "output_type": "display_data"
    },
    {
     "name": "stdout",
     "output_type": "stream",
     "text": [
      "test mae:  0.3679881772198547\n",
      "test rmse:  1.0122992901251089\n"
     ]
    }
   ],
   "source": [
    "forces_predictions_test = []\n",
    "for key in test_coefficients.keys():\n",
    "    test_coefficients[key].requires_grad = True\n",
    "    \n",
    "for coef_der_batch, central_batch, derivative_batch, coef_batch, _, structures_batch in iterate_minibatches(coef_der_test,\n",
    "                                                    central_indices_test, derivative_indices_test, test_coefficients, None,\n",
    "                                                   test_structures, BATCH_SIZE, DEVICE):\n",
    "    forces_predictions_now = atomistic.get_forces(coef_der_batch, central_batch, derivative_batch,\n",
    "                                                 coef_batch, get_central_species(structures_batch),\n",
    "                                                  get_structural_indices(structures_batch))\n",
    "    print(forces_predictions_now.shape)\n",
    "    forces_predictions_test.append(forces_predictions_now)\n",
    "    \n",
    "forces_predictions_test = torch.cat(forces_predictions_test, dim = 0)\n",
    "forces_predictions_a = forces_predictions_test.data.cpu().numpy().reshape([-1])\n",
    "forces_a = test_forces.reshape([-1])\n",
    "plt.plot(forces_a, forces_predictions_a, 'o')\n",
    "plt.plot([np.min(forces_a), np.max(forces_a)],\n",
    "         [np.min(forces_a), np.max(forces_a)])\n",
    "\n",
    "plt.show()\n",
    "print(\"test mae: \", get_mae(forces_a, forces_predictions_a))\n",
    "print(\"test rmse: \", get_rmse(forces_a, forces_predictions_a))"
   ]
  }
 ],
 "metadata": {
  "kernelspec": {
   "display_name": "Python 3",
   "language": "python",
   "name": "python3"
  },
  "language_info": {
   "codemirror_mode": {
    "name": "ipython",
    "version": 3
   },
   "file_extension": ".py",
   "mimetype": "text/x-python",
   "name": "python",
   "nbconvert_exporter": "python",
   "pygments_lexer": "ipython3",
   "version": "3.8.5"
  }
 },
 "nbformat": 4,
 "nbformat_minor": 4
}
