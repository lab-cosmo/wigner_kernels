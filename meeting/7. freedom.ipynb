{
 "cells": [
  {
   "cell_type": "code",
   "execution_count": 1,
   "metadata": {},
   "outputs": [
    {
     "data": {
      "text/plain": [
       "'!wget \"https://archive.materialscloud.org/record/file?file_id=b612d8e3-58af-4374-96ba-b3551ac5d2f4&filename=methane.extxyz.gz&record_id=528\" -O methane.extxyz.gz\\n!gunzip -k methane.extxyz.gz'"
      ]
     },
     "execution_count": 1,
     "metadata": {},
     "output_type": "execute_result"
    }
   ],
   "source": [
    "# downloading dataset from https://archive.materialscloud.org/record/2020.110\n",
    "'''!wget \"https://archive.materialscloud.org/record/file?file_id=b612d8e3-58af-4374-96ba-b3551ac5d2f4&filename=methane.extxyz.gz&record_id=528\" -O methane.extxyz.gz\n",
    "!gunzip -k methane.extxyz.gz'''"
   ]
  },
  {
   "cell_type": "code",
   "execution_count": 2,
   "metadata": {},
   "outputs": [],
   "source": [
    "import numpy as np\n",
    "import ase.io\n",
    "import tqdm\n",
    "from matplotlib import pyplot as plt\n",
    "import torch\n",
    "\n",
    "\n",
    "torch.set_default_tensor_type(torch.DoubleTensor)\n",
    "from torch import nn\n",
    "import sys\n",
    "sys.path.append('../code/')\n",
    "from code_pytorch import *\n",
    "from utilities import *\n",
    "from miscellaneous import ClebschGordan"
   ]
  },
  {
   "cell_type": "code",
   "execution_count": 3,
   "metadata": {
    "code_folding": []
   },
   "outputs": [],
   "source": [
    "HARTREE_TO_EV = 27.211386245988\n",
    "FORCE_FACTOR = 51.42208619083232\n",
    "LAMBDA_MAX = 5\n",
    "HYPERS = {\n",
    "    'interaction_cutoff': 6.3,\n",
    "    'max_radial': 5,\n",
    "    'max_angular': LAMBDA_MAX,\n",
    "    'gaussian_sigma_type': 'Constant',\n",
    "    'gaussian_sigma_constant': 0.05,\n",
    "    'cutoff_smooth_width': 0.3,\n",
    "    'radial_basis': 'GTO'    \n",
    "}\n",
    "train_subset = '0:10000'\n",
    "test_subset = '10000:11000'\n",
    "DEVICE = 'cuda'\n",
    "FIRST_BATCH_NORM_EPSILON = 1e-20 #spherical expansion coefficients from rascal might be really small!"
   ]
  },
  {
   "cell_type": "code",
   "execution_count": 4,
   "metadata": {},
   "outputs": [],
   "source": [
    "train_structures = ase.io.read('../methane.extxyz', index=train_subset)\n",
    "\n",
    "test_structures = ase.io.read('../methane.extxyz', index=test_subset)\n",
    "\n",
    "all_species = get_all_species(train_structures + test_structures)\n",
    "\n",
    "train_coefficients = get_coefs(train_structures, HYPERS, all_species)\n",
    "test_coefficients = get_coefs(test_structures, HYPERS, all_species)\n",
    "\n",
    "\n",
    "for key in train_coefficients.keys():\n",
    "    train_coefficients[key] = train_coefficients[key]\n",
    "for key in test_coefficients.keys():\n",
    "    test_coefficients[key] = test_coefficients[key]"
   ]
  },
  {
   "cell_type": "code",
   "execution_count": 5,
   "metadata": {},
   "outputs": [
    {
     "name": "stdout",
     "output_type": "stream",
     "text": [
      "0\n",
      "2499\n",
      "0\n",
      "2499\n"
     ]
    }
   ],
   "source": [
    "train_energies = [structure.info['energy'] for structure in train_structures]\n",
    "train_energies = np.array(train_energies) * HARTREE_TO_EV\n",
    "\n",
    "test_energies = [structure.info['energy'] for structure in test_structures]\n",
    "test_energies = np.array(test_energies) * HARTREE_TO_EV\n",
    "\n",
    "mean_e = np.mean(train_energies)\n",
    "train_energies = train_energies - mean_e\n",
    "test_energies = test_energies - mean_e\n",
    "\n",
    "train_energies = torch.FloatTensor(train_energies).to(DEVICE)\n",
    "test_energies = torch.FloatTensor(test_energies).to(DEVICE)\n",
    "\n",
    "train_forces = [structure.arrays[\"forces\"] for structure in train_structures]\n",
    "train_forces = np.concatenate(train_forces, axis = 0) * FORCE_FACTOR\n",
    "\n",
    "test_forces = [structure.arrays[\"forces\"] for structure in test_structures]\n",
    "test_forces = np.concatenate(test_forces, axis = 0) * FORCE_FACTOR\n",
    "\n",
    "\n",
    "coef_der_train, central_indices_train, derivative_indices_train = \\\n",
    "get_coef_ders(train_structures, HYPERS, all_species)\n",
    "print(np.min(derivative_indices_train[0:12500]))\n",
    "print(np.max(derivative_indices_train[0:12500]))\n",
    "print(np.min(central_indices_train[0:12500]))\n",
    "print(np.max(central_indices_train[0:12500]))\n",
    "\n",
    "for key in coef_der_train.keys():\n",
    "    coef_der_train[key] = coef_der_train[key]\n",
    "\n",
    "    \n",
    "coef_der_test, central_indices_test, derivative_indices_test = \\\n",
    "get_coef_ders(test_structures, HYPERS, all_species)\n",
    "\n",
    "\n",
    "for key in coef_der_test.keys():\n",
    "    coef_der_test[key] = coef_der_test[key]"
   ]
  },
  {
   "cell_type": "code",
   "execution_count": 6,
   "metadata": {},
   "outputs": [],
   "source": [
    "def get_loss(predictions, targets):\n",
    "    delta = predictions - targets\n",
    "    return torch.mean(delta * delta)\n",
    "\n",
    "def get_mae(first, second):\n",
    "    return np.mean(np.abs(first - second))\n",
    "\n",
    "def get_rmse(first, second):\n",
    "    delta = first - second\n",
    "    return np.sqrt(np.mean(delta * delta))"
   ]
  },
  {
   "cell_type": "markdown",
   "metadata": {},
   "source": [
    "# The cell below is the only one that differs from previous notebook"
   ]
  },
  {
   "cell_type": "code",
   "execution_count": 7,
   "metadata": {},
   "outputs": [],
   "source": [
    "\n",
    "\n",
    "class Model(torch.nn.Module):\n",
    "    def __init__(self, input_lambda_max):\n",
    "        super(Model, self).__init__()\n",
    "        clebsch = ClebschGordan(input_lambda_max)\n",
    "        self.clebsch_combining = ClebschCombining(clebsch.precomputed_, 0)\n",
    "        self.sequential = nn.Sequential(nn.BatchNorm1d(600, eps = FIRST_BATCH_NORM_EPSILON), nn.Linear(600, 200), nn.BatchNorm1d(200), nn.Tanh(),\n",
    "                                        nn.Linear(200, 200), nn.BatchNorm1d(200), nn.Tanh(),\n",
    "                                        nn.Linear(200, 1))\n",
    "        \n",
    "    def forward(self, X):\n",
    "        X = self.clebsch_combining(X, X)['0'].squeeze()        \n",
    "        return {'predictions' : self.sequential(X).squeeze()}"
   ]
  },
  {
   "cell_type": "markdown",
   "metadata": {},
   "source": [
    "![title](./snap.jpg)"
   ]
  },
  {
   "cell_type": "code",
   "execution_count": 8,
   "metadata": {},
   "outputs": [
    {
     "name": "stdout",
     "output_type": "stream",
     "text": [
      "<class 'dict'>\n",
      "torch.Size([50000])\n"
     ]
    }
   ],
   "source": [
    "model = Model(LAMBDA_MAX)\n",
    "result = model(train_coefficients)\n",
    "print(type(result))\n",
    "print(result['predictions'].shape)"
   ]
  },
  {
   "cell_type": "code",
   "execution_count": 9,
   "metadata": {},
   "outputs": [],
   "source": [
    "models = {}\n",
    "for key in all_species:\n",
    "    models[str(key)] = Model(LAMBDA_MAX)\n",
    "    "
   ]
  },
  {
   "cell_type": "code",
   "execution_count": 10,
   "metadata": {},
   "outputs": [
    {
     "name": "stdout",
     "output_type": "stream",
     "text": [
      "train mae:  1.162020101918701\n",
      "train rmse:  1.884166846891656\n",
      "test mae:  2.2032041813317482\n",
      "test rmse:  3.530496329213985\n",
      "train mae:  0.2708238307551795\n",
      "train rmse:  0.37441391819359104\n",
      "test mae:  2.6075732049211235\n",
      "test rmse:  3.9770087902206877\n",
      "train mae:  0.22942537987927702\n",
      "train rmse:  0.30230506843895943\n",
      "test mae:  1.1388074719181254\n",
      "test rmse:  1.7321255745727084\n",
      "train mae:  0.2228434538089583\n",
      "train rmse:  0.3002741891935107\n",
      "test mae:  0.2658837231666074\n",
      "test rmse:  0.3898644258517902\n",
      "train mae:  0.16761677388314397\n",
      "train rmse:  0.21658902093585397\n",
      "test mae:  0.23650987128582954\n",
      "test rmse:  0.35312555577721\n",
      "train mae:  0.28898634958792596\n",
      "train rmse:  0.38803901348683917\n",
      "test mae:  0.32331653876380606\n",
      "test rmse:  0.47821024793893036\n",
      "train mae:  0.22421668254578808\n",
      "train rmse:  0.29894154005175777\n",
      "test mae:  0.2650142584768322\n",
      "test rmse:  0.39430927257462617\n",
      "train mae:  0.2577224001434496\n",
      "train rmse:  0.3556742172976336\n",
      "test mae:  0.265194928161828\n",
      "test rmse:  0.39441065382967117\n",
      "train mae:  0.22209780693157635\n",
      "train rmse:  0.3308414347668627\n",
      "test mae:  0.23043120887137936\n",
      "test rmse:  0.3566005540350456\n",
      "train mae:  0.13443427575548902\n",
      "train rmse:  0.17475505865384516\n",
      "test mae:  0.180153085486843\n",
      "test rmse:  0.3000386748133899\n"
     ]
    }
   ],
   "source": [
    "atomistic = Atomistic(models).to(DEVICE)\n",
    "optim = torch.optim.Adam(atomistic.parameters())\n",
    "\n",
    "\n",
    "\n",
    "\n",
    "train_struc = {'energies' : train_energies}\n",
    "test_struc = {'energies' : test_energies}\n",
    "#print(train_atomic[0].device)\n",
    "#print(torch.is_tensor(train_atomic[0]))\n",
    "BATCH_SIZE = 500\n",
    "history = {'train_mae' : [], 'test_mae' : [],\n",
    "           'train_rmse' : [], 'test_rmse' : []}\n",
    "for epoch_num in range(100):\n",
    "    train_predictions = []\n",
    "    atomistic.train(True)\n",
    "    for _, _, _, coef_batch, structural_batch, structures_batch in iterate_minibatches(None, None, None, train_coefficients, train_struc,\n",
    "                                                  train_structures, BATCH_SIZE, DEVICE):\n",
    "        energies_now = structural_batch['energies']\n",
    "       \n",
    "        predictions = atomistic(coef_batch, central_species = get_central_species(structures_batch),\n",
    "                                structural_indices = get_structural_indices(structures_batch)\n",
    "                               )['predictions'].squeeze()\n",
    "        train_predictions.append(predictions.data.cpu().numpy())       \n",
    "        loss = get_loss(predictions, energies_now)\n",
    "        loss.backward()\n",
    "        optim.step()\n",
    "        optim.zero_grad()\n",
    "    atomistic.train(False)\n",
    "    train_predictions = np.concatenate(train_predictions, axis = 0)\n",
    "    train_mae = get_mae(train_predictions, train_energies.data.cpu().numpy())\n",
    "    train_rmse = get_rmse(train_predictions, train_energies.data.cpu().numpy())\n",
    "    if epoch_num % 10 == 0:\n",
    "        print(\"train mae: \", train_mae)\n",
    "        print(\"train rmse: \", train_rmse)\n",
    "        \n",
    "    test_predictions = []\n",
    "    for _, _, _, coef_batch, structural_batch, structures_batch in iterate_minibatches(None, None, None, test_coefficients, test_struc,\n",
    "                                                   test_structures, BATCH_SIZE, DEVICE):\n",
    "        \n",
    "        energies_now = structural_batch['energies']\n",
    "        predictions = atomistic(coef_batch, central_species = get_central_species(structures_batch),\n",
    "                                structural_indices = get_structural_indices(structures_batch),\n",
    "                                )['predictions'].squeeze()\n",
    "        test_predictions.append(predictions.data.cpu().numpy())\n",
    "    test_predictions = np.concatenate(test_predictions, axis = 0)\n",
    "    test_mae = get_mae(test_predictions, test_energies.data.cpu().numpy())\n",
    "    test_rmse = get_rmse(test_predictions, test_energies.data.cpu().numpy())\n",
    "    if epoch_num % 10 == 0:\n",
    "        print(\"test mae: \", test_mae)\n",
    "        print(\"test rmse: \", test_rmse)\n",
    "    history['train_mae'].append(train_mae)\n",
    "    history['test_mae'].append(test_mae)\n",
    "    history['train_rmse'].append(train_rmse)\n",
    "    history['test_rmse'].append(test_rmse)"
   ]
  },
  {
   "cell_type": "code",
   "execution_count": 11,
   "metadata": {},
   "outputs": [
    {
     "data": {
      "image/png": "[encoded data removed]",
      "text/plain": [
       "<Figure size 432x288 with 1 Axes>"
      ]
     },
     "metadata": {
      "needs_background": "light"
     },
     "output_type": "display_data"
    },
    {
     "name": "stdout",
     "output_type": "stream",
     "text": [
      "train rmse 0.22900960635083142\n",
      "train mae:  0.17384518616651282\n"
     ]
    }
   ],
   "source": [
    "plt.plot(train_energies.data.cpu().numpy(), train_predictions, 'o')\n",
    "plt.title(\"train\")\n",
    "plt.show()\n",
    "print(\"train rmse\", get_rmse(train_energies.data.cpu().numpy(), train_predictions))\n",
    "print(\"train mae: \", get_mae(train_energies.data.cpu().numpy(), train_predictions))\n",
    "\n"
   ]
  },
  {
   "cell_type": "code",
   "execution_count": 12,
   "metadata": {},
   "outputs": [
    {
     "name": "stdout",
     "output_type": "stream",
     "text": [
      "test rmse 0.3189957511420484\n",
      "test mae:  0.21333432171488226\n"
     ]
    },
    {
     "data": {
      "image/png": "[encoded data removed]",
      "text/plain": [
       "<Figure size 432x288 with 1 Axes>"
      ]
     },
     "metadata": {
      "needs_background": "light"
     },
     "output_type": "display_data"
    }
   ],
   "source": [
    "plt.plot(test_energies.data.cpu().numpy(), test_predictions, 'o')\n",
    "plt.title(\"test\")\n",
    "\n",
    "print(\"test rmse\", get_rmse(test_energies.data.cpu().numpy(), test_predictions))\n",
    "print(\"test mae: \", get_mae(test_energies.data.cpu().numpy(), test_predictions))\n",
    "plt.show()"
   ]
  },
  {
   "cell_type": "code",
   "execution_count": 13,
   "metadata": {},
   "outputs": [],
   "source": [
    "atomistic = atomistic.train(False)"
   ]
  },
  {
   "cell_type": "code",
   "execution_count": 14,
   "metadata": {},
   "outputs": [
    {
     "data": {
      "image/png": "[encoded data removed]",
      "text/plain": [
       "<Figure size 432x288 with 1 Axes>"
      ]
     },
     "metadata": {
      "needs_background": "light"
     },
     "output_type": "display_data"
    },
    {
     "name": "stdout",
     "output_type": "stream",
     "text": [
      "train mae:  0.4984655642897916\n",
      "train rmse:  2.2704989042109394\n"
     ]
    }
   ],
   "source": [
    "forces_predictions_train = []\n",
    "for key in train_coefficients.keys():\n",
    "    train_coefficients[key].requires_grad = True\n",
    "for coef_der_batch, central_batch, derivative_batch, coef_batch, _, structures_batch in iterate_minibatches(coef_der_train,\n",
    "                                                    central_indices_train, derivative_indices_train, train_coefficients, None,\n",
    "                                                   train_structures, BATCH_SIZE, DEVICE):\n",
    "    forces_predictions_now = atomistic.get_forces(coef_der_batch, central_batch, derivative_batch,\n",
    "                                                 coef_batch, get_central_species(structures_batch),\n",
    "                                                  get_structural_indices(structures_batch))\n",
    "    #print(forces_predictions_now.shape)\n",
    "    forces_predictions_train.append(forces_predictions_now)\n",
    "    \n",
    "forces_predictions_train = torch.cat(forces_predictions_train, dim = 0)\n",
    "forces_predictions_a = forces_predictions_train.data.cpu().numpy().reshape([-1])\n",
    "forces_a = train_forces.reshape([-1])\n",
    "plt.plot(forces_a, forces_predictions_a, 'o')\n",
    "plt.plot([np.min(forces_a), np.max(forces_a)],\n",
    "         [np.min(forces_a), np.max(forces_a)])\n",
    "plt.show()\n",
    "print(\"train mae: \", get_mae(forces_a, forces_predictions_a))\n",
    "print(\"train rmse: \", get_rmse(forces_a, forces_predictions_a))"
   ]
  },
  {
   "cell_type": "code",
   "execution_count": 15,
   "metadata": {},
   "outputs": [
    {
     "name": "stdout",
     "output_type": "stream",
     "text": [
      "torch.Size([2500, 3])\n",
      "torch.Size([2500, 3])\n"
     ]
    },
    {
     "data": {
      "image/png": "[encoded data removed]",
      "text/plain": [
       "<Figure size 432x288 with 1 Axes>"
      ]
     },
     "metadata": {
      "needs_background": "light"
     },
     "output_type": "display_data"
    },
    {
     "name": "stdout",
     "output_type": "stream",
     "text": [
      "test mae:  0.5351530409500979\n",
      "test rmse:  2.6453730218934908\n"
     ]
    }
   ],
   "source": [
    "forces_predictions_test = []\n",
    "for key in test_coefficients.keys():\n",
    "    test_coefficients[key].requires_grad = True\n",
    "    \n",
    "for coef_der_batch, central_batch, derivative_batch, coef_batch, _, structures_batch in iterate_minibatches(coef_der_test,\n",
    "                                                    central_indices_test, derivative_indices_test, test_coefficients, None,\n",
    "                                                   test_structures, BATCH_SIZE, DEVICE):\n",
    "    forces_predictions_now = atomistic.get_forces(coef_der_batch, central_batch, derivative_batch,\n",
    "                                                 coef_batch, get_central_species(structures_batch),\n",
    "                                                  get_structural_indices(structures_batch))\n",
    "    print(forces_predictions_now.shape)\n",
    "    forces_predictions_test.append(forces_predictions_now)\n",
    "    \n",
    "forces_predictions_test = torch.cat(forces_predictions_test, dim = 0)\n",
    "forces_predictions_a = forces_predictions_test.data.cpu().numpy().reshape([-1])\n",
    "forces_a = test_forces.reshape([-1])\n",
    "plt.plot(forces_a, forces_predictions_a, 'o')\n",
    "plt.plot([np.min(forces_a), np.max(forces_a)],\n",
    "         [np.min(forces_a), np.max(forces_a)])\n",
    "\n",
    "plt.show()\n",
    "print(\"test mae: \", get_mae(forces_a, forces_predictions_a))\n",
    "print(\"test rmse: \", get_rmse(forces_a, forces_predictions_a))"
   ]
  },
  {
   "cell_type": "code",
   "execution_count": 16,
   "metadata": {},
   "outputs": [],
   "source": [
    "class ListsWrapper(torch.nn.Module):\n",
    "    def __init__(self, model):\n",
    "        super(ListsWrapper, self).__init__()\n",
    "        self.model = model\n",
    "        \n",
    "    def forward(self, *X):\n",
    "        coefs = {}\n",
    "        for lambd in range(LAMBDA_MAX + 1):\n",
    "            coefs[lambd] = X[lambd]\n",
    "        central_ind = X[LAMBDA_MAX + 1]\n",
    "        struc_ind = X[LAMBDA_MAX + 2]\n",
    "        result = self.model(coefs, central_ind, struc_ind)\n",
    "        return result['predictions']"
   ]
  },
  {
   "cell_type": "code",
   "execution_count": 17,
   "metadata": {},
   "outputs": [
    {
     "name": "stdout",
     "output_type": "stream",
     "text": [
      "tensor([-1.8277, -3.1550, -1.4083,  0.3465, -3.1723, -1.9754,  1.8092,  1.5751,\n",
      "        -0.4258, -1.5214], grad_fn=<SliceBackward>)\n"
     ]
    }
   ],
   "source": [
    "atomistic = atomistic.to('cpu')\n",
    "model_list = ListsWrapper(atomistic)\n",
    "inputs = []\n",
    "for lambd in range(LAMBDA_MAX + 1):\n",
    "    inputs.append(test_coefficients[lambd])\n",
    "inputs.append(torch.IntTensor(get_central_species(test_structures)))\n",
    "inputs.append(torch.IntTensor(get_structural_indices(test_structures)))\n",
    "result = model_list(*inputs)\n",
    "print(result[0:10])"
   ]
  },
  {
   "cell_type": "code",
   "execution_count": 18,
   "metadata": {},
   "outputs": [],
   "source": [
    "traced = torch.jit.trace(model_list, inputs, strict = False)\n",
    "traced.save(\"sparse_kernel_model_list.pt\")"
   ]
  },
  {
   "cell_type": "code",
   "execution_count": 19,
   "metadata": {},
   "outputs": [],
   "source": [
    "coef_small = {}\n",
    "for key in test_coefficients.keys():\n",
    "    coef_small[key] = test_coefficients[key][0:50]\n",
    "struc_ind_small = torch.IntTensor(get_structural_indices(test_structures)[0:50])\n",
    "central_species_small = torch.IntTensor(get_central_species(test_structures)[0:50])\n",
    "\n",
    "inputs_small = []\n",
    "for lambd in range(LAMBDA_MAX + 1):\n",
    "    inputs_small.append(coef_small[lambd])\n",
    "inputs_small.append(central_species_small)\n",
    "inputs_small.append(struc_ind_small)"
   ]
  },
  {
   "cell_type": "code",
   "execution_count": 20,
   "metadata": {},
   "outputs": [],
   "source": [
    "!rm inputs/*"
   ]
  },
  {
   "cell_type": "code",
   "execution_count": 21,
   "metadata": {},
   "outputs": [
    {
     "name": "stderr",
     "output_type": "stream",
     "text": [
      "100%|██████████| 8/8 [00:00<00:00, 206.75it/s]\n"
     ]
    }
   ],
   "source": [
    "for i in tqdm.tqdm(range(len(inputs_small))):\n",
    "    shape_now = inputs_small[i].shape\n",
    "    now = inputs_small[i].reshape(-1)\n",
    "    with open(\"inputs/{}\".format(i), \"w\") as f:\n",
    "        print(len(shape_now), file = f)\n",
    "        for dim in shape_now:\n",
    "            print(dim, file = f, end = ' ')\n",
    "        print(file = f)\n",
    "        for j in range(now.shape[0]):\n",
    "            print(now[j].item(), file = f, end = ' ')\n",
    "    "
   ]
  },
  {
   "cell_type": "code",
   "execution_count": 22,
   "metadata": {},
   "outputs": [],
   "source": [
    "LIBTORCH_PATH = \"/home/sergey/libtorch_installation/libtorch/\""
   ]
  },
  {
   "cell_type": "code",
   "execution_count": 23,
   "metadata": {},
   "outputs": [
    {
     "name": "stdout",
     "output_type": "stream",
     "text": [
      "-- The C compiler identification is GNU 9.3.0\n",
      "-- The CXX compiler identification is GNU 9.3.0\n",
      "-- Check for working C compiler: /usr/bin/cc\n",
      "-- Check for working C compiler: /usr/bin/cc -- works\n",
      "-- Detecting C compiler ABI info\n",
      "-- Detecting C compiler ABI info - done\n",
      "-- Detecting C compile features\n",
      "-- Detecting C compile features - done\n",
      "-- Check for working CXX compiler: /usr/bin/c++\n",
      "-- Check for working CXX compiler: /usr/bin/c++ -- works\n",
      "-- Detecting CXX compiler ABI info\n",
      "-- Detecting CXX compiler ABI info - done\n",
      "-- Detecting CXX compile features\n",
      "-- Detecting CXX compile features - done\n",
      "-- Looking for pthread.h\n",
      "-- Looking for pthread.h - found\n",
      "-- Performing Test CMAKE_HAVE_LIBC_PTHREAD\n",
      "-- Performing Test CMAKE_HAVE_LIBC_PTHREAD - Failed\n",
      "-- Looking for pthread_create in pthreads\n",
      "-- Looking for pthread_create in pthreads - not found\n",
      "-- Looking for pthread_create in pthread\n",
      "-- Looking for pthread_create in pthread - found\n",
      "-- Found Threads: TRUE  \n",
      "-- Found Torch: /home/sergey/libtorch_installation/libtorch/lib/libtorch.so  \n",
      "-- Configuring done\n",
      "-- Generating done\n",
      "-- Build files have been written to: /home/sergey/tmp_pytorch/meeting/cpp_invoke/build\n",
      "\u001b[35m\u001b[1mScanning dependencies of target run\u001b[0m\n",
      "[ 50%] \u001b[32mBuilding CXX object CMakeFiles/run.dir/run.cpp.o\u001b[0m\n",
      "[100%] \u001b[32m\u001b[1mLinking CXX executable run\u001b[0m\n",
      "[100%] Built target run\n"
     ]
    }
   ],
   "source": [
    "!rm -r cpp_invoke/build/*\n",
    "!cmake -DCMAKE_PREFIX_PATH=$LIBTORCH_PATH -H./cpp_invoke/ -B./cpp_invoke/build/\n",
    "!cmake --build ./cpp_invoke/build/ --config Release"
   ]
  },
  {
   "cell_type": "code",
   "execution_count": 24,
   "metadata": {},
   "outputs": [
    {
     "name": "stdout",
     "output_type": "stream",
     "text": [
      "energies: -1.8277\n",
      "-3.1550\n",
      "-1.4083\n",
      " 0.3465\n",
      "-3.1723\n",
      "-1.9754\n",
      " 1.8092\n",
      " 1.5751\n",
      "-0.4258\n",
      "-1.5214\n",
      "[ CPUDoubleType{10} ]\n",
      "ok\n"
     ]
    }
   ],
   "source": [
    "!./cpp_invoke/build/run ./sparse_kernel_model_list.pt ./inputs"
   ]
  },
  {
   "cell_type": "code",
   "execution_count": null,
   "metadata": {},
   "outputs": [],
   "source": []
  }
 ],
 "metadata": {
  "kernelspec": {
   "display_name": "Python 3",
   "language": "python",
   "name": "python3"
  },
  "language_info": {
   "codemirror_mode": {
    "name": "ipython",
    "version": 3
   },
   "file_extension": ".py",
   "mimetype": "text/x-python",
   "name": "python",
   "nbconvert_exporter": "python",
   "pygments_lexer": "ipython3",
   "version": "3.8.5"
  }
 },
 "nbformat": 4,
 "nbformat_minor": 4
}
