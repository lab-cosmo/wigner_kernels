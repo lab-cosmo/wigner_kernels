{
 "cells": [
  {
   "cell_type": "code",
   "execution_count": 1,
   "metadata": {},
   "outputs": [],
   "source": [
    "import torch\n",
    "import numpy as np\n",
    "import ase.io\n",
    "import tqdm\n",
    "\n",
    "import sys\n",
    "sys.path.append('../code/')\n",
    "from code_pytorch import *\n",
    "from utilities import *\n",
    "from miscellaneous import ClebschGordan\n"
   ]
  },
  {
   "cell_type": "markdown",
   "metadata": {},
   "source": [
    "# Data preparation"
   ]
  },
  {
   "cell_type": "code",
   "execution_count": 2,
   "metadata": {},
   "outputs": [],
   "source": [
    "LAMBDA_MAX = 4\n",
    "\n",
    "HYPERS = {\n",
    "    'interaction_cutoff': 6.3,\n",
    "    'max_radial': 4,\n",
    "    'max_angular': LAMBDA_MAX,\n",
    "    'gaussian_sigma_type': 'Constant',\n",
    "    'gaussian_sigma_constant': 0.3,\n",
    "    'cutoff_smooth_width': 0.3,\n",
    "    'radial_basis': 'GTO'\n",
    "}\n",
    "DEVICE = 'cuda' #or 'cpu'\n",
    "clebsch = ClebschGordan(LAMBDA_MAX)"
   ]
  },
  {
   "cell_type": "code",
   "execution_count": 3,
   "metadata": {},
   "outputs": [],
   "source": [
    "structures = process_structures(ase.io.read('../methane.extxyz', index='0:10'))\n",
    "all_species = get_all_species(structures)\n",
    "coefficients = get_coefs(structures, HYPERS, all_species)\n",
    "for key in coefficients.keys():\n",
    "    coefficients[key] = coefficients[key].to(DEVICE)"
   ]
  },
  {
   "cell_type": "markdown",
   "metadata": {},
   "source": [
    "# invariants calculation"
   ]
  },
  {
   "cell_type": "markdown",
   "metadata": {},
   "source": [
    "### ps invariants"
   ]
  },
  {
   "cell_type": "code",
   "execution_count": 4,
   "metadata": {},
   "outputs": [
    {
     "name": "stdout",
     "output_type": "stream",
     "text": [
      "torch.Size([50, 320])\n"
     ]
    }
   ],
   "source": [
    "block = ClebschCombining(clebsch.precomputed_, 0).to(DEVICE)\n",
    "ps = block(coefficients, coefficients)['0'].squeeze()\n",
    "print(ps.shape)"
   ]
  },
  {
   "cell_type": "markdown",
   "metadata": {},
   "source": [
    "### ps covariants"
   ]
  },
  {
   "cell_type": "code",
   "execution_count": 5,
   "metadata": {},
   "outputs": [
    {
     "name": "stdout",
     "output_type": "stream",
     "text": [
      "0 torch.Size([50, 320, 1])\n",
      "1 torch.Size([50, 768, 3])\n",
      "2 torch.Size([50, 1024, 5])\n",
      "3 torch.Size([50, 1088, 7])\n",
      "4 torch.Size([50, 960, 9])\n"
     ]
    }
   ],
   "source": [
    "block = ClebschCombining(clebsch.precomputed_, LAMBDA_MAX).to(DEVICE)\n",
    "ps_covariants = block(coefficients, coefficients)\n",
    "for key in ps_covariants.keys():\n",
    "    print(key, ps_covariants[key].shape)"
   ]
  },
  {
   "cell_type": "markdown",
   "metadata": {},
   "source": [
    "### bs invariants"
   ]
  },
  {
   "cell_type": "code",
   "execution_count": 6,
   "metadata": {},
   "outputs": [
    {
     "name": "stdout",
     "output_type": "stream",
     "text": [
      "torch.Size([50, 2560])\n"
     ]
    }
   ],
   "source": [
    "first = ClebschCombining(clebsch.precomputed_, LAMBDA_MAX).to(DEVICE)\n",
    "second = ClebschCombining(clebsch.precomputed_, 0).to(DEVICE)\n",
    "\n",
    "bs_invariants = first(second(coefficients, coefficients), coefficients)['0'].squeeze()\n",
    "print(bs_invariants.shape)"
   ]
  },
  {
   "cell_type": "markdown",
   "metadata": {},
   "source": [
    "### bs covariants"
   ]
  },
  {
   "cell_type": "code",
   "execution_count": 7,
   "metadata": {},
   "outputs": [
    {
     "name": "stdout",
     "output_type": "stream",
     "text": [
      "0 torch.Size([50, 33280, 1])\n",
      "1 torch.Size([50, 87040, 3])\n",
      "2 torch.Size([50, 119808, 5])\n",
      "3 torch.Size([50, 128000, 7])\n",
      "4 torch.Size([50, 112640, 9])\n"
     ]
    }
   ],
   "source": [
    "first = ClebschCombining(clebsch.precomputed_, LAMBDA_MAX).to(DEVICE)\n",
    "second = ClebschCombining(clebsch.precomputed_, LAMBDA_MAX).to(DEVICE)\n",
    "\n",
    "bs_invariants = first(second(coefficients, coefficients), coefficients)\n",
    "for key in bs_invariants.keys():\n",
    "    print(key, bs_invariants[key].shape)"
   ]
  },
  {
   "cell_type": "markdown",
   "metadata": {},
   "source": [
    "# proper shaped code"
   ]
  },
  {
   "cell_type": "code",
   "execution_count": 8,
   "metadata": {},
   "outputs": [],
   "source": [
    "class Powerspectrum(torch.nn.Module):\n",
    "    def __init__(self, clebsch):\n",
    "        super(Powerspectrum, self).__init__()\n",
    "        self.first = ClebschCombining(clebsch, 0)       \n",
    "            \n",
    "    def forward(self, X):\n",
    "        ps_invariants = self.first(X, X)['0'].squeeze()       \n",
    "        return ps_invariants\n",
    "    \n",
    "class Bispectrum(torch.nn.Module):\n",
    "    def __init__(self, clebsch, lambda_max):\n",
    "        super(Bispectrum, self).__init__()\n",
    "        self.first = ClebschCombining(clebsch, lambda_max)\n",
    "        self.second = ClebschCombining(clebsch, 0)\n",
    "            \n",
    "    def forward(self, X):\n",
    "        ps_covariants = self.first(X, X)\n",
    "        bs_invariants = self.second(ps_covariants, X)['0'].squeeze()\n",
    "        return bs_invariants\n",
    "    \n",
    "class Nspectrum(torch.nn.Module):\n",
    "    def __init__(self, order, clebsch, lambda_max):\n",
    "        super(Nspectrum, self).__init__()\n",
    "        self.combinings = torch.nn.ModuleList([ClebschCombining(clebsch, lambda_max) for _ in range(order - 1)] + \\\n",
    "                                           [ClebschCombining(clebsch, 0)])\n",
    "        \n",
    "    def forward(self, X):\n",
    "        current = X\n",
    "        for combining in self.combinings:\n",
    "            current = combining(current, X)\n",
    "        return current['0'].squeeze()"
   ]
  },
  {
   "cell_type": "code",
   "execution_count": 9,
   "metadata": {},
   "outputs": [
    {
     "name": "stdout",
     "output_type": "stream",
     "text": [
      "powerspectrum:  torch.Size([50, 320])\n",
      "bispectrum:  torch.Size([50, 33280])\n",
      "trispectrum:  torch.Size([3, 3846144])\n"
     ]
    }
   ],
   "source": [
    "ps_model =  Powerspectrum(clebsch.precomputed_).to(DEVICE)\n",
    "print(\"powerspectrum: \",ps_model(coefficients).shape)\n",
    "bs_model = Bispectrum(clebsch.precomputed_, LAMBDA_MAX).to(DEVICE)\n",
    "print(\"bispectrum: \", bs_model(coefficients).shape)\n",
    "ts_model = Nspectrum(3, clebsch.precomputed_, LAMBDA_MAX).to(DEVICE) #try other values as order\n",
    "coef_small = {key : value[0:3] for key, value in coefficients.items()} #trispectrum is quite huge\n",
    "print(\"trispectrum: \", ts_model(coef_small).shape)"
   ]
  },
  {
   "cell_type": "code",
   "execution_count": null,
   "metadata": {},
   "outputs": [],
   "source": []
  }
 ],
 "metadata": {
  "kernelspec": {
   "display_name": "Python 3",
   "language": "python",
   "name": "python3"
  },
  "language_info": {
   "codemirror_mode": {
    "name": "ipython",
    "version": 3
   },
   "file_extension": ".py",
   "mimetype": "text/x-python",
   "name": "python",
   "nbconvert_exporter": "python",
   "pygments_lexer": "ipython3",
   "version": "3.8.5"
  }
 },
 "nbformat": 4,
 "nbformat_minor": 4
}
