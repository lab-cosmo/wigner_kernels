{
 "cells": [
  {
   "cell_type": "code",
   "execution_count": 1,
   "metadata": {},
   "outputs": [],
   "source": [
    "import numpy as np\n",
    "from rascal.representations import SphericalExpansion as SPH\n",
    "import ase.io\n",
    "import tqdm\n",
    "from nice.blocks import *\n",
    "from nice.utilities import *\n",
    "from matplotlib import pyplot as plt\n",
    "from sklearn.linear_model import BayesianRidge\n",
    "import torch\n",
    "torch.set_num_threads(1)\n",
    "import torch.nn\n",
    "from code_pytorch import *\n",
    "import time\n",
    "import numpy as np\n",
    "from sympy.physics.wigner import wigner_3j\n",
    "from sympy.physics.quantum.spin import Rotation as rot\n",
    "from rascal.representations import SphericalInvariants as SOAP\n",
    "from torch2trt import torch2trt"
   ]
  },
  {
   "cell_type": "code",
   "execution_count": 2,
   "metadata": {},
   "outputs": [],
   "source": [
    "clebsch = nice.clebsch_gordan.ClebschGordan(4)"
   ]
  },
  {
   "cell_type": "code",
   "execution_count": 3,
   "metadata": {},
   "outputs": [
    {
     "name": "stdout",
     "output_type": "stream",
     "text": [
      "torch.Size([7, 5])\n"
     ]
    }
   ],
   "source": [
    "now = clebsch.precomputed_[3, 2, 1, :3 * 2 + 1, :2 * 2 + 1]\n",
    "now = torch.tensor(now, dtype = torch.float)\n",
    "print(now.shape)\n",
    "model = ClebschCombiningSingle(now, 1)\n",
    "#model = model.cuda()"
   ]
  },
  {
   "cell_type": "code",
   "execution_count": 4,
   "metadata": {},
   "outputs": [],
   "source": [
    "first = torch.tensor(np.random.rand(200, 170, 7), dtype = torch.float)\n",
    "second = torch.tensor(np.random.rand(200, 170, 5), dtype = torch.float)\n",
    "\n",
    "#first = first.cuda()\n",
    "#second = second.cuda()"
   ]
  },
  {
   "cell_type": "code",
   "execution_count": 5,
   "metadata": {},
   "outputs": [
    {
     "name": "stdout",
     "output_type": "stream",
     "text": [
      "1.6737635135650635\n"
     ]
    }
   ],
   "source": [
    "begin = time.time()\n",
    "with torch.no_grad():\n",
    "    result = model(first, second)\n",
    "end = time.time()\n",
    "print(end - begin)"
   ]
  },
  {
   "cell_type": "code",
   "execution_count": 6,
   "metadata": {},
   "outputs": [
    {
     "name": "stdout",
     "output_type": "stream",
     "text": [
      "torch.Size([200, 28900, 3])\n"
     ]
    }
   ],
   "source": [
    "print(result.shape)"
   ]
  },
  {
   "cell_type": "code",
   "execution_count": 7,
   "metadata": {},
   "outputs": [],
   "source": [
    "first = torch.tensor(np.random.rand(200, 170 * 170, 7), dtype = torch.float)\n",
    "second = torch.tensor(np.random.rand(200, 170 * 170, 5), dtype = torch.float)\n",
    "model = ClebschCombiningSingleUnrolled(now, 1)"
   ]
  },
  {
   "cell_type": "code",
   "execution_count": 8,
   "metadata": {},
   "outputs": [
    {
     "name": "stdout",
     "output_type": "stream",
     "text": [
      "1.545365333557129\n"
     ]
    }
   ],
   "source": [
    "begin = time.time()\n",
    "with torch.no_grad():\n",
    "    result = model(first, second)\n",
    "end = time.time()\n",
    "print(end - begin)"
   ]
  },
  {
   "cell_type": "code",
   "execution_count": 9,
   "metadata": {},
   "outputs": [],
   "source": [
    "index = []\n",
    "mask = []\n",
    "for m1 in range(now.shape[0]):\n",
    "    for m2 in range(now.shape[1]):\n",
    "        if (m1+ m2 < (2 * 1 + 1)):\n",
    "            index.append(m1 + m2)\n",
    "            mask.append(True)\n",
    "        else:\n",
    "            mask.append(False)\n",
    "            \n",
    "mask = torch.tensor(mask, dtype = torch.bool)\n",
    "index = torch.LongTensor(index)"
   ]
  },
  {
   "cell_type": "code",
   "execution_count": 10,
   "metadata": {},
   "outputs": [
    {
     "name": "stdout",
     "output_type": "stream",
     "text": [
      "1.5336074829101562\n"
     ]
    }
   ],
   "source": [
    "begin = time.time()\n",
    "with torch.no_grad():\n",
    "    X1 = first[:, :, :, None]\n",
    "    X2 = second[:, :, None, :]\n",
    "    #print(self.l1, self.l2, X1.shape, X2.shape)\n",
    "    mult = X1 * X2\n",
    "    mult = mult * now\n",
    "\n",
    "    mult = mult.reshape(mult.shape[0], mult.shape[1], -1)\n",
    "  \n",
    "    result = torch.zeros([mult.shape[0], mult.shape[1], 2 * 1 + 1])\n",
    "\n",
    "    result = result.index_add_(2, index, mult[:, :, mask])       \n",
    "    end = time.time()\n",
    "print(end - begin)"
   ]
  },
  {
   "cell_type": "code",
   "execution_count": 11,
   "metadata": {},
   "outputs": [
    {
     "name": "stdout",
     "output_type": "stream",
     "text": [
      "torch.Size([200, 28900, 3])\n",
      "1.4115169048309326\n"
     ]
    }
   ],
   "source": [
    "begin = time.time()\n",
    "with torch.no_grad():\n",
    "    X1 = first[:, :, :, None]\n",
    "    X2 = second[:, :, None, :]\n",
    "    #print(self.l1, self.l2, X1.shape, X2.shape)\n",
    "    mult = X1 * X2\n",
    "    mult = mult * now\n",
    "    \n",
    "    #mult = mult.reshape(mult.shape[0], mult.shape[1], -1)\n",
    "  \n",
    "    result = torch.zeros([mult.shape[0], mult.shape[1], 2 * 1 + 1])\n",
    "   \n",
    "   \n",
    "    for m1 in range(now.shape[0]):\n",
    "        for m2 in range(now.shape[1]):\n",
    "            if (m1 + m2 < 2 * 1 + 1):\n",
    "                result[:, :, m1 + m2] += mult[:, :, m1, m2]\n",
    "    print(result.shape)\n",
    "    #result = result.index_add_(2, index, mult[:, :, mask])       \n",
    "    end = time.time()\n",
    "print(end - begin)"
   ]
  },
  {
   "cell_type": "code",
   "execution_count": 12,
   "metadata": {},
   "outputs": [
    {
     "name": "stdout",
     "output_type": "stream",
     "text": [
      "ClebschCombiningSingleUnrolled()\n"
     ]
    }
   ],
   "source": [
    "print(model)"
   ]
  },
  {
   "cell_type": "code",
   "execution_count": 13,
   "metadata": {},
   "outputs": [],
   "source": [
    "model_j = torch.jit.trace(model, [first, second])"
   ]
  },
  {
   "cell_type": "code",
   "execution_count": 14,
   "metadata": {},
   "outputs": [
    {
     "name": "stdout",
     "output_type": "stream",
     "text": [
      "1.5585017204284668\n"
     ]
    }
   ],
   "source": [
    "begin = time.time()\n",
    "with torch.no_grad():\n",
    "    result = model_j(first, second)\n",
    "end = time.time()\n",
    "print(end - begin)"
   ]
  },
  {
   "cell_type": "code",
   "execution_count": 15,
   "metadata": {},
   "outputs": [
    {
     "name": "stderr",
     "output_type": "stream",
     "text": [
      "/home/pozdn/.local/lib/python3.6/site-packages/torch/jit/_script.py:891: UserWarning: `optimize` is deprecated and has no effect. Use `with torch.jit.optimized_execution() instead\n",
      "  \"`optimize` is deprecated and has no effect. Use `with torch.jit.optimized_execution() instead\"\n"
     ]
    }
   ],
   "source": [
    "model_j = torch.jit.script(model, [first, second])"
   ]
  },
  {
   "cell_type": "code",
   "execution_count": 16,
   "metadata": {},
   "outputs": [
    {
     "name": "stdout",
     "output_type": "stream",
     "text": [
      "1.5498745441436768\n"
     ]
    }
   ],
   "source": [
    "begin = time.time()\n",
    "with torch.no_grad():\n",
    "    result = model_j(first, second)\n",
    "end = time.time()\n",
    "print(end - begin)"
   ]
  },
  {
   "cell_type": "code",
   "execution_count": 17,
   "metadata": {},
   "outputs": [],
   "source": [
    "first = first.cuda()\n",
    "second = second.cuda()\n",
    "model = model.cuda()"
   ]
  },
  {
   "cell_type": "code",
   "execution_count": 22,
   "metadata": {},
   "outputs": [
    {
     "name": "stdout",
     "output_type": "stream",
     "text": [
      "0.5191397666931152\n"
     ]
    }
   ],
   "source": [
    "begin = time.time()\n",
    "for _ in range(10):\n",
    "    with torch.no_grad():\n",
    "        result = model(first, second)\n",
    "        total = torch.sum(result).cpu().data.numpy()\n",
    "end = time.time()\n",
    "print(end - begin)"
   ]
  },
  {
   "cell_type": "code",
   "execution_count": 19,
   "metadata": {},
   "outputs": [],
   "source": [
    "index = index.cuda()\n",
    "mask = mask.cuda()\n",
    "now = now.cuda()"
   ]
  },
  {
   "cell_type": "code",
   "execution_count": 20,
   "metadata": {},
   "outputs": [
    {
     "name": "stdout",
     "output_type": "stream",
     "text": [
      "torch.Size([200, 28900, 7])\n",
      "torch.Size([200, 28900, 5])\n"
     ]
    }
   ],
   "source": [
    "print(first.shape)\n",
    "print(second.shape)"
   ]
  },
  {
   "cell_type": "code",
   "execution_count": 24,
   "metadata": {},
   "outputs": [],
   "source": [
    "first_t = torch.FloatTensor(np.random.rand(7, 200, 28900)).cuda()\n",
    "second_t = torch.FloatTensor(np.random.rand(5, 200, 28900)).cuda()"
   ]
  },
  {
   "cell_type": "code",
   "execution_count": 25,
   "metadata": {},
   "outputs": [
    {
     "name": "stdout",
     "output_type": "stream",
     "text": [
      "torch.Size([7, 200, 28900])\n",
      "torch.Size([5, 200, 28900])\n"
     ]
    }
   ],
   "source": [
    "print(first_t.shape)\n",
    "print(second_t.shape)"
   ]
  },
  {
   "cell_type": "code",
   "execution_count": 26,
   "metadata": {},
   "outputs": [
    {
     "name": "stdout",
     "output_type": "stream",
     "text": [
      "torch.Size([7, 5])\n"
     ]
    }
   ],
   "source": [
    "print(now.shape)"
   ]
  },
  {
   "cell_type": "code",
   "execution_count": 29,
   "metadata": {},
   "outputs": [
    {
     "name": "stdout",
     "output_type": "stream",
     "text": [
      "0.10175013542175293\n"
     ]
    }
   ],
   "source": [
    "#m first loops only required\n",
    "begin = time.time()\n",
    "for _ in range(10):\n",
    "    with torch.no_grad():\n",
    "        #X1 = first_t[:, None, :, :]\n",
    "        #X2 = second_t[None, :, :, :]\n",
    "        #print(X1.shape)\n",
    "        #print(X2.shape)\n",
    "        #print(self.l1, self.l2, X1.shape, X2.shape)\n",
    "        #mult = X1 * X2\n",
    "        #print(mult.shape)\n",
    "        #mult = mult * now[:, :, None, None]\n",
    "        #print(mult.shape)                \n",
    "\n",
    "        #mult = mult.reshape(-1, mult.shape[2], mult.shape[3])\n",
    "        #print(mult.shape)\n",
    "        result = torch.zeros([ 2 * 1 + 1, first_t.shape[1], first_t.shape[2]], device = 'cuda')\n",
    "        for m1 in range(now.shape[0]):\n",
    "            for m2 in range(now.shape[1]):\n",
    "                if (m1 + m2 < 2 * 1 + 1):\n",
    "                    #result[m1 + m2, :, :] += mult[m1, m2, :, :]\n",
    "                    result[m1 + m2, :, :] += first_t[m1] * second_t[m2] * now[m1, m2]\n",
    "        total = torch.sum(result)\n",
    "        total = total.cpu().data.numpy()\n",
    "        #print(now[1, 3])\n",
    "        #print(torch.sum(first_t[1] * second_t[3] * now[1, 3]))\n",
    "        #print(mult.shape)\n",
    "        #result = result.cpu().data.numpy()\n",
    "\n",
    "        #result = result.index_add_(0, index, mult[mask])       \n",
    "end = time.time()\n",
    "print(end - begin)"
   ]
  },
  {
   "cell_type": "code",
   "execution_count": 88,
   "metadata": {},
   "outputs": [
    {
     "name": "stdout",
     "output_type": "stream",
     "text": [
      "0.37432265281677246\n"
     ]
    }
   ],
   "source": [
    "#m first loops\n",
    "begin = time.time()\n",
    "for _ in range(10):\n",
    "    with torch.no_grad():\n",
    "        X1 = first_t[:, None, :, :]\n",
    "        X2 = second_t[None, :, :, :]\n",
    "        #print(X1.shape)\n",
    "        #print(X2.shape)\n",
    "        #print(self.l1, self.l2, X1.shape, X2.shape)\n",
    "        mult = X1 * X2\n",
    "        #print(mult.shape)\n",
    "        mult = mult * now[:, :, None, None]\n",
    "        #print(mult.shape)                \n",
    "\n",
    "        #mult = mult.reshape(-1, mult.shape[2], mult.shape[3])\n",
    "        #print(mult.shape)\n",
    "        result = torch.zeros([ 2 * 1 + 1, mult.shape[2], mult.shape[3]], device = 'cuda')\n",
    "        for m1 in range(now.shape[0]):\n",
    "            for m2 in range(now.shape[1]):\n",
    "                if (m1 + m2 < 2 * 1 + 1):\n",
    "                    result[m1 + m2, :, :] += mult[m1, m2, :, :]\n",
    "        total = torch.sum(result)\n",
    "        total = total.cpu().data.numpy()\n",
    "        #print(mult.shape)\n",
    "        #result = result.cpu().data.numpy()\n",
    "\n",
    "        #result = result.index_add_(0, index, mult[mask])       \n",
    "end = time.time()\n",
    "print(end - begin)"
   ]
  },
  {
   "cell_type": "code",
   "execution_count": 69,
   "metadata": {},
   "outputs": [
    {
     "name": "stdout",
     "output_type": "stream",
     "text": [
      "torch.Size([6])\n"
     ]
    }
   ],
   "source": [
    "print(index.shape)"
   ]
  },
  {
   "cell_type": "code",
   "execution_count": 91,
   "metadata": {},
   "outputs": [
    {
     "name": "stdout",
     "output_type": "stream",
     "text": [
      "0.40592169761657715\n"
     ]
    }
   ],
   "source": [
    "#m first index_add\n",
    "begin = time.time()\n",
    "for _ in range(10):\n",
    "    with torch.no_grad():\n",
    "        X1 = first_t[:, None, :, :]\n",
    "        X2 = second_t[None, :, :, :]\n",
    "        #print(X1.shape)\n",
    "        #print(X2.shape)\n",
    "        #print(self.l1, self.l2, X1.shape, X2.shape)\n",
    "        mult = X1 * X2\n",
    "        #print(mult.shape)\n",
    "        mult = mult * now[:, :, None, None]\n",
    "        #print(mult.shape)                \n",
    "\n",
    "        mult = mult.reshape(-1, mult.shape[2], mult.shape[3])\n",
    "        #print(mult.shape)\n",
    "        result = torch.zeros([ 2 * 1 + 1, mult.shape[1], mult.shape[2]], device = 'cuda')\n",
    "       \n",
    "        #print(mult.shape)\n",
    "        #result = result.cpu().data.numpy()\n",
    "\n",
    "        result = result.index_add_(0, index, mult[mask]) \n",
    "        \n",
    "        total = torch.sum(result)\n",
    "        total = total.cpu().data.numpy()\n",
    "end = time.time()\n",
    "print(end - begin)"
   ]
  },
  {
   "cell_type": "code",
   "execution_count": 94,
   "metadata": {},
   "outputs": [
    {
     "name": "stdout",
     "output_type": "stream",
     "text": [
      "0.6034359931945801\n"
     ]
    }
   ],
   "source": [
    "#m last loops\n",
    "begin = time.time()\n",
    "for _ in range(10):\n",
    "    with torch.no_grad():\n",
    "        X1 = first[:, :, :, None]\n",
    "        X2 = second[:, :, None, :]\n",
    "        #print(self.l1, self.l2, X1.shape, X2.shape)\n",
    "        mult = X1 * X2\n",
    "        mult = mult * now\n",
    "        #print(mult.shape)\n",
    "        #mult = mult.reshape(mult.shape[0], mult.shape[1], -1)\n",
    "\n",
    "        result = torch.zeros([mult.shape[0], mult.shape[1], 2 * 1 + 1], device = 'cuda')\n",
    "\n",
    "        #print(result.shape)\n",
    "        #print(mult.shape)\n",
    "        #print(now.shape)\n",
    "        for m1 in range(now.shape[0]):\n",
    "            for m2 in range(now.shape[1]):\n",
    "                if (m1 + m2 < 2 * 1 + 1):\n",
    "                    result[:, :, m1 + m2] += mult[:, :, m1, m2]\n",
    "        total = torch.sum(result)\n",
    "        total = total.cpu().data.numpy()\n",
    "        #result = result.cpu().data.numpy()\n",
    "        #print(type(result))\n",
    "        #result = result.index_add_(2, index, mult[:, :, mask])       \n",
    "end = time.time()\n",
    "print(end - begin)"
   ]
  },
  {
   "cell_type": "code",
   "execution_count": 96,
   "metadata": {},
   "outputs": [
    {
     "name": "stdout",
     "output_type": "stream",
     "text": [
      "0.5235612392425537\n"
     ]
    }
   ],
   "source": [
    "#m last index_add\n",
    "begin = time.time()\n",
    "for _ in range(10):\n",
    "    with torch.no_grad():\n",
    "        X1 = first[:, :, :, None]\n",
    "        X2 = second[:, :, None, :]\n",
    "        #print(self.l1, self.l2, X1.shape, X2.shape)\n",
    "        mult = X1 * X2\n",
    "        mult = mult * now\n",
    "        #print(mult.shape)\n",
    "        mult = mult.reshape(mult.shape[0], mult.shape[1], -1)\n",
    "\n",
    "        result = torch.zeros([mult.shape[0], mult.shape[1], 2 * 1 + 1], device = 'cuda')\n",
    "        result = result.index_add_(2, index, mult[:, :, mask])   \n",
    "        #print(result.shape)\n",
    "        #print(mult.shape)\n",
    "        #print(now.shape)\n",
    "       \n",
    "        total = torch.sum(result)\n",
    "        total = total.cpu().data.numpy()\n",
    "        #result = result.cpu().data.numpy()\n",
    "        #print(type(result))\n",
    "            \n",
    "end = time.time()\n",
    "print(end - begin)"
   ]
  },
  {
   "cell_type": "code",
   "execution_count": 96,
   "metadata": {},
   "outputs": [
    {
     "name": "stdout",
     "output_type": "stream",
     "text": [
      "torch.Size([7, 5])\n"
     ]
    }
   ],
   "source": [
    "print(now.shape)"
   ]
  },
  {
   "cell_type": "code",
   "execution_count": null,
   "metadata": {},
   "outputs": [],
   "source": []
  },
  {
   "cell_type": "code",
   "execution_count": null,
   "metadata": {},
   "outputs": [],
   "source": []
  },
  {
   "cell_type": "code",
   "execution_count": null,
   "metadata": {},
   "outputs": [],
   "source": []
  },
  {
   "cell_type": "code",
   "execution_count": 11,
   "metadata": {},
   "outputs": [
    {
     "name": "stdout",
     "output_type": "stream",
     "text": [
      "Warning: Encountered known unsupported method torch.zeros\n",
      "Warning: Encountered known unsupported method torch.Tensor.index_add_\n"
     ]
    },
    {
     "ename": "AttributeError",
     "evalue": "'Tensor' object has no attribute '_trt'",
     "output_type": "error",
     "traceback": [
      "\u001b[0;31m---------------------------------------------------------------------------\u001b[0m",
      "\u001b[0;31mAttributeError\u001b[0m                            Traceback (most recent call last)",
      "\u001b[0;32m<ipython-input-11-bab155d522a9>\u001b[0m in \u001b[0;36m<module>\u001b[0;34m\u001b[0m\n\u001b[0;32m----> 1\u001b[0;31m \u001b[0mmodel_t\u001b[0m \u001b[0;34m=\u001b[0m \u001b[0mtorch2trt\u001b[0m\u001b[0;34m(\u001b[0m\u001b[0mmodel\u001b[0m\u001b[0;34m,\u001b[0m \u001b[0;34m[\u001b[0m\u001b[0mfirst\u001b[0m\u001b[0;34m,\u001b[0m \u001b[0msecond\u001b[0m\u001b[0;34m]\u001b[0m\u001b[0;34m)\u001b[0m\u001b[0;34m\u001b[0m\u001b[0;34m\u001b[0m\u001b[0m\n\u001b[0m",
      "\u001b[0;32m~/.local/lib/python3.6/site-packages/torch2trt/torch2trt.py\u001b[0m in \u001b[0;36mtorch2trt\u001b[0;34m(module, inputs, input_names, output_names, log_level, max_batch_size, fp16_mode, max_workspace_size, strict_type_constraints, keep_network, int8_mode, int8_calib_dataset, int8_calib_algorithm, int8_calib_batch_size, use_onnx)\u001b[0m\n\u001b[1;32m    533\u001b[0m             \u001b[0;32mif\u001b[0m \u001b[0;32mnot\u001b[0m \u001b[0misinstance\u001b[0m\u001b[0;34m(\u001b[0m\u001b[0moutputs\u001b[0m\u001b[0;34m,\u001b[0m \u001b[0mtuple\u001b[0m\u001b[0;34m)\u001b[0m \u001b[0;32mand\u001b[0m \u001b[0;32mnot\u001b[0m \u001b[0misinstance\u001b[0m\u001b[0;34m(\u001b[0m\u001b[0moutputs\u001b[0m\u001b[0;34m,\u001b[0m \u001b[0mlist\u001b[0m\u001b[0;34m)\u001b[0m\u001b[0;34m:\u001b[0m\u001b[0;34m\u001b[0m\u001b[0;34m\u001b[0m\u001b[0m\n\u001b[1;32m    534\u001b[0m                 \u001b[0moutputs\u001b[0m \u001b[0;34m=\u001b[0m \u001b[0;34m(\u001b[0m\u001b[0moutputs\u001b[0m\u001b[0;34m,\u001b[0m\u001b[0;34m)\u001b[0m\u001b[0;34m\u001b[0m\u001b[0;34m\u001b[0m\u001b[0m\n\u001b[0;32m--> 535\u001b[0;31m             \u001b[0mctx\u001b[0m\u001b[0;34m.\u001b[0m\u001b[0mmark_outputs\u001b[0m\u001b[0;34m(\u001b[0m\u001b[0moutputs\u001b[0m\u001b[0;34m,\u001b[0m \u001b[0moutput_names\u001b[0m\u001b[0;34m)\u001b[0m\u001b[0;34m\u001b[0m\u001b[0;34m\u001b[0m\u001b[0m\n\u001b[0m\u001b[1;32m    536\u001b[0m \u001b[0;34m\u001b[0m\u001b[0m\n\u001b[1;32m    537\u001b[0m     \u001b[0mbuilder\u001b[0m\u001b[0;34m.\u001b[0m\u001b[0mmax_workspace_size\u001b[0m \u001b[0;34m=\u001b[0m \u001b[0mmax_workspace_size\u001b[0m\u001b[0;34m\u001b[0m\u001b[0;34m\u001b[0m\u001b[0m\n",
      "\u001b[0;32m~/.local/lib/python3.6/site-packages/torch2trt/torch2trt.py\u001b[0m in \u001b[0;36mmark_outputs\u001b[0;34m(self, torch_outputs, names)\u001b[0m\n\u001b[1;32m    399\u001b[0m \u001b[0;34m\u001b[0m\u001b[0m\n\u001b[1;32m    400\u001b[0m         \u001b[0;32mfor\u001b[0m \u001b[0mi\u001b[0m\u001b[0;34m,\u001b[0m \u001b[0mtorch_output\u001b[0m \u001b[0;32min\u001b[0m \u001b[0menumerate\u001b[0m\u001b[0;34m(\u001b[0m\u001b[0mtorch_outputs\u001b[0m\u001b[0;34m)\u001b[0m\u001b[0;34m:\u001b[0m\u001b[0;34m\u001b[0m\u001b[0;34m\u001b[0m\u001b[0m\n\u001b[0;32m--> 401\u001b[0;31m             \u001b[0mtrt_tensor\u001b[0m \u001b[0;34m=\u001b[0m \u001b[0mtorch_output\u001b[0m\u001b[0;34m.\u001b[0m\u001b[0m_trt\u001b[0m\u001b[0;34m\u001b[0m\u001b[0;34m\u001b[0m\u001b[0m\n\u001b[0m\u001b[1;32m    402\u001b[0m             \u001b[0mtrt_tensor\u001b[0m\u001b[0;34m.\u001b[0m\u001b[0mname\u001b[0m \u001b[0;34m=\u001b[0m \u001b[0mnames\u001b[0m\u001b[0;34m[\u001b[0m\u001b[0mi\u001b[0m\u001b[0;34m]\u001b[0m\u001b[0;34m\u001b[0m\u001b[0;34m\u001b[0m\u001b[0m\n\u001b[1;32m    403\u001b[0m             \u001b[0mtrt_tensor\u001b[0m\u001b[0;34m.\u001b[0m\u001b[0mlocation\u001b[0m \u001b[0;34m=\u001b[0m \u001b[0mtorch_device_to_trt\u001b[0m\u001b[0;34m(\u001b[0m\u001b[0mtorch_output\u001b[0m\u001b[0;34m.\u001b[0m\u001b[0mdevice\u001b[0m\u001b[0;34m)\u001b[0m\u001b[0;34m\u001b[0m\u001b[0;34m\u001b[0m\u001b[0m\n",
      "\u001b[0;31mAttributeError\u001b[0m: 'Tensor' object has no attribute '_trt'"
     ]
    }
   ],
   "source": [
    "model_t = torch2trt(model, [first, second])"
   ]
  },
  {
   "cell_type": "code",
   "execution_count": 19,
   "metadata": {},
   "outputs": [
    {
     "ename": "NameError",
     "evalue": "name 'model_t' is not defined",
     "output_type": "error",
     "traceback": [
      "\u001b[0;31m---------------------------------------------------------------------------\u001b[0m",
      "\u001b[0;31mNameError\u001b[0m                                 Traceback (most recent call last)",
      "\u001b[0;32m<ipython-input-19-6b0e82e328cf>\u001b[0m in \u001b[0;36m<module>\u001b[0;34m\u001b[0m\n\u001b[1;32m      1\u001b[0m \u001b[0mbegin\u001b[0m \u001b[0;34m=\u001b[0m \u001b[0mtime\u001b[0m\u001b[0;34m.\u001b[0m\u001b[0mtime\u001b[0m\u001b[0;34m(\u001b[0m\u001b[0;34m)\u001b[0m\u001b[0;34m\u001b[0m\u001b[0;34m\u001b[0m\u001b[0m\n\u001b[1;32m      2\u001b[0m \u001b[0;32mwith\u001b[0m \u001b[0mtorch\u001b[0m\u001b[0;34m.\u001b[0m\u001b[0mno_grad\u001b[0m\u001b[0;34m(\u001b[0m\u001b[0;34m)\u001b[0m\u001b[0;34m:\u001b[0m\u001b[0;34m\u001b[0m\u001b[0;34m\u001b[0m\u001b[0m\n\u001b[0;32m----> 3\u001b[0;31m     \u001b[0mresult\u001b[0m \u001b[0;34m=\u001b[0m \u001b[0mmodel_t\u001b[0m\u001b[0;34m(\u001b[0m\u001b[0mfirst\u001b[0m\u001b[0;34m,\u001b[0m \u001b[0msecond\u001b[0m\u001b[0;34m)\u001b[0m\u001b[0;34m\u001b[0m\u001b[0;34m\u001b[0m\u001b[0m\n\u001b[0m\u001b[1;32m      4\u001b[0m \u001b[0mend\u001b[0m \u001b[0;34m=\u001b[0m \u001b[0mtime\u001b[0m\u001b[0;34m.\u001b[0m\u001b[0mtime\u001b[0m\u001b[0;34m(\u001b[0m\u001b[0;34m)\u001b[0m\u001b[0;34m\u001b[0m\u001b[0;34m\u001b[0m\u001b[0m\n\u001b[1;32m      5\u001b[0m \u001b[0mprint\u001b[0m\u001b[0;34m(\u001b[0m\u001b[0mend\u001b[0m \u001b[0;34m-\u001b[0m \u001b[0mbegin\u001b[0m\u001b[0;34m)\u001b[0m\u001b[0;34m\u001b[0m\u001b[0;34m\u001b[0m\u001b[0m\n",
      "\u001b[0;31mNameError\u001b[0m: name 'model_t' is not defined"
     ]
    }
   ],
   "source": [
    "begin = time.time()\n",
    "with torch.no_grad():\n",
    "    result = model_t(first, second)\n",
    "end = time.time()\n",
    "print(end - begin)"
   ]
  },
  {
   "cell_type": "code",
   "execution_count": null,
   "metadata": {},
   "outputs": [],
   "source": []
  }
 ],
 "metadata": {
  "kernelspec": {
   "display_name": "Python 3",
   "language": "python",
   "name": "python3"
  },
  "language_info": {
   "codemirror_mode": {
    "name": "ipython",
    "version": 3
   },
   "file_extension": ".py",
   "mimetype": "text/x-python",
   "name": "python",
   "nbconvert_exporter": "python",
   "pygments_lexer": "ipython3",
   "version": "3.6.9"
  }
 },
 "nbformat": 4,
 "nbformat_minor": 4
}
