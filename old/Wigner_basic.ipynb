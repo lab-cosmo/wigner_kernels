{
 "cells": [
  {
   "cell_type": "code",
   "execution_count": 1,
   "id": "dad972af",
   "metadata": {},
   "outputs": [],
   "source": [
    "import torch\n",
    "#torch.set_default_dtype(torch.float64)\n",
    "import numpy as np\n",
    "import ase.io\n",
    "\n",
    "from pytorch_prototype.code_pytorch import *\n",
    "from pytorch_prototype.utilities import *\n",
    "from pytorch_prototype.clebsch_gordan import ClebschGordan\n",
    "\n",
    "from rascal.neighbourlist.structure_manager import mask_center_atoms_by_species\n",
    "\n",
    "from matplotlib import pyplot as plt\n",
    "import tqdm\n",
    "import time\n",
    "\n",
    "from rascal.utils import (get_radial_basis_covariance, get_radial_basis_pca, \n",
    "                          get_radial_basis_projections, get_optimal_radial_basis_hypers )"
   ]
  },
  {
   "cell_type": "code",
   "execution_count": 2,
   "id": "00841930",
   "metadata": {},
   "outputs": [],
   "source": [
    "METHANE_PATH = 'methane.extxyz'\n",
    "HARTREE_TO_EV = 27.211386245988\n",
    "\n",
    "train_slice = '0:900'\n",
    "test_slice = '900:1000'\n",
    "\n",
    "L_MAX = 6\n",
    "clebsch = ClebschGordan(L_MAX)\n",
    "\n",
    "HYPERS_INITIAL = {\n",
    "    'interaction_cutoff': 6.3,\n",
    "    'max_radial': 20,\n",
    "    'max_angular': L_MAX,\n",
    "    'gaussian_sigma_type': 'Constant',\n",
    "    'gaussian_sigma_constant': 0.2,\n",
    "    'cutoff_smooth_width': 0.3,\n",
    "    'radial_basis': 'DVR'\n",
    "}\n",
    "\n",
    "BATCH_SIZE = 2000\n",
    "DEVICE = 'cuda'\n",
    "\n",
    "\n",
    "\n",
    "structures = process_structures(ase.io.read(METHANE_PATH, index = train_slice))\n",
    "HYPERS = get_optimal_radial_basis_hypers(HYPERS_INITIAL,\n",
    "                                           structures,\n",
    "                                           expanded_max_radial=100)"
   ]
  },
  {
   "cell_type": "code",
   "execution_count": 3,
   "id": "914459e3",
   "metadata": {},
   "outputs": [],
   "source": [
    "def initialize_wigner_single(first, second):\n",
    "    first_b_size, first_m_size = first.shape[0], first.shape[2]\n",
    "    second_b_size, second_m_size = second.shape[0], second.shape[2]\n",
    "    first = first.transpose(1, 2)\n",
    "    second = second.transpose(1, 2)\n",
    "    first = first.reshape([-1, first.shape[2]])\n",
    "    second = second.reshape([-1, second.shape[2]])\n",
    "    result = torch.matmul(first, second.transpose(0, 1))\n",
    "    result = result.reshape(first_b_size, first_m_size, second_b_size, second_m_size)\n",
    "    return result.transpose(1, 2)\n",
    "\n",
    "def initialize_wigner(first, second):\n",
    "    result = {}\n",
    "    for key in first.keys():\n",
    "        result[str(key) + \"_\" + str(1)] = initialize_wigner_single(first[key], second[key])\n",
    "    return result"
   ]
  },
  {
   "cell_type": "code",
   "execution_count": 4,
   "id": "51824808",
   "metadata": {},
   "outputs": [],
   "source": [
    "class WignerKernel(torch.nn.Module):\n",
    "    def __init__(self, clebsch, lambda_max, num_iterations):\n",
    "        super(WignerKernel, self).__init__()\n",
    "        main = [WignerCombiningUnrolled(clebsch.precomputed_, lambda_max, algorithm = 'vectorized') \n",
    "                for _ in range(num_iterations)]\n",
    "        self.main = nn.ModuleList(main)\n",
    "        self.last = WignerCombiningUnrolled(clebsch.precomputed_, 0, algorithm = 'vectorized')\n",
    "       \n",
    "            \n",
    "    def forward(self, X):\n",
    "        result = []\n",
    "        wig_now = X\n",
    "        result.append(wig_now['0_1'][:, 0, 0, None])\n",
    "        for block in self.main:\n",
    "            wig_now = block(wig_now, X)\n",
    "            result.append(wig_now['0_1'][:, 0, 0, None])\n",
    "        wig_now = self.last(wig_now, X)\n",
    "        result.append(wig_now['0_1'][:, 0, 0, None])\n",
    "        result = torch.cat(result, dim = -1)\n",
    "        return result"
   ]
  },
  {
   "cell_type": "code",
   "execution_count": 5,
   "id": "14ff69cc",
   "metadata": {},
   "outputs": [],
   "source": [
    "def compute_kernel(model, first, second, batch_size = 1000, device = 'cpu'):\n",
    "    wigner = initialize_wigner(first, second)\n",
    "   \n",
    "    for key in wigner.keys():\n",
    "        initial_shape = [wigner[key].shape[0], wigner[key].shape[1]]\n",
    "        wigner[key] = wigner[key].reshape([-1, wigner[key].shape[2], wigner[key].shape[3]])\n",
    "    ''' for key in wigner.keys():\n",
    "        print(key, wigner[key].shape)'''\n",
    "    \n",
    "    total = initial_shape[0] * initial_shape[1]\n",
    "    result = []\n",
    "    #print(total, batch_size)\n",
    "    #print(initial_shape)\n",
    "    for ind in tqdm.tqdm(range(0, total, batch_size)):\n",
    "        now = {}\n",
    "        for key in wigner.keys():\n",
    "            now[key] = wigner[key][ind : ind + batch_size].to(device)\n",
    "        result_now = model(now).to('cpu')\n",
    "        result.append(result_now)\n",
    "        \n",
    "        \n",
    "    result = torch.cat(result, dim = 0)\n",
    "    return result.reshape(initial_shape + [-1])"
   ]
  },
  {
   "cell_type": "code",
   "execution_count": 6,
   "id": "8b218587",
   "metadata": {},
   "outputs": [
    {
     "name": "stderr",
     "output_type": "stream",
     "text": [
      "100%|██████████| 405/405 [03:28<00:00,  1.94it/s]\n",
      "100%|██████████| 45/45 [00:23<00:00,  1.94it/s]\n"
     ]
    }
   ],
   "source": [
    "train_structures = ase.io.read(METHANE_PATH, index = train_slice)\n",
    "test_structures = ase.io.read(METHANE_PATH, index = test_slice)\n",
    "all_species = get_all_species(train_structures + test_structures)\n",
    "\n",
    "for struc in train_structures:\n",
    "    mask_center_atoms_by_species(struc, species_select=[\"C\"])\n",
    "for struc in test_structures:\n",
    "    mask_center_atoms_by_species(struc, species_select=[\"C\"])\n",
    "\n",
    "\n",
    "train_coefs = get_coefs(train_structures, HYPERS, all_species)\n",
    "test_coefs = get_coefs(test_structures, HYPERS, all_species)\n",
    "'''for key in train_coefs.keys():\n",
    "    print(key, train_coefs[key].shape)'''\n",
    "\n",
    "L2_mean = get_L2_mean(train_coefs)\n",
    "#print(L2_mean)\n",
    "for key in train_coefs.keys():\n",
    "    train_coefs[key] /= np.sqrt(L2_mean)\n",
    "    test_coefs[key] /= np.sqrt(L2_mean)\n",
    "\n",
    "'''for key in train_coefs.keys():\n",
    "    train_coefs[key] = train_coefs[key].to(DEVICE)\n",
    "    test_coefs[key] = test_coefs[key].to(DEVICE)\n",
    "'''\n",
    "model = WignerKernel(clebsch, L_MAX, 2)\n",
    "model = model.to(DEVICE)\n",
    "\n",
    "train_train_kernel = compute_kernel(model, train_coefs, train_coefs, batch_size = BATCH_SIZE, device = DEVICE)\n",
    "train_test_kernel = compute_kernel(model, train_coefs, test_coefs, batch_size = BATCH_SIZE, device = DEVICE)\n",
    "\n",
    "train_train_kernel = train_train_kernel.data.cpu().numpy()\n",
    "train_test_kernel = train_test_kernel.data.cpu().numpy()"
   ]
  },
  {
   "cell_type": "code",
   "execution_count": 7,
   "id": "984879aa",
   "metadata": {},
   "outputs": [
    {
     "name": "stdout",
     "output_type": "stream",
     "text": [
      "[0.42722014 0.18560453 0.08229825 0.03740084]\n",
      "[0.45978022 0.21805915 0.10702427 0.0545052 ]\n",
      "[0.46098676 0.22094426 0.11115407 0.05929324]\n",
      "[0.43157783 0.19294113 0.09062377 0.04545126]\n",
      "[0.4402474  0.20205282 0.09824214 0.05143328]\n",
      "[0.43129173 0.18854591 0.08368461 0.03777646]\n",
      "[0.4258148  0.18502766 0.08261368 0.03822429]\n",
      "[0.44768086 0.20758152 0.10084522 0.0520045 ]\n",
      "[0.43268204 0.19210142 0.08806071 0.0419448 ]\n",
      "[0.451247   0.21227995 0.10569511 0.05661798]\n"
     ]
    }
   ],
   "source": [
    "for i in range(10):\n",
    "    print(train_train_kernel[i, i])"
   ]
  },
  {
   "cell_type": "code",
   "execution_count": 8,
   "id": "e60b79d5",
   "metadata": {},
   "outputs": [
    {
     "name": "stdout",
     "output_type": "stream",
     "text": [
      "(900, 900, 4)\n",
      "(900, 100, 4)\n"
     ]
    }
   ],
   "source": [
    "print(train_train_kernel.shape)\n",
    "print(train_test_kernel.shape)\n",
    "train_train_kernel = train_train_kernel[:, :, -1]\n",
    "train_test_kernel = train_test_kernel[:, :, -1]"
   ]
  },
  {
   "cell_type": "code",
   "execution_count": 9,
   "id": "0775c7f2",
   "metadata": {},
   "outputs": [],
   "source": [
    "def get_rmse(first, second):\n",
    "    return np.sqrt(np.mean((first - second)**2))"
   ]
  },
  {
   "cell_type": "code",
   "execution_count": 10,
   "id": "308cdd47",
   "metadata": {},
   "outputs": [],
   "source": [
    "train_energies = [structure.info['energy'] for structure in train_structures]\n",
    "train_energies = np.array(train_energies) * HARTREE_TO_EV\n",
    "\n",
    "test_energies = [structure.info['energy'] for structure in test_structures]\n",
    "test_energies = np.array(test_energies) * HARTREE_TO_EV\n",
    "\n",
    "mean_e = np.mean(train_energies)\n",
    "train_energies -= mean_e\n",
    "test_energies -= mean_e"
   ]
  },
  {
   "cell_type": "code",
   "execution_count": 11,
   "id": "a75bab16",
   "metadata": {},
   "outputs": [
    {
     "name": "stdout",
     "output_type": "stream",
     "text": [
      "rmse:  2.383860464955306\n"
     ]
    },
    {
     "data": {
      "image/png": "[encoded data removed]",
      "text/plain": [
       "<Figure size 640x480 with 1 Axes>"
      ]
     },
     "metadata": {},
     "output_type": "display_data"
    }
   ],
   "source": [
    "alpha = 1\n",
    "c = np.linalg.solve(train_train_kernel + alpha * np.eye(train_train_kernel.shape[0]), train_energies)\n",
    "test_predictions = train_test_kernel.T @ c\n",
    "print(\"rmse: \", get_rmse(test_predictions, test_energies))\n",
    "\n",
    "plt.plot(test_energies, test_predictions, 'o')\n",
    "plt.show()"
   ]
  },
  {
   "cell_type": "code",
   "execution_count": 12,
   "id": "2476899b",
   "metadata": {},
   "outputs": [
    {
     "name": "stderr",
     "output_type": "stream",
     "text": [
      "100%|██████████| 100/100 [00:02<00:00, 34.91it/s]\n"
     ]
    },
    {
     "data": {
      "image/png": "[encoded data removed]",
      "text/plain": [
       "<Figure size 640x480 with 1 Axes>"
      ]
     },
     "metadata": {},
     "output_type": "display_data"
    }
   ],
   "source": [
    "alpha_grid = np.logspace(5, -15, 100)\n",
    "rmse = []\n",
    "for alpha in tqdm.tqdm(alpha_grid):\n",
    "    c = np.linalg.solve(train_train_kernel + alpha * np.eye(train_train_kernel.shape[0]), train_energies)\n",
    "    test_predictions = train_test_kernel.T @ c\n",
    "    rmse.append(get_rmse(test_predictions, test_energies))\n",
    "plt.plot(alpha_grid, rmse, \".\")\n",
    "plt.xscale('log')\n",
    "plt.yscale('log')\n",
    "plt.show()"
   ]
  },
  {
   "cell_type": "code",
   "execution_count": 13,
   "id": "0a5241f4",
   "metadata": {},
   "outputs": [
    {
     "name": "stdout",
     "output_type": "stream",
     "text": [
      "rmse:  0.593784086844665\n"
     ]
    },
    {
     "data": {
      "image/png": "[encoded data removed]",
      "text/plain": [
       "<Figure size 640x480 with 1 Axes>"
      ]
     },
     "metadata": {},
     "output_type": "display_data"
    }
   ],
   "source": [
    "c = np.linalg.solve(train_train_kernel + alpha_grid[np.argmin(rmse)] * np.eye(train_train_kernel.shape[0]), train_energies)\n",
    "test_predictions = train_test_kernel.T @ c\n",
    "print(\"rmse: \", get_rmse(test_predictions, test_energies))\n",
    "#print(predictions - test_energies)\n",
    "plt.plot(test_energies, test_predictions, 'o')\n",
    "plt.show()"
   ]
  },
  {
   "cell_type": "code",
   "execution_count": 14,
   "id": "a015644e",
   "metadata": {},
   "outputs": [],
   "source": [
    "np.save('test_saving', [test_energies, test_predictions])"
   ]
  },
  {
   "cell_type": "code",
   "execution_count": null,
   "id": "d26c1316",
   "metadata": {},
   "outputs": [],
   "source": []
  }
 ],
 "metadata": {
  "kernelspec": {
   "display_name": "Python 3.7.7 ('virtualenv': venv)",
   "language": "python",
   "name": "python3"
  },
  "language_info": {
   "codemirror_mode": {
    "name": "ipython",
    "version": 3
   },
   "file_extension": ".py",
   "mimetype": "text/x-python",
   "name": "python",
   "nbconvert_exporter": "python",
   "pygments_lexer": "ipython3",
   "version": "3.7.7"
  },
  "vscode": {
   "interpreter": {
    "hash": "144ec3b5cd37a648e305ae2c09b9516066242b1bc5e9f237ba5a8f13b411ab3c"
   }
  }
 },
 "nbformat": 4,
 "nbformat_minor": 5
}
