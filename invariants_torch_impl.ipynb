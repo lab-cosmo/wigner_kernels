{
 "cells": [
  {
   "cell_type": "code",
   "execution_count": 1,
   "metadata": {},
   "outputs": [],
   "source": [
    "import numpy as np\n",
    "import torch.nn as nn\n",
    "import torch\n",
    "import sys\n",
    "import os\n",
    "import ase\n",
    "\n",
    "from tqdm.notebook import tqdm\n",
    "\n",
    "from ase.io import read, write\n",
    "from ase.visualize import view\n",
    "from ase.db import connect\n",
    "\n",
    "from torch.utils.data import  RandomSampler\n",
    "from torch.optim.lr_scheduler import MultiStepLR, ReduceLROnPlateau\n",
    "from torch.optim import Adam\n",
    "import torch.nn.functional as F\n",
    "\n",
    "from copy import deepcopy\n",
    "\n",
    "import matplotlib.pyplot as plt\n",
    "%matplotlib inline\n",
    "\n",
    "# We specify the CPU as the training/simulating device here.\n",
    "# If you have machine  with a GPU, you can use the GPU for\n",
    "# accelerated training/simulation by specifying \n",
    "# device = torch.device('cuda')\n",
    "device = torch.device('cpu')\n",
    "\n",
    "\n",
    "import pytorch_lightning as pl\n",
    "from torch_cluster import radius\n",
    "from e3nn import o3\n",
    "from torch_scatter import scatter\n",
    "from torch_geometric.data import DataLoader\n",
    "import torch\n",
    "torch.set_num_threads(1)\n",
    "from pytorch_prototype.full_torch.neighbor_list import ase2data\n",
    "\n",
    "import nice"
   ]
  },
  {
   "cell_type": "code",
   "execution_count": 2,
   "metadata": {
    "code_folding": [
     0
    ]
   },
   "outputs": [],
   "source": [
    "import copy\n",
    "def process_structures(structures, delta = 0.1):   \n",
    "    \"\"\"Satisfying librascal desire of having all atoms \n",
    "    inside the cell even if structure is not periodic. \n",
    "    (changes only non periodic structures)\n",
    "    \"\"\"\n",
    "\n",
    "    result = []\n",
    "    for structure in structures:\n",
    "        if True in structure.pbc:\n",
    "            result.append(copy.deepcopy(structure))\n",
    "        else:\n",
    "            current = copy.deepcopy(structure)\n",
    "            for dim in range(3):\n",
    "                min_now = np.min( current.positions[:, dim])\n",
    "                current.positions[:, dim] =  current.positions[:, dim] - min_now + delta\n",
    "            \n",
    "            spreads = []\n",
    "            for dim in range(3):                \n",
    "                spreads.append(np.max(current.positions[:, dim]) + delta)\n",
    "            current.cell = spreads\n",
    "            result.append(current)\n",
    "    return result"
   ]
  },
  {
   "cell_type": "markdown",
   "metadata": {},
   "source": [
    "# test pytorch impl of PS and kernel computation"
   ]
  },
  {
   "cell_type": "code",
   "execution_count": 3,
   "metadata": {},
   "outputs": [],
   "source": [
    "import sys\n",
    "sys.path.insert(0,'/home/musil/git/librascal/build')\n",
    "from rascal.representations import SphericalInvariants\n",
    "from rascal.representations import SphericalExpansion as SphericalExpansion_rascal\n",
    "from rascal.utils import FPSFilter, load_obj, dump_obj\n",
    "from rascal.models import Kernel\n"
   ]
  },
  {
   "cell_type": "code",
   "execution_count": 4,
   "metadata": {},
   "outputs": [],
   "source": [
    "from pytorch_prototype.full_torch.invariants import PowerSpectrum\n",
    "from pytorch_prototype.full_torch.models import SGPRModel"
   ]
  },
  {
   "cell_type": "code",
   "execution_count": 5,
   "metadata": {},
   "outputs": [],
   "source": [
    "frames =  process_structures(read('./structures/methane.extxyz','500:508'))\n",
    "\n",
    "sps = []\n",
    "for ff in frames:\n",
    "    ff.wrap(eps=1e-10)\n",
    "    sps.extend(ff.get_atomic_numbers())\n",
    "nsp = len(np.unique(sps))\n",
    "species = torch.from_numpy(np.unique(sps)).to(dtype=torch.int32)\n",
    "data_list = [ase2data(ff) for ff in frames]\n",
    "dataloader = DataLoader(data_list)\n"
   ]
  },
  {
   "cell_type": "code",
   "execution_count": 6,
   "metadata": {
    "code_folding": []
   },
   "outputs": [],
   "source": [
    "rc = 3\n",
    "gs = 0.3\n",
    "lmax = 5\n",
    "nmax = 6\n",
    "cutoff_smooth_width = 0.5\n",
    "normalize = True\n",
    "zeta = 4"
   ]
  },
  {
   "cell_type": "code",
   "execution_count": 7,
   "metadata": {},
   "outputs": [],
   "source": [
    "weigths = np.ones((len(sps), 1))"
   ]
  },
  {
   "cell_type": "markdown",
   "metadata": {},
   "source": [
    "## rascal"
   ]
  },
  {
   "cell_type": "code",
   "execution_count": 8,
   "metadata": {},
   "outputs": [],
   "source": [
    "hypers = dict(\n",
    "              interaction_cutoff=rc, \n",
    "              max_radial=nmax, \n",
    "              max_angular=lmax, \n",
    "              gaussian_sigma_constant=gs,\n",
    "              gaussian_sigma_type=\"Constant\",\n",
    "              cutoff_smooth_width=cutoff_smooth_width,\n",
    "              radial_basis=\"GTO\",\n",
    "              compute_gradients=True,\n",
    "              expansion_by_species_method='structure wise',\n",
    "              cutoff_function_type = 'ShiftedCosine',\n",
    "                soap_type= \"PowerSpectrum\",\n",
    "                normalize= normalize,\n",
    "              )\n",
    "soap = SphericalInvariants(**hypers)\n",
    "managers = soap.transform(frames)\n",
    "PS_ref = torch.from_numpy(managers.get_features(soap))\n"
   ]
  },
  {
   "cell_type": "code",
   "execution_count": 9,
   "metadata": {},
   "outputs": [],
   "source": [
    "kk_ref = np.dot(PS_ref, PS_ref.T)\n",
    "y_ref = np.dot(kk_ref, weigths)"
   ]
  },
  {
   "cell_type": "code",
   "execution_count": 10,
   "metadata": {},
   "outputs": [
    {
     "name": "stdout",
     "output_type": "stream",
     "text": [
      "The number of pseudo points selected by central atom species is: {1: 2, 6: 2}\n",
      "Selecting species: 1\n",
      "Selecting species: 6\n"
     ]
    }
   ],
   "source": [
    "n_sparses = {int(sp):2 for sp in species}\n",
    "compressor = FPSFilter(soap, n_sparses, act_on='sample per species')\n",
    "compressor.select(managers)\n",
    "X_sparse = compressor.filter(managers, n_sparses)\n",
    "X_train_ref = torch.from_numpy(X_sparse.get_features())"
   ]
  },
  {
   "cell_type": "code",
   "execution_count": 11,
   "metadata": {},
   "outputs": [
    {
     "data": {
      "text/plain": [
       "{1: [[1], [], [], [], [], [], [4], []], 6: [[0], [], [0], [], [], [], [], []]}"
      ]
     },
     "execution_count": 11,
     "metadata": {},
     "output_type": "execute_result"
    }
   ],
   "source": [
    "nn = 0\n",
    "sel = {int(sp):[] for sp in species}\n",
    "for ii,ff in enumerate(frames):\n",
    "    sps = ff.get_atomic_numbers()[compressor.selected_ids[ii]]\n",
    "    for sp in species:\n",
    "        sel[int(sp)].append([])\n",
    "    for sp,idx in zip(sps, compressor.selected_ids[ii]):\n",
    "        sel[sp][-1].append(idx)\n",
    "sel"
   ]
  },
  {
   "cell_type": "code",
   "execution_count": 12,
   "metadata": {},
   "outputs": [
    {
     "data": {
      "text/plain": [
       "[[0, 1], [], [0], [], [], [], [4], []]"
      ]
     },
     "execution_count": 12,
     "metadata": {},
     "output_type": "execute_result"
    }
   ],
   "source": [
    "compressor.selected_ids"
   ]
  },
  {
   "cell_type": "code",
   "execution_count": 13,
   "metadata": {},
   "outputs": [],
   "source": [
    "kernel = Kernel(soap, name='GAP', zeta=zeta, target_type='Structure', kernel_type='Sparse')"
   ]
  },
  {
   "cell_type": "code",
   "execution_count": 14,
   "metadata": {},
   "outputs": [],
   "source": [
    "KNM_ref = kernel(managers, X_sparse, grad=(False, False))\n",
    "dKNM_ref = kernel(managers, X_sparse, grad=(True, False))"
   ]
  },
  {
   "cell_type": "code",
   "execution_count": 15,
   "metadata": {},
   "outputs": [],
   "source": [
    "ww = torch.ones((X_train_ref.shape[0]))\n",
    "y_ref = KNM_ref @ ww.numpy()\n",
    "dy_ref = dKNM_ref @ ww.numpy()"
   ]
  },
  {
   "cell_type": "markdown",
   "metadata": {
    "heading_collapsed": true
   },
   "source": [
    "## test PS pytorch impl"
   ]
  },
  {
   "cell_type": "code",
   "execution_count": 16,
   "metadata": {
    "hidden": true
   },
   "outputs": [],
   "source": [
    "calculator = PowerSpectrum(nmax, lmax, rc, gs, species, normalize=normalize)"
   ]
  },
  {
   "cell_type": "code",
   "execution_count": 17,
   "metadata": {
    "hidden": true
   },
   "outputs": [
    {
     "data": {
      "text/plain": [
       "True"
      ]
     },
     "execution_count": 17,
     "metadata": {},
     "output_type": "execute_result"
    }
   ],
   "source": [
    "X_sp = {int(sp):[] for sp in species}\n",
    "nn = 0\n",
    "for data in dataloader:\n",
    "    PS = calculator(data)\n",
    "    for ii in range(nn, nn+len(data.n_atoms)):\n",
    "        for sp in X_sp:\n",
    "            X_sp[sp].append(PS[sel[sp][ii]])\n",
    "    nn += len(data.n_atoms)\n",
    "sp_map = {}\n",
    "nn = 0\n",
    "for sp in X_sp:\n",
    "    X_sp[sp] = torch.cat(X_sp[sp])\n",
    "    sp_map[sp] = range(nn, nn+X_sp[sp].shape[0])\n",
    "    nn += X_sp[sp].shape[0]\n",
    "    \n",
    "X_train = torch.cat(list(X_sp.values()))\n",
    "\n",
    "aa = X_train @ X_train.t()\n",
    "bb = X_train_ref @ X_train_ref.t()\n",
    "np.allclose(aa.numpy(), bb.numpy())"
   ]
  },
  {
   "cell_type": "code",
   "execution_count": 18,
   "metadata": {
    "code_folding": [
     0
    ],
    "hidden": true
   },
   "outputs": [],
   "source": [
    "def compute_kernel(data, PS, X_train, sp_map, zeta):\n",
    "    species = torch.unique(data.z)\n",
    "    k_mat = torch.zeros((len(data.n_atoms), X_train.shape[0]), dtype=PS.dtype, device=PS.device)\n",
    "    for sp in species.tolist():\n",
    "        mask = data.z == sp\n",
    "        k_partial = torch.pow(PS[mask] @ X_train[sp_map[sp]].t(), zeta)\n",
    "        scatter(k_partial, data.batch[mask], dim=0, out=k_mat)\n",
    "    return k_mat\n",
    "\n",
    "y = []\n",
    "dy = []\n",
    "for data in dataloader:\n",
    "    data.pos.requires_grad_(True)\n",
    "    PS = calculator(data)\n",
    "    ww = torch.ones((X_train.shape[0]),dtype=PS.dtype)\n",
    "    Kmat = compute_kernel(data, PS, X_train, sp_map, zeta)\n",
    "    yy = torch.matmul(Kmat, ww) \n",
    "    dyy = torch.autograd.grad(yy, data.pos, grad_outputs=torch.ones_like(yy), \n",
    "                                   create_graph=True, retain_graph=True)[0]\n",
    "    y.append(yy)\n",
    "    dy.append(dyy)\n",
    "y = torch.cat(y).detach()\n",
    "dy = torch.cat(dy).detach().flatten()"
   ]
  },
  {
   "cell_type": "code",
   "execution_count": 19,
   "metadata": {
    "hidden": true
   },
   "outputs": [
    {
     "data": {
      "text/plain": [
       "(True, True)"
      ]
     },
     "execution_count": 19,
     "metadata": {},
     "output_type": "execute_result"
    }
   ],
   "source": [
    "np.allclose(y_ref, y.numpy(), atol=1e-5),np.allclose(dy_ref, dy.numpy(), atol=1e-5)"
   ]
  },
  {
   "cell_type": "code",
   "execution_count": 21,
   "metadata": {
    "hidden": true
   },
   "outputs": [
    {
     "data": {
      "text/plain": [
       "[<matplotlib.lines.Line2D at 0x7f654088d910>]"
      ]
     },
     "execution_count": 21,
     "metadata": {},
     "output_type": "execute_result"
    },
    {
     "data": {
      "image/png": "[encoded data removed]",
      "text/plain": [
       "<Figure size 432x288 with 1 Axes>"
      ]
     },
     "metadata": {
      "needs_background": "light"
     },
     "output_type": "display_data"
    }
   ],
   "source": [
    "plt.plot(dy_ref, dy.numpy(), 'o')"
   ]
  },
  {
   "cell_type": "code",
   "execution_count": 22,
   "metadata": {
    "hidden": true
   },
   "outputs": [
    {
     "data": {
      "text/plain": [
       "[<matplotlib.lines.Line2D at 0x7f65407e8430>]"
      ]
     },
     "execution_count": 22,
     "metadata": {},
     "output_type": "execute_result"
    },
    {
     "data": {
      "image/png": "[encoded data removed]",
      "text/plain": [
       "<Figure size 432x288 with 1 Axes>"
      ]
     },
     "metadata": {
      "needs_background": "light"
     },
     "output_type": "display_data"
    }
   ],
   "source": [
    "plt.plot(y_ref, y.numpy(), 'o')"
   ]
  },
  {
   "cell_type": "markdown",
   "metadata": {},
   "source": [
    "## compare computation times"
   ]
  },
  {
   "cell_type": "code",
   "execution_count": 67,
   "metadata": {},
   "outputs": [],
   "source": [
    "# frames = read('molecular_crystal.json',':')\n",
    "# frames += read('delta_silicon.xyz','1500:1502')\n",
    "frames = process_structures(read('./structures/methane.extxyz','0:5000'))\n",
    "\n",
    "sps = []\n",
    "for ff in frames:\n",
    "    ff.wrap(eps=1e-10)\n",
    "    sps.extend(ff.get_atomic_numbers())\n",
    "nsp = len(np.unique(sps))\n",
    "sp_counts = np.bincount(sps)\n",
    "species = torch.from_numpy(np.unique(sps)).to(dtype=torch.int32)\n",
    "data_list = [ase2data(ff) for ff in frames]\n",
    "dataloader = DataLoader(data_list, batch_size=64)\n"
   ]
  },
  {
   "cell_type": "code",
   "execution_count": 68,
   "metadata": {
    "code_folding": []
   },
   "outputs": [],
   "source": [
    "rc = 3\n",
    "gs = 0.3\n",
    "lmax = 5\n",
    "nmax = 6\n",
    "cutoff_smooth_width = 0.5\n",
    "normalize = True\n",
    "zeta = 4"
   ]
  },
  {
   "cell_type": "code",
   "execution_count": 69,
   "metadata": {},
   "outputs": [],
   "source": [
    "n_sparses = {1:1000, 6:1000}"
   ]
  },
  {
   "cell_type": "markdown",
   "metadata": {},
   "source": [
    "### get sparse points"
   ]
  },
  {
   "cell_type": "code",
   "execution_count": 70,
   "metadata": {},
   "outputs": [],
   "source": [
    "hypers = dict(\n",
    "              interaction_cutoff=rc, \n",
    "              max_radial=nmax, \n",
    "              max_angular=lmax, \n",
    "              gaussian_sigma_constant=gs,\n",
    "              gaussian_sigma_type=\"Constant\",\n",
    "              cutoff_smooth_width=cutoff_smooth_width,\n",
    "              radial_basis=\"GTO\",\n",
    "              compute_gradients=False,\n",
    "              expansion_by_species_method='structure wise',\n",
    "              cutoff_function_type = 'ShiftedCosine',\n",
    "                soap_type= \"PowerSpectrum\",\n",
    "                normalize= normalize,\n",
    "              )\n",
    "soap = SphericalInvariants(**hypers)\n",
    "managers = soap.transform(frames)"
   ]
  },
  {
   "cell_type": "code",
   "execution_count": 71,
   "metadata": {},
   "outputs": [
    {
     "name": "stdout",
     "output_type": "stream",
     "text": [
      "The number of pseudo points selected by central atom species is: {1: 1000, 6: 1000}\n",
      "Selecting species: 1\n",
      "Selecting species: 6\n"
     ]
    }
   ],
   "source": [
    "\n",
    "compressor = FPSFilter(soap, n_sparses, act_on='sample per species')\n",
    "compressor.select(managers)\n",
    "X_sparse = compressor.filter(managers, n_sparses)\n",
    "# X_train_ref = torch.from_numpy(X_sparse.get_features())"
   ]
  },
  {
   "cell_type": "code",
   "execution_count": 86,
   "metadata": {},
   "outputs": [],
   "source": [
    "nn = 0\n",
    "sel = {int(sp):[] for sp in species}\n",
    "for ii,ff in enumerate(frames):\n",
    "    sps = ff.get_atomic_numbers()[compressor.selected_ids[ii]]\n",
    "    for sp in species:\n",
    "        sel[int(sp)].append([])\n",
    "    for sp,idx in zip(sps, compressor.selected_ids[ii]):\n",
    "        sel[sp][-1].append(idx)"
   ]
  },
  {
   "cell_type": "markdown",
   "metadata": {
    "heading_collapsed": true
   },
   "source": [
    "### compute rascal"
   ]
  },
  {
   "cell_type": "code",
   "execution_count": 73,
   "metadata": {
    "hidden": true
   },
   "outputs": [],
   "source": [
    "hypers = dict(\n",
    "              interaction_cutoff=rc, \n",
    "              max_radial=nmax, \n",
    "              max_angular=lmax, \n",
    "              gaussian_sigma_constant=gs,\n",
    "              gaussian_sigma_type=\"Constant\",\n",
    "              cutoff_smooth_width=cutoff_smooth_width,\n",
    "              radial_basis=\"GTO\",\n",
    "              compute_gradients=True,\n",
    "              expansion_by_species_method='structure wise',\n",
    "              cutoff_function_type = 'ShiftedCosine',\n",
    "                soap_type= \"PowerSpectrum\",\n",
    "                normalize= normalize,\n",
    "              )\n",
    "soap = SphericalInvariants(**hypers)\n",
    "kernel = Kernel(soap, name='GAP', zeta=zeta, target_type='Structure', kernel_type='Sparse')\n",
    "\n",
    "ww = np.ones((X_train_ref.shape[0])) / np.sum(list(n_sparses.values()))"
   ]
  },
  {
   "cell_type": "code",
   "execution_count": 74,
   "metadata": {
    "hidden": true
   },
   "outputs": [
    {
     "data": {
      "application/vnd.jupyter.widget-view+json": {
       "model_id": "854882eb7fdb4ca7a33b48cbb967f5f8",
       "version_major": 2,
       "version_minor": 0
      },
      "text/plain": [
       "  0%|          | 0/5000 [00:00<?, ?it/s]"
      ]
     },
     "metadata": {},
     "output_type": "display_data"
    }
   ],
   "source": [
    "def rascal_compute(frame):\n",
    "    managers = soap.transform(frame)\n",
    "    KNM_ref = kernel(managers, X_sparse, grad=(False, False))\n",
    "    dKNM_ref = kernel(managers, X_sparse, grad=(True, False))\n",
    "    y_ref = KNM_ref @ ww\n",
    "    dy_ref = dKNM_ref @ ww\n",
    "    return y_ref, dy_ref\n",
    "\n",
    "y_ref = []\n",
    "dy_ref = []\n",
    "for frame in tqdm(frames):\n",
    "    yy, dyy = rascal_compute(frame)\n",
    "    y_ref.extend(yy)\n",
    "    dy_ref.extend(dyy)\n",
    "y_ref = np.array(y_ref)\n",
    "dy_ref = np.array(dy_ref)\n"
   ]
  },
  {
   "cell_type": "markdown",
   "metadata": {},
   "source": [
    "### torch compute"
   ]
  },
  {
   "cell_type": "code",
   "execution_count": 93,
   "metadata": {},
   "outputs": [],
   "source": [
    "calculator = PowerSpectrum(nmax, lmax, rc, gs, species, normalize=normalize, smooth_width=cutoff_smooth_width)"
   ]
  },
  {
   "cell_type": "code",
   "execution_count": 94,
   "metadata": {},
   "outputs": [],
   "source": [
    "X_sp = {int(sp):[] for sp in species}\n",
    "nn = 0\n",
    "for data in dataloader:\n",
    "    PS = calculator(data)\n",
    "    for ii in range(nn, nn+len(data.n_atoms)):\n",
    "        for sp in X_sp:\n",
    "            X_sp[sp].append(PS[sel[sp][ii]])\n",
    "    nn += len(data.n_atoms)\n",
    "sp_map = {}\n",
    "nn = 0\n",
    "for sp in X_sp:\n",
    "    X_sp[sp] = torch.cat(X_sp[sp])\n",
    "    sp_map[sp] = range(nn, nn+X_sp[sp].shape[0])\n",
    "    nn += X_sp[sp].shape[0]\n",
    "    \n",
    "X_train = torch.cat(list(X_sp.values()))"
   ]
  },
  {
   "cell_type": "code",
   "execution_count": 95,
   "metadata": {
    "code_folding": [
     1
    ]
   },
   "outputs": [
    {
     "data": {
      "application/vnd.jupyter.widget-view+json": {
       "model_id": "ee158c088ce949e48c888c89bbe7040b",
       "version_major": 2,
       "version_minor": 0
      },
      "text/plain": [
       "  0%|          | 0/79 [00:00<?, ?it/s]"
      ]
     },
     "metadata": {},
     "output_type": "display_data"
    }
   ],
   "source": [
    "from torch_scatter import scatter\n",
    "def compute_kernel(data, PS, X_train, sp_map, zeta):\n",
    "    species = torch.unique(data.z)\n",
    "    k_mat = torch.zeros((len(data.n_atoms), X_train.shape[0]), dtype=PS.dtype, device=PS.device)\n",
    "    for sp in species.tolist():\n",
    "        mask = data.z == sp\n",
    "        k_partial = torch.pow(PS[mask] @ X_train[sp_map[sp]].t(), zeta)\n",
    "        scatter(k_partial, data.batch[mask], dim=0, out=k_mat)\n",
    "    return k_mat\n",
    "\n",
    "ww = torch.ones((X_train.shape[0]), dtype=X_train.dtype) / np.sum(list(n_sparses.values()))\n",
    "\n",
    "y = []\n",
    "dy = []\n",
    "for data in tqdm(dataloader):\n",
    "    data.pos.requires_grad_(True)\n",
    "    PS = calculator(data)\n",
    "    Kmat = compute_kernel(data, PS, X_train, sp_map, zeta)\n",
    "    yy = torch.matmul(Kmat, ww) \n",
    "    dyy = torch.autograd.grad(yy, data.pos, grad_outputs=torch.ones_like(yy), \n",
    "                                   create_graph=False, retain_graph=False)[0]\n",
    "    y.append(yy)\n",
    "    dy.append(dyy)\n",
    "y = torch.cat(y).detach()\n",
    "dy = torch.cat(dy).detach().flatten()"
   ]
  }
 ],
 "metadata": {
  "kernelspec": {
   "display_name": "cg39",
   "language": "python",
   "name": "cg39"
  },
  "language_info": {
   "codemirror_mode": {
    "name": "ipython",
    "version": 3
   },
   "file_extension": ".py",
   "mimetype": "text/x-python",
   "name": "python",
   "nbconvert_exporter": "python",
   "pygments_lexer": "ipython3",
   "version": "3.9.4"
  },
  "toc": {
   "base_numbering": 1,
   "nav_menu": {},
   "number_sections": true,
   "sideBar": true,
   "skip_h1_title": false,
   "title_cell": "Table of Contents",
   "title_sidebar": "Contents",
   "toc_cell": false,
   "toc_position": {},
   "toc_section_display": true,
   "toc_window_display": true
  }
 },
 "nbformat": 4,
 "nbformat_minor": 2
}
