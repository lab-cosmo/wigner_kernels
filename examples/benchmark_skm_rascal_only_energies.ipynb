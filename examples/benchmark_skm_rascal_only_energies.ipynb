{
 "cells": [
  {
   "cell_type": "code",
   "execution_count": 1,
   "id": "toxic-preview",
   "metadata": {},
   "outputs": [],
   "source": [
    "import torch\n",
    "import numpy as np\n",
    "import ase.io\n",
    "import tqdm\n",
    "\n",
    "import sys\n",
    "sys.path.append('../code/')\n",
    "from code_pytorch import *\n",
    "from utilities import *\n",
    "from miscellaneous import ClebschGordan\n",
    "torch.set_default_dtype(torch.float64)\n",
    "from sklearn.linear_model import Ridge\n",
    "from matplotlib import pyplot as plt\n",
    "import time\n",
    "torch.set_num_threads(1)\n",
    "from rascal.representations import SphericalInvariants\n",
    "from rascal.models import Kernel, train_gap_model\n",
    "from rascal.utils import FPSFilter"
   ]
  },
  {
   "cell_type": "code",
   "execution_count": 2,
   "id": "valued-shakespeare",
   "metadata": {},
   "outputs": [],
   "source": [
    "HARTREE_TO_EV = 27.211386245988\n",
    "FORCE_FACTOR = 51.42208619083232\n",
    "LAMBDA_MAX = 5\n",
    "HYPERS = {\n",
    "    'interaction_cutoff': 6.3,\n",
    "    'max_radial': 5,\n",
    "    'max_angular': LAMBDA_MAX,\n",
    "    'gaussian_sigma_type': 'Constant',\n",
    "    'gaussian_sigma_constant': 0.2,\n",
    "    'cutoff_smooth_width': 0.3,\n",
    "    'radial_basis': 'GTO',\n",
    "}\n",
    "\n",
    "train_subset = '0:30000'\n",
    "test_subset = '30000:33000'\n",
    "\n",
    "METHANE_PATH = '../methane.extxyz'\n",
    "MAGIC_NUMBER = 10**2\n",
    "clebsch = ClebschGordan(LAMBDA_MAX)\n",
    "N_MEASUREMENTS = 5\n",
    "GRID = [10, 25, 50, 100, 250, 500, 1000, 2500, 5000, 10000]"
   ]
  },
  {
   "cell_type": "code",
   "execution_count": 3,
   "id": "realistic-convenience",
   "metadata": {},
   "outputs": [],
   "source": [
    "train_structures =  process_structures(ase.io.read(METHANE_PATH , index=train_subset))\n",
    "test_structures =  process_structures(ase.io.read(METHANE_PATH , index=test_subset))\n",
    "\n",
    "all_species = get_all_species(train_structures + test_structures)\n",
    "\n",
    "train_coefficients = get_coefs(train_structures, HYPERS, all_species) \n",
    "test_coefficients = get_coefs(test_structures, HYPERS, all_species) \n",
    "for key in train_coefficients.keys():\n",
    "    train_coefficients[key] *= MAGIC_NUMBER\n",
    "for key in test_coefficients.keys():\n",
    "    test_coefficients[key] *= MAGIC_NUMBER\n",
    "\n",
    "train_energies = [structure.info['energy'] for structure in train_structures]\n",
    "train_energies = np.array(train_energies) * HARTREE_TO_EV\n",
    "\n",
    "test_energies = [structure.info['energy'] for structure in test_structures]\n",
    "test_energies = np.array(test_energies) * HARTREE_TO_EV\n",
    "\n",
    "mean_e = np.mean(train_energies)\n",
    "train_energies = train_energies - mean_e\n",
    "test_energies = test_energies - mean_e\n",
    "\n",
    "test_forces = [structure.arrays[\"forces\"] for structure in test_structures]\n",
    "test_forces = np.concatenate(test_forces, axis = 0) * FORCE_FACTOR\n",
    "\n",
    "coef_der_test, central_indices_test, derivative_indices_test = \\\n",
    "get_coef_ders(test_structures, HYPERS, all_species)\n",
    "\n",
    "\n",
    "for key in coef_der_test.keys():\n",
    "    coef_der_test[key] = coef_der_test[key] * MAGIC_NUMBER\n",
    "\n",
    "n_atoms_train = len(get_structural_indices(train_structures))\n",
    "np.random.seed(0)\n",
    "sparse_indices = np.random.permutation(n_atoms_train)\n",
    "\n"
   ]
  },
  {
   "cell_type": "code",
   "execution_count": 4,
   "id": "organized-classroom",
   "metadata": {},
   "outputs": [],
   "source": [
    "def get_kernel(features, sparse_points):\n",
    "    features = features / torch.sqrt(torch.sum(features * features, dim = 1))[:, None]\n",
    "    #print(\"features: \", features.shape)\n",
    "    return torch.matmul(features, torch.transpose(sparse_points, 0, 1)) ** 2\n",
    "\n",
    "class KernelSingle(torch.nn.Module):\n",
    "    def __init__(self, clebsch, sparse_points):\n",
    "        super(KernelSingle, self).__init__()\n",
    "        self.clebsch_combining = ClebschCombining(clebsch, 0)\n",
    "        n_sparse = sparse_points.shape[0]\n",
    "        self.register_parameter('sparse_points', torch.nn.Parameter(sparse_points))\n",
    "        self.linear = torch.nn.Linear(n_sparse, 1, bias = False)\n",
    "        \n",
    "    def forward(self, X):\n",
    "        ps = self.clebsch_combining(X, X)[0].squeeze()\n",
    "        kernel_values = get_kernel(ps, self.sparse_points)\n",
    "        return {'energies' : self.linear(kernel_values)}\n",
    "    \n",
    "def get_mae(first, second):\n",
    "    return np.mean(np.abs(first - second))\n",
    "\n",
    "def get_rmse(first, second):\n",
    "    return np.sqrt(np.mean((first - second) ** 2))\n",
    "\n",
    "def measure_performance_torch(model, device):\n",
    "    \n",
    "    with torch.no_grad():\n",
    "        for key in test_coefficients.keys():\n",
    "            test_coefficients[key] = test_coefficients[key].to(device)\n",
    "        for key in coef_der_test.keys():\n",
    "            coef_der_test[key] = coef_der_test[key].to(device)\n",
    "        \n",
    "    test_struc_ind = get_structural_indices(test_structures)\n",
    "    times_energies = []\n",
    "    for _ in range(N_MEASUREMENTS):\n",
    "        begin = time.time()\n",
    "        energies_predictions = model(test_coefficients, structural_indices = test_struc_ind)['energies']\n",
    "        times_energies.append(time.time() - begin)\n",
    "    \n",
    "    energies_predictions = energies_predictions.data.cpu().numpy()\n",
    "    mae_energies = get_mae(energies_predictions, test_energies)\n",
    "    rmse_energies = get_rmse(energies_predictions, test_energies)\n",
    "    \n",
    "    for key in test_coefficients.keys():\n",
    "        test_coefficients[key].requires_grad = True\n",
    "        \n",
    "    times_forces = []\n",
    "    for _ in range(N_MEASUREMENTS):\n",
    "        begin = time.time()\n",
    "        #print(test_coefficients[3].type())\n",
    "        #print(coef_der_test[3].type())\n",
    "        forces_predictions = model.get_forces(coef_der_test, central_indices_test, derivative_indices_test,\n",
    "                                              test_coefficients, structural_indices = test_struc_ind) \n",
    "                                        \n",
    "        times_forces.append(time.time() - begin)\n",
    "        \n",
    "    forces_predictions = forces_predictions.data.cpu().numpy()\n",
    "    mae_forces = get_mae(forces_predictions, test_forces)\n",
    "    rmse_forces = get_rmse(forces_predictions, test_forces)\n",
    "    result = {'times_energies' : times_energies,\n",
    "              'times_forces' : times_forces,\n",
    "              'mae_energies' : mae_energies,\n",
    "              'rmse_energies' : rmse_energies,\n",
    "              'mae_forces' : mae_forces,\n",
    "              'rmse_forces' : rmse_forces}\n",
    "    \n",
    "    return result\n",
    "\n",
    "def get_skm_torch(n_sparse, device):\n",
    "    #print(device)\n",
    "    with torch.no_grad():\n",
    "        for key in train_coefficients.keys():\n",
    "            train_coefficients[key] = train_coefficients[key].to(device)\n",
    "        for key in test_coefficients.keys():\n",
    "            test_coefficients[key] = test_coefficients[key].to(device)\n",
    "    \n",
    "    block = ClebschCombining(clebsch.precomputed_, 0).to(device)\n",
    "    train_ps = block(train_coefficients, train_coefficients)[0].squeeze()\n",
    "    test_ps = block(test_coefficients, test_coefficients)[0].squeeze()\n",
    "\n",
    "    \n",
    "    sparse_points = train_ps[sparse_indices[0:n_sparse]]\n",
    "\n",
    "    train_kernel = get_kernel(train_ps, sparse_points)\n",
    "    test_kernel = get_kernel(test_ps, sparse_points)\n",
    "    #print([0:5])\n",
    "   \n",
    "    accumulator = Accumulator().to(device)\n",
    "    \n",
    "    train_kernel = accumulator({\"kernel\": train_kernel}, get_structural_indices(train_structures))['kernel']\n",
    "    test_kernel = accumulator({\"kernel\": test_kernel}, get_structural_indices(test_structures))['kernel']\n",
    "    \n",
    "    #print(train_kernel[0:5])\n",
    "    regr = Ridge(alpha = 1e-10, fit_intercept = False)\n",
    "    regr.fit(train_kernel.data.cpu().numpy(), train_energies)\n",
    "    print(regr.coef_.dtype)\n",
    "    block = KernelSingle(clebsch.precomputed_, sparse_points)\n",
    "    with torch.no_grad():\n",
    "        block.linear.weight = torch.nn.Parameter(torch.from_numpy(regr.coef_).\\\n",
    "                                                 type(torch.get_default_dtype()).to(device))\n",
    "    model = Atomistic(block).to(device)\n",
    "    return model\n",
    "    "
   ]
  },
  {
   "cell_type": "code",
   "execution_count": 5,
   "id": "annoying-webmaster",
   "metadata": {},
   "outputs": [],
   "source": [
    "def get_skm_rascal(n_sparse):\n",
    "    hypers_ps = copy.deepcopy(HYPERS)\n",
    "    hypers_ps['soap_type'] = 'PowerSpectrum'\n",
    "    \n",
    "    soap = SphericalInvariants(**hypers_ps)\n",
    "    train_managers = soap.transform(train_structures)\n",
    "    \n",
    "    n_sparse = {1:int(n_sparse / 2), 6:int(n_sparse / 2)}\n",
    "    compressor = FPSFilter(soap, n_sparse, act_on='sample per species')\n",
    "    X_sparse = compressor.select_and_filter(train_managers)\n",
    "    \n",
    "    zeta = 2\n",
    "    kernel = Kernel(soap, name='GAP', zeta=zeta, target_type='Structure', kernel_type='Sparse')\n",
    "    KNM = kernel(train_managers, X_sparse)\n",
    "    #KNM_down = kernel(train_managers, X_sparse)\n",
    "    #KNM = np.vstack([KNM, KNM_down])\n",
    "    model = train_gap_model(kernel, train_structures, KNM, X_sparse, train_energies, {1: 0.0, 6: 0.0}, \n",
    "                            lambdas = [1.0, 0.0], jitter=1e-13)\n",
    "    return model\n",
    "\n",
    "def measure_performance_rascal(model):\n",
    "    \n",
    "    hypers_ps = copy.deepcopy(HYPERS)\n",
    "    hypers_ps['soap_type'] = 'PowerSpectrum'\n",
    "    \n",
    "    soap = SphericalInvariants(**hypers_ps)\n",
    "    \n",
    "    times_energies = []\n",
    "    for _ in range(N_MEASUREMENTS):\n",
    "        begin = time.time()\n",
    "        managers_test = soap.transform(test_structures)\n",
    "        predictions_energies = model.predict(managers_test)\n",
    "        times_energies.append(time.time() - begin)\n",
    "    mae_energies = get_mae(predictions_energies, test_energies)\n",
    "    rmse_energies = get_rmse(predictions_energies, test_energies)\n",
    "    \n",
    "    \n",
    "    return {'mae_energies' : mae_energies,\n",
    "            'rmse_energies' : rmse_energies,\n",
    "            'times_energies' : times_energies}\n",
    "    "
   ]
  },
  {
   "cell_type": "code",
   "execution_count": 6,
   "id": "arranged-burton",
   "metadata": {},
   "outputs": [
    {
     "data": {
      "text/plain": [
       "'model = get_skm_rascal(500)'"
      ]
     },
     "execution_count": 6,
     "metadata": {},
     "output_type": "execute_result"
    }
   ],
   "source": [
    "'''model = get_skm_rascal(500)'''"
   ]
  },
  {
   "cell_type": "code",
   "execution_count": 7,
   "id": "faced-armstrong",
   "metadata": {},
   "outputs": [
    {
     "data": {
      "text/plain": [
       "'for _ in range(100):\\n    _ = measure_performance_rascal(model)'"
      ]
     },
     "execution_count": 7,
     "metadata": {},
     "output_type": "execute_result"
    }
   ],
   "source": [
    "'''for _ in range(100):\n",
    "    _ = measure_performance_rascal(model)'''"
   ]
  },
  {
   "cell_type": "code",
   "execution_count": 8,
   "id": "collect-photograph",
   "metadata": {},
   "outputs": [
    {
     "name": "stdout",
     "output_type": "stream",
     "text": [
      "The number of pseudo points selected by central atom species is: {1: 5, 6: 5}\n",
      "Selecting species: 1\n",
      "Selecting species: 6\n",
      "10 {'mae_energies': 1.2359133611803785, 'rmse_energies': 1.7754516445395947, 'times_energies': [0.28395891189575195, 0.33286380767822266, 0.3303959369659424, 0.33631348609924316, 0.3284726142883301]}\n",
      "The number of pseudo points selected by central atom species is: {1: 12, 6: 12}\n",
      "Selecting species: 1\n",
      "Selecting species: 6\n",
      "25 {'mae_energies': 0.7410347082564628, 'rmse_energies': 1.082820235067354, 'times_energies': [0.28853821754455566, 0.33536219596862793, 0.33776164054870605, 0.3332176208496094, 0.34156107902526855]}\n",
      "The number of pseudo points selected by central atom species is: {1: 25, 6: 25}\n",
      "Selecting species: 1\n",
      "Selecting species: 6\n",
      "50 {'mae_energies': 0.5559210673870035, 'rmse_energies': 0.8363592975522393, 'times_energies': [0.2964189052581787, 0.3405485153198242, 0.34444618225097656, 0.33957958221435547, 0.3448207378387451]}\n",
      "The number of pseudo points selected by central atom species is: {1: 50, 6: 50}\n",
      "Selecting species: 1\n",
      "Selecting species: 6\n",
      "100 {'mae_energies': 0.4040691139906209, 'rmse_energies': 0.6205858417236583, 'times_energies': [0.31031250953674316, 0.35515260696411133, 0.3578917980194092, 0.35434746742248535, 0.3647174835205078]}\n",
      "The number of pseudo points selected by central atom species is: {1: 125, 6: 125}\n",
      "Selecting species: 1\n",
      "Selecting species: 6\n",
      "250 {'mae_energies': 0.27325252080254514, 'rmse_energies': 0.41073623742698107, 'times_energies': [0.371535062789917, 0.41782522201538086, 0.42052340507507324, 0.4182698726654053, 0.423966646194458]}\n",
      "The number of pseudo points selected by central atom species is: {1: 250, 6: 250}\n",
      "Selecting species: 1\n",
      "Selecting species: 6\n",
      "500 {'mae_energies': 0.22891624856115603, 'rmse_energies': 0.34208335419818614, 'times_energies': [0.4698519706726074, 0.5152482986450195, 0.5169937610626221, 0.5158007144927979, 0.5165629386901855]}\n",
      "The number of pseudo points selected by central atom species is: {1: 500, 6: 500}\n",
      "Selecting species: 1\n",
      "Selecting species: 6\n",
      "1000 {'mae_energies': 0.20916394337170588, 'rmse_energies': 0.31375093048194375, 'times_energies': [0.6332852840423584, 0.674931526184082, 0.6793351173400879, 0.690732479095459, 0.6825146675109863]}\n",
      "The number of pseudo points selected by central atom species is: {1: 1250, 6: 1250}\n",
      "Selecting species: 1\n",
      "Selecting species: 6\n",
      "2500 {'mae_energies': 0.19837547367750272, 'rmse_energies': 0.3011899117191364, 'times_energies': [1.1241719722747803, 1.171679973602295, 1.1720876693725586, 1.1787958145141602, 1.175696849822998]}\n",
      "The number of pseudo points selected by central atom species is: {1: 2500, 6: 2500}\n",
      "Selecting species: 1\n",
      "Selecting species: 6\n",
      "5000 {'mae_energies': 0.19689601060603154, 'rmse_energies': 0.2996195298070838, 'times_energies': [2.0394504070281982, 2.0882949829101562, 2.0885086059570312, 2.103304862976074, 2.0898191928863525]}\n",
      "The number of pseudo points selected by central atom species is: {1: 5000, 6: 5000}\n",
      "Selecting species: 1\n",
      "Selecting species: 6\n",
      "10000 {'mae_energies': 0.19814149930141237, 'rmse_energies': 0.3008887967599352, 'times_energies': [5.505310773849487, 5.583088159561157, 5.4977147579193115, 5.6110451221466064, 5.548352479934692]}\n"
     ]
    }
   ],
   "source": [
    "np.random.seed(0)\n",
    "for n_sparse in GRID:\n",
    "    model = get_skm_rascal(n_sparse)\n",
    "    print(n_sparse, measure_performance_rascal(model))"
   ]
  },
  {
   "cell_type": "code",
   "execution_count": 9,
   "id": "viral-theory",
   "metadata": {},
   "outputs": [
    {
     "data": {
      "text/plain": [
       "\"model = get_skm_torch(500, 'cpu')\""
      ]
     },
     "execution_count": 9,
     "metadata": {},
     "output_type": "execute_result"
    }
   ],
   "source": [
    "'''model = get_skm_torch(500, 'cpu')'''"
   ]
  },
  {
   "cell_type": "code",
   "execution_count": 10,
   "id": "light-devon",
   "metadata": {},
   "outputs": [
    {
     "data": {
      "text/plain": [
       "\"for _ in range(100):\\n    _ = measure_performance_torch(model, 'cpu')\""
      ]
     },
     "execution_count": 10,
     "metadata": {},
     "output_type": "execute_result"
    }
   ],
   "source": [
    "'''for _ in range(100):\n",
    "    _ = measure_performance_torch(model, 'cpu')'''"
   ]
  },
  {
   "cell_type": "code",
   "execution_count": null,
   "id": "ideal-alias",
   "metadata": {},
   "outputs": [
    {
     "name": "stdout",
     "output_type": "stream",
     "text": [
      "float64\n",
      "10 {'times_energies': [0.9692807197570801, 0.9621212482452393, 0.9678223133087158, 0.978022575378418, 0.9679610729217529], 'times_forces': [5.976164102554321, 4.785331726074219, 5.112847328186035, 5.517930269241333, 4.469234466552734], 'mae_energies': 1.2387723374235988, 'rmse_energies': 1.9994309082298276, 'mae_forces': 1.895776105014758, 'rmse_forces': 5.970763381732065}\n",
      "float64\n",
      "25 {'times_energies': [1.1074178218841553, 1.6525542736053467, 1.0380761623382568, 1.0319783687591553, 1.0462136268615723], 'times_forces': [3.876100540161133, 3.868967294692993, 3.886749029159546, 3.8920416831970215, 3.8704819679260254], 'mae_energies': 0.979960416833265, 'rmse_energies': 1.571296445955451, 'mae_forces': 1.7244346078585993, 'rmse_forces': 5.591119488155342}\n",
      "float64\n",
      "50 {'times_energies': [1.0317661762237549, 1.0778660774230957, 1.0760645866394043, 1.0437445640563965, 1.0429456233978271], 'times_forces': [3.8114497661590576, 3.840134859085083, 3.8442130088806152, 3.8556020259857178, 3.8267159461975098], 'mae_energies': 0.7170767529681972, 'rmse_energies': 1.1182614975033682, 'mae_forces': 1.4358679018616272, 'rmse_forces': 4.464182511513014}\n",
      "float64\n",
      "100 {'times_energies': [1.0482852458953857, 1.0854177474975586, 1.1208338737487793, 1.0752127170562744, 1.0804476737976074], 'times_forces': [3.9138803482055664, 3.932246685028076, 3.9332027435302734, 3.9111850261688232, 3.9300947189331055], 'mae_energies': 0.4957227763602653, 'rmse_energies': 0.7803624095840049, 'mae_forces': 1.1214109295718377, 'rmse_forces': 3.450832997411765}\n",
      "float64\n",
      "250 {'times_energies': [1.1250743865966797, 1.1232483386993408, 1.1526083946228027, 1.1228911876678467, 1.1413860321044922], 'times_forces': [4.08029580116272, 4.052009344100952, 4.067395210266113, 4.038769483566284, 4.0916712284088135], 'mae_energies': 0.3265397381937531, 'rmse_energies': 0.523877760385839, 'mae_forces': 0.7359967735293412, 'rmse_forces': 2.177295194783544}\n"
     ]
    },
    {
     "name": "stderr",
     "output_type": "stream",
     "text": [
      "/usr/local/lib/python3.8/dist-packages/sklearn/linear_model/_ridge.py:147: LinAlgWarning: Ill-conditioned matrix (rcond=1.74368e-17): result may not be accurate.\n",
      "  return linalg.solve(A, Xy, sym_pos=True,\n"
     ]
    },
    {
     "name": "stdout",
     "output_type": "stream",
     "text": [
      "float64\n",
      "500 {'times_energies': [1.1866345405578613, 1.229827880859375, 1.2282850742340088, 1.1929798126220703, 1.2136569023132324], 'times_forces': [4.247108221054077, 4.256833791732788, 4.2452404499053955, 4.2426276206970215, 4.239420652389526], 'mae_energies': 0.20246803827793777, 'rmse_energies': 0.31354275100978474, 'mae_forces': 0.4436745694506135, 'rmse_forces': 1.173076634045176}\n"
     ]
    },
    {
     "name": "stderr",
     "output_type": "stream",
     "text": [
      "/usr/local/lib/python3.8/dist-packages/sklearn/linear_model/_ridge.py:147: LinAlgWarning: Ill-conditioned matrix (rcond=2.70075e-18): result may not be accurate.\n",
      "  return linalg.solve(A, Xy, sym_pos=True,\n"
     ]
    },
    {
     "name": "stdout",
     "output_type": "stream",
     "text": [
      "float64\n",
      "1000 {'times_energies': [1.3152601718902588, 1.363365650177002, 1.342238426208496, 1.3418869972229004, 1.3542311191558838], 'times_forces': [4.698781490325928, 4.701446056365967, 4.689060211181641, 4.698283910751343, 4.664287805557251], 'mae_energies': 0.1513100111587756, 'rmse_energies': 0.22894844360100344, 'mae_forces': 0.3349820402498727, 'rmse_forces': 0.7908663805554467}\n"
     ]
    },
    {
     "name": "stderr",
     "output_type": "stream",
     "text": [
      "/usr/local/lib/python3.8/dist-packages/sklearn/linear_model/_ridge.py:147: LinAlgWarning: Ill-conditioned matrix (rcond=5.25976e-19): result may not be accurate.\n",
      "  return linalg.solve(A, Xy, sym_pos=True,\n"
     ]
    },
    {
     "name": "stdout",
     "output_type": "stream",
     "text": [
      "float64\n",
      "2500 {'times_energies': [1.7371528148651123, 1.8647477626800537, 1.8209354877471924, 1.7734646797180176, 1.8347938060760498], 'times_forces': [5.998314142227173, 5.976518869400024, 5.9868247509002686, 5.9832446575164795, 5.960252285003662], 'mae_energies': 0.1206050601555874, 'rmse_energies': 0.18257624271439898, 'mae_forces': 0.2553763108157608, 'rmse_forces': 0.5549443596412781}\n",
      "float64\n",
      "5000 {'times_energies': [2.4526991844177246, 2.625318765640259, 2.5719821453094482, 2.477675199508667, 2.5885016918182373], 'times_forces': [8.215096950531006, 8.215018033981323, 8.286694526672363, 8.205118417739868, 8.203979253768921], 'mae_energies': 0.10749184516306336, 'rmse_energies': 0.16306667878488773, 'mae_forces': 0.22836101360643576, 'rmse_forces': 0.49383662556414154}\n"
     ]
    }
   ],
   "source": [
    "np.random.seed(0)\n",
    "for n_sparse in GRID:\n",
    "    model = get_skm_torch(n_sparse, 'cpu')\n",
    "    statistics = measure_performance_torch(model, 'cpu')\n",
    "    print(n_sparse, statistics)"
   ]
  },
  {
   "cell_type": "code",
   "execution_count": null,
   "id": "english-leadership",
   "metadata": {},
   "outputs": [],
   "source": [
    "np.random.seed(0)\n",
    "for n_sparse in GRID:\n",
    "    model = get_skm_torch(n_sparse, 'cuda')\n",
    "    model = model.cuda()\n",
    "    statistics = measure_performance_torch(model, 'cuda')\n",
    "    print(n_sparse, statistics)"
   ]
  },
  {
   "cell_type": "code",
   "execution_count": null,
   "id": "generic-leone",
   "metadata": {},
   "outputs": [],
   "source": []
  },
  {
   "cell_type": "code",
   "execution_count": null,
   "id": "reduced-search",
   "metadata": {},
   "outputs": [],
   "source": []
  },
  {
   "cell_type": "code",
   "execution_count": null,
   "id": "equal-pasta",
   "metadata": {},
   "outputs": [],
   "source": []
  }
 ],
 "metadata": {
  "kernelspec": {
   "display_name": "Python 3",
   "language": "python",
   "name": "python3"
  },
  "language_info": {
   "codemirror_mode": {
    "name": "ipython",
    "version": 3
   },
   "file_extension": ".py",
   "mimetype": "text/x-python",
   "name": "python",
   "nbconvert_exporter": "python",
   "pygments_lexer": "ipython3",
   "version": "3.8.5"
  }
 },
 "nbformat": 4,
 "nbformat_minor": 5
}
