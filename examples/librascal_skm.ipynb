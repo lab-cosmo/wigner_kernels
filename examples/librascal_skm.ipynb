{
 "cells": [
  {
   "cell_type": "code",
   "execution_count": 1,
   "id": "toxic-preview",
   "metadata": {},
   "outputs": [],
   "source": [
    "import torch\n",
    "import numpy as np\n",
    "import ase.io\n",
    "import tqdm\n",
    "\n",
    "import sys\n",
    "sys.path.append('../code/')\n",
    "from code_pytorch import *\n",
    "from utilities import *\n",
    "from miscellaneous import ClebschGordan\n",
    "\n",
    "from sklearn.linear_model import Ridge\n",
    "from matplotlib import pyplot as plt\n",
    "import time\n",
    "\n",
    "from rascal.representations import SphericalInvariants\n",
    "from rascal.models import Kernel, train_gap_model\n",
    "from rascal.utils import FPSFilter"
   ]
  },
  {
   "cell_type": "code",
   "execution_count": 2,
   "id": "valued-shakespeare",
   "metadata": {},
   "outputs": [],
   "source": [
    "HARTREE_TO_EV = 27.211386245988\n",
    "FORCE_FACTOR = 51.42208619083232\n",
    "LAMBDA_MAX = 5\n",
    "HYPERS = {\n",
    "    'soap_type' : 'PowerSpectrum',\n",
    "    'interaction_cutoff': 6.3,\n",
    "    'max_radial': 5,\n",
    "    'max_angular': LAMBDA_MAX,\n",
    "    'gaussian_sigma_type': 'Constant',\n",
    "    'gaussian_sigma_constant': 0.05,\n",
    "    'cutoff_smooth_width': 0.3,\n",
    "    'radial_basis': 'GTO',\n",
    "    'compute_gradients' : True\n",
    "    \n",
    "}\n",
    "\n",
    "train_subset = '0:10000'\n",
    "test_subset = '10000:11000'\n",
    "\n",
    "METHANE_PATH = '../methane.extxyz'\n",
    "N_MEASUREMENTS = 5"
   ]
  },
  {
   "cell_type": "code",
   "execution_count": 3,
   "id": "realistic-convenience",
   "metadata": {},
   "outputs": [],
   "source": [
    "train_structures = process_structures(ase.io.read(METHANE_PATH , index=train_subset))\n",
    "test_structures = process_structures(ase.io.read(METHANE_PATH , index=test_subset))\n",
    "\n",
    "train_energies = [structure.info['energy'] for structure in train_structures]\n",
    "train_energies = np.array(train_energies) * HARTREE_TO_EV\n",
    "\n",
    "test_energies = [structure.info['energy'] for structure in test_structures]\n",
    "test_energies = np.array(test_energies) * HARTREE_TO_EV\n",
    "\n",
    "mean_e = np.mean(train_energies)\n",
    "train_energies = train_energies - mean_e\n",
    "test_energies = test_energies - mean_e\n",
    "\n",
    "test_forces = [structure.arrays[\"forces\"] for structure in test_structures]\n",
    "test_forces = np.concatenate(test_forces, axis = 0) * FORCE_FACTOR"
   ]
  },
  {
   "cell_type": "code",
   "execution_count": 4,
   "id": "outside-edinburgh",
   "metadata": {},
   "outputs": [],
   "source": [
    "soap = SphericalInvariants(**HYPERS)\n",
    "train_managers = soap.transform(train_structures)"
   ]
  },
  {
   "cell_type": "code",
   "execution_count": 5,
   "id": "industrial-holocaust",
   "metadata": {},
   "outputs": [
    {
     "name": "stdout",
     "output_type": "stream",
     "text": [
      "The number of pseudo points selected by central atom species is: {1: 100, 6: 100}\n",
      "Selecting species: 1\n",
      "Selecting species: 6\n"
     ]
    }
   ],
   "source": [
    "n_sparse = {1:100, 6:100}\n",
    "compressor = FPSFilter(soap, n_sparse, act_on='sample per species')\n",
    "X_sparse = compressor.select_and_filter(train_managers)\n",
    "\n",
    "zeta = 2\n",
    "kernel = Kernel(soap, name='GAP', zeta=zeta, target_type='Structure', kernel_type='Sparse')\n",
    "KNM = kernel(train_managers, X_sparse)\n",
    "#KNM_down = kernel(train_managers, X_sparse)\n",
    "#KNM = np.vstack([KNM, KNM_down])\n",
    "model = train_gap_model(kernel, train_structures, KNM, X_sparse, train_energies, {1: 0.0, 6: 0.0}, \n",
    "                        lambdas = [1.0, 0.0], jitter=1e-13)\n"
   ]
  },
  {
   "cell_type": "code",
   "execution_count": 7,
   "id": "published-grace",
   "metadata": {},
   "outputs": [
    {
     "name": "stdout",
     "output_type": "stream",
     "text": [
      "The number of pseudo points selected by central atom species is: {1: 100, 6: 100}\n",
      "Selecting species: 1\n",
      "Selecting species: 6\n"
     ]
    }
   ],
   "source": [
    "a = compressor.select_and_filter(train_managers)"
   ]
  },
  {
   "cell_type": "code",
   "execution_count": 18,
   "id": "gentle-employee",
   "metadata": {},
   "outputs": [],
   "source": [
    "managers_test = soap.transform(test_structures)\n",
    "predictions_energies = model.predict(managers_test)\n",
    "predictions_forces = model.predict_forces(managers_test)"
   ]
  },
  {
   "cell_type": "code",
   "execution_count": 19,
   "id": "impressive-option",
   "metadata": {},
   "outputs": [
    {
     "data": {
      "image/png": "[encoded data removed]",
      "text/plain": [
       "<Figure size 432x288 with 1 Axes>"
      ]
     },
     "metadata": {
      "needs_background": "light"
     },
     "output_type": "display_data"
    }
   ],
   "source": [
    "plt.plot(test_energies, predictions_energies, 'o')\n",
    "plt.show()"
   ]
  },
  {
   "cell_type": "code",
   "execution_count": 20,
   "id": "infectious-stomach",
   "metadata": {},
   "outputs": [
    {
     "name": "stdout",
     "output_type": "stream",
     "text": [
      "(5000, 3)\n",
      "(5000, 3)\n"
     ]
    },
    {
     "data": {
      "image/png": "[encoded data removed]",
      "text/plain": [
       "<Figure size 432x288 with 1 Axes>"
      ]
     },
     "metadata": {
      "needs_background": "light"
     },
     "output_type": "display_data"
    }
   ],
   "source": [
    "print(predictions_forces.shape)\n",
    "print(test_forces.shape)\n",
    "plt.plot(test_forces.reshape(-1), predictions_forces.reshape(-1), 'o')\n",
    "min_pos = np.min(test_forces)\n",
    "max_pos = np.max(test_forces)\n",
    "plt.plot([min_pos, max_pos], [min_pos, max_pos])\n",
    "plt.show()"
   ]
  },
  {
   "cell_type": "code",
   "execution_count": null,
   "id": "blond-smith",
   "metadata": {},
   "outputs": [],
   "source": [
    "print(X_sparse.)"
   ]
  },
  {
   "cell_type": "code",
   "execution_count": null,
   "id": "planned-survivor",
   "metadata": {},
   "outputs": [],
   "source": []
  }
 ],
 "metadata": {
  "kernelspec": {
   "display_name": "Python 3",
   "language": "python",
   "name": "python3"
  },
  "language_info": {
   "codemirror_mode": {
    "name": "ipython",
    "version": 3
   },
   "file_extension": ".py",
   "mimetype": "text/x-python",
   "name": "python",
   "nbconvert_exporter": "python",
   "pygments_lexer": "ipython3",
   "version": "3.8.5"
  }
 },
 "nbformat": 4,
 "nbformat_minor": 5
}
