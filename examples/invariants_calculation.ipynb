{
 "cells": [
  {
   "cell_type": "code",
   "execution_count": 1,
   "metadata": {},
   "outputs": [],
   "source": [
    "import torch\n",
    "import numpy as np\n",
    "import ase.io\n",
    "import tqdm\n",
    "\n",
    "import sys\n",
    "sys.path.append('../code/')\n",
    "from code_pytorch import *\n",
    "from utilities import *\n",
    "\n",
    "from nice.clebsch_gordan import ClebschGordan\n",
    "from nice.rascal_coefficients import process_structures\n",
    "from nice.utilities import get_all_species, get_spherical_expansion"
   ]
  },
  {
   "cell_type": "markdown",
   "metadata": {},
   "source": [
    "# Data preparation"
   ]
  },
  {
   "cell_type": "code",
   "execution_count": 2,
   "metadata": {},
   "outputs": [],
   "source": [
    "LAMBDA_MAX = 4\n",
    "\n",
    "HYPERS = {\n",
    "    'interaction_cutoff': 6.3,\n",
    "    'max_radial': 4,\n",
    "    'max_angular': LAMBDA_MAX,\n",
    "    'gaussian_sigma_type': 'Constant',\n",
    "    'gaussian_sigma_constant': 0.3,\n",
    "    'cutoff_smooth_width': 0.3,\n",
    "    'radial_basis': 'GTO'\n",
    "}\n",
    "DEVICE = 'cuda' #or 'cpu'\n",
    "clebsch = ClebschGordan(LAMBDA_MAX)"
   ]
  },
  {
   "cell_type": "code",
   "execution_count": 3,
   "metadata": {},
   "outputs": [
    {
     "ename": "FileNotFoundError",
     "evalue": "[Errno 2] No such file or directory: 'methane.extxyz'",
     "output_type": "error",
     "traceback": [
      "\u001b[0;31m---------------------------------------------------------------------------\u001b[0m",
      "\u001b[0;31mFileNotFoundError\u001b[0m                         Traceback (most recent call last)",
      "\u001b[0;32m<ipython-input-3-7d6b4eb5cb5b>\u001b[0m in \u001b[0;36m<module>\u001b[0;34m\u001b[0m\n\u001b[0;32m----> 1\u001b[0;31m \u001b[0mstructures\u001b[0m \u001b[0;34m=\u001b[0m \u001b[0mprocess_structures\u001b[0m\u001b[0;34m(\u001b[0m\u001b[0mase\u001b[0m\u001b[0;34m.\u001b[0m\u001b[0mio\u001b[0m\u001b[0;34m.\u001b[0m\u001b[0mread\u001b[0m\u001b[0;34m(\u001b[0m\u001b[0;34m'methane.extxyz'\u001b[0m\u001b[0;34m,\u001b[0m \u001b[0mindex\u001b[0m\u001b[0;34m=\u001b[0m\u001b[0;34m'0:10'\u001b[0m\u001b[0;34m)\u001b[0m\u001b[0;34m)\u001b[0m\u001b[0;34m\u001b[0m\u001b[0;34m\u001b[0m\u001b[0m\n\u001b[0m\u001b[1;32m      2\u001b[0m \u001b[0mall_species\u001b[0m \u001b[0;34m=\u001b[0m \u001b[0mget_all_species\u001b[0m\u001b[0;34m(\u001b[0m\u001b[0mstructures\u001b[0m\u001b[0;34m)\u001b[0m\u001b[0;34m\u001b[0m\u001b[0;34m\u001b[0m\u001b[0m\n\u001b[1;32m      3\u001b[0m coefficients_np = get_spherical_expansion(structures, HYPERS,\n\u001b[1;32m      4\u001b[0m                                              \u001b[0mall_species\u001b[0m\u001b[0;34m,\u001b[0m \u001b[0msplit_by_central_specie\u001b[0m\u001b[0;34m=\u001b[0m\u001b[0;32mFalse\u001b[0m\u001b[0;34m,\u001b[0m\u001b[0;34m\u001b[0m\u001b[0;34m\u001b[0m\u001b[0m\n\u001b[1;32m      5\u001b[0m                                          show_progress = False)\n",
      "\u001b[0;32m~/.local/lib/python3.6/site-packages/ase/io/formats.py\u001b[0m in \u001b[0;36mread\u001b[0;34m(filename, index, format, parallel, **kwargs)\u001b[0m\n\u001b[1;32m    595\u001b[0m     \u001b[0;32mif\u001b[0m \u001b[0mindex\u001b[0m \u001b[0;32mis\u001b[0m \u001b[0;32mNone\u001b[0m\u001b[0;34m:\u001b[0m\u001b[0;34m\u001b[0m\u001b[0;34m\u001b[0m\u001b[0m\n\u001b[1;32m    596\u001b[0m         \u001b[0mindex\u001b[0m \u001b[0;34m=\u001b[0m \u001b[0;34m-\u001b[0m\u001b[0;36m1\u001b[0m\u001b[0;34m\u001b[0m\u001b[0;34m\u001b[0m\u001b[0m\n\u001b[0;32m--> 597\u001b[0;31m     \u001b[0mformat\u001b[0m \u001b[0;34m=\u001b[0m \u001b[0mformat\u001b[0m \u001b[0;32mor\u001b[0m \u001b[0mfiletype\u001b[0m\u001b[0;34m(\u001b[0m\u001b[0mfilename\u001b[0m\u001b[0;34m)\u001b[0m\u001b[0;34m\u001b[0m\u001b[0;34m\u001b[0m\u001b[0m\n\u001b[0m\u001b[1;32m    598\u001b[0m \u001b[0;34m\u001b[0m\u001b[0m\n\u001b[1;32m    599\u001b[0m     \u001b[0mio\u001b[0m \u001b[0;34m=\u001b[0m \u001b[0mioformats\u001b[0m\u001b[0;34m[\u001b[0m\u001b[0mformat\u001b[0m\u001b[0;34m]\u001b[0m\u001b[0;34m\u001b[0m\u001b[0;34m\u001b[0m\u001b[0m\n",
      "\u001b[0;32m~/.local/lib/python3.6/site-packages/ase/io/formats.py\u001b[0m in \u001b[0;36mfiletype\u001b[0;34m(filename, read, guess)\u001b[0m\n\u001b[1;32m    758\u001b[0m             \u001b[0;32mreturn\u001b[0m \u001b[0mext\u001b[0m\u001b[0;34m\u001b[0m\u001b[0;34m\u001b[0m\u001b[0m\n\u001b[1;32m    759\u001b[0m \u001b[0;34m\u001b[0m\u001b[0m\n\u001b[0;32m--> 760\u001b[0;31m         \u001b[0mfd\u001b[0m \u001b[0;34m=\u001b[0m \u001b[0mopen_with_compression\u001b[0m\u001b[0;34m(\u001b[0m\u001b[0mfilename\u001b[0m\u001b[0;34m,\u001b[0m \u001b[0;34m'rb'\u001b[0m\u001b[0;34m)\u001b[0m\u001b[0;34m\u001b[0m\u001b[0;34m\u001b[0m\u001b[0m\n\u001b[0m\u001b[1;32m    761\u001b[0m     \u001b[0;32melse\u001b[0m\u001b[0;34m:\u001b[0m\u001b[0;34m\u001b[0m\u001b[0;34m\u001b[0m\u001b[0m\n\u001b[1;32m    762\u001b[0m         \u001b[0mfd\u001b[0m \u001b[0;34m=\u001b[0m \u001b[0mfilename\u001b[0m\u001b[0;34m\u001b[0m\u001b[0;34m\u001b[0m\u001b[0m\n",
      "\u001b[0;32m~/.local/lib/python3.6/site-packages/ase/io/formats.py\u001b[0m in \u001b[0;36mopen_with_compression\u001b[0;34m(filename, mode)\u001b[0m\n\u001b[1;32m    429\u001b[0m \u001b[0;34m\u001b[0m\u001b[0m\n\u001b[1;32m    430\u001b[0m     \u001b[0;32mif\u001b[0m \u001b[0mcompression\u001b[0m \u001b[0;32mis\u001b[0m \u001b[0;32mNone\u001b[0m\u001b[0;34m:\u001b[0m\u001b[0;34m\u001b[0m\u001b[0;34m\u001b[0m\u001b[0m\n\u001b[0;32m--> 431\u001b[0;31m         \u001b[0;32mreturn\u001b[0m \u001b[0mopen\u001b[0m\u001b[0;34m(\u001b[0m\u001b[0mfilename\u001b[0m\u001b[0;34m,\u001b[0m \u001b[0mmode\u001b[0m\u001b[0;34m)\u001b[0m\u001b[0;34m\u001b[0m\u001b[0;34m\u001b[0m\u001b[0m\n\u001b[0m\u001b[1;32m    432\u001b[0m     \u001b[0;32melif\u001b[0m \u001b[0mcompression\u001b[0m \u001b[0;34m==\u001b[0m \u001b[0;34m'gz'\u001b[0m\u001b[0;34m:\u001b[0m\u001b[0;34m\u001b[0m\u001b[0;34m\u001b[0m\u001b[0m\n\u001b[1;32m    433\u001b[0m         \u001b[0;32mimport\u001b[0m \u001b[0mgzip\u001b[0m\u001b[0;34m\u001b[0m\u001b[0;34m\u001b[0m\u001b[0m\n",
      "\u001b[0;31mFileNotFoundError\u001b[0m: [Errno 2] No such file or directory: 'methane.extxyz'"
     ]
    }
   ],
   "source": [
    "structures = process_structures(ase.io.read('methane.extxyz', index='0:10'))\n",
    "all_species = get_all_species(structures)\n",
    "coefficients_np = get_spherical_expansion(structures, HYPERS,\n",
    "                                             all_species, split_by_central_specie=False, \n",
    "                                         show_progress = False)\n",
    "coefficients = {}\n",
    "for l in range(LAMBDA_MAX + 1):\n",
    "    coefficients[l] = torch.from_numpy(coefficients_np[:, :, l, :(2 * l + 1)]).type(torch.get_default_dtype()).to(DEVICE)\n",
    "    print(l, coefficients[l].shape)"
   ]
  },
  {
   "cell_type": "markdown",
   "metadata": {},
   "source": [
    "# invariants calculation"
   ]
  },
  {
   "cell_type": "markdown",
   "metadata": {},
   "source": [
    "### ps invariants"
   ]
  },
  {
   "cell_type": "code",
   "execution_count": null,
   "metadata": {},
   "outputs": [],
   "source": [
    "block = ClebschCombining(clebsch.precomputed_, 0).to(DEVICE)\n",
    "ps = block(coefficients, coefficients)[0].squeeze()\n",
    "print(ps.shape)"
   ]
  },
  {
   "cell_type": "markdown",
   "metadata": {},
   "source": [
    "### ps covariants"
   ]
  },
  {
   "cell_type": "code",
   "execution_count": null,
   "metadata": {},
   "outputs": [],
   "source": [
    "block = ClebschCombining(clebsch.precomputed_, LAMBDA_MAX).to(DEVICE)\n",
    "ps_covariants = block(coefficients, coefficients)\n",
    "for key in ps_covariants.keys():\n",
    "    print(key, ps_covariants[key].shape)"
   ]
  },
  {
   "cell_type": "markdown",
   "metadata": {},
   "source": [
    "### bs invariants"
   ]
  },
  {
   "cell_type": "code",
   "execution_count": null,
   "metadata": {},
   "outputs": [],
   "source": [
    "first = ClebschCombining(clebsch.precomputed_, LAMBDA_MAX).to(DEVICE)\n",
    "second = ClebschCombining(clebsch.precomputed_, 0).to(DEVICE)\n",
    "\n",
    "bs_invariants = first(second(coefficients, coefficients), coefficients)[0].squeeze()\n",
    "print(bs_invariants.shape)"
   ]
  },
  {
   "cell_type": "markdown",
   "metadata": {},
   "source": [
    "### bs covariants"
   ]
  },
  {
   "cell_type": "code",
   "execution_count": null,
   "metadata": {},
   "outputs": [],
   "source": [
    "first = ClebschCombining(clebsch.precomputed_, LAMBDA_MAX).to(DEVICE)\n",
    "second = ClebschCombining(clebsch.precomputed_, LAMBDA_MAX).to(DEVICE)\n",
    "\n",
    "bs_invariants = first(second(coefficients, coefficients), coefficients)\n",
    "for key in bs_invariants.keys():\n",
    "    print(key, bs_invariants[key].shape)"
   ]
  },
  {
   "cell_type": "markdown",
   "metadata": {},
   "source": [
    "# proper shaped code"
   ]
  },
  {
   "cell_type": "code",
   "execution_count": null,
   "metadata": {},
   "outputs": [],
   "source": [
    "class Powerspectrum(torch.nn.Module):\n",
    "    def __init__(self, clebsch):\n",
    "        super(Powerspectrum, self).__init__()\n",
    "        self.first = ClebschCombining(clebsch, 0)       \n",
    "            \n",
    "    def forward(self, X):\n",
    "        ps_invariants = self.first(X, X)[0].squeeze()       \n",
    "        return ps_invariants\n",
    "    \n",
    "class Bispectrum(torch.nn.Module):\n",
    "    def __init__(self, clebsch, lambda_max):\n",
    "        super(Bispectrum, self).__init__()\n",
    "        self.first = ClebschCombining(clebsch, lambda_max)\n",
    "        self.second = ClebschCombining(clebsch, 0)\n",
    "            \n",
    "    def forward(self, X):\n",
    "        ps_covariants = self.first(X, X)\n",
    "        bs_invariants = self.second(ps_covariants, X)[0].squeeze()\n",
    "        return bs_invariants\n",
    "    \n",
    "class Nspectrum(torch.nn.Module):\n",
    "    def __init__(self, order, clebsch, lambda_max):\n",
    "        super(Nspectrum, self).__init__()\n",
    "        self.combinings = torch.nn.ModuleList([ClebschCombining(clebsch, lambda_max) for _ in range(order - 1)] + \\\n",
    "                                           [ClebschCombining(clebsch, 0)])\n",
    "        \n",
    "    def forward(self, X):\n",
    "        current = X\n",
    "        for combining in self.combinings:\n",
    "            current = combining(current, X)\n",
    "        return current[0].squeeze()"
   ]
  },
  {
   "cell_type": "code",
   "execution_count": null,
   "metadata": {},
   "outputs": [],
   "source": [
    "ps_model =  Powerspectrum(clebsch.precomputed_).to(DEVICE)\n",
    "print(\"powerspectrum: \",ps_model(coefficients).shape)\n",
    "bs_model = Bispectrum(clebsch.precomputed_, LAMBDA_MAX).to(DEVICE)\n",
    "print(\"bispectrum: \", bs_model(coefficients).shape)\n",
    "ts_model = Nspectrum(3, clebsch.precomputed_, LAMBDA_MAX).to(DEVICE) #try other values as order\n",
    "coef_small = {key : value[0:3] for key, value in coefficients.items()} #trispectrum is quite huge\n",
    "print(\"trispectrum: \", ts_model(coef_small).shape)"
   ]
  },
  {
   "cell_type": "code",
   "execution_count": null,
   "metadata": {},
   "outputs": [],
   "source": []
  },
  {
   "cell_type": "code",
   "execution_count": 7,
   "metadata": {},
   "outputs": [
    {
     "name": "stdout",
     "output_type": "stream",
     "text": [
      "<class 'numpy.ndarray'>\n",
      "False\n",
      "True\n"
     ]
    }
   ],
   "source": [
    "a = np.zeros(100)\n",
    "print(type(a))\n",
    "print(type(a) == dict)\n",
    "b = {'asdf' : 234}\n",
    "print(type(b) == dict)"
   ]
  },
  {
   "cell_type": "code",
   "execution_count": null,
   "metadata": {},
   "outputs": [],
   "source": []
  },
  {
   "cell_type": "code",
   "execution_count": null,
   "metadata": {},
   "outputs": [],
   "source": []
  }
 ],
 "metadata": {
  "kernelspec": {
   "display_name": "Python 3",
   "language": "python",
   "name": "python3"
  },
  "language_info": {
   "codemirror_mode": {
    "name": "ipython",
    "version": 3
   },
   "file_extension": ".py",
   "mimetype": "text/x-python",
   "name": "python",
   "nbconvert_exporter": "python",
   "pygments_lexer": "ipython3",
   "version": "3.6.9"
  }
 },
 "nbformat": 4,
 "nbformat_minor": 4
}
