{
 "cells": [
  {
   "cell_type": "code",
   "execution_count": 1,
   "id": "refined-armstrong",
   "metadata": {},
   "outputs": [],
   "source": [
    "import torch\n",
    "import numpy as np\n",
    "import ase.io\n",
    "import tqdm\n",
    "\n",
    "import sys\n",
    "sys.path.append('../code/')\n",
    "from code_pytorch import *\n",
    "from utilities import *\n",
    "from miscellaneous import ClebschGordan\n",
    "\n",
    "from sklearn.linear_model import Ridge\n",
    "from matplotlib import pyplot as plt"
   ]
  },
  {
   "cell_type": "code",
   "execution_count": 2,
   "id": "appointed-chambers",
   "metadata": {},
   "outputs": [],
   "source": [
    "HARTREE_TO_EV = 27.211386245988\n",
    "FORCE_FACTOR = 51.42208619083232\n",
    "LAMBDA_MAX = 5\n",
    "HYPERS = {\n",
    "    'interaction_cutoff': 6.3,\n",
    "    'max_radial': 5,\n",
    "    'max_angular': LAMBDA_MAX,\n",
    "    'gaussian_sigma_type': 'Constant',\n",
    "    'gaussian_sigma_constant': 0.05,\n",
    "    'cutoff_smooth_width': 0.3,\n",
    "    'radial_basis': 'GTO'\n",
    "    \n",
    "}\n",
    "\n",
    "train_subset = '0:10000'\n",
    "test_subset = '10000:11000'\n",
    "DEVICE = 'cuda'\n",
    "METHANE_PATH = '../methane.extxyz'\n",
    "N_SPARSE = 100\n",
    "clebsch = ClebschGordan(LAMBDA_MAX)"
   ]
  },
  {
   "cell_type": "code",
   "execution_count": 3,
   "id": "elder-dividend",
   "metadata": {},
   "outputs": [],
   "source": [
    "train_structures = ase.io.read(METHANE_PATH , index=train_subset)\n",
    "test_structures = ase.io.read(METHANE_PATH , index=test_subset)\n",
    "\n",
    "all_species = get_all_species(train_structures + test_structures)\n",
    "\n",
    "train_coefficients = get_coefs(train_structures, HYPERS, all_species)\n",
    "test_coefficients = get_coefs(test_structures, HYPERS, all_species) \n",
    "L2_mean = get_L2_mean(train_coefficients)\n",
    "\n",
    "for key in train_coefficients.keys():\n",
    "    train_coefficients[key] /= torch.sqrt(L2_mean)\n",
    "    test_coefficients[key] /= torch.sqrt(L2_mean)\n",
    "\n",
    "\n",
    "train_energies = [structure.info['energy'] for structure in train_structures]\n",
    "train_energies = np.array(train_energies) * HARTREE_TO_EV\n",
    "\n",
    "test_energies = [structure.info['energy'] for structure in test_structures]\n",
    "test_energies = np.array(test_energies) * HARTREE_TO_EV\n",
    "\n",
    "mean_e = np.mean(train_energies)\n",
    "train_energies = train_energies - mean_e\n",
    "test_energies = test_energies - mean_e\n",
    "\n",
    "#train_energies = torch.FloatTensor(train_energies).to(DEVICE)\n",
    "#test_energies = torch.FloatTensor(test_energies).to(DEVICE)\n"
   ]
  },
  {
   "cell_type": "code",
   "execution_count": 4,
   "id": "distributed-dispatch",
   "metadata": {},
   "outputs": [
    {
     "name": "stdout",
     "output_type": "stream",
     "text": [
      "torch.Size([100, 600])\n"
     ]
    }
   ],
   "source": [
    "block = ClebschCombining(clebsch.precomputed_, 0)\n",
    "#train_coefficients_n = L2_normalize(train_coefficients)\n",
    "#test_coefficients_n = L2_normalize(test_coefficients)\n",
    "train_ps = block(train_coefficients, train_coefficients)['0'].squeeze()\n",
    "test_ps = block(test_coefficients, test_coefficients)['0'].squeeze()\n",
    "\n",
    "sparse_ind = np.random.permutation(train_ps.shape[0])[0:N_SPARSE]\n",
    "sparse_points = train_ps[sparse_ind]\n",
    "print(sparse_points.shape)\n"
   ]
  },
  {
   "cell_type": "code",
   "execution_count": 5,
   "id": "helpful-bones",
   "metadata": {},
   "outputs": [],
   "source": [
    "def get_kernel(features, sparse_points):\n",
    "    return torch.matmul(features, torch.transpose(sparse_points, 0, 1)) ** 2"
   ]
  },
  {
   "cell_type": "code",
   "execution_count": 6,
   "id": "interim-suggestion",
   "metadata": {},
   "outputs": [
    {
     "name": "stdout",
     "output_type": "stream",
     "text": [
      "torch.Size([10000, 100])\n",
      "torch.Size([1000, 100])\n"
     ]
    }
   ],
   "source": [
    "train_kernel = get_kernel(train_ps, sparse_points)\n",
    "test_kernel = get_kernel(test_ps, sparse_points)\n",
    "#print([0:5])\n",
    "accumulator = Accumulator()\n",
    "\n",
    "train_kernel = accumulator({\"kernel\": train_kernel}, get_structural_indices(train_structures))['kernel']\n",
    "test_kernel = accumulator({\"kernel\": test_kernel}, get_structural_indices(test_structures))['kernel']\n",
    "print(train_kernel.shape)\n",
    "print(test_kernel.shape)\n",
    "#print(train_kernel[0:5])\n",
    "regr = Ridge(alpha = 1e-10, fit_intercept = False)\n",
    "regr.fit(train_kernel.data.cpu().numpy(), train_energies)\n",
    "predictions = regr.predict(test_kernel.data.cpu().numpy())"
   ]
  },
  {
   "cell_type": "code",
   "execution_count": 7,
   "id": "norwegian-wildlife",
   "metadata": {},
   "outputs": [
    {
     "data": {
      "image/png": "[encoded data removed]",
      "text/plain": [
       "<Figure size 432x288 with 1 Axes>"
      ]
     },
     "metadata": {
      "needs_background": "light"
     },
     "output_type": "display_data"
    }
   ],
   "source": [
    "plt.plot(test_energies, predictions, 'o')\n",
    "plt.show()"
   ]
  },
  {
   "cell_type": "code",
   "execution_count": 8,
   "id": "adequate-tennessee",
   "metadata": {},
   "outputs": [],
   "source": [
    "class KernelSingle(torch.nn.Module):\n",
    "    def __init__(self, clebsch, sparse_points):\n",
    "        super(KernelSingle, self).__init__()\n",
    "        self.clebsch_combining = ClebschCombining(clebsch, 0)\n",
    "        self.register_parameter('sparse_points', torch.nn.Parameter(sparse_points))\n",
    "        self.linear = torch.nn.Linear(N_SPARSE, 1, bias = False)\n",
    "        \n",
    "    def forward(self, X):\n",
    "        #X = L2_normalize(X)\n",
    "        ps = self.clebsch_combining(X, X)['0'].squeeze()\n",
    "        kernel_values = get_kernel(ps, self.sparse_points)\n",
    "        return {'energies' : self.linear(kernel_values)}\n",
    "    "
   ]
  },
  {
   "cell_type": "code",
   "execution_count": 9,
   "id": "characteristic-monthly",
   "metadata": {},
   "outputs": [
    {
     "name": "stdout",
     "output_type": "stream",
     "text": [
      "energies torch.Size([50000])\n"
     ]
    }
   ],
   "source": [
    "block = KernelSingle(clebsch.precomputed_, sparse_points)\n",
    "with torch.no_grad():\n",
    "    block.linear.weight = torch.nn.Parameter(torch.from_numpy(regr.coef_).type(torch.get_default_dtype()))\n",
    "    \n",
    "atomic_energies = block(train_coefficients)\n",
    "for key in atomic_energies.keys():\n",
    "    print(key, atomic_energies[key].shape)"
   ]
  },
  {
   "cell_type": "code",
   "execution_count": 10,
   "id": "enabling-double",
   "metadata": {},
   "outputs": [
    {
     "name": "stdout",
     "output_type": "stream",
     "text": [
      "[  0   0   0 ... 999 999 999]\n",
      "energies torch.Size([1000])\n"
     ]
    },
    {
     "data": {
      "text/plain": [
       "[<matplotlib.lines.Line2D at 0x7fa93cbabe20>]"
      ]
     },
     "execution_count": 10,
     "metadata": {},
     "output_type": "execute_result"
    },
    {
     "data": {
      "image/png": "[encoded data removed]",
      "text/plain": [
       "<Figure size 432x288 with 1 Axes>"
      ]
     },
     "metadata": {
      "needs_background": "light"
     },
     "output_type": "display_data"
    }
   ],
   "source": [
    "model = Atomistic(block)\n",
    "test_struc_ind = get_structural_indices(test_structures)\n",
    "print(test_struc_ind)\n",
    "test_predictions = model(test_coefficients, structural_indices = test_struc_ind)\n",
    "for key in test_predictions.keys():\n",
    "    print(key, test_predictions[key].shape)\n",
    "plt.plot(test_energies, test_predictions['energies'].data.cpu().numpy(), 'o')"
   ]
  },
  {
   "cell_type": "markdown",
   "id": "unusual-stream",
   "metadata": {},
   "source": [
    "# Forces"
   ]
  },
  {
   "cell_type": "code",
   "execution_count": 11,
   "id": "smart-midnight",
   "metadata": {},
   "outputs": [],
   "source": [
    "test_forces = [structure.arrays[\"forces\"] for structure in test_structures]\n",
    "test_forces = np.concatenate(test_forces, axis = 0) * FORCE_FACTOR\n",
    "\n",
    "coef_der_test, central_indices_test, derivative_indices_test = \\\n",
    "get_coef_ders(test_structures, HYPERS, all_species)\n",
    "for key in coef_der_test.keys():\n",
    "    coef_der_test[key] /= torch.sqrt(L2_mean)"
   ]
  },
  {
   "cell_type": "code",
   "execution_count": 12,
   "id": "sixth-moore",
   "metadata": {},
   "outputs": [
    {
     "data": {
      "image/png": "[encoded data removed]",
      "text/plain": [
       "<Figure size 432x288 with 1 Axes>"
      ]
     },
     "metadata": {
      "needs_background": "light"
     },
     "output_type": "display_data"
    }
   ],
   "source": [
    "for key in test_coefficients.keys():\n",
    "    test_coefficients[key].requires_grad = True\n",
    "prediction_forces = model.get_forces(coef_der_test, central_indices_test, derivative_indices_test, \n",
    "                                         test_coefficients, structural_indices = test_struc_ind)\n",
    "plt.plot(test_forces.reshape([-1]), prediction_forces.data.cpu().numpy().reshape([-1]), 'o')\n",
    "min_f = np.min(test_forces)\n",
    "max_f = np.max(test_forces)\n",
    "plt.plot([min_f, max_f], [min_f, max_f])\n",
    "plt.show()"
   ]
  },
  {
   "cell_type": "markdown",
   "id": "civic-channel",
   "metadata": {},
   "source": [
    "# C++ invoke"
   ]
  },
  {
   "cell_type": "code",
   "execution_count": 24,
   "id": "sensitive-jurisdiction",
   "metadata": {},
   "outputs": [],
   "source": [
    "test_central_species =  torch.IntTensor(get_central_species(test_structures))\n",
    "test_structural_indices =  torch.IntTensor(get_structural_indices(test_structures))\n",
    "traced = torch.jit.trace(model, [test_coefficients, test_central_species,\n",
    "                                 test_structural_indices], strict = False)\n",
    "traced.save(\"sparse_kernel_model_dict.pt\")"
   ]
  },
  {
   "cell_type": "code",
   "execution_count": 25,
   "id": "dramatic-mention",
   "metadata": {},
   "outputs": [],
   "source": [
    "class ListsWrapper(torch.nn.Module):\n",
    "    def __init__(self, model):\n",
    "        super(ListsWrapper, self).__init__()\n",
    "        self.model = model\n",
    "        \n",
    "    def forward(self, *X):\n",
    "        coefs = {}\n",
    "        for lambd in range(LAMBDA_MAX + 1):\n",
    "            coefs[lambd] = X[lambd]\n",
    "        central_ind = X[LAMBDA_MAX + 1]\n",
    "        struc_ind = X[LAMBDA_MAX + 2]\n",
    "        result = model(coefs, central_ind, struc_ind)\n",
    "        return result['energies']"
   ]
  },
  {
   "cell_type": "code",
   "execution_count": 28,
   "id": "extended-freedom",
   "metadata": {},
   "outputs": [
    {
     "name": "stdout",
     "output_type": "stream",
     "text": [
      "tensor([-2.2262, -3.0381, -1.2729,  0.6249, -3.1689, -1.8544,  1.5321,  1.6077,\n",
      "         0.5077, -1.5478], grad_fn=<SliceBackward>)\n"
     ]
    }
   ],
   "source": [
    "model_list = ListsWrapper(model)\n",
    "inputs = []\n",
    "for lambd in range(LAMBDA_MAX + 1):\n",
    "    inputs.append(test_coefficients[lambd])\n",
    "inputs.append(test_central_species)\n",
    "inputs.append(test_structural_indices)\n",
    "result = model_list(*inputs)\n",
    "print(result[0:10])"
   ]
  },
  {
   "cell_type": "code",
   "execution_count": 29,
   "id": "imposed-playing",
   "metadata": {},
   "outputs": [],
   "source": [
    "traced = torch.jit.trace(model_list, inputs, strict = False)\n",
    "traced.save(\"sparse_kernel_model_list.pt\")"
   ]
  },
  {
   "cell_type": "code",
   "execution_count": 30,
   "id": "geographic-savannah",
   "metadata": {},
   "outputs": [],
   "source": [
    "coef_small = {}\n",
    "for key in test_coefficients.keys():\n",
    "    coef_small[key] = test_coefficients[key][0:10]\n",
    "struc_ind_small = torch.IntTensor(get_structural_indices(test_structures)[0:10])\n",
    "central_species_small = torch.IntTensor(get_central_species(test_structures)[0:10])\n",
    "\n",
    "inputs_small = []\n",
    "for lambd in range(LAMBDA_MAX + 1):\n",
    "    inputs_small.append(coef_small[lambd])\n",
    "inputs_small.append(central_species_small)\n",
    "inputs_small.append(struc_ind_small)"
   ]
  },
  {
   "cell_type": "code",
   "execution_count": 31,
   "id": "flying-active",
   "metadata": {},
   "outputs": [
    {
     "name": "stderr",
     "output_type": "stream",
     "text": [
      "100%|██████████| 8/8 [00:03<00:00,  2.54it/s]\n"
     ]
    }
   ],
   "source": [
    "for i in tqdm.tqdm(range(len(inputs))):\n",
    "    shape_now = inputs[i].shape\n",
    "    now = inputs[i].reshape(-1)\n",
    "    with open(\"inputs/{}\".format(i), \"w\") as f:\n",
    "        print(len(shape_now), file = f)\n",
    "        for dim in shape_now:\n",
    "            print(dim, file = f, end = ' ')\n",
    "        print(file = f)\n",
    "        for j in range(now.shape[0]):\n",
    "            print(now[j].item(), file = f, end = ' ')\n",
    "    "
   ]
  },
  {
   "cell_type": "code",
   "execution_count": null,
   "id": "naughty-dealer",
   "metadata": {},
   "outputs": [],
   "source": []
  },
  {
   "cell_type": "code",
   "execution_count": null,
   "id": "cathedral-fireplace",
   "metadata": {},
   "outputs": [],
   "source": []
  }
 ],
 "metadata": {
  "kernelspec": {
   "display_name": "Python 3",
   "language": "python",
   "name": "python3"
  },
  "language_info": {
   "codemirror_mode": {
    "name": "ipython",
    "version": 3
   },
   "file_extension": ".py",
   "mimetype": "text/x-python",
   "name": "python",
   "nbconvert_exporter": "python",
   "pygments_lexer": "ipython3",
   "version": "3.8.5"
  }
 },
 "nbformat": 4,
 "nbformat_minor": 5
}
