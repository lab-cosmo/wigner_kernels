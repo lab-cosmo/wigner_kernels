{
 "cells": [
  {
   "cell_type": "code",
   "execution_count": 1,
   "metadata": {},
   "outputs": [
    {
     "name": "stderr",
     "output_type": "stream",
     "text": [
      "In /home/pozdn/.local/lib/python3.6/site-packages/matplotlib/mpl-data/stylelib/_classic_test.mplstyle: \n",
      "The text.latex.preview rcparam was deprecated in Matplotlib 3.3 and will be removed two minor releases later.\n",
      "In /home/pozdn/.local/lib/python3.6/site-packages/matplotlib/mpl-data/stylelib/_classic_test.mplstyle: \n",
      "The mathtext.fallback_to_cm rcparam was deprecated in Matplotlib 3.3 and will be removed two minor releases later.\n",
      "In /home/pozdn/.local/lib/python3.6/site-packages/matplotlib/mpl-data/stylelib/_classic_test.mplstyle: Support for setting the 'mathtext.fallback_to_cm' rcParam is deprecated since 3.3 and will be removed two minor releases later; use 'mathtext.fallback : 'cm' instead.\n",
      "In /home/pozdn/.local/lib/python3.6/site-packages/matplotlib/mpl-data/stylelib/_classic_test.mplstyle: \n",
      "The validate_bool_maybe_none function was deprecated in Matplotlib 3.3 and will be removed two minor releases later.\n",
      "In /home/pozdn/.local/lib/python3.6/site-packages/matplotlib/mpl-data/stylelib/_classic_test.mplstyle: \n",
      "The savefig.jpeg_quality rcparam was deprecated in Matplotlib 3.3 and will be removed two minor releases later.\n",
      "In /home/pozdn/.local/lib/python3.6/site-packages/matplotlib/mpl-data/stylelib/_classic_test.mplstyle: \n",
      "The keymap.all_axes rcparam was deprecated in Matplotlib 3.3 and will be removed two minor releases later.\n",
      "In /home/pozdn/.local/lib/python3.6/site-packages/matplotlib/mpl-data/stylelib/_classic_test.mplstyle: \n",
      "The animation.avconv_path rcparam was deprecated in Matplotlib 3.3 and will be removed two minor releases later.\n",
      "In /home/pozdn/.local/lib/python3.6/site-packages/matplotlib/mpl-data/stylelib/_classic_test.mplstyle: \n",
      "The animation.avconv_args rcparam was deprecated in Matplotlib 3.3 and will be removed two minor releases later.\n"
     ]
    }
   ],
   "source": [
    "import numpy as np\n",
    "import ase.io\n",
    "import tqdm\n",
    "from nice.blocks import *\n",
    "from nice.utilities import *\n",
    "from matplotlib import pyplot as plt\n",
    "from sklearn.linear_model import BayesianRidge\n",
    "from sklearn.linear_model import Ridge\n",
    "from rascal.utils import (get_radial_basis_covariance, get_radial_basis_pca, \n",
    "                          get_radial_basis_projections, get_optimal_radial_basis_hypers )\n",
    "from nice.rascal_coefficients import process_structures"
   ]
  },
  {
   "cell_type": "code",
   "execution_count": 2,
   "metadata": {},
   "outputs": [
    {
     "name": "stdout",
     "output_type": "stream",
     "text": [
      "1.8.1+cpu\n",
      "['/home/pozdn/.local/lib/python3.6/site-packages/torch']\n"
     ]
    }
   ],
   "source": [
    "import torch\n",
    "print(torch.__version__)\n",
    "print(torch.__path__)"
   ]
  },
  {
   "cell_type": "code",
   "execution_count": 3,
   "metadata": {},
   "outputs": [
    {
     "name": "stdout",
     "output_type": "stream",
     "text": [
      "-8.361618645459657 26.529682184160265\n"
     ]
    }
   ],
   "source": [
    "HARTREE_TO_EV = 27.211386245988\n",
    "FORCE_FACTOR = 51.42208619083232\n",
    "train_subset = \"0:5000\"  #input for ase.io.read command\n",
    "test_subset = \"5000:6000\"  #input to ase.io.read command\n",
    "environments_for_fitting = 5000  #number of environments to fit nice transfomers\n",
    "GRID = [150, 200, 350, 500, 750, 1000, 1500, 2000, 2500, 3500, 5000]  #for learning curve\n",
    "\n",
    "#HYPERS for librascal spherical expansion coefficients\n",
    "LAMBDA_MAX = 6\n",
    "HYPERS = {\n",
    "    'interaction_cutoff': 6.3,\n",
    "    'max_radial': 6,\n",
    "    'max_angular': LAMBDA_MAX,\n",
    "    'gaussian_sigma_type': 'Constant',\n",
    "    'gaussian_sigma_constant': 0.05,\n",
    "    'cutoff_smooth_width': 0.3,\n",
    "    'radial_basis': 'GTO'\n",
    "}\n",
    "MAGIC_NUMBER = 10000\n",
    "BATCH_SIZE = 500\n",
    "\n",
    "train_structures = process_structures(ase.io.read('methane.extxyz', index=train_subset))\n",
    "'''HYPERS = get_optimal_radial_basis_hypers(HYPERS,\n",
    "                                       train_structures,\n",
    "                                       expanded_max_radial=50)'''\n",
    "test_structures = process_structures(ase.io.read('methane.extxyz', index=test_subset))\n",
    "\n",
    "all_species = get_all_species(train_structures + test_structures)\n",
    "\n",
    "train_energies = [structure.info['energy'] for structure in train_structures]\n",
    "train_energies = np.array(train_energies) * HARTREE_TO_EV\n",
    "e_mean = np.mean(train_energies)\n",
    "train_energies -= e_mean\n",
    "\n",
    "test_energies = [structure.info['energy'] for structure in test_structures]\n",
    "test_energies = np.array(test_energies) * HARTREE_TO_EV\n",
    "test_energies -= e_mean\n",
    "print(np.min(train_energies), np.max(train_energies))"
   ]
  },
  {
   "cell_type": "markdown",
   "metadata": {},
   "source": [
    "# NICE cython"
   ]
  },
  {
   "cell_type": "code",
   "execution_count": 4,
   "metadata": {},
   "outputs": [],
   "source": [
    "#our model:\n",
    "def get_nice():\n",
    "    return StandardSequence([\n",
    "        StandardBlock(ThresholdExpansioner(),\n",
    "                      CovariantsPurifierBoth(regressor = Ridge(alpha = 1e-5)),\n",
    "                      IndividualLambdaPCAsBoth(n_components=60),\n",
    "                      None,\n",
    "                      None,\n",
    "                      None),\n",
    "        StandardBlock(ThresholdExpansioner(),\n",
    "                      CovariantsPurifierBoth(regressor = Ridge(alpha = 1e-5)),\n",
    "                      IndividualLambdaPCAsBoth(n_components=60),\n",
    "                      None,\n",
    "                      None,\n",
    "                      None),\n",
    "        StandardBlock(ThresholdExpansioner(),\n",
    "                      CovariantsPurifierBoth(regressor = Ridge(alpha = 1e-5)),\n",
    "                      IndividualLambdaPCAsBoth(n_components=60),\n",
    "                      None,\n",
    "                      None,\n",
    "                      None),\n",
    "       \n",
    "    ],\n",
    "                           )"
   ]
  },
  {
   "cell_type": "code",
   "execution_count": 5,
   "metadata": {},
   "outputs": [
    {
     "name": "stderr",
     "output_type": "stream",
     "text": [
      "100%|██████████| 50/50 [00:00<00:00, 76.94it/s]\n",
      "100%|██████████| 2/2 [00:00<00:00, 17.63it/s]\n",
      "100%|██████████| 10/10 [00:00<00:00, 53.92it/s]\n",
      "100%|██████████| 2/2 [00:00<00:00, 84.68it/s]\n"
     ]
    }
   ],
   "source": [
    "train_coefficients = get_spherical_expansion(train_structures, HYPERS,\n",
    "                                             all_species)\n",
    "\n",
    "test_coefficients = get_spherical_expansion(test_structures, HYPERS,\n",
    "                                            all_species)\n",
    "\n",
    "for key in train_coefficients.keys():\n",
    "    train_coefficients[key] *= MAGIC_NUMBER\n",
    "    test_coefficients[key] *= MAGIC_NUMBER\n",
    "\n"
   ]
  },
  {
   "cell_type": "code",
   "execution_count": 6,
   "metadata": {},
   "outputs": [],
   "source": [
    "nice = get_nice()\n",
    "np.random.seed(0)\n",
    "nice.fit(train_coefficients[6][:environments_for_fitting])"
   ]
  },
  {
   "cell_type": "code",
   "execution_count": 7,
   "metadata": {},
   "outputs": [],
   "source": [
    "def get_features(nice, coefs):\n",
    "    features = {}\n",
    "    for i in range(0, coefs.shape[0], BATCH_SIZE):\n",
    "        now = nice.transform(coefs[i : i + BATCH_SIZE], return_only_invariants = True)\n",
    "        for key in now.keys():\n",
    "            if key in features.keys():\n",
    "                features[key].append(now[key])\n",
    "            else:\n",
    "                features[key] = [now[key]]\n",
    "    for key in features.keys():\n",
    "        features[key] = np.concatenate(features[key], axis = 0)\n",
    "    return features"
   ]
  },
  {
   "cell_type": "code",
   "execution_count": 8,
   "metadata": {},
   "outputs": [
    {
     "name": "stdout",
     "output_type": "stream",
     "text": [
      "(5000, 12)\n",
      "(5000, 60)\n",
      "(5000, 60)\n",
      "(5000, 60)\n"
     ]
    }
   ],
   "source": [
    "train_features = get_features(nice, train_coefficients[6])\n",
    "test_features = get_features(nice, test_coefficients[6])\n",
    "for key in train_features.keys():\n",
    "    print(train_features[key].shape)"
   ]
  },
  {
   "cell_type": "code",
   "execution_count": 9,
   "metadata": {},
   "outputs": [
    {
     "name": "stdout",
     "output_type": "stream",
     "text": [
      "1 (5000, 12)\n",
      "2 (5000, 60)\n",
      "3 (5000, 60)\n",
      "4 (5000, 60)\n"
     ]
    }
   ],
   "source": [
    "for key in train_features.keys():\n",
    "    print(key, train_features[key].shape)\n",
    "#print(train_features[1][0:10])\n",
    "#print(train_features[2][0:10])"
   ]
  },
  {
   "cell_type": "code",
   "execution_count": 10,
   "metadata": {},
   "outputs": [],
   "source": [
    "def get_rmse(first, second):\n",
    "    return np.sqrt(np.mean((first - second)**2))\n",
    "\n",
    "\n",
    "def get_standard_deviation(values):\n",
    "    return np.sqrt(np.mean((values - np.mean(values))**2))\n",
    "\n",
    "\n",
    "def get_relative_performance(predictions, values):\n",
    "    return get_rmse(predictions, values) / get_standard_deviation(values)\n",
    "\n",
    "\n",
    "def estimate_performance(regressor, data_train, data_test, targets_train,\n",
    "                         targets_test):\n",
    "    regressor.fit(data_train, targets_train)\n",
    "    return get_relative_performance(regressor.predict(data_test), targets_test)\n",
    "\n",
    "def get_lr(regressor, data_train, data_test, targets_train,\n",
    "           targets_test):\n",
    "    result = []\n",
    "    for el in GRID:\n",
    "        result.append(estimate_performance(regressor, data_train[:el], data_test,\n",
    "                                           targets_train[:el], targets_test))\n",
    "    return result"
   ]
  },
  {
   "cell_type": "code",
   "execution_count": 11,
   "metadata": {},
   "outputs": [
    {
     "name": "stdout",
     "output_type": "stream",
     "text": [
      "(5000, 12)\n",
      "(5000, 72)\n",
      "(5000, 132)\n",
      "(5000, 192)\n"
     ]
    },
    {
     "data": {
      "image/png": "[encoded data removed]",
      "text/plain": [
       "<Figure size 432x288 with 1 Axes>"
      ]
     },
     "metadata": {
      "needs_background": "light"
     },
     "output_type": "display_data"
    }
   ],
   "source": [
    "for index in range(1, 5):\n",
    "    train = [train_features[i] for i in range(1, index + 1)]\n",
    "    test = [test_features[i] for i in range(1, index + 1)]\n",
    "    train = np.concatenate(train, axis = 1)\n",
    "    test = np.concatenate(test, axis = 1)\n",
    "    print(train.shape)\n",
    "    lr = get_lr(BayesianRidge(), train, test, train_energies, test_energies)\n",
    "    plt.plot(GRID, lr, label = \"body order {}\".format(index))\n",
    "plt.xscale('log')\n",
    "plt.yscale('log')\n",
    "plt.legend()\n",
    "plt.show()"
   ]
  },
  {
   "cell_type": "markdown",
   "metadata": {},
   "source": [
    "# NICE pytorch"
   ]
  },
  {
   "cell_type": "code",
   "execution_count": 12,
   "metadata": {},
   "outputs": [],
   "source": [
    "from pytorch_prototype.nice_blocks import *\n",
    "from pytorch_prototype.utilities import *"
   ]
  },
  {
   "cell_type": "code",
   "execution_count": 13,
   "metadata": {},
   "outputs": [
    {
     "name": "stdout",
     "output_type": "stream",
     "text": [
      "0 torch.Size([5000, 12, 1])\n",
      "2 torch.Size([5000, 12, 5])\n",
      "4 torch.Size([5000, 12, 9])\n",
      "6 torch.Size([5000, 12, 13])\n",
      "0 torch.Size([1000, 12, 1])\n",
      "2 torch.Size([1000, 12, 5])\n",
      "4 torch.Size([1000, 12, 9])\n",
      "6 torch.Size([1000, 12, 13])\n"
     ]
    }
   ],
   "source": [
    "def split(coefficients):\n",
    "    lambd_max = max(coefficients.keys())\n",
    "    even, odd = {}, {}\n",
    "    for lambd in range(lambd_max + 1):\n",
    "        if lambd % 2 == 0:\n",
    "            even[str(lambd)] = coefficients[lambd]\n",
    "        else:\n",
    "            odd[str(lambd)] = coefficients[lambd]\n",
    "    return even, odd\n",
    "\n",
    "\n",
    "train_coefficients_all = get_coefs(train_structures, HYPERS, all_species)\n",
    "test_coefficients_all = get_coefs(test_structures, HYPERS, all_species)\n",
    "for key in train_coefficients_all.keys():\n",
    "    train_coefficients_all[key] *= MAGIC_NUMBER\n",
    "    test_coefficients_all[key] *= MAGIC_NUMBER\n",
    "    \n",
    "central = get_central_species(train_structures)\n",
    "mask = central == 6\n",
    "train_coefficients = {}\n",
    "for key in train_coefficients_all.keys():\n",
    "    train_coefficients[key] = train_coefficients_all[key][mask]\n",
    "    \n",
    "\n",
    "central = get_central_species(test_structures)\n",
    "mask = central == 6\n",
    "test_coefficients = {}\n",
    "for key in test_coefficients_all.keys():\n",
    "    test_coefficients[key] = test_coefficients_all[key][mask]\n",
    "                                                \n",
    "    \n",
    "train_even, train_odd = split(train_coefficients)\n",
    "test_even, test_odd = split(test_coefficients)\n",
    "\n",
    "\n",
    "for key in train_even.keys():\n",
    "    print(key, train_even[key].shape)\n",
    "for key in test_even.keys():\n",
    "    print(key, test_even[key].shape)"
   ]
  },
  {
   "cell_type": "code",
   "execution_count": 14,
   "metadata": {},
   "outputs": [
    {
     "name": "stdout",
     "output_type": "stream",
     "text": [
      "torch.Size([5000, 12, 1])\n",
      "torch.Size([5000, 12, 5])\n",
      "torch.Size([5000, 12, 9])\n",
      "torch.Size([5000, 12, 13])\n",
      "torch.Size([5000, 12, 3])\n",
      "torch.Size([5000, 12, 7])\n",
      "torch.Size([5000, 12, 11])\n"
     ]
    },
    {
     "name": "stderr",
     "output_type": "stream",
     "text": [
      "/home/pozdn/.local/lib/python3.6/site-packages/sklearn/linear_model/_ridge.py:148: LinAlgWarning: Ill-conditioned matrix (rcond=7.84149e-09): result may not be accurate.\n",
      "  overwrite_a=True).T\n",
      "/home/pozdn/.local/lib/python3.6/site-packages/sklearn/linear_model/_ridge.py:148: LinAlgWarning: Ill-conditioned matrix (rcond=1.40028e-08): result may not be accurate.\n",
      "  overwrite_a=True).T\n",
      "/home/pozdn/.local/lib/python3.6/site-packages/sklearn/linear_model/_ridge.py:148: LinAlgWarning: Ill-conditioned matrix (rcond=1.41176e-09): result may not be accurate.\n",
      "  overwrite_a=True).T\n",
      "/home/pozdn/.local/lib/python3.6/site-packages/sklearn/linear_model/_ridge.py:148: LinAlgWarning: Ill-conditioned matrix (rcond=5.50512e-09): result may not be accurate.\n",
      "  overwrite_a=True).T\n",
      "/home/pozdn/.local/lib/python3.6/site-packages/sklearn/linear_model/_ridge.py:148: LinAlgWarning: Ill-conditioned matrix (rcond=2.18038e-08): result may not be accurate.\n",
      "  overwrite_a=True).T\n",
      "/home/pozdn/.local/lib/python3.6/site-packages/sklearn/linear_model/_ridge.py:148: LinAlgWarning: Ill-conditioned matrix (rcond=6.35721e-09): result may not be accurate.\n",
      "  overwrite_a=True).T\n",
      "/home/pozdn/.local/lib/python3.6/site-packages/sklearn/linear_model/_ridge.py:148: LinAlgWarning: Ill-conditioned matrix (rcond=9.70019e-09): result may not be accurate.\n",
      "  overwrite_a=True).T\n",
      "/home/pozdn/.local/lib/python3.6/site-packages/sklearn/linear_model/_ridge.py:148: LinAlgWarning: Ill-conditioned matrix (rcond=1.40028e-08): result may not be accurate.\n",
      "  overwrite_a=True).T\n",
      "/home/pozdn/.local/lib/python3.6/site-packages/sklearn/linear_model/_ridge.py:148: LinAlgWarning: Ill-conditioned matrix (rcond=5.50512e-09): result may not be accurate.\n",
      "  overwrite_a=True).T\n",
      "/home/pozdn/.local/lib/python3.6/site-packages/sklearn/linear_model/_ridge.py:148: LinAlgWarning: Ill-conditioned matrix (rcond=7.84149e-09): result may not be accurate.\n",
      "  overwrite_a=True).T\n",
      "/home/pozdn/.local/lib/python3.6/site-packages/sklearn/linear_model/_ridge.py:148: LinAlgWarning: Ill-conditioned matrix (rcond=1.38843e-09): result may not be accurate.\n",
      "  overwrite_a=True).T\n",
      "/home/pozdn/.local/lib/python3.6/site-packages/sklearn/linear_model/_ridge.py:148: LinAlgWarning: Ill-conditioned matrix (rcond=9.70019e-09): result may not be accurate.\n",
      "  overwrite_a=True).T\n",
      "/home/pozdn/.local/lib/python3.6/site-packages/sklearn/linear_model/_ridge.py:148: LinAlgWarning: Ill-conditioned matrix (rcond=2.18038e-08): result may not be accurate.\n",
      "  overwrite_a=True).T\n",
      "/home/pozdn/.local/lib/python3.6/site-packages/sklearn/linear_model/_ridge.py:148: LinAlgWarning: Ill-conditioned matrix (rcond=6.3572e-09): result may not be accurate.\n",
      "  overwrite_a=True).T\n",
      "/home/pozdn/.local/lib/python3.6/site-packages/sklearn/linear_model/_ridge.py:148: LinAlgWarning: Ill-conditioned matrix (rcond=1.40028e-08): result may not be accurate.\n",
      "  overwrite_a=True).T\n",
      "/home/pozdn/.local/lib/python3.6/site-packages/sklearn/linear_model/_ridge.py:148: LinAlgWarning: Ill-conditioned matrix (rcond=5.50512e-09): result may not be accurate.\n",
      "  overwrite_a=True).T\n",
      "/home/pozdn/.local/lib/python3.6/site-packages/sklearn/linear_model/_ridge.py:148: LinAlgWarning: Ill-conditioned matrix (rcond=7.84149e-09): result may not be accurate.\n",
      "  overwrite_a=True).T\n",
      "/home/pozdn/.local/lib/python3.6/site-packages/sklearn/linear_model/_ridge.py:148: LinAlgWarning: Ill-conditioned matrix (rcond=1.40028e-09): result may not be accurate.\n",
      "  overwrite_a=True).T\n",
      "/home/pozdn/.local/lib/python3.6/site-packages/sklearn/linear_model/_ridge.py:148: LinAlgWarning: Ill-conditioned matrix (rcond=9.70019e-09): result may not be accurate.\n",
      "  overwrite_a=True).T\n",
      "/home/pozdn/.local/lib/python3.6/site-packages/sklearn/linear_model/_ridge.py:148: LinAlgWarning: Ill-conditioned matrix (rcond=2.18038e-08): result may not be accurate.\n",
      "  overwrite_a=True).T\n",
      "/home/pozdn/.local/lib/python3.6/site-packages/sklearn/linear_model/_ridge.py:148: LinAlgWarning: Ill-conditioned matrix (rcond=6.3572e-09): result may not be accurate.\n",
      "  overwrite_a=True).T\n"
     ]
    }
   ],
   "source": [
    "blocks = [BodyOrderIteration(Expansioner(LAMBDA_MAX), \n",
    "                           Purifier(regressor = Ridge(alpha = 1e-5)),\n",
    "                           Compressor(60)),\n",
    "         BodyOrderIteration(Expansioner(LAMBDA_MAX), \n",
    "                           Purifier(regressor = Ridge(alpha = 1e-5)),\n",
    "                           Compressor(60)),\n",
    "         BodyOrderIteration(Expansioner(LAMBDA_MAX), \n",
    "                           Purifier(regressor = Ridge(alpha = 1e-5)),\n",
    "                           Compressor(60))]\n",
    "nice = NICE(blocks)\n",
    "for_fit_even, for_fit_odd = {}, {}\n",
    "for key in train_even.keys():\n",
    "    for_fit_even[key] = train_even[key][:environments_for_fitting]\n",
    "    print(for_fit_even[key].shape)\n",
    "for key in test_odd.keys():\n",
    "    for_fit_odd[key] = train_odd[key][:environments_for_fitting]\n",
    "    print(for_fit_odd[key].shape)\n",
    "np.random.seed(0)   \n",
    "nice.fit(for_fit_even, for_fit_odd)"
   ]
  },
  {
   "cell_type": "code",
   "execution_count": 15,
   "metadata": {},
   "outputs": [],
   "source": [
    "def convert(features):\n",
    "    result = {}\n",
    "    for i in range(len(features)):\n",
    "        #print(features[i].keys())\n",
    "        result[i + 1] = features[i]['0'].squeeze().data.cpu().numpy()\n",
    "    return result"
   ]
  },
  {
   "cell_type": "code",
   "execution_count": 16,
   "metadata": {},
   "outputs": [],
   "source": [
    "train_features, _ = nice(train_even, train_odd)\n",
    "train_features = convert(train_features)\n",
    "\n",
    "test_features, _ = nice(test_even, test_odd)\n",
    "test_features = convert(test_features)"
   ]
  },
  {
   "cell_type": "code",
   "execution_count": 17,
   "metadata": {},
   "outputs": [
    {
     "name": "stdout",
     "output_type": "stream",
     "text": [
      "1 (5000, 12)\n",
      "2 (5000, 60)\n",
      "3 (5000, 60)\n",
      "4 (5000, 60)\n"
     ]
    }
   ],
   "source": [
    "for key in train_features.keys():\n",
    "    print(key, train_features[key].shape)"
   ]
  },
  {
   "cell_type": "code",
   "execution_count": 18,
   "metadata": {},
   "outputs": [
    {
     "data": {
      "text/plain": [
       "'print(train_features[1][0:10])\\nprint(train_features[2][0:10])'"
      ]
     },
     "execution_count": 18,
     "metadata": {},
     "output_type": "execute_result"
    }
   ],
   "source": [
    "'''print(train_features[1][0:10])\n",
    "print(train_features[2][0:10])'''"
   ]
  },
  {
   "cell_type": "code",
   "execution_count": 19,
   "metadata": {},
   "outputs": [
    {
     "name": "stdout",
     "output_type": "stream",
     "text": [
      "(5000, 12)\n",
      "(5000, 72)\n",
      "(5000, 132)\n",
      "(5000, 192)\n"
     ]
    },
    {
     "data": {
      "image/png": "[encoded data removed]",
      "text/plain": [
       "<Figure size 432x288 with 1 Axes>"
      ]
     },
     "metadata": {
      "needs_background": "light"
     },
     "output_type": "display_data"
    }
   ],
   "source": [
    "for index in range(1, 5):\n",
    "    train = [train_features[i] for i in range(1, index + 1)]\n",
    "    test = [test_features[i] for i in range(1, index + 1)]\n",
    "    train = np.concatenate(train, axis = 1)\n",
    "    test = np.concatenate(test, axis = 1)\n",
    "    print(train.shape)\n",
    "    lr = get_lr(BayesianRidge(), train, test, train_energies, test_energies)\n",
    "    plt.plot(GRID, lr, label = \"body order {}\".format(index))\n",
    "plt.xscale('log')\n",
    "plt.yscale('log')\n",
    "plt.legend()\n",
    "plt.show()"
   ]
  },
  {
   "cell_type": "code",
   "execution_count": 24,
   "metadata": {},
   "outputs": [
    {
     "name": "stdout",
     "output_type": "stream",
     "text": [
      "(5000, 192)\n",
      "(1000, 192)\n"
     ]
    },
    {
     "data": {
      "image/png": "[encoded data removed]",
      "text/plain": [
       "<Figure size 432x288 with 1 Axes>"
      ]
     },
     "metadata": {
      "needs_background": "light"
     },
     "output_type": "display_data"
    },
    {
     "name": "stdout",
     "output_type": "stream",
     "text": [
      "(192,)\n"
     ]
    }
   ],
   "source": [
    "print(train.shape)\n",
    "rgr = BayesianRidge(fit_intercept = False)\n",
    "rgr.fit(train, train_energies)\n",
    "predictions = rgr.predict(test)\n",
    "print(test.shape)\n",
    "plt.plot(test_energies, predictions, 'o')\n",
    "plt.show()\n",
    "best_weight = rgr.coef_\n",
    "print(best_weight.shape)"
   ]
  },
  {
   "cell_type": "code",
   "execution_count": 25,
   "metadata": {},
   "outputs": [],
   "source": [
    "class Dummy(torch.nn.Module):\n",
    "    def __init__(self):\n",
    "        super(Dummy, self).__init__()\n",
    "    def forward(self, X):\n",
    "        return {\"energy\" : torch.zeros(X[0].shape[0], 1)}\n",
    "    \n",
    "class NICE_predictions(torch.nn.Module):\n",
    "    def __init__(self, nice, in_shape, out_shape):\n",
    "        super(NICE_predictions, self).__init__()\n",
    "        self.nice = nice\n",
    "        self.linear = nn.Linear(in_shape, out_shape, bias = False)\n",
    "        \n",
    "    def forward(self, X):\n",
    "        even, odd = split(X)\n",
    "        features, _ = nice(even, odd)\n",
    "        conc = []\n",
    "        for i in range(len(features)):\n",
    "            conc.append(features[i]['0'].squeeze())\n",
    "        conc = torch.cat(conc, dim = 1)\n",
    "        print(conc[0,0:20])\n",
    "        print(conc.shape)\n",
    "        return {\"energy\": self.linear(conc)}"
   ]
  },
  {
   "cell_type": "code",
   "execution_count": 26,
   "metadata": {},
   "outputs": [
    {
     "name": "stdout",
     "output_type": "stream",
     "text": [
      "torch.Size([1, 192])\n",
      "tensor([-1.2637e-02, -5.8609e+00,  1.8118e+01,  1.8235e+01,  3.8879e+02,\n",
      "         9.6655e+00, -1.0108e+00,  1.5269e-06,  3.6353e-07,  4.0643e-07,\n",
      "         1.4703e-07,  7.0024e-08,  1.5348e+01,  2.2243e+00,  6.5859e+00,\n",
      "         1.0440e-01,  1.2336e-01, -4.9699e-01,  7.8233e-01,  5.6689e+00],\n",
      "       grad_fn=<SliceBackward>)\n",
      "tensor([ 1.1974e+00,  1.9887e-02, -1.1737e-01, -7.3614e-04,  3.0733e-03,\n",
      "         1.1112e-05, -7.4694e-07,  3.1213e-08,  7.4314e-09,  8.3032e-09,\n",
      "         3.0098e-09,  1.4295e-09,  2.6977e-03, -4.1297e-02,  7.0663e-03,\n",
      "        -1.7989e-02, -2.0220e-02,  1.9680e-02, -1.0402e-02,  2.6114e-03],\n",
      "       grad_fn=<SliceBackward>)\n",
      "torch.Size([1000, 192])\n",
      "torch.Size([1000, 1])\n"
     ]
    }
   ],
   "source": [
    "model = NICE_predictions(nice, 192, 1)\n",
    "print(model.linear.weight.shape)\n",
    "with torch.no_grad():\n",
    "    best_weight = torch.from_numpy(best_weight)[None, :]\n",
    "    model.linear.weight.copy_(best_weight)\n",
    "print(model.linear.weight[0, 0:20])\n",
    "result = model(test_coefficients)\n",
    "print(result[\"energy\"].shape)"
   ]
  },
  {
   "cell_type": "code",
   "execution_count": 27,
   "metadata": {},
   "outputs": [],
   "source": [
    "models = {'1' : Dummy(), '6' : model}\n",
    "atomistic = Atomistic(models)"
   ]
  },
  {
   "cell_type": "code",
   "execution_count": 28,
   "metadata": {},
   "outputs": [
    {
     "name": "stdout",
     "output_type": "stream",
     "text": [
      "torch.Size([5000, 12, 1])\n"
     ]
    }
   ],
   "source": [
    "print(test_coefficients_all[0].shape)"
   ]
  },
  {
   "cell_type": "code",
   "execution_count": 29,
   "metadata": {},
   "outputs": [
    {
     "name": "stdout",
     "output_type": "stream",
     "text": [
      "tensor([ 1.1974e+00,  1.9887e-02, -1.1737e-01, -7.3614e-04,  3.0733e-03,\n",
      "         1.1112e-05, -7.4694e-07,  3.1213e-08,  7.4314e-09,  8.3032e-09,\n",
      "         3.0098e-09,  1.4295e-09,  2.6977e-03, -4.1297e-02,  7.0663e-03,\n",
      "        -1.7989e-02, -2.0220e-02,  1.9680e-02, -1.0402e-02,  2.6114e-03],\n",
      "       grad_fn=<SliceBackward>)\n",
      "torch.Size([1000, 192])\n"
     ]
    }
   ],
   "source": [
    "result = atomistic(test_coefficients_all, central_species = get_central_species(test_structures),\n",
    "                   structural_indices = get_structural_indices(test_structures))\n",
    "test_predictions = result['energy'].data.cpu().numpy().squeeze()"
   ]
  },
  {
   "cell_type": "code",
   "execution_count": 30,
   "metadata": {},
   "outputs": [
    {
     "name": "stdout",
     "output_type": "stream",
     "text": [
      "[-1.26369600e-02 -5.86088648e+00  1.81175633e+01  1.82350691e+01\n",
      "  3.88788900e+02  9.66549457e+00 -1.01084120e+00  1.52686819e-06\n",
      "  3.63533656e-07  4.06426251e-07  1.47030702e-07  7.00240180e-08\n",
      "  1.53482738e+01  2.22426358e+00  6.58592998e+00  1.04404739e-01\n",
      "  1.23357338e-01 -4.96988013e-01  7.82327274e-01  5.66892200e+00]\n",
      "tensor([-1.2637e-02, -5.8609e+00,  1.8118e+01,  1.8235e+01,  3.8879e+02,\n",
      "         9.6655e+00, -1.0108e+00,  1.5269e-06,  3.6353e-07,  4.0643e-07,\n",
      "         1.4703e-07,  7.0024e-08,  1.5348e+01,  2.2243e+00,  6.5859e+00,\n",
      "         1.0440e-01,  1.2336e-01, -4.9699e-01,  7.8233e-01,  5.6689e+00],\n",
      "       grad_fn=<SliceBackward>)\n",
      "None\n"
     ]
    }
   ],
   "source": [
    "#print(test[0, 0:20])\n",
    "print(rgr.coef_[0:20])\n",
    "print(print(atomistic.models['6'].linear.weight[0, 0:20]))"
   ]
  },
  {
   "cell_type": "code",
   "execution_count": 31,
   "metadata": {},
   "outputs": [
    {
     "data": {
      "image/png": "[encoded data removed]",
      "text/plain": [
       "<Figure size 432x288 with 1 Axes>"
      ]
     },
     "metadata": {
      "needs_background": "light"
     },
     "output_type": "display_data"
    }
   ],
   "source": [
    "plt.plot(test_energies, test_predictions, 'o')\n",
    "plt.show()"
   ]
  },
  {
   "cell_type": "code",
   "execution_count": 32,
   "metadata": {},
   "outputs": [],
   "source": [
    "#forces = atomistic.predict_forces()"
   ]
  },
  {
   "cell_type": "code",
   "execution_count": 33,
   "metadata": {},
   "outputs": [],
   "source": [
    "test_forces = [structure.arrays[\"forces\"] for structure in test_structures]\n",
    "test_forces = np.concatenate(test_forces, axis = 0) * FORCE_FACTOR\n",
    "\n",
    "coef_der_test, central_indices_test, derivative_indices_test = \\\n",
    "get_coef_ders(test_structures, HYPERS, all_species)\n",
    "for key in coef_der_test.keys():\n",
    "    coef_der_test[key] *= MAGIC_NUMBER"
   ]
  },
  {
   "cell_type": "code",
   "execution_count": 34,
   "metadata": {},
   "outputs": [
    {
     "name": "stdout",
     "output_type": "stream",
     "text": [
      "tensor([ 1.1974e+00,  1.9887e-02, -1.1737e-01, -7.3614e-04,  3.0733e-03,\n",
      "         1.1112e-05, -7.4694e-07,  3.1213e-08,  7.4314e-09,  8.3032e-09,\n",
      "         3.0098e-09,  1.4295e-09,  2.6977e-03, -4.1297e-02,  7.0663e-03,\n",
      "        -1.7989e-02, -2.0220e-02,  1.9680e-02, -1.0402e-02,  2.6114e-03],\n",
      "       grad_fn=<SliceBackward>)\n",
      "torch.Size([1000, 192])\n"
     ]
    }
   ],
   "source": [
    "for key in test_coefficients_all.keys():\n",
    "    test_coefficients_all[key].requires_grad = True\n",
    "prediction_forces = atomistic.get_forces(coef_der_test, central_indices_test, derivative_indices_test, \n",
    "                                         test_coefficients_all,\n",
    "                                         structural_indices = get_structural_indices(test_structures),\n",
    "                                         central_species = get_central_species(test_structures))\n"
   ]
  },
  {
   "cell_type": "code",
   "execution_count": 35,
   "metadata": {},
   "outputs": [
    {
     "data": {
      "image/png": "[encoded data removed]",
      "text/plain": [
       "<Figure size 432x288 with 1 Axes>"
      ]
     },
     "metadata": {
      "needs_background": "light"
     },
     "output_type": "display_data"
    }
   ],
   "source": [
    "plt.plot(test_forces.reshape([-1]), prediction_forces.data.cpu().numpy().reshape([-1]),\n",
    "         'o', markersize = 3)\n",
    "min_f = np.min(test_forces)\n",
    "max_f = np.max(test_forces)\n",
    "plt.plot([min_f, max_f], [min_f, max_f])\n",
    "plt.xlabel(\"dft forces, eV/A\")\n",
    "plt.ylabel(\"prediction forces, eV/A\")\n",
    "plt.title(\"NICE\")\n",
    "plt.savefig(\"ready.pdf\", bbox_inches = 'tight')\n",
    "plt.show()"
   ]
  },
  {
   "cell_type": "code",
   "execution_count": 36,
   "metadata": {},
   "outputs": [
    {
     "name": "stdout",
     "output_type": "stream",
     "text": [
      "0.18242476729851353\n",
      "0.19589084009644545\n"
     ]
    }
   ],
   "source": [
    "print(lr[-1])\n",
    "print(get_relative_performance(test_forces.reshape([-1]),\n",
    "                               prediction_forces.data.cpu().numpy().reshape([-1])))"
   ]
  },
  {
   "cell_type": "markdown",
   "metadata": {},
   "source": [
    "INITIAL: \n",
    "0.2802526363315779\n",
    "0.36032098406318647\n",
    "\n",
    "INITIAL WITH OPTIMAL BASIS:\n",
    "0.5965028311506828\n",
    "1.1745494999259651\n",
    "\n",
    "BIG SAME DATASET SIZE:\n",
    "0.19612787870778658\n",
    "0.23920163769932476\n",
    "\n",
    "40:\n",
    "0.196692075027405\n",
    "0.20770218304449836"
   ]
  },
  {
   "cell_type": "code",
   "execution_count": null,
   "metadata": {},
   "outputs": [],
   "source": []
  }
 ],
 "metadata": {
  "kernelspec": {
   "display_name": "Python 3",
   "language": "python",
   "name": "python3"
  },
  "language_info": {
   "codemirror_mode": {
    "name": "ipython",
    "version": 3
   },
   "file_extension": ".py",
   "mimetype": "text/x-python",
   "name": "python",
   "nbconvert_exporter": "python",
   "pygments_lexer": "ipython3",
   "version": "3.6.9"
  }
 },
 "nbformat": 4,
 "nbformat_minor": 5
}
