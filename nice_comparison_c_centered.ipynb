{
 "cells": [
  {
   "cell_type": "code",
   "execution_count": 1,
   "id": "interstate-zimbabwe",
   "metadata": {},
   "outputs": [],
   "source": [
    "import numpy as np\n",
    "import ase.io\n",
    "import tqdm\n",
    "from nice.blocks import *\n",
    "from nice.utilities import *\n",
    "from matplotlib import pyplot as plt\n",
    "from sklearn.linear_model import BayesianRidge\n",
    "from sklearn.linear_model import Ridge"
   ]
  },
  {
   "cell_type": "code",
   "execution_count": 2,
   "id": "incorrect-bulletin",
   "metadata": {},
   "outputs": [
    {
     "name": "stdout",
     "output_type": "stream",
     "text": [
      "-7.519471700884196 26.095904038212893\n"
     ]
    }
   ],
   "source": [
    "HARTREE_TO_EV = 27.211386245988\n",
    "train_subset = \"0:1500\"  #input for ase.io.read command\n",
    "test_subset = \"1500:2000\"  #input to ase.io.read command\n",
    "environments_for_fitting = 100  #number of environments to fit nice transfomers\n",
    "GRID = [150, 200, 350, 500, 750, 1000, 1500, 2000, 2500]  #for learning curve\n",
    "\n",
    "#HYPERS for librascal spherical expansion coefficients\n",
    "LAMBDA_MAX = 5\n",
    "HYPERS = {\n",
    "    'interaction_cutoff': 6.3,\n",
    "    'max_radial': 5,\n",
    "    'max_angular': LAMBDA_MAX,\n",
    "    'gaussian_sigma_type': 'Constant',\n",
    "    'gaussian_sigma_constant': 0.05,\n",
    "    'cutoff_smooth_width': 0.3,\n",
    "    'radial_basis': 'GTO'\n",
    "}\n",
    "MAGIC_NUMBER = 10000\n",
    "\n",
    "train_structures = ase.io.read('methane.extxyz', index=train_subset)\n",
    "\n",
    "test_structures = ase.io.read('methane.extxyz', index=test_subset)\n",
    "\n",
    "all_species = get_all_species(train_structures + test_structures)\n",
    "\n",
    "train_energies = [structure.info['energy'] for structure in train_structures]\n",
    "train_energies = np.array(train_energies) * HARTREE_TO_EV\n",
    "e_mean = np.mean(train_energies)\n",
    "train_energies -= e_mean\n",
    "\n",
    "test_energies = [structure.info['energy'] for structure in test_structures]\n",
    "test_energies = np.array(test_energies) * HARTREE_TO_EV\n",
    "test_energies -= e_mean\n",
    "print(np.min(train_energies), np.max(train_energies))"
   ]
  },
  {
   "cell_type": "markdown",
   "id": "small-minimum",
   "metadata": {},
   "source": [
    "# NICE cython"
   ]
  },
  {
   "cell_type": "code",
   "execution_count": 3,
   "id": "tracked-niagara",
   "metadata": {},
   "outputs": [],
   "source": [
    "#our model:\n",
    "def get_nice():\n",
    "    return StandardSequence([\n",
    "        StandardBlock(ThresholdExpansioner(),\n",
    "                      CovariantsPurifierBoth(regressor = Ridge(alpha = 1e-5)),\n",
    "                      IndividualLambdaPCAsBoth(n_components=20),\n",
    "                      None,\n",
    "                      None,\n",
    "                      None),\n",
    "        StandardBlock(ThresholdExpansioner(),\n",
    "                      CovariantsPurifierBoth(regressor = Ridge(alpha = 1e-5)),\n",
    "                      IndividualLambdaPCAsBoth(n_components=20),\n",
    "                      None,\n",
    "                      None,\n",
    "                      None),\n",
    "        StandardBlock(ThresholdExpansioner(),\n",
    "                      CovariantsPurifierBoth(regressor = Ridge(alpha = 1e-5)),\n",
    "                      IndividualLambdaPCAsBoth(n_components=20),\n",
    "                      None,\n",
    "                      None,\n",
    "                      None),\n",
    "       \n",
    "    ],\n",
    "                           )"
   ]
  },
  {
   "cell_type": "code",
   "execution_count": 4,
   "id": "seasonal-hanging",
   "metadata": {},
   "outputs": [
    {
     "name": "stderr",
     "output_type": "stream",
     "text": [
      "100%|██████████| 15/15 [00:00<00:00, 171.59it/s]\n",
      "100%|██████████| 2/2 [00:00<00:00, 385.65it/s]\n",
      "100%|██████████| 5/5 [00:00<00:00, 133.35it/s]\n",
      "100%|██████████| 2/2 [00:00<00:00, 891.08it/s]\n"
     ]
    }
   ],
   "source": [
    "train_coefficients = get_spherical_expansion(train_structures, HYPERS,\n",
    "                                             all_species)\n",
    "\n",
    "test_coefficients = get_spherical_expansion(test_structures, HYPERS,\n",
    "                                            all_species)\n",
    "\n",
    "for key in train_coefficients.keys():\n",
    "    train_coefficients[key] *= MAGIC_NUMBER\n",
    "    test_coefficients[key] *= MAGIC_NUMBER\n",
    "\n"
   ]
  },
  {
   "cell_type": "code",
   "execution_count": 5,
   "id": "generous-fusion",
   "metadata": {},
   "outputs": [
    {
     "name": "stderr",
     "output_type": "stream",
     "text": [
      "/home/sergey/.local/lib/python3.8/site-packages/nice/blocks/compressors.py:94: RuntimeWarning: given data is less than desired number of points to fit pca. Desired number of points to fit pca is 200, while number of vectors is 100, dimensionality of single vector (lambd + 1) is 1, i. e. total number of points is 100. Number of pca components is 20.\n",
      "  warnings.warn(\n",
      "/home/sergey/.local/lib/python3.8/site-packages/nice/blocks/purifiers.py:144: UserWarning: Amount of provided data is less than the desired one to fit InvariantsPurifer. Number of old features is 30, desired number of data points is 300, actual number of data points (n_env * (l + 1)) is 100, since number of environments is 100, and l is 0.\n",
      "  warnings.warn(\n",
      "/home/sergey/.local/lib/python3.8/site-packages/nice/blocks/purifiers.py:144: UserWarning: Amount of provided data is less than the desired one to fit InvariantsPurifer. Number of old features is 30, desired number of data points is 300, actual number of data points (n_env * (l + 1)) is 200, since number of environments is 100, and l is 1.\n",
      "  warnings.warn(\n",
      "/home/sergey/.local/lib/python3.8/site-packages/nice/blocks/compressors.py:94: RuntimeWarning: given data is less than desired number of points to fit pca. Desired number of points to fit pca is 200, while number of vectors is 100, dimensionality of single vector (lambd + 1) is 1, i. e. total number of points is 100. Number of pca components is 20.\n",
      "  warnings.warn(\n",
      "/home/sergey/.local/lib/python3.8/site-packages/nice/blocks/compressors.py:94: RuntimeWarning: given data is less than desired number of points to fit pca. Desired number of points to fit pca is 200, while number of vectors is 100, dimensionality of single vector (lambd + 1) is 1, i. e. total number of points is 100. Number of pca components is 20.\n",
      "  warnings.warn(\n",
      "/home/sergey/.local/lib/python3.8/site-packages/nice/blocks/purifiers.py:144: UserWarning: Amount of provided data is less than the desired one to fit InvariantsPurifer. Number of old features is 50, desired number of data points is 500, actual number of data points (n_env * (l + 1)) is 100, since number of environments is 100, and l is 0.\n",
      "  warnings.warn(\n",
      "/home/sergey/.local/lib/python3.8/site-packages/nice/blocks/purifiers.py:144: UserWarning: Amount of provided data is less than the desired one to fit InvariantsPurifer. Number of old features is 40, desired number of data points is 400, actual number of data points (n_env * (l + 1)) is 200, since number of environments is 100, and l is 1.\n",
      "  warnings.warn(\n",
      "/home/sergey/.local/lib/python3.8/site-packages/nice/blocks/purifiers.py:144: UserWarning: Amount of provided data is less than the desired one to fit InvariantsPurifer. Number of old features is 50, desired number of data points is 500, actual number of data points (n_env * (l + 1)) is 300, since number of environments is 100, and l is 2.\n",
      "  warnings.warn(\n",
      "/home/sergey/.local/lib/python3.8/site-packages/nice/blocks/purifiers.py:144: UserWarning: Amount of provided data is less than the desired one to fit InvariantsPurifer. Number of old features is 20, desired number of data points is 200, actual number of data points (n_env * (l + 1)) is 100, since number of environments is 100, and l is 0.\n",
      "  warnings.warn(\n",
      "/home/sergey/.local/lib/python3.8/site-packages/nice/blocks/purifiers.py:144: UserWarning: Amount of provided data is less than the desired one to fit InvariantsPurifer. Number of old features is 50, desired number of data points is 500, actual number of data points (n_env * (l + 1)) is 200, since number of environments is 100, and l is 1.\n",
      "  warnings.warn(\n",
      "/home/sergey/.local/lib/python3.8/site-packages/nice/blocks/purifiers.py:144: UserWarning: Amount of provided data is less than the desired one to fit InvariantsPurifer. Number of old features is 40, desired number of data points is 400, actual number of data points (n_env * (l + 1)) is 300, since number of environments is 100, and l is 2.\n",
      "  warnings.warn(\n",
      "/home/sergey/.local/lib/python3.8/site-packages/nice/blocks/purifiers.py:144: UserWarning: Amount of provided data is less than the desired one to fit InvariantsPurifer. Number of old features is 50, desired number of data points is 500, actual number of data points (n_env * (l + 1)) is 400, since number of environments is 100, and l is 3.\n",
      "  warnings.warn(\n",
      "/home/sergey/.local/lib/python3.8/site-packages/nice/blocks/compressors.py:94: RuntimeWarning: given data is less than desired number of points to fit pca. Desired number of points to fit pca is 200, while number of vectors is 100, dimensionality of single vector (lambd + 1) is 1, i. e. total number of points is 100. Number of pca components is 20.\n",
      "  warnings.warn(\n",
      "/home/sergey/.local/lib/python3.8/site-packages/nice/blocks/compressors.py:94: RuntimeWarning: given data is less than desired number of points to fit pca. Desired number of points to fit pca is 200, while number of vectors is 100, dimensionality of single vector (lambd + 1) is 1, i. e. total number of points is 100. Number of pca components is 20.\n",
      "  warnings.warn(\n"
     ]
    }
   ],
   "source": [
    "nice = get_nice()\n",
    "np.random.seed(0)\n",
    "nice.fit(train_coefficients[6][:environments_for_fitting])"
   ]
  },
  {
   "cell_type": "code",
   "execution_count": 6,
   "id": "sitting-spell",
   "metadata": {},
   "outputs": [],
   "source": [
    "train_features = nice.transform(train_coefficients[6], return_only_invariants = True)\n",
    "test_features = nice.transform(test_coefficients[6], return_only_invariants = True)"
   ]
  },
  {
   "cell_type": "code",
   "execution_count": 7,
   "id": "searching-spine",
   "metadata": {},
   "outputs": [
    {
     "name": "stdout",
     "output_type": "stream",
     "text": [
      "1 (1500, 10)\n",
      "2 (1500, 20)\n",
      "3 (1500, 20)\n",
      "4 (1500, 20)\n"
     ]
    }
   ],
   "source": [
    "for key in train_features.keys():\n",
    "    print(key, train_features[key].shape)\n",
    "#print(train_features[1][0:10])\n",
    "#print(train_features[2][0:10])"
   ]
  },
  {
   "cell_type": "code",
   "execution_count": 8,
   "id": "dress-chicken",
   "metadata": {},
   "outputs": [],
   "source": [
    "def get_rmse(first, second):\n",
    "    return np.sqrt(np.mean((first - second)**2))\n",
    "\n",
    "\n",
    "def get_standard_deviation(values):\n",
    "    return np.sqrt(np.mean((values - np.mean(values))**2))\n",
    "\n",
    "\n",
    "def get_relative_performance(predictions, values):\n",
    "    return get_rmse(predictions, values) / get_standard_deviation(values)\n",
    "\n",
    "\n",
    "def estimate_performance(regressor, data_train, data_test, targets_train,\n",
    "                         targets_test):\n",
    "    regressor.fit(data_train, targets_train)\n",
    "    return get_relative_performance(regressor.predict(data_test), targets_test)\n",
    "\n",
    "def get_lr(regressor, data_train, data_test, targets_train,\n",
    "           targets_test):\n",
    "    result = []\n",
    "    for el in GRID:\n",
    "        result.append(estimate_performance(regressor, data_train[:el], data_test,\n",
    "                                           targets_train[:el], targets_test))\n",
    "    return result"
   ]
  },
  {
   "cell_type": "code",
   "execution_count": 9,
   "id": "virgin-strategy",
   "metadata": {},
   "outputs": [
    {
     "name": "stdout",
     "output_type": "stream",
     "text": [
      "(1500, 10)\n",
      "(1500, 30)\n",
      "(1500, 50)\n",
      "(1500, 70)\n"
     ]
    },
    {
     "data": {
      "image/png": "[encoded data removed]",
      "text/plain": [
       "<Figure size 432x288 with 1 Axes>"
      ]
     },
     "metadata": {
      "needs_background": "light"
     },
     "output_type": "display_data"
    }
   ],
   "source": [
    "for index in range(1, 5):\n",
    "    train = [train_features[i] for i in range(1, index + 1)]\n",
    "    test = [test_features[i] for i in range(1, index + 1)]\n",
    "    train = np.concatenate(train, axis = 1)\n",
    "    test = np.concatenate(test, axis = 1)\n",
    "    print(train.shape)\n",
    "    lr = get_lr(BayesianRidge(), train, test, train_energies, test_energies)\n",
    "    plt.plot(GRID, lr, label = \"body order {}\".format(index))\n",
    "plt.xscale('log')\n",
    "plt.yscale('log')\n",
    "plt.legend()\n",
    "plt.show()"
   ]
  },
  {
   "cell_type": "markdown",
   "id": "particular-spiritual",
   "metadata": {},
   "source": [
    "# NICE pytorch"
   ]
  },
  {
   "cell_type": "code",
   "execution_count": 10,
   "id": "blind-portrait",
   "metadata": {},
   "outputs": [],
   "source": [
    "from pytorch_prototype.nice_blocks import *\n",
    "from pytorch_prototype.utilities import *"
   ]
  },
  {
   "cell_type": "code",
   "execution_count": 11,
   "id": "undefined-intensity",
   "metadata": {},
   "outputs": [
    {
     "name": "stdout",
     "output_type": "stream",
     "text": [
      "0 torch.Size([1500, 10, 1])\n",
      "2 torch.Size([1500, 10, 5])\n",
      "4 torch.Size([1500, 10, 9])\n",
      "0 torch.Size([500, 10, 1])\n",
      "2 torch.Size([500, 10, 5])\n",
      "4 torch.Size([500, 10, 9])\n"
     ]
    }
   ],
   "source": [
    "def split(coefficients):\n",
    "    lambd_max = max(coefficients.keys())\n",
    "    even, odd = {}, {}\n",
    "    for lambd in range(lambd_max + 1):\n",
    "        if lambd % 2 == 0:\n",
    "            even[str(lambd)] = coefficients[lambd]\n",
    "        else:\n",
    "            odd[str(lambd)] = coefficients[lambd]\n",
    "    return even, odd\n",
    "\n",
    "\n",
    "train_coefficients = get_coefs(train_structures, HYPERS, all_species)\n",
    "central = get_central_species(train_structures)\n",
    "mask = central == 6\n",
    "for key in train_coefficients.keys():\n",
    "    train_coefficients[key] = train_coefficients[key][mask]\n",
    "    \n",
    "test_coefficients = get_coefs(test_structures, HYPERS, all_species)\n",
    "central = get_central_species(test_structures)\n",
    "mask = central == 6\n",
    "for key in test_coefficients.keys():\n",
    "    test_coefficients[key] = test_coefficients[key][mask]\n",
    "                                                   \n",
    "for key in train_coefficients.keys():\n",
    "    train_coefficients[key] *= MAGIC_NUMBER\n",
    "    test_coefficients[key] *= MAGIC_NUMBER\n",
    "    \n",
    "train_even, train_odd = split(train_coefficients)\n",
    "test_even, test_odd = split(test_coefficients)\n",
    "\n",
    "\n",
    "for key in train_even.keys():\n",
    "    print(key, train_even[key].shape)\n",
    "for key in test_even.keys():\n",
    "    print(key, test_even[key].shape)"
   ]
  },
  {
   "cell_type": "code",
   "execution_count": 12,
   "id": "northern-selection",
   "metadata": {},
   "outputs": [
    {
     "name": "stdout",
     "output_type": "stream",
     "text": [
      "torch.Size([100, 10, 1])\n",
      "torch.Size([100, 10, 5])\n",
      "torch.Size([100, 10, 9])\n",
      "torch.Size([100, 10, 3])\n",
      "torch.Size([100, 10, 7])\n",
      "torch.Size([100, 10, 11])\n"
     ]
    }
   ],
   "source": [
    "blocks = [BodyOrderIteration(Expansioner(LAMBDA_MAX), \n",
    "                           Purifier(regressor = Ridge(alpha = 1e-5)),\n",
    "                           Compressor(20)),\n",
    "         BodyOrderIteration(Expansioner(LAMBDA_MAX), \n",
    "                           Purifier(regressor = Ridge(alpha = 1e-5)),\n",
    "                           Compressor(20)),\n",
    "         BodyOrderIteration(Expansioner(LAMBDA_MAX), \n",
    "                           Purifier(regressor = Ridge(alpha = 1e-5)),\n",
    "                           Compressor(20))]\n",
    "nice = NICE(blocks)\n",
    "for_fit_even, for_fit_odd = {}, {}\n",
    "for key in train_even.keys():\n",
    "    for_fit_even[key] = train_even[key][:environments_for_fitting]\n",
    "    print(for_fit_even[key].shape)\n",
    "for key in test_odd.keys():\n",
    "    for_fit_odd[key] = train_odd[key][:environments_for_fitting]\n",
    "    print(for_fit_odd[key].shape)\n",
    "np.random.seed(0)   \n",
    "nice.fit(for_fit_even, for_fit_odd)"
   ]
  },
  {
   "cell_type": "code",
   "execution_count": 13,
   "id": "accessory-street",
   "metadata": {},
   "outputs": [],
   "source": [
    "def convert(features):\n",
    "    result = {}\n",
    "    for i in range(len(features)):\n",
    "        #print(features[i].keys())\n",
    "        result[i + 1] = features[i]['0'].squeeze().data.cpu().numpy()\n",
    "    return result"
   ]
  },
  {
   "cell_type": "code",
   "execution_count": 14,
   "id": "worse-funeral",
   "metadata": {},
   "outputs": [],
   "source": [
    "train_features, _ = nice(train_even, train_odd)\n",
    "train_features = convert(train_features)\n",
    "\n",
    "test_features, _ = nice(test_even, test_odd)\n",
    "test_features = convert(test_features)"
   ]
  },
  {
   "cell_type": "code",
   "execution_count": 15,
   "id": "entire-paper",
   "metadata": {},
   "outputs": [
    {
     "name": "stdout",
     "output_type": "stream",
     "text": [
      "1 (1500, 10)\n",
      "2 (1500, 20)\n",
      "3 (1500, 20)\n",
      "4 (1500, 20)\n"
     ]
    }
   ],
   "source": [
    "for key in train_features.keys():\n",
    "    print(key, train_features[key].shape)"
   ]
  },
  {
   "cell_type": "code",
   "execution_count": 16,
   "id": "lesser-plymouth",
   "metadata": {},
   "outputs": [
    {
     "data": {
      "text/plain": [
       "'print(train_features[1][0:10])\\nprint(train_features[2][0:10])'"
      ]
     },
     "execution_count": 16,
     "metadata": {},
     "output_type": "execute_result"
    }
   ],
   "source": [
    "'''print(train_features[1][0:10])\n",
    "print(train_features[2][0:10])'''"
   ]
  },
  {
   "cell_type": "code",
   "execution_count": 17,
   "id": "hired-highlight",
   "metadata": {},
   "outputs": [
    {
     "name": "stdout",
     "output_type": "stream",
     "text": [
      "(1500, 10)\n",
      "(1500, 30)\n",
      "(1500, 50)\n",
      "(1500, 70)\n"
     ]
    },
    {
     "data": {
      "image/png": "[encoded data removed]",
      "text/plain": [
       "<Figure size 432x288 with 1 Axes>"
      ]
     },
     "metadata": {
      "needs_background": "light"
     },
     "output_type": "display_data"
    }
   ],
   "source": [
    "for index in range(1, 5):\n",
    "    train = [train_features[i] for i in range(1, index + 1)]\n",
    "    test = [test_features[i] for i in range(1, index + 1)]\n",
    "    train = np.concatenate(train, axis = 1)\n",
    "    test = np.concatenate(test, axis = 1)\n",
    "    print(train.shape)\n",
    "    lr = get_lr(BayesianRidge(), train, test, train_energies, test_energies)\n",
    "    plt.plot(GRID, lr, label = \"body order {}\".format(index))\n",
    "plt.xscale('log')\n",
    "plt.yscale('log')\n",
    "plt.legend()\n",
    "plt.show()"
   ]
  },
  {
   "cell_type": "code",
   "execution_count": null,
   "id": "synthetic-project",
   "metadata": {},
   "outputs": [],
   "source": []
  }
 ],
 "metadata": {
  "kernelspec": {
   "display_name": "Python 3",
   "language": "python",
   "name": "python3"
  },
  "language_info": {
   "codemirror_mode": {
    "name": "ipython",
    "version": 3
   },
   "file_extension": ".py",
   "mimetype": "text/x-python",
   "name": "python",
   "nbconvert_exporter": "python",
   "pygments_lexer": "ipython3",
   "version": "3.8.5"
  }
 },
 "nbformat": 4,
 "nbformat_minor": 5
}
