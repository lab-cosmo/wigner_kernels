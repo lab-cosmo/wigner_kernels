{
 "cells": [
  {
   "cell_type": "code",
   "execution_count": 1,
   "id": "earned-barcelona",
   "metadata": {},
   "outputs": [],
   "source": [
    "import numpy as np\n",
    "import ase.io\n",
    "import tqdm\n",
    "from nice.blocks import *\n",
    "from nice.utilities import *\n",
    "from matplotlib import pyplot as plt\n",
    "from sklearn.linear_model import BayesianRidge\n",
    "from sklearn.linear_model import Ridge"
   ]
  },
  {
   "cell_type": "code",
   "execution_count": 2,
   "id": "sonic-means",
   "metadata": {},
   "outputs": [
    {
     "name": "stdout",
     "output_type": "stream",
     "text": [
      "-7.519471700884196 26.095904038212893\n"
     ]
    }
   ],
   "source": [
    "HARTREE_TO_EV = 27.211386245988\n",
    "FORCE_FACTOR = 51.42208619083232\n",
    "train_subset = \"0:1500\"  #input for ase.io.read command\n",
    "test_subset = \"1500:2000\"  #input to ase.io.read command\n",
    "environments_for_fitting = 1000  #number of environments to fit nice transfomers\n",
    "GRID = [150, 200, 350, 500, 750, 1000, 1500, 2000, 2500]  #for learning curve\n",
    "\n",
    "#HYPERS for librascal spherical expansion coefficients\n",
    "LAMBDA_MAX = 5\n",
    "HYPERS = {\n",
    "    'interaction_cutoff': 6.3,\n",
    "    'max_radial': 5,\n",
    "    'max_angular': LAMBDA_MAX,\n",
    "    'gaussian_sigma_type': 'Constant',\n",
    "    'gaussian_sigma_constant': 0.05,\n",
    "    'cutoff_smooth_width': 0.3,\n",
    "    'radial_basis': 'GTO'\n",
    "}\n",
    "MAGIC_NUMBER = 10000\n",
    "BATCH_SIZE = 500\n",
    "\n",
    "train_structures = ase.io.read('methane.extxyz', index=train_subset)\n",
    "\n",
    "test_structures = ase.io.read('methane.extxyz', index=test_subset)\n",
    "\n",
    "all_species = get_all_species(train_structures + test_structures)\n",
    "\n",
    "train_energies = [structure.info['energy'] for structure in train_structures]\n",
    "train_energies = np.array(train_energies) * HARTREE_TO_EV\n",
    "e_mean = np.mean(train_energies)\n",
    "train_energies -= e_mean\n",
    "\n",
    "test_energies = [structure.info['energy'] for structure in test_structures]\n",
    "test_energies = np.array(test_energies) * HARTREE_TO_EV\n",
    "test_energies -= e_mean\n",
    "print(np.min(train_energies), np.max(train_energies))"
   ]
  },
  {
   "cell_type": "markdown",
   "id": "existing-youth",
   "metadata": {},
   "source": [
    "# NICE cython"
   ]
  },
  {
   "cell_type": "code",
   "execution_count": 3,
   "id": "everyday-variance",
   "metadata": {},
   "outputs": [],
   "source": [
    "#our model:\n",
    "def get_nice():\n",
    "    return StandardSequence([\n",
    "        StandardBlock(ThresholdExpansioner(),\n",
    "                      CovariantsPurifierBoth(regressor = Ridge(alpha = 1e-5)),\n",
    "                      IndividualLambdaPCAsBoth(n_components=20),\n",
    "                      None,\n",
    "                      None,\n",
    "                      None),\n",
    "        StandardBlock(ThresholdExpansioner(),\n",
    "                      CovariantsPurifierBoth(regressor = Ridge(alpha = 1e-5)),\n",
    "                      IndividualLambdaPCAsBoth(n_components=20),\n",
    "                      None,\n",
    "                      None,\n",
    "                      None),\n",
    "        StandardBlock(ThresholdExpansioner(),\n",
    "                      CovariantsPurifierBoth(regressor = Ridge(alpha = 1e-5)),\n",
    "                      IndividualLambdaPCAsBoth(n_components=20),\n",
    "                      None,\n",
    "                      None,\n",
    "                      None),\n",
    "       \n",
    "    ],\n",
    "                           )"
   ]
  },
  {
   "cell_type": "code",
   "execution_count": 4,
   "id": "behavioral-duration",
   "metadata": {},
   "outputs": [
    {
     "name": "stderr",
     "output_type": "stream",
     "text": [
      "100%|██████████| 15/15 [00:00<00:00, 175.94it/s]\n",
      "100%|██████████| 2/2 [00:00<00:00, 355.59it/s]\n",
      "100%|██████████| 5/5 [00:00<00:00, 127.90it/s]\n",
      "100%|██████████| 2/2 [00:00<00:00, 900.16it/s]\n"
     ]
    }
   ],
   "source": [
    "train_coefficients = get_spherical_expansion(train_structures, HYPERS,\n",
    "                                             all_species)\n",
    "\n",
    "test_coefficients = get_spherical_expansion(test_structures, HYPERS,\n",
    "                                            all_species)\n",
    "\n",
    "for key in train_coefficients.keys():\n",
    "    train_coefficients[key] *= MAGIC_NUMBER\n",
    "    test_coefficients[key] *= MAGIC_NUMBER\n",
    "\n"
   ]
  },
  {
   "cell_type": "code",
   "execution_count": 5,
   "id": "technical-prophet",
   "metadata": {},
   "outputs": [],
   "source": [
    "nice = get_nice()\n",
    "np.random.seed(0)\n",
    "nice.fit(train_coefficients[6][:environments_for_fitting])"
   ]
  },
  {
   "cell_type": "code",
   "execution_count": 6,
   "id": "executed-indie",
   "metadata": {},
   "outputs": [],
   "source": [
    "def get_features(nice, coefs):\n",
    "    features = {}\n",
    "    for i in range(0, coefs.shape[0], BATCH_SIZE):\n",
    "        now = nice.transform(coefs[i : i + BATCH_SIZE], return_only_invariants = True)\n",
    "        for key in now.keys():\n",
    "            if key in features.keys():\n",
    "                features[key].append(now[key])\n",
    "            else:\n",
    "                features[key] = [now[key]]\n",
    "    for key in features.keys():\n",
    "        features[key] = np.concatenate(features[key], axis = 0)\n",
    "    return features"
   ]
  },
  {
   "cell_type": "code",
   "execution_count": 7,
   "id": "macro-modem",
   "metadata": {},
   "outputs": [
    {
     "name": "stdout",
     "output_type": "stream",
     "text": [
      "(1500, 10)\n",
      "(1500, 20)\n",
      "(1500, 20)\n",
      "(1500, 20)\n"
     ]
    }
   ],
   "source": [
    "train_features = get_features(nice, train_coefficients[6])\n",
    "test_features = get_features(nice, test_coefficients[6])\n",
    "for key in train_features.keys():\n",
    "    print(train_features[key].shape)"
   ]
  },
  {
   "cell_type": "code",
   "execution_count": 8,
   "id": "aquatic-hormone",
   "metadata": {},
   "outputs": [
    {
     "name": "stdout",
     "output_type": "stream",
     "text": [
      "1 (1500, 10)\n",
      "2 (1500, 20)\n",
      "3 (1500, 20)\n",
      "4 (1500, 20)\n"
     ]
    }
   ],
   "source": [
    "for key in train_features.keys():\n",
    "    print(key, train_features[key].shape)\n",
    "#print(train_features[1][0:10])\n",
    "#print(train_features[2][0:10])"
   ]
  },
  {
   "cell_type": "code",
   "execution_count": 9,
   "id": "correct-genre",
   "metadata": {},
   "outputs": [],
   "source": [
    "def get_rmse(first, second):\n",
    "    return np.sqrt(np.mean((first - second)**2))\n",
    "\n",
    "\n",
    "def get_standard_deviation(values):\n",
    "    return np.sqrt(np.mean((values - np.mean(values))**2))\n",
    "\n",
    "\n",
    "def get_relative_performance(predictions, values):\n",
    "    return get_rmse(predictions, values) / get_standard_deviation(values)\n",
    "\n",
    "\n",
    "def estimate_performance(regressor, data_train, data_test, targets_train,\n",
    "                         targets_test):\n",
    "    regressor.fit(data_train, targets_train)\n",
    "    return get_relative_performance(regressor.predict(data_test), targets_test)\n",
    "\n",
    "def get_lr(regressor, data_train, data_test, targets_train,\n",
    "           targets_test):\n",
    "    result = []\n",
    "    for el in GRID:\n",
    "        result.append(estimate_performance(regressor, data_train[:el], data_test,\n",
    "                                           targets_train[:el], targets_test))\n",
    "    return result"
   ]
  },
  {
   "cell_type": "code",
   "execution_count": 10,
   "id": "neutral-function",
   "metadata": {},
   "outputs": [
    {
     "name": "stdout",
     "output_type": "stream",
     "text": [
      "(1500, 10)\n",
      "(1500, 30)\n",
      "(1500, 50)\n",
      "(1500, 70)\n"
     ]
    },
    {
     "data": {
      "image/png": "[encoded data removed]",
      "text/plain": [
       "<Figure size 432x288 with 1 Axes>"
      ]
     },
     "metadata": {
      "needs_background": "light"
     },
     "output_type": "display_data"
    }
   ],
   "source": [
    "for index in range(1, 5):\n",
    "    train = [train_features[i] for i in range(1, index + 1)]\n",
    "    test = [test_features[i] for i in range(1, index + 1)]\n",
    "    train = np.concatenate(train, axis = 1)\n",
    "    test = np.concatenate(test, axis = 1)\n",
    "    print(train.shape)\n",
    "    lr = get_lr(BayesianRidge(), train, test, train_energies, test_energies)\n",
    "    plt.plot(GRID, lr, label = \"body order {}\".format(index))\n",
    "plt.xscale('log')\n",
    "plt.yscale('log')\n",
    "plt.legend()\n",
    "plt.show()"
   ]
  },
  {
   "cell_type": "markdown",
   "id": "colonial-expression",
   "metadata": {},
   "source": [
    "# NICE pytorch"
   ]
  },
  {
   "cell_type": "code",
   "execution_count": 11,
   "id": "delayed-worthy",
   "metadata": {},
   "outputs": [],
   "source": [
    "from pytorch_prototype.nice_blocks import *\n",
    "from pytorch_prototype.utilities import *"
   ]
  },
  {
   "cell_type": "code",
   "execution_count": 12,
   "id": "cloudy-humidity",
   "metadata": {},
   "outputs": [
    {
     "name": "stdout",
     "output_type": "stream",
     "text": [
      "0 torch.Size([1500, 10, 1])\n",
      "2 torch.Size([1500, 10, 5])\n",
      "4 torch.Size([1500, 10, 9])\n",
      "0 torch.Size([500, 10, 1])\n",
      "2 torch.Size([500, 10, 5])\n",
      "4 torch.Size([500, 10, 9])\n"
     ]
    }
   ],
   "source": [
    "def split(coefficients):\n",
    "    lambd_max = max(coefficients.keys())\n",
    "    even, odd = {}, {}\n",
    "    for lambd in range(lambd_max + 1):\n",
    "        if lambd % 2 == 0:\n",
    "            even[str(lambd)] = coefficients[lambd]\n",
    "        else:\n",
    "            odd[str(lambd)] = coefficients[lambd]\n",
    "    return even, odd\n",
    "\n",
    "\n",
    "train_coefficients_all = get_coefs(train_structures, HYPERS, all_species)\n",
    "test_coefficients_all = get_coefs(test_structures, HYPERS, all_species)\n",
    "for key in train_coefficients_all.keys():\n",
    "    train_coefficients_all[key] *= MAGIC_NUMBER\n",
    "    test_coefficients_all[key] *= MAGIC_NUMBER\n",
    "    \n",
    "central = get_central_species(train_structures)\n",
    "mask = central == 6\n",
    "train_coefficients = {}\n",
    "for key in train_coefficients_all.keys():\n",
    "    train_coefficients[key] = train_coefficients_all[key][mask]\n",
    "    \n",
    "\n",
    "central = get_central_species(test_structures)\n",
    "mask = central == 6\n",
    "test_coefficients = {}\n",
    "for key in test_coefficients_all.keys():\n",
    "    test_coefficients[key] = test_coefficients_all[key][mask]\n",
    "                                                \n",
    "    \n",
    "train_even, train_odd = split(train_coefficients)\n",
    "test_even, test_odd = split(test_coefficients)\n",
    "\n",
    "\n",
    "for key in train_even.keys():\n",
    "    print(key, train_even[key].shape)\n",
    "for key in test_even.keys():\n",
    "    print(key, test_even[key].shape)"
   ]
  },
  {
   "cell_type": "code",
   "execution_count": 13,
   "id": "guilty-musician",
   "metadata": {},
   "outputs": [
    {
     "name": "stdout",
     "output_type": "stream",
     "text": [
      "torch.Size([1000, 10, 1])\n",
      "torch.Size([1000, 10, 5])\n",
      "torch.Size([1000, 10, 9])\n",
      "torch.Size([1000, 10, 3])\n",
      "torch.Size([1000, 10, 7])\n",
      "torch.Size([1000, 10, 11])\n"
     ]
    },
    {
     "name": "stderr",
     "output_type": "stream",
     "text": [
      "/usr/local/lib/python3.8/dist-packages/sklearn/linear_model/_ridge.py:147: LinAlgWarning: Ill-conditioned matrix (rcond=3.83388e-08): result may not be accurate.\n",
      "  return linalg.solve(A, Xy, sym_pos=True,\n",
      "/usr/local/lib/python3.8/dist-packages/sklearn/linear_model/_ridge.py:147: LinAlgWarning: Ill-conditioned matrix (rcond=1.21793e-08): result may not be accurate.\n",
      "  return linalg.solve(A, Xy, sym_pos=True,\n",
      "/usr/local/lib/python3.8/dist-packages/sklearn/linear_model/_ridge.py:147: LinAlgWarning: Ill-conditioned matrix (rcond=4.64796e-08): result may not be accurate.\n",
      "  return linalg.solve(A, Xy, sym_pos=True,\n",
      "/usr/local/lib/python3.8/dist-packages/sklearn/linear_model/_ridge.py:147: LinAlgWarning: Ill-conditioned matrix (rcond=3.15659e-08): result may not be accurate.\n",
      "  return linalg.solve(A, Xy, sym_pos=True,\n",
      "/usr/local/lib/python3.8/dist-packages/sklearn/linear_model/_ridge.py:147: LinAlgWarning: Ill-conditioned matrix (rcond=3.83388e-08): result may not be accurate.\n",
      "  return linalg.solve(A, Xy, sym_pos=True,\n",
      "/usr/local/lib/python3.8/dist-packages/sklearn/linear_model/_ridge.py:147: LinAlgWarning: Ill-conditioned matrix (rcond=1.21712e-08): result may not be accurate.\n",
      "  return linalg.solve(A, Xy, sym_pos=True,\n",
      "/usr/local/lib/python3.8/dist-packages/sklearn/linear_model/_ridge.py:147: LinAlgWarning: Ill-conditioned matrix (rcond=3.15659e-08): result may not be accurate.\n",
      "  return linalg.solve(A, Xy, sym_pos=True,\n",
      "/usr/local/lib/python3.8/dist-packages/sklearn/linear_model/_ridge.py:147: LinAlgWarning: Ill-conditioned matrix (rcond=4.64796e-08): result may not be accurate.\n",
      "  return linalg.solve(A, Xy, sym_pos=True,\n",
      "/usr/local/lib/python3.8/dist-packages/sklearn/linear_model/_ridge.py:147: LinAlgWarning: Ill-conditioned matrix (rcond=3.83388e-08): result may not be accurate.\n",
      "  return linalg.solve(A, Xy, sym_pos=True,\n",
      "/usr/local/lib/python3.8/dist-packages/sklearn/linear_model/_ridge.py:147: LinAlgWarning: Ill-conditioned matrix (rcond=1.21663e-08): result may not be accurate.\n",
      "  return linalg.solve(A, Xy, sym_pos=True,\n",
      "/usr/local/lib/python3.8/dist-packages/sklearn/linear_model/_ridge.py:147: LinAlgWarning: Ill-conditioned matrix (rcond=3.15659e-08): result may not be accurate.\n",
      "  return linalg.solve(A, Xy, sym_pos=True,\n",
      "/usr/local/lib/python3.8/dist-packages/sklearn/linear_model/_ridge.py:147: LinAlgWarning: Ill-conditioned matrix (rcond=4.64796e-08): result may not be accurate.\n",
      "  return linalg.solve(A, Xy, sym_pos=True,\n"
     ]
    }
   ],
   "source": [
    "blocks = [BodyOrderIteration(Expansioner(LAMBDA_MAX), \n",
    "                           Purifier(regressor = Ridge(alpha = 1e-5)),\n",
    "                           Compressor(20)),\n",
    "         BodyOrderIteration(Expansioner(LAMBDA_MAX), \n",
    "                           Purifier(regressor = Ridge(alpha = 1e-5)),\n",
    "                           Compressor(20)),\n",
    "         BodyOrderIteration(Expansioner(LAMBDA_MAX), \n",
    "                           Purifier(regressor = Ridge(alpha = 1e-5)),\n",
    "                           Compressor(20))]\n",
    "nice = NICE(blocks)\n",
    "for_fit_even, for_fit_odd = {}, {}\n",
    "for key in train_even.keys():\n",
    "    for_fit_even[key] = train_even[key][:environments_for_fitting]\n",
    "    print(for_fit_even[key].shape)\n",
    "for key in test_odd.keys():\n",
    "    for_fit_odd[key] = train_odd[key][:environments_for_fitting]\n",
    "    print(for_fit_odd[key].shape)\n",
    "np.random.seed(0)   \n",
    "nice.fit(for_fit_even, for_fit_odd)"
   ]
  },
  {
   "cell_type": "code",
   "execution_count": 14,
   "id": "interested-consent",
   "metadata": {},
   "outputs": [],
   "source": [
    "def convert(features):\n",
    "    result = {}\n",
    "    for i in range(len(features)):\n",
    "        #print(features[i].keys())\n",
    "        result[i + 1] = features[i]['0'].squeeze().data.cpu().numpy()\n",
    "    return result"
   ]
  },
  {
   "cell_type": "code",
   "execution_count": 15,
   "id": "flexible-defeat",
   "metadata": {},
   "outputs": [],
   "source": [
    "train_features, _ = nice(train_even, train_odd)\n",
    "train_features = convert(train_features)\n",
    "\n",
    "test_features, _ = nice(test_even, test_odd)\n",
    "test_features = convert(test_features)"
   ]
  },
  {
   "cell_type": "code",
   "execution_count": 16,
   "id": "charged-interim",
   "metadata": {},
   "outputs": [
    {
     "name": "stdout",
     "output_type": "stream",
     "text": [
      "1 (1500, 10)\n",
      "2 (1500, 20)\n",
      "3 (1500, 20)\n",
      "4 (1500, 20)\n"
     ]
    }
   ],
   "source": [
    "for key in train_features.keys():\n",
    "    print(key, train_features[key].shape)"
   ]
  },
  {
   "cell_type": "code",
   "execution_count": 17,
   "id": "established-replica",
   "metadata": {},
   "outputs": [
    {
     "data": {
      "text/plain": [
       "'print(train_features[1][0:10])\\nprint(train_features[2][0:10])'"
      ]
     },
     "execution_count": 17,
     "metadata": {},
     "output_type": "execute_result"
    }
   ],
   "source": [
    "'''print(train_features[1][0:10])\n",
    "print(train_features[2][0:10])'''"
   ]
  },
  {
   "cell_type": "code",
   "execution_count": 18,
   "id": "executive-behavior",
   "metadata": {},
   "outputs": [
    {
     "name": "stdout",
     "output_type": "stream",
     "text": [
      "(1500, 10)\n",
      "(1500, 30)\n",
      "(1500, 50)\n",
      "(1500, 70)\n"
     ]
    },
    {
     "data": {
      "image/png": "[encoded data removed]",
      "text/plain": [
       "<Figure size 432x288 with 1 Axes>"
      ]
     },
     "metadata": {
      "needs_background": "light"
     },
     "output_type": "display_data"
    }
   ],
   "source": [
    "for index in range(1, 5):\n",
    "    train = [train_features[i] for i in range(1, index + 1)]\n",
    "    test = [test_features[i] for i in range(1, index + 1)]\n",
    "    train = np.concatenate(train, axis = 1)\n",
    "    test = np.concatenate(test, axis = 1)\n",
    "    print(train.shape)\n",
    "    lr = get_lr(BayesianRidge(), train, test, train_energies, test_energies)\n",
    "    plt.plot(GRID, lr, label = \"body order {}\".format(index))\n",
    "plt.xscale('log')\n",
    "plt.yscale('log')\n",
    "plt.legend()\n",
    "plt.show()"
   ]
  },
  {
   "cell_type": "code",
   "execution_count": 19,
   "id": "middle-unemployment",
   "metadata": {},
   "outputs": [
    {
     "name": "stdout",
     "output_type": "stream",
     "text": [
      "(1500, 70)\n",
      "(500, 70)\n"
     ]
    },
    {
     "data": {
      "image/png": "[encoded data removed]",
      "text/plain": [
       "<Figure size 432x288 with 1 Axes>"
      ]
     },
     "metadata": {
      "needs_background": "light"
     },
     "output_type": "display_data"
    },
    {
     "name": "stdout",
     "output_type": "stream",
     "text": [
      "(70,)\n"
     ]
    }
   ],
   "source": [
    "print(train.shape)\n",
    "rgr = BayesianRidge(fit_intercept = False)\n",
    "rgr.fit(train, train_energies)\n",
    "predictions = rgr.predict(test)\n",
    "print(test.shape)\n",
    "plt.plot(test_energies, predictions, 'o')\n",
    "plt.show()\n",
    "best_weight = rgr.coef_\n",
    "print(best_weight.shape)"
   ]
  },
  {
   "cell_type": "code",
   "execution_count": 20,
   "id": "pregnant-cedar",
   "metadata": {},
   "outputs": [],
   "source": [
    "class Dummy(torch.nn.Module):\n",
    "    def __init__(self):\n",
    "        super(Dummy, self).__init__()\n",
    "    def forward(self, X):\n",
    "        return {\"energy\" : torch.zeros(X[0].shape[0], 1)}\n",
    "    \n",
    "class NICE_predictions(torch.nn.Module):\n",
    "    def __init__(self, nice, in_shape, out_shape):\n",
    "        super(NICE_predictions, self).__init__()\n",
    "        self.nice = nice\n",
    "        self.linear = nn.Linear(in_shape, out_shape, bias = False)\n",
    "        \n",
    "    def forward(self, X):\n",
    "        even, odd = split(X)\n",
    "        features, _ = nice(even, odd)\n",
    "        conc = []\n",
    "        for i in range(len(features)):\n",
    "            conc.append(features[i]['0'].squeeze())\n",
    "        conc = torch.cat(conc, dim = 1)\n",
    "        print(conc[0,0:20])\n",
    "        print(conc.shape)\n",
    "        return {\"energy\": self.linear(conc)}"
   ]
  },
  {
   "cell_type": "code",
   "execution_count": 21,
   "id": "distant-capacity",
   "metadata": {},
   "outputs": [
    {
     "name": "stdout",
     "output_type": "stream",
     "text": [
      "torch.Size([1, 70])\n",
      "tensor([-2.2599e-01, -2.1038e+00,  1.9089e+01,  1.0403e+02,  2.5750e+03,\n",
      "         8.1190e+00,  1.1060e-03, -1.2825e-04,  4.1874e-03,  1.9922e-06,\n",
      "         1.7065e+01,  1.3406e+00, -1.6452e+00, -8.1531e+00,  5.4760e+00,\n",
      "        -5.8698e+00, -8.8088e+00,  1.3269e+01, -1.1095e+01,  2.6339e+00],\n",
      "       grad_fn=<SliceBackward>)\n",
      "tensor([ 9.0668e-01,  1.9149e-01,  3.9534e-02, -7.4733e-03,  9.4849e-05,\n",
      "        -5.1738e-06,  3.3760e-08, -4.6566e-10,  5.5879e-09,  3.7253e-09,\n",
      "        -6.5732e-02,  5.2424e-02, -7.6401e-03, -1.5376e-02, -7.9785e-03,\n",
      "        -2.9125e-02,  4.1247e-03,  1.0100e-02,  4.1273e-02,  4.7320e-02],\n",
      "       grad_fn=<SliceBackward>)\n",
      "torch.Size([500, 70])\n",
      "torch.Size([500, 1])\n"
     ]
    }
   ],
   "source": [
    "model = NICE_predictions(nice, 70, 1)\n",
    "print(model.linear.weight.shape)\n",
    "with torch.no_grad():\n",
    "    best_weight = torch.from_numpy(best_weight)[None, :]\n",
    "    model.linear.weight.copy_(best_weight)\n",
    "print(model.linear.weight[0, 0:20])\n",
    "result = model(test_coefficients)\n",
    "print(result[\"energy\"].shape)"
   ]
  },
  {
   "cell_type": "code",
   "execution_count": 22,
   "id": "found-offset",
   "metadata": {},
   "outputs": [],
   "source": [
    "models = {'1' : Dummy(), '6' : model}\n",
    "atomistic = Atomistic(models)"
   ]
  },
  {
   "cell_type": "code",
   "execution_count": 23,
   "id": "toxic-conclusion",
   "metadata": {},
   "outputs": [
    {
     "name": "stdout",
     "output_type": "stream",
     "text": [
      "torch.Size([2500, 10, 1])\n"
     ]
    }
   ],
   "source": [
    "print(test_coefficients_all[0].shape)"
   ]
  },
  {
   "cell_type": "code",
   "execution_count": 24,
   "id": "decimal-deficit",
   "metadata": {},
   "outputs": [
    {
     "name": "stdout",
     "output_type": "stream",
     "text": [
      "tensor([ 9.0668e-01,  1.9149e-01,  3.9534e-02, -7.4733e-03,  9.4849e-05,\n",
      "        -5.1738e-06,  3.3760e-08, -4.6566e-10,  5.5879e-09,  3.7253e-09,\n",
      "        -6.5732e-02,  5.2424e-02, -7.6401e-03, -1.5376e-02, -7.9785e-03,\n",
      "        -2.9125e-02,  4.1247e-03,  1.0100e-02,  4.1273e-02,  4.7320e-02],\n",
      "       grad_fn=<SliceBackward>)\n",
      "torch.Size([500, 70])\n"
     ]
    }
   ],
   "source": [
    "result = atomistic(test_coefficients_all, central_species = get_central_species(test_structures),\n",
    "                   structural_indices = get_structural_indices(test_structures))\n",
    "test_predictions = result['energy'].data.cpu().numpy().squeeze()"
   ]
  },
  {
   "cell_type": "code",
   "execution_count": 25,
   "id": "educated-spectacular",
   "metadata": {},
   "outputs": [
    {
     "name": "stdout",
     "output_type": "stream",
     "text": [
      "[-2.25993341e-01 -2.10382451e+00  1.90894917e+01  1.04034970e+02\n",
      "  2.57497569e+03  8.11901802e+00  1.10602092e-03 -1.28250845e-04\n",
      "  4.18743938e-03  1.99216437e-06  1.70653502e+01  1.34059953e+00\n",
      " -1.64523999e+00 -8.15310901e+00  5.47596429e+00 -5.86984179e+00\n",
      " -8.80881629e+00  1.32686654e+01 -1.10948005e+01  2.63389490e+00]\n",
      "tensor([-2.2599e-01, -2.1038e+00,  1.9089e+01,  1.0403e+02,  2.5750e+03,\n",
      "         8.1190e+00,  1.1060e-03, -1.2825e-04,  4.1874e-03,  1.9922e-06,\n",
      "         1.7065e+01,  1.3406e+00, -1.6452e+00, -8.1531e+00,  5.4760e+00,\n",
      "        -5.8698e+00, -8.8088e+00,  1.3269e+01, -1.1095e+01,  2.6339e+00],\n",
      "       grad_fn=<SliceBackward>)\n",
      "None\n"
     ]
    }
   ],
   "source": [
    "#print(test[0, 0:20])\n",
    "print(rgr.coef_[0:20])\n",
    "print(print(atomistic.models['6'].linear.weight[0, 0:20]))"
   ]
  },
  {
   "cell_type": "code",
   "execution_count": 26,
   "id": "enormous-checkout",
   "metadata": {},
   "outputs": [
    {
     "data": {
      "image/png": "[encoded data removed]",
      "text/plain": [
       "<Figure size 432x288 with 1 Axes>"
      ]
     },
     "metadata": {
      "needs_background": "light"
     },
     "output_type": "display_data"
    }
   ],
   "source": [
    "plt.plot(test_energies, test_predictions, 'o')\n",
    "plt.show()"
   ]
  },
  {
   "cell_type": "code",
   "execution_count": 27,
   "id": "unexpected-mandate",
   "metadata": {},
   "outputs": [],
   "source": [
    "#forces = atomistic.predict_forces()"
   ]
  },
  {
   "cell_type": "code",
   "execution_count": 28,
   "id": "homeless-inspection",
   "metadata": {},
   "outputs": [],
   "source": [
    "test_forces = [structure.arrays[\"forces\"] for structure in test_structures]\n",
    "test_forces = np.concatenate(test_forces, axis = 0) * FORCE_FACTOR\n",
    "\n",
    "coef_der_test, central_indices_test, derivative_indices_test = \\\n",
    "get_coef_ders(test_structures, HYPERS, all_species)\n",
    "for key in coef_der_test.keys():\n",
    "    coef_der_test[key] *= MAGIC_NUMBER"
   ]
  },
  {
   "cell_type": "code",
   "execution_count": 29,
   "id": "informal-breeding",
   "metadata": {},
   "outputs": [
    {
     "name": "stdout",
     "output_type": "stream",
     "text": [
      "tensor([ 9.0668e-01,  1.9149e-01,  3.9534e-02, -7.4733e-03,  9.4849e-05,\n",
      "        -5.1738e-06,  3.3760e-08, -4.6566e-10,  5.5879e-09,  3.7253e-09,\n",
      "        -6.5732e-02,  5.2424e-02, -7.6401e-03, -1.5376e-02, -7.9785e-03,\n",
      "        -2.9125e-02,  4.1247e-03,  1.0100e-02,  4.1273e-02,  4.7320e-02],\n",
      "       grad_fn=<SliceBackward>)\n",
      "torch.Size([500, 70])\n"
     ]
    }
   ],
   "source": [
    "for key in test_coefficients_all.keys():\n",
    "    test_coefficients_all[key].requires_grad = True\n",
    "prediction_forces = atomistic.get_forces(coef_der_test, central_indices_test, derivative_indices_test, \n",
    "                                         test_coefficients_all,\n",
    "                                         structural_indices = get_structural_indices(test_structures),\n",
    "                                         central_species = get_central_species(test_structures))\n"
   ]
  },
  {
   "cell_type": "code",
   "execution_count": 30,
   "id": "numeric-forge",
   "metadata": {},
   "outputs": [
    {
     "data": {
      "image/png": "[encoded data removed]",
      "text/plain": [
       "<Figure size 432x288 with 1 Axes>"
      ]
     },
     "metadata": {
      "needs_background": "light"
     },
     "output_type": "display_data"
    }
   ],
   "source": [
    "plt.plot(test_forces.reshape([-1]), prediction_forces.data.cpu().numpy().reshape([-1]), 'o')\n",
    "min_f = np.min(test_forces)\n",
    "max_f = np.max(test_forces)\n",
    "plt.plot([min_f, max_f], [min_f, max_f])\n",
    "plt.xlabel(\"dft forces\")\n",
    "plt.ylabel(\"prediction forces\")\n",
    "plt.savefig(\"ready.pdf\", bbox_inches = 'tight')\n",
    "plt.show()"
   ]
  },
  {
   "cell_type": "code",
   "execution_count": null,
   "id": "christian-scroll",
   "metadata": {},
   "outputs": [],
   "source": []
  }
 ],
 "metadata": {
  "kernelspec": {
   "display_name": "Python 3",
   "language": "python",
   "name": "python3"
  },
  "language_info": {
   "codemirror_mode": {
    "name": "ipython",
    "version": 3
   },
   "file_extension": ".py",
   "mimetype": "text/x-python",
   "name": "python",
   "nbconvert_exporter": "python",
   "pygments_lexer": "ipython3",
   "version": "3.8.5"
  }
 },
 "nbformat": 4,
 "nbformat_minor": 5
}
