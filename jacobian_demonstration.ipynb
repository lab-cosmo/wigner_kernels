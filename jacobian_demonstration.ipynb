{
 "cells": [
  {
   "cell_type": "code",
   "execution_count": 1,
   "id": "33abf942",
   "metadata": {},
   "outputs": [],
   "source": [
    "import torch\n",
    "#torch.set_default_dtype(torch.float64)\n",
    "import numpy as np\n",
    "import ase.io\n",
    "import tqdm\n",
    "\n",
    "from pytorch_prototype.code_pytorch import *\n",
    "from pytorch_prototype.utilities import *\n",
    "from pytorch_prototype.clebsch_gordan import ClebschGordan\n",
    "from pytorch_prototype.clebsch_combining import ClebschCombining\n",
    "\n",
    "from sklearn.linear_model import Ridge\n",
    "from matplotlib import pyplot as plt\n",
    "from torch import vmap"
   ]
  },
  {
   "cell_type": "code",
   "execution_count": 2,
   "id": "b1a80ef1",
   "metadata": {},
   "outputs": [],
   "source": [
    "LAMBDA_MAX = 2\n",
    "\n",
    "HYPERS = {\n",
    "    'interaction_cutoff': 6.3,\n",
    "    'max_radial': 2,\n",
    "    'max_angular': LAMBDA_MAX,\n",
    "    'gaussian_sigma_type': 'Constant',\n",
    "    'gaussian_sigma_constant': 0.05,\n",
    "    'cutoff_smooth_width': 0.3,\n",
    "    'radial_basis': 'GTO'\n",
    "    \n",
    "}\n",
    "subset = '0:10'\n",
    "DEVICE = 'cuda'\n",
    "METHANE_PATH = '../methane.extxyz'\n",
    "clebsch = ClebschGordan(LAMBDA_MAX)"
   ]
  },
  {
   "cell_type": "code",
   "execution_count": 3,
   "id": "3e69be36",
   "metadata": {},
   "outputs": [],
   "source": [
    "structures = ase.io.read(METHANE_PATH , index=subset)\n",
    "all_species = get_all_species(structures)\n",
    "coefficients = get_coefs(structures, HYPERS, all_species)\n",
    "\n",
    "\n",
    "L2_mean = get_L2_mean(coefficients)\n",
    "\n",
    "for key in coefficients.keys():\n",
    "    coefficients[key] /= torch.sqrt(L2_mean)\n",
    "    coefficients[key] = coefficients[key].to(DEVICE).requires_grad_()\n",
    "    \n",
    "structural_indices = get_structural_indices(structures)\n",
    "\n",
    "\n",
    "coef_der, central_indices, derivative_indices= \\\n",
    "get_coef_ders(structures, HYPERS, all_species)\n",
    "for key in coef_der.keys():\n",
    "    coef_der[key] /= torch.sqrt(L2_mean)\n",
    "    coef_der[key] = coef_der[key].to(DEVICE)\n",
    "    "
   ]
  },
  {
   "cell_type": "code",
   "execution_count": 4,
   "id": "0fc11bfd",
   "metadata": {},
   "outputs": [],
   "source": [
    "class ModelVariousOutputs(torch.nn.Module):\n",
    "    def __init__(self, clebsch):\n",
    "        super(ModelVariousOutputs, self).__init__()\n",
    "        self.clebsch_combining_first = ClebschCombining(clebsch, LAMBDA_MAX)\n",
    "        self.clebsch_combining_second = ClebschCombining(clebsch, 0)\n",
    "        self.linear = torch.nn.Linear(960, 1, bias = False)\n",
    "        self.second_linear = torch.nn.Linear(48, 7 * 19 * 42)\n",
    "        \n",
    "    def forward(self, coefs):\n",
    "        #X = L2_normalize(X)\n",
    "        ps = self.clebsch_combining_first(coefs, coefs)\n",
    "        ps_invariants = ps['0'].squeeze()\n",
    "        bs = self.clebsch_combining_second(ps, coefs)['0'].squeeze()\n",
    "        some = self.second_linear(ps_invariants)\n",
    "        some = some.reshape([-1, 7, 19, 42])\n",
    "        return {'vector output ps' : ps_invariants, 'vector output bs' : bs,\n",
    "                'scalar output energies' : self.linear(bs).squeeze(),\n",
    "                'multidimensional output' : some}\n"
   ]
  },
  {
   "cell_type": "markdown",
   "id": "83b07960",
   "metadata": {},
   "source": [
    "# structural predictions"
   ]
  },
  {
   "cell_type": "code",
   "execution_count": 5,
   "id": "838d25a5",
   "metadata": {},
   "outputs": [
    {
     "name": "stdout",
     "output_type": "stream",
     "text": [
      "predictions: \n",
      "vector output ps torch.Size([10, 48])\n",
      "vector output bs torch.Size([10, 960])\n",
      "scalar output energies torch.Size([10])\n",
      "multidimensional output torch.Size([10, 7, 19, 42])\n"
     ]
    },
    {
     "name": "stderr",
     "output_type": "stream",
     "text": [
      "/home/pozdn/pytorch_prototype/pytorch_prototype/code_pytorch.py:107: UserWarning: torch.vmap is an experimental prototype that is subject to change and/or deletion. Please use at your own risk. There may be unexpected performance cliffs due to certain operators not being implemented. To see detailed performance warnings please use `torch._C._debug_only_display_vmap_fallback_warnings(True) before the call to `vmap`.\n",
      "  result = list(vmap(vjp)(output_grads))\n"
     ]
    },
    {
     "name": "stdout",
     "output_type": "stream",
     "text": [
      "jacobians\n",
      "vector output ps torch.Size([50, 3, 48])\n",
      "vector output bs torch.Size([50, 3, 960])\n",
      "scalar output energies torch.Size([50, 3])\n",
      "multidimensional output torch.Size([50, 3, 7, 19, 42])\n"
     ]
    }
   ],
   "source": [
    "block = ModelVariousOutputs(clebsch.precomputed_).to(DEVICE)\n",
    "model = Atomistic(block).to(DEVICE)\n",
    "\n",
    "predictions = model(coefficients, structural_indices = structural_indices, n_structures = 10)\n",
    "print(\"predictions: \")\n",
    "for key in predictions.keys():\n",
    "    print(key, predictions[key].shape)\n",
    "jacobians = model.get_jacobians(coef_der, central_indices, derivative_indices, \n",
    "                                         coefficients, structural_indices = structural_indices,\n",
    "                                n_structures = 10)\n",
    "print(\"jacobians\")\n",
    "for key in jacobians.keys():\n",
    "    print(key, jacobians[key].shape)"
   ]
  },
  {
   "cell_type": "markdown",
   "id": "4e102f46",
   "metadata": {},
   "source": [
    "# atomic predictions"
   ]
  },
  {
   "cell_type": "code",
   "execution_count": 6,
   "id": "7b5e7aed",
   "metadata": {},
   "outputs": [
    {
     "name": "stdout",
     "output_type": "stream",
     "text": [
      "predictions: \n",
      "vector output ps torch.Size([50, 48])\n",
      "vector output bs torch.Size([50, 960])\n",
      "scalar output energies torch.Size([50])\n",
      "multidimensional output torch.Size([50, 7, 19, 42])\n",
      "jacobians\n",
      "vector output ps torch.Size([50, 3, 48])\n",
      "vector output bs torch.Size([50, 3, 960])\n",
      "scalar output energies torch.Size([50, 3])\n",
      "multidimensional output torch.Size([50, 3, 7, 19, 42])\n"
     ]
    }
   ],
   "source": [
    "block = ModelVariousOutputs(clebsch.precomputed_).to(DEVICE)\n",
    "model = Atomistic(block, accumulate = False).to(DEVICE)\n",
    "\n",
    "predictions = model(coefficients, structural_indices = structural_indices)\n",
    "print(\"predictions: \")\n",
    "for key in predictions.keys():\n",
    "    print(key, predictions[key].shape)\n",
    "jacobians = model.get_jacobians(coef_der, central_indices, derivative_indices, \n",
    "                                         coefficients, structural_indices = structural_indices)\n",
    "print(\"jacobians\")\n",
    "for key in jacobians.keys():\n",
    "    print(key, jacobians[key].shape)"
   ]
  },
  {
   "cell_type": "markdown",
   "id": "57fb7a3a",
   "metadata": {},
   "source": [
    "# loop algorithm"
   ]
  },
  {
   "cell_type": "code",
   "execution_count": 7,
   "id": "5aa7ad9e",
   "metadata": {},
   "outputs": [
    {
     "name": "stdout",
     "output_type": "stream",
     "text": [
      "predictions: \n",
      "vector output ps torch.Size([10, 48])\n",
      "vector output bs torch.Size([10, 960])\n",
      "scalar output energies torch.Size([10])\n",
      "multidimensional output torch.Size([10, 7, 19, 42])\n"
     ]
    },
    {
     "name": "stderr",
     "output_type": "stream",
     "text": [
      "100%|██████████| 48/48 [00:00<00:00, 2935.90it/s]\n",
      "100%|██████████| 960/960 [00:05<00:00, 164.89it/s]\n",
      "100%|██████████| 1/1 [00:00<00:00, 133.22it/s]\n",
      "100%|██████████| 5586/5586 [00:03<00:00, 1788.26it/s]"
     ]
    },
    {
     "name": "stdout",
     "output_type": "stream",
     "text": [
      "jacobians\n",
      "vector output ps torch.Size([50, 3, 48])\n",
      "vector output bs torch.Size([50, 3, 960])\n",
      "scalar output energies torch.Size([50, 3])\n",
      "multidimensional output torch.Size([50, 3, 7, 19, 42])\n"
     ]
    },
    {
     "name": "stderr",
     "output_type": "stream",
     "text": [
      "\n"
     ]
    }
   ],
   "source": [
    "block = ModelVariousOutputs(clebsch.precomputed_).to(DEVICE)\n",
    "model = Atomistic(block).to(DEVICE)\n",
    "\n",
    "predictions = model(coefficients, structural_indices = structural_indices, n_structures = 10)\n",
    "print(\"predictions: \")\n",
    "for key in predictions.keys():\n",
    "    print(key, predictions[key].shape)\n",
    "jacobians = model.get_jacobians(coef_der, central_indices, derivative_indices, \n",
    "                                         coefficients, structural_indices = structural_indices,\n",
    "                                n_structures = 10, algorithm = 'loops')\n",
    "print(\"jacobians\")\n",
    "for key in jacobians.keys():\n",
    "    print(key, jacobians[key].shape)"
   ]
  },
  {
   "cell_type": "code",
   "execution_count": 8,
   "id": "1db86bb3",
   "metadata": {},
   "outputs": [
    {
     "name": "stdout",
     "output_type": "stream",
     "text": [
      "predictions: \n",
      "vector output ps torch.Size([50, 48])\n",
      "vector output bs torch.Size([50, 960])\n",
      "scalar output energies torch.Size([50])\n",
      "multidimensional output torch.Size([50, 7, 19, 42])\n"
     ]
    },
    {
     "name": "stderr",
     "output_type": "stream",
     "text": [
      "100%|██████████| 48/48 [00:00<00:00, 1925.08it/s]\n",
      "100%|██████████| 960/960 [00:05<00:00, 165.55it/s]\n",
      "100%|██████████| 1/1 [00:00<00:00, 127.92it/s]\n",
      "100%|██████████| 5586/5586 [00:02<00:00, 1921.51it/s]\n"
     ]
    },
    {
     "name": "stdout",
     "output_type": "stream",
     "text": [
      "jacobians\n",
      "vector output ps torch.Size([50, 3, 48])\n",
      "vector output bs torch.Size([50, 3, 960])\n",
      "scalar output energies torch.Size([50, 3])\n",
      "multidimensional output torch.Size([50, 3, 7, 19, 42])\n"
     ]
    }
   ],
   "source": [
    "block = ModelVariousOutputs(clebsch.precomputed_).to(DEVICE)\n",
    "model = Atomistic(block, accumulate = False).to(DEVICE)\n",
    "\n",
    "predictions = model(coefficients, structural_indices = structural_indices)\n",
    "print(\"predictions: \")\n",
    "for key in predictions.keys():\n",
    "    print(key, predictions[key].shape)\n",
    "jacobians = model.get_jacobians(coef_der, central_indices, derivative_indices, \n",
    "                                         coefficients, structural_indices = structural_indices,\n",
    "                                algorithm = 'loops')\n",
    "print(\"jacobians\")\n",
    "for key in jacobians.keys():\n",
    "    print(key, jacobians[key].shape)"
   ]
  },
  {
   "cell_type": "code",
   "execution_count": null,
   "id": "69f9383a",
   "metadata": {},
   "outputs": [],
   "source": []
  }
 ],
 "metadata": {
  "kernelspec": {
   "display_name": "Python 3 (ipykernel)",
   "language": "python",
   "name": "python3"
  },
  "language_info": {
   "codemirror_mode": {
    "name": "ipython",
    "version": 3
   },
   "file_extension": ".py",
   "mimetype": "text/x-python",
   "name": "python",
   "nbconvert_exporter": "python",
   "pygments_lexer": "ipython3",
   "version": "3.8.10"
  }
 },
 "nbformat": 4,
 "nbformat_minor": 5
}
