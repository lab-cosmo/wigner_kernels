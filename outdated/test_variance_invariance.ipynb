{
 "cells": [
  {
   "cell_type": "code",
   "execution_count": 1,
   "metadata": {},
   "outputs": [],
   "source": [
    "import sys\n",
    "sys.path.append(\"..\")\n",
    "from code_pytorch import *\n",
    "from nice.blocks import *\n",
    "from nice.utilities import *\n",
    "import numpy as np\n",
    "import ase.io\n",
    "import copy\n",
    "import os"
   ]
  },
  {
   "cell_type": "code",
   "execution_count": 2,
   "metadata": {},
   "outputs": [],
   "source": [
    "if ('methane.extxyz' not in os.listdir('.')):\n",
    "        os.system('wget \"https://archive.materialscloud.org/record/file?file_id=b612d8e3-58af-4374-96ba-b3551ac5d2f4&filename=methane.extxyz.gz&record_id=528\" -O methane.extxyz.gz')\n",
    "        os.system(\"gunzip -k methane.extxyz.gz\")\n",
    "\n",
    "structures = ase.io.read('methane.extxyz', index='0:20')\n"
   ]
  },
  {
   "cell_type": "code",
   "execution_count": 3,
   "metadata": {},
   "outputs": [],
   "source": [
    "def get_invariance(structures):\n",
    "    N_MAX = 5\n",
    "    L_MAX = 5\n",
    "    HYPERS = {\n",
    "        'interaction_cutoff': 6.3,\n",
    "        'max_radial': N_MAX,\n",
    "        'max_angular': L_MAX,\n",
    "        'gaussian_sigma_type': 'Constant',\n",
    "        'gaussian_sigma_constant': 0.3,\n",
    "        'cutoff_smooth_width': 0.3,\n",
    "        'radial_basis': 'GTO'\n",
    "    }\n",
    "    \n",
    "    all_species = get_all_species(structures)\n",
    "\n",
    "    coefficients = get_spherical_expansion(structures, HYPERS,\n",
    "                                                 all_species, show_progress = False)\n",
    "    \n",
    "    for key in coefficients.keys():\n",
    "        print(key, coefficients[key].shape)\n",
    "        \n",
    "    variances = {}\n",
    "    for key in coefficients.keys():\n",
    "        variances[key] = {}\n",
    "        for l in range(coefficients[key].shape[2]):\n",
    "            now = coefficients[key][:, :, l, :2*l + 1]\n",
    "            print(now.shape)\n",
    "            variances[key][l] = np.mean(np.sum(now * now, axis = (1, 2)))\n",
    "            \n",
    "    return variances"
   ]
  },
  {
   "cell_type": "code",
   "execution_count": 4,
   "metadata": {},
   "outputs": [
    {
     "name": "stdout",
     "output_type": "stream",
     "text": [
      "1 (80, 10, 6, 11)\n",
      "6 (20, 10, 6, 11)\n",
      "(80, 10, 1)\n",
      "(80, 10, 3)\n",
      "(80, 10, 5)\n",
      "(80, 10, 7)\n",
      "(80, 10, 9)\n",
      "(80, 10, 11)\n",
      "(20, 10, 1)\n",
      "(20, 10, 3)\n",
      "(20, 10, 5)\n",
      "(20, 10, 7)\n",
      "(20, 10, 9)\n",
      "(20, 10, 11)\n"
     ]
    }
   ],
   "source": [
    "variances_before = get_invariance(structures)"
   ]
  },
  {
   "cell_type": "code",
   "execution_count": 5,
   "metadata": {},
   "outputs": [],
   "source": [
    "rotated_structures = copy.deepcopy(structures)\n",
    "for structure in rotated_structures:\n",
    "    structure.euler_rotate(np.random.rand() * 360, np.random.rand() * 360, np.random.rand() * 360)"
   ]
  },
  {
   "cell_type": "code",
   "execution_count": 6,
   "metadata": {},
   "outputs": [
    {
     "name": "stdout",
     "output_type": "stream",
     "text": [
      "1 (80, 10, 6, 11)\n",
      "6 (20, 10, 6, 11)\n",
      "(80, 10, 1)\n",
      "(80, 10, 3)\n",
      "(80, 10, 5)\n",
      "(80, 10, 7)\n",
      "(80, 10, 9)\n",
      "(80, 10, 11)\n",
      "(20, 10, 1)\n",
      "(20, 10, 3)\n",
      "(20, 10, 5)\n",
      "(20, 10, 7)\n",
      "(20, 10, 9)\n",
      "(20, 10, 11)\n"
     ]
    }
   ],
   "source": [
    "variances_after = get_invariance(rotated_structures)"
   ]
  },
  {
   "cell_type": "code",
   "execution_count": 8,
   "metadata": {},
   "outputs": [
    {
     "name": "stdout",
     "output_type": "stream",
     "text": [
      "0.0001656811834181743 0.00016568118341817435 5.421010862427522e-20\n",
      "5.013515840490125e-05 5.013515840490125e-05 0.0\n",
      "5.993970375184746e-05 5.9939703751847464e-05 6.776263578034403e-21\n",
      "6.76152892840363e-05 6.76152892840363e-05 0.0\n",
      "7.141161961740205e-05 7.141161961740206e-05 1.3552527156068805e-20\n",
      "6.803614762335904e-05 6.803614762335906e-05 2.710505431213761e-20\n",
      "0.0001953002788311111 0.00019530027883111117 8.131516293641283e-20\n",
      "4.775270633824443e-05 4.77527063382445e-05 6.776263578034403e-20\n",
      "8.03456024977819e-05 8.034560249778202e-05 1.2197274440461925e-19\n",
      "9.975744907905937e-05 9.97574490790595e-05 1.3552527156068805e-19\n",
      "9.984613537464387e-05 9.984613537464397e-05 9.486769009248164e-20\n",
      "8.334681229293096e-05 8.334681229293108e-05 1.2197274440461925e-19\n"
     ]
    }
   ],
   "source": [
    "for key in variances_before.keys():\n",
    "    for l in variances_before[key].keys():\n",
    "        print(variances_before[key][l], variances_after[key][l],\n",
    "              np.abs(variances_before[key][l] - variances_after[key][l]))"
   ]
  },
  {
   "cell_type": "code",
   "execution_count": null,
   "metadata": {},
   "outputs": [],
   "source": []
  }
 ],
 "metadata": {
  "kernelspec": {
   "display_name": "Python 3",
   "language": "python",
   "name": "python3"
  },
  "language_info": {
   "codemirror_mode": {
    "name": "ipython",
    "version": 3
   },
   "file_extension": ".py",
   "mimetype": "text/x-python",
   "name": "python",
   "nbconvert_exporter": "python",
   "pygments_lexer": "ipython3",
   "version": "3.6.9"
  }
 },
 "nbformat": 4,
 "nbformat_minor": 4
}
