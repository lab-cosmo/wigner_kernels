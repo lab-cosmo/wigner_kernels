{
 "cells": [
  {
   "cell_type": "code",
   "execution_count": 1,
   "metadata": {},
   "outputs": [],
   "source": [
    "import torch\n",
    "import torch.nn\n",
    "import numpy as np\n",
    "from code_pytorch import *\n",
    "from nice.blocks import *\n",
    "from nice.utilities import *"
   ]
  },
  {
   "cell_type": "code",
   "execution_count": 2,
   "metadata": {},
   "outputs": [],
   "source": [
    "X1 = {}\n",
    "for i in range(5):\n",
    "    X1[i] = torch.tensor(np.random.rand(50, 2 *i + 1, 2 *i + 1), dtype = torch.float)"
   ]
  },
  {
   "cell_type": "code",
   "execution_count": 3,
   "metadata": {},
   "outputs": [],
   "source": [
    "X2 = {}\n",
    "for i in range(5):\n",
    "    X2[i] = torch.tensor(np.random.rand(50, 3 * i + 1, 2 *i + 1), dtype = torch.float)"
   ]
  },
  {
   "cell_type": "code",
   "execution_count": null,
   "metadata": {
    "code_folding": []
   },
   "outputs": [],
   "source": []
  },
  {
   "cell_type": "code",
   "execution_count": 4,
   "metadata": {},
   "outputs": [],
   "source": [
    "clebsch = nice.clebsch_gordan.ClebschGordan(5)"
   ]
  },
  {
   "cell_type": "code",
   "execution_count": 5,
   "metadata": {},
   "outputs": [
    {
     "name": "stdout",
     "output_type": "stream",
     "text": [
      "torch.Size([5, 7])\n"
     ]
    }
   ],
   "source": [
    "now = clebsch.precomputed_[2, 3, 1, :2 * 2 + 1, :2 * 3 + 1]\n",
    "now = torch.tensor(now, dtype = torch.float)\n",
    "print(now.shape)"
   ]
  },
  {
   "cell_type": "code",
   "execution_count": 6,
   "metadata": {},
   "outputs": [],
   "source": [
    "model = ClebschCombiningSingle(now, 1)\n"
   ]
  },
  {
   "cell_type": "code",
   "execution_count": 7,
   "metadata": {},
   "outputs": [
    {
     "name": "stdout",
     "output_type": "stream",
     "text": [
      "torch.Size([50, 5, 5])\n",
      "torch.Size([50, 10, 7])\n"
     ]
    }
   ],
   "source": [
    "print(X1[2].shape)\n",
    "print(X2[3].shape)"
   ]
  },
  {
   "cell_type": "code",
   "execution_count": 8,
   "metadata": {},
   "outputs": [],
   "source": [
    "result = model(X1[2], X2[3][:, 0:5])"
   ]
  },
  {
   "cell_type": "code",
   "execution_count": null,
   "metadata": {},
   "outputs": [],
   "source": []
  },
  {
   "cell_type": "code",
   "execution_count": 9,
   "metadata": {},
   "outputs": [],
   "source": [
    "model = ClebschCombining(torch.tensor(clebsch.precomputed_, dtype = torch.float), 5)"
   ]
  },
  {
   "cell_type": "code",
   "execution_count": 10,
   "metadata": {},
   "outputs": [],
   "source": [
    "result = model(X1, X2)"
   ]
  },
  {
   "cell_type": "code",
   "execution_count": 11,
   "metadata": {},
   "outputs": [
    {
     "name": "stdout",
     "output_type": "stream",
     "text": [
      "torch.Size([50, 235, 1])\n",
      "torch.Size([50, 562, 3])\n",
      "torch.Size([50, 753, 5])\n",
      "torch.Size([50, 821, 7])\n",
      "torch.Size([50, 785, 9])\n",
      "torch.Size([50, 670, 11])\n"
     ]
    }
   ],
   "source": [
    "for key in result:\n",
    "    print(result[key].shape)"
   ]
  },
  {
   "cell_type": "code",
   "execution_count": 12,
   "metadata": {},
   "outputs": [
    {
     "name": "stdout",
     "output_type": "stream",
     "text": [
      "torch.Size([50, 235, 1])\n",
      "torch.Size([50, 562, 3])\n",
      "torch.Size([50, 753, 5])\n",
      "torch.Size([50, 821, 7])\n",
      "torch.Size([50, 785, 9])\n",
      "torch.Size([50, 670, 11])\n"
     ]
    }
   ],
   "source": [
    "for key in result:\n",
    "    print(result[key].shape)"
   ]
  },
  {
   "cell_type": "code",
   "execution_count": 14,
   "metadata": {},
   "outputs": [
    {
     "name": "stdout",
     "output_type": "stream",
     "text": [
      "(4, 2)\n"
     ]
    }
   ],
   "source": [
    "task = np.array([[0, 1], [1, 2], [0, 2], [1, 1]], dtype = int)\n",
    "print(task.shape)"
   ]
  },
  {
   "cell_type": "code",
   "execution_count": 15,
   "metadata": {},
   "outputs": [
    {
     "name": "stdout",
     "output_type": "stream",
     "text": [
      "torch.Size([3, 4, 3])\n"
     ]
    }
   ],
   "source": [
    "first = torch.rand(3, 5, 3)\n",
    "second = torch.rand(3, 4, 7)\n",
    "\n",
    "result = torch.index_select(first, 1, torch.LongTensor(task[:, 0]))\n",
    "print(result.shape)"
   ]
  },
  {
   "cell_type": "code",
   "execution_count": 16,
   "metadata": {},
   "outputs": [
    {
     "name": "stdout",
     "output_type": "stream",
     "text": [
      "torch.Size([1, 5, 1])\n",
      "torch.Size([1, 3, 1])\n",
      "torch.Size([1, 15, 1])\n",
      "torch.Size([1, 15, 1])\n",
      "tensor(0.) tensor(0.)\n",
      "tensor(0.) tensor(1.)\n",
      "tensor(0.) tensor(2.)\n",
      "tensor(1.) tensor(0.)\n",
      "tensor(1.) tensor(1.)\n",
      "tensor(1.) tensor(2.)\n",
      "tensor(2.) tensor(0.)\n",
      "tensor(2.) tensor(1.)\n",
      "tensor(2.) tensor(2.)\n",
      "tensor(3.) tensor(0.)\n",
      "tensor(3.) tensor(1.)\n",
      "tensor(3.) tensor(2.)\n",
      "tensor(4.) tensor(0.)\n",
      "tensor(4.) tensor(1.)\n",
      "tensor(4.) tensor(2.)\n"
     ]
    }
   ],
   "source": [
    "first = torch.FloatTensor(np.arange(5)[np.newaxis, :, np.newaxis])\n",
    "second = torch.FloatTensor(np.arange(3)[np.newaxis, :, np.newaxis])\n",
    "\n",
    "print(first.shape)\n",
    "print(second.shape)\n",
    "\n",
    "first = first[:, :, None, :].repeat(1, 1, second.shape[1], 1)\n",
    "second = second[:, None, :, :].repeat(1, first.shape[1], 1, 1)\n",
    "\n",
    "first = first.reshape(first.shape[0], -1, first.shape[3])\n",
    "second = second.reshape(second.shape[0], -1, second.shape[3])\n",
    "print(first.shape)\n",
    "print(second.shape)\n",
    "for i in range(first.shape[1]):\n",
    "    print(first[0, i, 0], second[0, i, 0])"
   ]
  },
  {
   "cell_type": "code",
   "execution_count": 1,
   "metadata": {},
   "outputs": [],
   "source": []
  },
  {
   "cell_type": "code",
   "execution_count": null,
   "metadata": {},
   "outputs": [],
   "source": []
  },
  {
   "cell_type": "code",
   "execution_count": null,
   "metadata": {},
   "outputs": [],
   "source": []
  }
 ],
 "metadata": {
  "kernelspec": {
   "display_name": "Python 3",
   "language": "python",
   "name": "python3"
  },
  "language_info": {
   "codemirror_mode": {
    "name": "ipython",
    "version": 3
   },
   "file_extension": ".py",
   "mimetype": "text/x-python",
   "name": "python",
   "nbconvert_exporter": "python",
   "pygments_lexer": "ipython3",
   "version": "3.6.9"
  }
 },
 "nbformat": 4,
 "nbformat_minor": 4
}
