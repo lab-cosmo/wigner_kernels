{
 "cells": [
  {
   "cell_type": "markdown",
   "metadata": {},
   "source": [
    "модель пс\n",
    "модель бс\n",
    "тест что инвариантны\n",
    "тест что воспроизводят либраскаловскую штуковину"
   ]
  },
  {
   "cell_type": "code",
   "execution_count": 1,
   "metadata": {},
   "outputs": [
    {
     "data": {
      "text/plain": [
       "'!wget \"https://archive.materialscloud.org/record/file?file_id=b612d8e3-58af-4374-96ba-b3551ac5d2f4&filename=methane.extxyz.gz&record_id=528\" -O methane.extxyz.gz\\n!gunzip -k methane.extxyz.gz'"
      ]
     },
     "execution_count": 1,
     "metadata": {},
     "output_type": "execute_result"
    }
   ],
   "source": [
    "'''!wget \"https://archive.materialscloud.org/record/file?file_id=b612d8e3-58af-4374-96ba-b3551ac5d2f4&filename=methane.extxyz.gz&record_id=528\" -O methane.extxyz.gz\n",
    "!gunzip -k methane.extxyz.gz'''"
   ]
  },
  {
   "cell_type": "code",
   "execution_count": null,
   "metadata": {},
   "outputs": [],
   "source": []
  },
  {
   "cell_type": "code",
   "execution_count": 2,
   "metadata": {},
   "outputs": [],
   "source": [
    "import numpy as np\n",
    "from rascal.representations import SphericalExpansion as SPH\n",
    "import ase.io\n",
    "import tqdm\n",
    "from nice.blocks import *\n",
    "from nice.utilities import *\n",
    "from matplotlib import pyplot as plt\n",
    "from sklearn.linear_model import BayesianRidge\n",
    "import torch\n",
    "torch.set_num_threads(1)\n",
    "import torch.nn\n",
    "from code_pytorch import *\n",
    "import time\n",
    "import numpy as np\n",
    "from sympy.physics.wigner import wigner_3j\n",
    "from sympy.physics.quantum.spin import Rotation as rot\n",
    "from rascal.representations import SphericalInvariants as SOAP\n",
    "from torch2trt import torch2trt"
   ]
  },
  {
   "cell_type": "code",
   "execution_count": 3,
   "metadata": {},
   "outputs": [],
   "source": [
    "LAMBDA_MAX = 5"
   ]
  },
  {
   "cell_type": "code",
   "execution_count": 4,
   "metadata": {},
   "outputs": [],
   "source": [
    "HYPERS = {\n",
    "    'interaction_cutoff': 6.3,\n",
    "    'max_radial': 5,\n",
    "    'max_angular': LAMBDA_MAX,\n",
    "    'gaussian_sigma_type': 'Constant',\n",
    "    'gaussian_sigma_constant': 0.3,\n",
    "    'cutoff_smooth_width': 0.3,\n",
    "    'radial_basis': 'GTO'\n",
    "}"
   ]
  },
  {
   "cell_type": "code",
   "execution_count": 5,
   "metadata": {},
   "outputs": [],
   "source": [
    "structures = ase.io.read('methane.extxyz', index='0:300')"
   ]
  },
  {
   "cell_type": "code",
   "execution_count": 6,
   "metadata": {},
   "outputs": [
    {
     "name": "stderr",
     "output_type": "stream",
     "text": [
      "100%|██████████| 3/3 [00:00<00:00, 56.12it/s]\n",
      "100%|██████████| 2/2 [00:00<00:00, 700.28it/s]"
     ]
    },
    {
     "name": "stdout",
     "output_type": "stream",
     "text": [
      "dict_keys([1, 6])\n",
      "(1200, 10, 6, 11)\n"
     ]
    },
    {
     "name": "stderr",
     "output_type": "stream",
     "text": [
      "\n"
     ]
    }
   ],
   "source": [
    "all_species = get_all_species(structures)\n",
    "\n",
    "coefficients = get_spherical_expansion(structures, HYPERS,\n",
    "                                             all_species)\n",
    "\n",
    "print(coefficients.keys())\n",
    "print(coefficients[1].shape)"
   ]
  },
  {
   "cell_type": "code",
   "execution_count": 7,
   "metadata": {},
   "outputs": [],
   "source": [
    "def convert_to_torch(coefficients):\n",
    "    result = {}\n",
    "    for lambd in range(coefficients.shape[2]):\n",
    "        result[lambd] = torch.FloatTensor(coefficients[:, :, lambd, : 2 * lambd + 1])\n",
    "        result[lambd] = result[lambd].transpose(0, -1)\n",
    "    return result"
   ]
  },
  {
   "cell_type": "code",
   "execution_count": 8,
   "metadata": {},
   "outputs": [
    {
     "name": "stdout",
     "output_type": "stream",
     "text": [
      "torch.Size([7, 10, 1200])\n"
     ]
    }
   ],
   "source": [
    "coefficients[1] = convert_to_torch(coefficients[1])\n",
    "coefficients[6] = convert_to_torch(coefficients[6])\n",
    "print(coefficients[1][3].shape)"
   ]
  },
  {
   "cell_type": "code",
   "execution_count": 9,
   "metadata": {},
   "outputs": [],
   "source": [
    "clebsch = nice.clebsch_gordan.ClebschGordan(LAMBDA_MAX)"
   ]
  },
  {
   "cell_type": "code",
   "execution_count": 10,
   "metadata": {},
   "outputs": [],
   "source": [
    "class Powerspectrum(torch.nn.Module):\n",
    "    def __init__(self, clebsch):\n",
    "        super(Powerspectrum, self).__init__()\n",
    "        self.first = ClebschCombining(clebsch, 0)       \n",
    "            \n",
    "    def forward(self, X):\n",
    "        ps_invariants = self.first(X, X)       \n",
    "        return ps_invariants"
   ]
  },
  {
   "cell_type": "code",
   "execution_count": 11,
   "metadata": {},
   "outputs": [],
   "source": [
    "model_ps = Powerspectrum(clebsch.precomputed_)"
   ]
  },
  {
   "cell_type": "code",
   "execution_count": 12,
   "metadata": {},
   "outputs": [
    {
     "name": "stdout",
     "output_type": "stream",
     "text": [
      "dict_keys([0])\n",
      "torch.Size([1, 600, 300])\n"
     ]
    }
   ],
   "source": [
    "result = model_ps(coefficients[6])\n",
    "print(result.keys())\n",
    "print(result[0].shape)"
   ]
  },
  {
   "cell_type": "code",
   "execution_count": 13,
   "metadata": {},
   "outputs": [],
   "source": [
    "class Bispectrum(torch.nn.Module):\n",
    "    def __init__(self, clebsch, lambda_max):\n",
    "        super(Bispectrum, self).__init__()\n",
    "        self.first = ClebschCombining(clebsch, lambda_max)\n",
    "        self.second = ClebschCombining(clebsch, 0)\n",
    "            \n",
    "    def forward(self, X):\n",
    "        ps_covariants = self.first(X, X)\n",
    "        bs_invariants = self.second(ps_covariants, X)\n",
    "        return bs_invariants"
   ]
  },
  {
   "cell_type": "code",
   "execution_count": 14,
   "metadata": {},
   "outputs": [],
   "source": [
    "model_bs = Bispectrum(clebsch.precomputed_, LAMBDA_MAX)"
   ]
  },
  {
   "cell_type": "code",
   "execution_count": 15,
   "metadata": {},
   "outputs": [],
   "source": [
    "result = model_bs(coefficients[6])"
   ]
  },
  {
   "cell_type": "code",
   "execution_count": 16,
   "metadata": {},
   "outputs": [
    {
     "name": "stdout",
     "output_type": "stream",
     "text": [
      "dict_keys([0])\n",
      "torch.Size([1, 111000, 300])\n"
     ]
    }
   ],
   "source": [
    "print(result.keys())\n",
    "print(result[0].shape)"
   ]
  },
  {
   "cell_type": "code",
   "execution_count": 17,
   "metadata": {},
   "outputs": [],
   "source": [
    "class Trispectrum(torch.nn.Module):\n",
    "    def __init__(self, clebsch, lambda_max):\n",
    "        super(Trispectrum, self).__init__()\n",
    "        self.first = ClebschCombining(clebsch, lambda_max)\n",
    "        self.second = ClebschCombining(clebsch, lambda_max)\n",
    "        self.third = ClebschCombining(clebsch, 0)\n",
    "            \n",
    "    def forward(self, X):\n",
    "        ps_covariants = self.first(X, X)\n",
    "        bs_covariants = self.second(ps_covariants, X)\n",
    "        ts_invariants = self.third(bs_covariants, X)\n",
    "        return ts_invariants"
   ]
  },
  {
   "cell_type": "code",
   "execution_count": 18,
   "metadata": {},
   "outputs": [],
   "source": [
    "model_ts = Trispectrum(clebsch.precomputed_, LAMBDA_MAX)"
   ]
  },
  {
   "cell_type": "code",
   "execution_count": 19,
   "metadata": {},
   "outputs": [],
   "source": [
    "small = {key : coefficients[6][key][:, :, 0:2] for key in coefficients[6].keys()}\n",
    "result = model_ts(small)"
   ]
  },
  {
   "cell_type": "code",
   "execution_count": 20,
   "metadata": {},
   "outputs": [
    {
     "name": "stdout",
     "output_type": "stream",
     "text": [
      "dict_keys([0])\n",
      "torch.Size([1, 22950000, 2])\n"
     ]
    }
   ],
   "source": [
    "print(result.keys())\n",
    "print(result[0].shape)"
   ]
  },
  {
   "cell_type": "code",
   "execution_count": 21,
   "metadata": {},
   "outputs": [
    {
     "data": {
      "text/plain": [
       "'model = ClebschCombining(clebsch.precomputed_, 2)\\nresult = model(coefficients[6], coefficients[6])\\nfor key in result.keys():\\n    print(key, result[key].shape)'"
      ]
     },
     "execution_count": 21,
     "metadata": {},
     "output_type": "execute_result"
    }
   ],
   "source": [
    "'''model = ClebschCombining(clebsch.precomputed_, 2)\n",
    "result = model(coefficients[6], coefficients[6])\n",
    "for key in result.keys():\n",
    "    print(key, result[key].shape)'''"
   ]
  },
  {
   "cell_type": "code",
   "execution_count": 22,
   "metadata": {},
   "outputs": [],
   "source": [
    "HYPERS_PS = copy.deepcopy(HYPERS)\n",
    "HYPERS_PS['soap_type'] = 'PowerSpectrum'"
   ]
  },
  {
   "cell_type": "code",
   "execution_count": 23,
   "metadata": {},
   "outputs": [
    {
     "name": "stdout",
     "output_type": "stream",
     "text": [
      "0.09392023086547852\n"
     ]
    }
   ],
   "source": [
    "soap_ps = SOAP(**HYPERS_PS)\n",
    "begin = time.time()\n",
    "ps = soap_ps.transform(nice.rascal_coefficients.process_structures(structures)).get_features(soap_ps)\n",
    "end = time.time()\n",
    "print(end - begin)"
   ]
  },
  {
   "cell_type": "code",
   "execution_count": 24,
   "metadata": {},
   "outputs": [
    {
     "name": "stdout",
     "output_type": "stream",
     "text": [
      "(1500, 450)\n"
     ]
    }
   ],
   "source": [
    "print(ps.shape)"
   ]
  },
  {
   "cell_type": "code",
   "execution_count": 25,
   "metadata": {},
   "outputs": [
    {
     "name": "stdout",
     "output_type": "stream",
     "text": [
      "time:  0.01616072654724121\n"
     ]
    }
   ],
   "source": [
    "begin = time.time()\n",
    "result = model_ps(coefficients[6])\n",
    "result = model_ps(coefficients[1])\n",
    "end = time.time()\n",
    "print(\"time: \", end - begin)"
   ]
  },
  {
   "cell_type": "code",
   "execution_count": 26,
   "metadata": {},
   "outputs": [],
   "source": [
    "HYPERS_BS = copy.deepcopy(HYPERS)\n",
    "HYPERS_BS['soap_type'] = 'BiSpectrum'\n",
    "HYPERS_BS['inversion_symmetry'] = False"
   ]
  },
  {
   "cell_type": "code",
   "execution_count": 27,
   "metadata": {},
   "outputs": [
    {
     "name": "stdout",
     "output_type": "stream",
     "text": [
      "100.31233167648315\n",
      "(1500, 55500)\n"
     ]
    }
   ],
   "source": [
    "soap_bs = SOAP(**HYPERS_BS)\n",
    "begin = time.time()\n",
    "bs = soap_bs.transform(nice.rascal_coefficients.process_structures(structures)).get_features(soap_bs)\n",
    "end = time.time()\n",
    "print(end - begin)\n",
    "print(bs.shape)"
   ]
  },
  {
   "cell_type": "code",
   "execution_count": null,
   "metadata": {},
   "outputs": [],
   "source": []
  },
  {
   "cell_type": "code",
   "execution_count": 28,
   "metadata": {},
   "outputs": [
    {
     "name": "stdout",
     "output_type": "stream",
     "text": [
      "4.656926155090332\n",
      "torch.Size([1, 111000, 300])\n"
     ]
    }
   ],
   "source": [
    "begin = time.time()\n",
    "with torch.no_grad():\n",
    "    result = model_bs(coefficients[1])\n",
    "    result = model_bs(coefficients[6])\n",
    "end = time.time()\n",
    "print(end - begin)\n",
    "print(result[0].shape)"
   ]
  },
  {
   "cell_type": "code",
   "execution_count": 29,
   "metadata": {},
   "outputs": [],
   "source": [
    "#model_traced = torch.jit.script(model_bs, coefficients[1])"
   ]
  },
  {
   "cell_type": "code",
   "execution_count": null,
   "metadata": {},
   "outputs": [],
   "source": []
  },
  {
   "cell_type": "code",
   "execution_count": 30,
   "metadata": {},
   "outputs": [
    {
     "data": {
      "text/plain": [
       "'begin = time.time()\\nresult = model_ts(coefficients[6])\\nend = time.time()\\nprint(end - begin)\\nprint(result[0].shape)'"
      ]
     },
     "execution_count": 30,
     "metadata": {},
     "output_type": "execute_result"
    }
   ],
   "source": [
    "'''begin = time.time()\n",
    "result = model_ts(coefficients[6])\n",
    "end = time.time()\n",
    "print(end - begin)\n",
    "print(result[0].shape)'''"
   ]
  },
  {
   "cell_type": "code",
   "execution_count": 31,
   "metadata": {},
   "outputs": [],
   "source": [
    "for key in coefficients[1].keys():\n",
    "    coefficients[1][key] = coefficients[1][key].cuda()\n",
    "for key in coefficients[6].keys():\n",
    "    coefficients[6][key] = coefficients[6][key].cuda()"
   ]
  },
  {
   "cell_type": "code",
   "execution_count": 32,
   "metadata": {},
   "outputs": [],
   "source": [
    "model_ps = model_ps.cuda()"
   ]
  },
  {
   "cell_type": "code",
   "execution_count": 33,
   "metadata": {},
   "outputs": [
    {
     "name": "stdout",
     "output_type": "stream",
     "text": [
      "tensor(0.0771, device='cuda:0')\n",
      "0.005642414093017578\n",
      "tensor(0.0771, device='cuda:0')\n",
      "0.0017838478088378906\n",
      "tensor(0.0771, device='cuda:0')\n",
      "0.001873016357421875\n",
      "tensor(0.0771, device='cuda:0')\n",
      "0.0017282962799072266\n",
      "tensor(0.0771, device='cuda:0')\n",
      "0.001875162124633789\n",
      "tensor(0.0771, device='cuda:0')\n",
      "0.001867055892944336\n",
      "tensor(0.0771, device='cuda:0')\n",
      "0.0018429756164550781\n",
      "tensor(0.0771, device='cuda:0')\n",
      "0.0018439292907714844\n",
      "tensor(0.0771, device='cuda:0')\n",
      "0.0018436908721923828\n",
      "tensor(0.0771, device='cuda:0')\n",
      "0.001848459243774414\n"
     ]
    }
   ],
   "source": [
    "for _ in range(10):\n",
    "    begin = time.time()\n",
    "    result = model_ps(coefficients[6])\n",
    "    print(torch.sum(result[0]))\n",
    "    end = time.time()\n",
    "    print(end - begin)"
   ]
  },
  {
   "cell_type": "code",
   "execution_count": 34,
   "metadata": {},
   "outputs": [],
   "source": [
    "model_bs = model_bs.cuda()"
   ]
  },
  {
   "cell_type": "code",
   "execution_count": null,
   "metadata": {},
   "outputs": [],
   "source": []
  },
  {
   "cell_type": "code",
   "execution_count": 35,
   "metadata": {},
   "outputs": [
    {
     "name": "stdout",
     "output_type": "stream",
     "text": [
      "tensor(0.0035, device='cuda:0')\n",
      "tensor(0.0013, device='cuda:0')\n",
      "time:  0.8396759033203125\n",
      "True\n",
      "tensor(0.0035, device='cuda:0')\n",
      "tensor(0.0013, device='cuda:0')\n",
      "time:  0.593317985534668\n",
      "True\n",
      "tensor(0.0035, device='cuda:0')\n",
      "tensor(0.0013, device='cuda:0')\n",
      "time:  0.5473482608795166\n",
      "True\n",
      "tensor(0.0035, device='cuda:0')\n",
      "tensor(0.0013, device='cuda:0')\n",
      "time:  0.5492579936981201\n",
      "True\n",
      "tensor(0.0035, device='cuda:0')\n",
      "tensor(0.0013, device='cuda:0')\n",
      "time:  0.5468900203704834\n",
      "True\n",
      "tensor(0.0035, device='cuda:0')\n",
      "tensor(0.0013, device='cuda:0')\n",
      "time:  0.548699140548706\n",
      "True\n",
      "tensor(0.0035, device='cuda:0')\n",
      "tensor(0.0013, device='cuda:0')\n",
      "time:  0.5508570671081543\n",
      "True\n",
      "tensor(0.0035, device='cuda:0')\n",
      "tensor(0.0013, device='cuda:0')\n",
      "time:  0.5488810539245605\n",
      "True\n",
      "tensor(0.0035, device='cuda:0')\n",
      "tensor(0.0013, device='cuda:0')\n",
      "time:  0.5485033988952637\n",
      "True\n",
      "tensor(0.0035, device='cuda:0')\n",
      "tensor(0.0013, device='cuda:0')\n",
      "time:  0.5508322715759277\n",
      "True\n"
     ]
    }
   ],
   "source": [
    "for _ in range(10):\n",
    "    begin = time.time()\n",
    "    result = model_bs(coefficients[1])\n",
    "    print(torch.sum(result[0]))\n",
    "    result = model_bs(coefficients[6])\n",
    "    print(torch.sum(result[0]))\n",
    "    end = time.time()\n",
    "    print(\"time: \", end - begin)\n",
    "    print(result[0].is_cuda)"
   ]
  },
  {
   "cell_type": "code",
   "execution_count": 36,
   "metadata": {},
   "outputs": [
    {
     "name": "stdout",
     "output_type": "stream",
     "text": [
      "tensor(0.0013, device='cuda:0')\n"
     ]
    }
   ],
   "source": [
    "print(torch.sum(result[0]))"
   ]
  },
  {
   "cell_type": "code",
   "execution_count": 37,
   "metadata": {},
   "outputs": [
    {
     "name": "stdout",
     "output_type": "stream",
     "text": [
      "torch.Size([1, 111000, 300])\n",
      "\n"
     ]
    }
   ],
   "source": [
    "print(result[0].shape)\n",
    "print()"
   ]
  },
  {
   "cell_type": "code",
   "execution_count": 38,
   "metadata": {},
   "outputs": [],
   "source": [
    "#model_bs_tensorrt = torch2trt(model_bs, [coefficients[1]])"
   ]
  },
  {
   "cell_type": "code",
   "execution_count": 39,
   "metadata": {},
   "outputs": [
    {
     "name": "stdout",
     "output_type": "stream",
     "text": [
      "True\n"
     ]
    }
   ],
   "source": [
    "print(result[0].is_cuda)"
   ]
  },
  {
   "cell_type": "code",
   "execution_count": 40,
   "metadata": {},
   "outputs": [
    {
     "name": "stdout",
     "output_type": "stream",
     "text": [
      "<class 'torch.device'>\n"
     ]
    }
   ],
   "source": [
    "print(type(coefficients[1][1].device))"
   ]
  },
  {
   "cell_type": "code",
   "execution_count": 41,
   "metadata": {},
   "outputs": [
    {
     "name": "stdout",
     "output_type": "stream",
     "text": [
      "False\n"
     ]
    }
   ],
   "source": [
    "print(str(coefficients[1][1].device) == 'cpu')"
   ]
  },
  {
   "cell_type": "code",
   "execution_count": 42,
   "metadata": {},
   "outputs": [
    {
     "data": {
      "text/plain": [
       "'cuda:0'"
      ]
     },
     "execution_count": 42,
     "metadata": {},
     "output_type": "execute_result"
    }
   ],
   "source": [
    "str(coefficients[1][1].device)"
   ]
  },
  {
   "cell_type": "code",
   "execution_count": 43,
   "metadata": {},
   "outputs": [
    {
     "name": "stdout",
     "output_type": "stream",
     "text": [
      "cpu\n"
     ]
    }
   ],
   "source": [
    "a = torch.FloatTensor([1, 2, 3])\n",
    "print(str(a.device))"
   ]
  },
  {
   "cell_type": "code",
   "execution_count": 44,
   "metadata": {},
   "outputs": [
    {
     "name": "stdout",
     "output_type": "stream",
     "text": [
      "False\n"
     ]
    }
   ],
   "source": [
    "print(a.is_cuda)"
   ]
  },
  {
   "cell_type": "code",
   "execution_count": 45,
   "metadata": {},
   "outputs": [
    {
     "name": "stdout",
     "output_type": "stream",
     "text": [
      "True\n"
     ]
    }
   ],
   "source": [
    "print(coefficients[1][1].is_cuda)"
   ]
  },
  {
   "cell_type": "code",
   "execution_count": 46,
   "metadata": {},
   "outputs": [],
   "source": [
    "from rascal.models import Kernel, SparsePoints, train_gap_model"
   ]
  },
  {
   "cell_type": "code",
   "execution_count": 47,
   "metadata": {},
   "outputs": [],
   "source": [
    "HYPERS_PS_GRADIENTS = copy.deepcopy(HYPERS_PS)\n",
    "HYPERS_PS_GRADIENTS['compute_gradients'] = True"
   ]
  },
  {
   "cell_type": "code",
   "execution_count": 48,
   "metadata": {},
   "outputs": [
    {
     "name": "stdout",
     "output_type": "stream",
     "text": [
      "0.24591517448425293\n",
      "(1500, 450)\n"
     ]
    }
   ],
   "source": [
    "soap_ps = SOAP(**HYPERS_PS_GRADIENTS)\n",
    "begin = time.time()\n",
    "ps = soap_ps.transform(nice.rascal_coefficients.process_structures(structures)).get_features(soap_ps)\n",
    "end = time.time()\n",
    "print(end - begin)\n",
    "print(ps.shape)"
   ]
  },
  {
   "cell_type": "code",
   "execution_count": 49,
   "metadata": {},
   "outputs": [
    {
     "name": "stdout",
     "output_type": "stream",
     "text": [
      "0.11308646202087402\n",
      "(1500, 450)\n"
     ]
    }
   ],
   "source": [
    "soap_ps = SOAP(**HYPERS_PS)\n",
    "begin = time.time()\n",
    "ps = soap_ps.transform(nice.rascal_coefficients.process_structures(structures)).get_features(soap_ps)\n",
    "end = time.time()\n",
    "print(end - begin)\n",
    "print(ps.shape)"
   ]
  },
  {
   "cell_type": "code",
   "execution_count": 50,
   "metadata": {},
   "outputs": [
    {
     "ename": "TypeError",
     "evalue": "__init__() missing 5 required positional arguments: 'interaction_cutoff', 'cutoff_smooth_width', 'max_radial', 'max_angular', and 'gaussian_sigma_type'",
     "output_type": "error",
     "traceback": [
      "\u001b[0;31m---------------------------------------------------------------------------\u001b[0m",
      "\u001b[0;31mTypeError\u001b[0m                                 Traceback (most recent call last)",
      "\u001b[0;32m<ipython-input-50-a1f189617072>\u001b[0m in \u001b[0;36m<module>\u001b[0;34m\u001b[0m\n\u001b[0;32m----> 1\u001b[0;31m \u001b[0mSOAP\u001b[0m\u001b[0;34m(\u001b[0m\u001b[0;34m)\u001b[0m\u001b[0;34m\u001b[0m\u001b[0;34m\u001b[0m\u001b[0m\n\u001b[0m",
      "\u001b[0;31mTypeError\u001b[0m: __init__() missing 5 required positional arguments: 'interaction_cutoff', 'cutoff_smooth_width', 'max_radial', 'max_angular', and 'gaussian_sigma_type'"
     ]
    }
   ],
   "source": [
    "SOAP()\n"
   ]
  },
  {
   "cell_type": "code",
   "execution_count": null,
   "metadata": {},
   "outputs": [],
   "source": [
    "ob = soap_ps.transform(nice.rascal_coefficients.process_structures(structures))"
   ]
  },
  {
   "cell_type": "code",
   "execution_count": null,
   "metadata": {},
   "outputs": [],
   "source": [
    "ob.managers"
   ]
  },
  {
   "cell_type": "code",
   "execution_count": null,
   "metadata": {},
   "outputs": [],
   "source": [
    "HYPERS_GRAD = copy.deepcopy(HYPERS)\n",
    "HYPERS_GRAD['compute_gradients'] = True"
   ]
  },
  {
   "cell_type": "code",
   "execution_count": null,
   "metadata": {},
   "outputs": [],
   "source": [
    " sph = SPH(**HYPERS)"
   ]
  },
  {
   "cell_type": "code",
   "execution_count": null,
   "metadata": {},
   "outputs": [],
   "source": [
    "feat = sph.transform(nice.rascal_coefficients.process_structures(structures)).get_features(sph)"
   ]
  },
  {
   "cell_type": "code",
   "execution_count": null,
   "metadata": {},
   "outputs": [],
   "source": [
    "print(feat.shape)"
   ]
  },
  {
   "cell_type": "code",
   "execution_count": null,
   "metadata": {},
   "outputs": [],
   "source": [
    "ob = sph.transform(nice.rascal_coefficients.process_structures(structures))"
   ]
  },
  {
   "cell_type": "code",
   "execution_count": null,
   "metadata": {},
   "outputs": [],
   "source": [
    "ob.get_features()"
   ]
  },
  {
   "cell_type": "code",
   "execution_count": null,
   "metadata": {},
   "outputs": [],
   "source": []
  },
  {
   "cell_type": "code",
   "execution_count": null,
   "metadata": {},
   "outputs": [],
   "source": []
  },
  {
   "cell_type": "code",
   "execution_count": null,
   "metadata": {},
   "outputs": [],
   "source": []
  },
  {
   "cell_type": "code",
   "execution_count": null,
   "metadata": {},
   "outputs": [],
   "source": []
  },
  {
   "cell_type": "code",
   "execution_count": null,
   "metadata": {},
   "outputs": [],
   "source": []
  },
  {
   "cell_type": "code",
   "execution_count": null,
   "metadata": {},
   "outputs": [],
   "source": []
  },
  {
   "cell_type": "code",
   "execution_count": null,
   "metadata": {},
   "outputs": [],
   "source": []
  }
 ],
 "metadata": {
  "kernelspec": {
   "display_name": "Python 3",
   "language": "python",
   "name": "python3"
  },
  "language_info": {
   "codemirror_mode": {
    "name": "ipython",
    "version": 3
   },
   "file_extension": ".py",
   "mimetype": "text/x-python",
   "name": "python",
   "nbconvert_exporter": "python",
   "pygments_lexer": "ipython3",
   "version": "3.6.9"
  }
 },
 "nbformat": 4,
 "nbformat_minor": 4
}
