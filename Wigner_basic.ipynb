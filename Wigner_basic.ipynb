{
 "cells": [
  {
   "cell_type": "code",
   "execution_count": 1,
   "id": "dad972af",
   "metadata": {},
   "outputs": [],
   "source": [
    "import torch\n",
    "#torch.set_default_dtype(torch.float64)\n",
    "import numpy as np\n",
    "import ase.io\n",
    "\n",
    "from pytorch_prototype.code_pytorch import *\n",
    "from pytorch_prototype.utilities import *\n",
    "from pytorch_prototype.miscellaneous import ClebschGordan\n",
    "\n",
    "from rascal.neighbourlist.structure_manager import mask_center_atoms_by_species\n",
    "from sklearn.kernel_ridge import KernelRidge\n",
    "\n",
    "from matplotlib import pyplot as plt\n",
    "import tqdm"
   ]
  },
  {
   "cell_type": "code",
   "execution_count": 2,
   "id": "00841930",
   "metadata": {},
   "outputs": [],
   "source": [
    "METHANE_PATH = 'methane.extxyz'\n",
    "train_slice = '0:400'\n",
    "test_slice = '400:500'\n",
    "L_MAX = 6\n",
    "HYPERS = {\n",
    "    'interaction_cutoff': 6.3,\n",
    "    'max_radial': 15,\n",
    "    'max_angular': L_MAX,\n",
    "    'gaussian_sigma_type': 'Constant',\n",
    "    'gaussian_sigma_constant': 0.3,\n",
    "    'cutoff_smooth_width': 0.3,\n",
    "    'radial_basis': 'GTO'\n",
    "\n",
    "}\n",
    "BATCH_SIZE = 1000\n",
    "DEVICE = 'cuda'\n",
    "clebsch = ClebschGordan(L_MAX)"
   ]
  },
  {
   "cell_type": "code",
   "execution_count": 3,
   "id": "914459e3",
   "metadata": {},
   "outputs": [],
   "source": [
    "def initialize_wigner_single(first, second):\n",
    "    first_b_size, first_m_size = first.shape[0], first.shape[2]\n",
    "    second_b_size, second_m_size = second.shape[0], second.shape[2]\n",
    "    first = first.transpose(1, 2)\n",
    "    second = second.transpose(1, 2)\n",
    "    first = first.reshape([-1, first.shape[2]])\n",
    "    second = second.reshape([-1, second.shape[2]])\n",
    "    result = torch.matmul(first, second.transpose(0, 1))\n",
    "    result = result.reshape(first_b_size, first_m_size, second_b_size, second_m_size)\n",
    "    return result.transpose(1, 2)\n",
    "\n",
    "def initialize_wigner(first, second):\n",
    "    result = {}\n",
    "    for key in first.keys():\n",
    "        result[key] = initialize_wigner_single(first[key], second[key])\n",
    "    return result"
   ]
  },
  {
   "cell_type": "code",
   "execution_count": 4,
   "id": "51824808",
   "metadata": {},
   "outputs": [],
   "source": [
    "class WignerKernel(torch.nn.Module):\n",
    "    def __init__(self, clebsch, lambda_max, num_iterations):\n",
    "        super(WignerKernel, self).__init__()\n",
    "        main = [WignerCombiningUnrolled(clebsch.precomputed_, lambda_max, algorithm = 'vectorized') \n",
    "                for _ in range(num_iterations)]\n",
    "        self.main = nn.ModuleList(main)\n",
    "        self.last = WignerCombiningUnrolled(clebsch.precomputed_, 0, algorithm = 'vectorized')\n",
    "       \n",
    "            \n",
    "    def forward(self, X):\n",
    "        wig_now = X\n",
    "        for block in self.main:\n",
    "            wig_now = block(wig_now, X)\n",
    "        result = self.last(wig_now, X)\n",
    "        return result['0'][:, 0, 0]"
   ]
  },
  {
   "cell_type": "code",
   "execution_count": 5,
   "id": "14ff69cc",
   "metadata": {},
   "outputs": [],
   "source": [
    "def compute_kernel(model, first, second, batch_size = 1000):\n",
    "    wigner = initialize_wigner(first, second)\n",
    "   \n",
    "    for key in wigner.keys():\n",
    "        initial_shape = [wigner[key].shape[0], wigner[key].shape[1]]\n",
    "        wigner[key] = wigner[key].reshape([-1, wigner[key].shape[2], wigner[key].shape[3]])\n",
    "    ''' for key in wigner.keys():\n",
    "        print(key, wigner[key].shape)'''\n",
    "    \n",
    "    total = initial_shape[0] * initial_shape[1]\n",
    "    result = []\n",
    "    #print(total, batch_size)\n",
    "    #print(initial_shape)\n",
    "    for ind in tqdm.tqdm(range(0, total, batch_size)):\n",
    "        now = {}\n",
    "        for key in wigner.keys():\n",
    "            now[key] = wigner[key][ind : ind + batch_size]\n",
    "        result_now = model(now)\n",
    "        result.append(result_now)\n",
    "        \n",
    "    result = torch.cat(result, dim = 0)\n",
    "    return result.reshape(initial_shape)"
   ]
  },
  {
   "cell_type": "code",
   "execution_count": 6,
   "id": "8b218587",
   "metadata": {},
   "outputs": [
    {
     "name": "stderr",
     "output_type": "stream",
     "text": [
      "100%|██████████| 160/160 [00:19<00:00,  8.37it/s]\n",
      "100%|██████████| 40/40 [00:04<00:00,  8.33it/s]\n"
     ]
    }
   ],
   "source": [
    "train_structures = ase.io.read(METHANE_PATH, index = train_slice)\n",
    "test_structures = ase.io.read(METHANE_PATH, index = test_slice)\n",
    "all_species = get_all_species(train_structures + test_structures)\n",
    "\n",
    "for struc in train_structures:\n",
    "    mask_center_atoms_by_species(struc, species_select=[\"C\"])\n",
    "for struc in test_structures:\n",
    "    mask_center_atoms_by_species(struc, species_select=[\"C\"])\n",
    "\n",
    "\n",
    "train_coefs = get_coefs(train_structures, HYPERS, all_species)\n",
    "test_coefs = get_coefs(test_structures, HYPERS, all_species)\n",
    "'''for key in train_coefs.keys():\n",
    "    print(key, train_coefs[key].shape)'''\n",
    "\n",
    "L2_mean = get_L2_mean(train_coefs)\n",
    "#print(L2_mean)\n",
    "for key in train_coefs.keys():\n",
    "    train_coefs[key] /= np.sqrt(L2_mean)\n",
    "    test_coefs[key] /= np.sqrt(L2_mean)\n",
    "\n",
    "for key in train_coefs.keys():\n",
    "    train_coefs[key] = train_coefs[key].to(DEVICE)\n",
    "    test_coefs[key] = test_coefs[key].to(DEVICE)\n",
    "\n",
    "model = WignerKernel(clebsch, L_MAX, 1)\n",
    "model = model.to(DEVICE)\n",
    "\n",
    "train_train_kernel = compute_kernel(model, train_coefs, train_coefs, batch_size = BATCH_SIZE)\n",
    "train_test_kernel = compute_kernel(model, train_coefs, test_coefs, batch_size = BATCH_SIZE)"
   ]
  },
  {
   "cell_type": "code",
   "execution_count": 7,
   "id": "e60b79d5",
   "metadata": {},
   "outputs": [
    {
     "name": "stdout",
     "output_type": "stream",
     "text": [
      "torch.Size([400, 400])\n",
      "torch.Size([400, 100])\n"
     ]
    }
   ],
   "source": [
    "print(train_train_kernel.shape)\n",
    "print(train_test_kernel.shape)"
   ]
  },
  {
   "cell_type": "code",
   "execution_count": null,
   "id": "2f60ae08",
   "metadata": {},
   "outputs": [],
   "source": []
  },
  {
   "cell_type": "code",
   "execution_count": null,
   "id": "32b27a5c",
   "metadata": {},
   "outputs": [],
   "source": []
  }
 ],
 "metadata": {
  "kernelspec": {
   "display_name": "Python 3 (ipykernel)",
   "language": "python",
   "name": "python3"
  },
  "language_info": {
   "codemirror_mode": {
    "name": "ipython",
    "version": 3
   },
   "file_extension": ".py",
   "mimetype": "text/x-python",
   "name": "python",
   "nbconvert_exporter": "python",
   "pygments_lexer": "ipython3",
   "version": "3.8.8"
  }
 },
 "nbformat": 4,
 "nbformat_minor": 5
}
