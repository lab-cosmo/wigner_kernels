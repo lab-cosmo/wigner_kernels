{
 "cells": [
  {
   "cell_type": "code",
   "execution_count": 1,
   "metadata": {},
   "outputs": [
    {
     "name": "stderr",
     "output_type": "stream",
     "text": [
      "In /home/pozdn/.local/lib/python3.6/site-packages/matplotlib/mpl-data/stylelib/_classic_test.mplstyle: \n",
      "The text.latex.preview rcparam was deprecated in Matplotlib 3.3 and will be removed two minor releases later.\n",
      "In /home/pozdn/.local/lib/python3.6/site-packages/matplotlib/mpl-data/stylelib/_classic_test.mplstyle: \n",
      "The mathtext.fallback_to_cm rcparam was deprecated in Matplotlib 3.3 and will be removed two minor releases later.\n",
      "In /home/pozdn/.local/lib/python3.6/site-packages/matplotlib/mpl-data/stylelib/_classic_test.mplstyle: Support for setting the 'mathtext.fallback_to_cm' rcParam is deprecated since 3.3 and will be removed two minor releases later; use 'mathtext.fallback : 'cm' instead.\n",
      "In /home/pozdn/.local/lib/python3.6/site-packages/matplotlib/mpl-data/stylelib/_classic_test.mplstyle: \n",
      "The validate_bool_maybe_none function was deprecated in Matplotlib 3.3 and will be removed two minor releases later.\n",
      "In /home/pozdn/.local/lib/python3.6/site-packages/matplotlib/mpl-data/stylelib/_classic_test.mplstyle: \n",
      "The savefig.jpeg_quality rcparam was deprecated in Matplotlib 3.3 and will be removed two minor releases later.\n",
      "In /home/pozdn/.local/lib/python3.6/site-packages/matplotlib/mpl-data/stylelib/_classic_test.mplstyle: \n",
      "The keymap.all_axes rcparam was deprecated in Matplotlib 3.3 and will be removed two minor releases later.\n",
      "In /home/pozdn/.local/lib/python3.6/site-packages/matplotlib/mpl-data/stylelib/_classic_test.mplstyle: \n",
      "The animation.avconv_path rcparam was deprecated in Matplotlib 3.3 and will be removed two minor releases later.\n",
      "In /home/pozdn/.local/lib/python3.6/site-packages/matplotlib/mpl-data/stylelib/_classic_test.mplstyle: \n",
      "The animation.avconv_args rcparam was deprecated in Matplotlib 3.3 and will be removed two minor releases later.\n"
     ]
    }
   ],
   "source": [
    "import numpy as np\n",
    "import ase.io\n",
    "import tqdm\n",
    "from nice.blocks import *\n",
    "from nice.utilities import *\n",
    "from matplotlib import pyplot as plt\n",
    "from sklearn.linear_model import BayesianRidge\n",
    "from sklearn.linear_model import Ridge\n",
    "from rascal.utils import (get_radial_basis_covariance, get_radial_basis_pca, \n",
    "                          get_radial_basis_projections, get_optimal_radial_basis_hypers )\n",
    "from nice.rascal_coefficients import process_structures"
   ]
  },
  {
   "cell_type": "code",
   "execution_count": 2,
   "metadata": {},
   "outputs": [
    {
     "name": "stdout",
     "output_type": "stream",
     "text": [
      "-10.345616788887583 29.021351564031193\n"
     ]
    }
   ],
   "source": [
    "HARTREE_TO_EV = 27.211386245988\n",
    "FORCE_FACTOR = 51.42208619083232\n",
    "train_subset = \"0:20000\"  #input for ase.io.read command\n",
    "test_subset = '20000:25000'  #input to ase.io.read command\n",
    "environments_for_fitting = 20000 #number of environments to fit nice transfomers\n",
    "GRID =  [150, 200, 350, 500, 750, 1000, 1500, 2000, 3000,\n",
    "          5000, 7500, 10000, 15000, 20000] #for learning curve\n",
    "\n",
    "#HYPERS for librascal spherical expansion coefficients\n",
    "LAMBDA_MAX = 4\n",
    "HYPERS = {\n",
    "    'interaction_cutoff': 3.5,\n",
    "    'max_radial': 4,\n",
    "    'max_angular': LAMBDA_MAX,\n",
    "    'gaussian_sigma_type': 'Constant',\n",
    "    'gaussian_sigma_constant': 0.05,\n",
    "    'cutoff_smooth_width': 0.3,\n",
    "    'radial_basis': 'GTO'\n",
    "}\n",
    "MAGIC_NUMBER = 1.0 / 0.0001892813597805798\n",
    "BATCH_SIZE = 500\n",
    "\n",
    "train_structures = process_structures(ase.io.read('../methane.extxyz', index=train_subset))\n",
    "'''HYPERS = get_optimal_radial_basis_hypers(HYPERS,\n",
    "                                       train_structures,\n",
    "                                       expanded_max_radial=50)'''\n",
    "test_structures = process_structures(ase.io.read('../methane.extxyz', index=test_subset))\n",
    "\n",
    "all_species = get_all_species(train_structures + test_structures)\n",
    "\n",
    "train_energies = [structure.info['energy'] for structure in train_structures]\n",
    "train_energies = np.array(train_energies) * HARTREE_TO_EV\n",
    "e_mean = np.mean(train_energies)\n",
    "train_energies -= e_mean\n",
    "\n",
    "test_energies = [structure.info['energy'] for structure in test_structures]\n",
    "test_energies = np.array(test_energies) * HARTREE_TO_EV\n",
    "test_energies -= e_mean\n",
    "print(np.min(train_energies), np.max(train_energies))"
   ]
  },
  {
   "cell_type": "code",
   "execution_count": 3,
   "metadata": {},
   "outputs": [],
   "source": [
    "#our model:\n",
    "def get_nice():\n",
    "    return StandardSequence([\n",
    "        StandardBlock(ThresholdExpansioner(num_expand = 500),\n",
    "                      None,\n",
    "                      IndividualLambdaPCAsBoth(n_components=50),\n",
    "                      ThresholdExpansioner(num_expand = 1500, mode = 'invariants'),\n",
    "                      None,\n",
    "                      InvariantsPCA(n_components = 50)),\n",
    "        StandardBlock(ThresholdExpansioner(num_expand = 500),\n",
    "                      None,\n",
    "                      IndividualLambdaPCAsBoth(n_components=50),\n",
    "                     ThresholdExpansioner(num_expand = 1500, mode = 'invariants'),\n",
    "                      None,\n",
    "                      InvariantsPCA(n_components = 50)),\n",
    "        StandardBlock(ThresholdExpansioner(num_expand = 500),\n",
    "                      None,\n",
    "                      IndividualLambdaPCAsBoth(n_components=50),\n",
    "                      ThresholdExpansioner(num_expand = 1500, mode = 'invariants'),\n",
    "                      None,\n",
    "                      InvariantsPCA(n_components = 50)),\n",
    "       \n",
    "    ],\n",
    "                           )"
   ]
  },
  {
   "cell_type": "code",
   "execution_count": 4,
   "metadata": {},
   "outputs": [
    {
     "name": "stderr",
     "output_type": "stream",
     "text": [
      "100%|██████████| 200/200 [00:01<00:00, 109.34it/s]\n",
      "100%|██████████| 2/2 [00:00<00:00, 17.51it/s]\n",
      "100%|██████████| 50/50 [00:00<00:00, 102.91it/s]\n",
      "100%|██████████| 2/2 [00:00<00:00, 67.10it/s]\n"
     ]
    }
   ],
   "source": [
    "train_coefficients = get_spherical_expansion(train_structures, HYPERS,\n",
    "                                             all_species)\n",
    "\n",
    "test_coefficients = get_spherical_expansion(test_structures, HYPERS,\n",
    "                                            all_species)\n",
    "\n",
    "for key in train_coefficients.keys():\n",
    "    train_coefficients[key] *= MAGIC_NUMBER\n",
    "    test_coefficients[key] *= MAGIC_NUMBER\n",
    "\n"
   ]
  },
  {
   "cell_type": "code",
   "execution_count": 5,
   "metadata": {},
   "outputs": [],
   "source": [
    "nice = get_nice()\n",
    "np.random.seed(0)\n",
    "nice.fit(train_coefficients[6][:environments_for_fitting])"
   ]
  },
  {
   "cell_type": "code",
   "execution_count": 6,
   "metadata": {},
   "outputs": [],
   "source": [
    "def get_features(nice, coefs):\n",
    "    features = {}\n",
    "    for i in range(0, coefs.shape[0], BATCH_SIZE):\n",
    "        now = nice.transform(coefs[i : i + BATCH_SIZE], return_only_invariants = True)\n",
    "        for key in now.keys():\n",
    "            if key in features.keys():\n",
    "                features[key].append(now[key])\n",
    "            else:\n",
    "                features[key] = [now[key]]\n",
    "    for key in features.keys():\n",
    "        features[key] = np.concatenate(features[key], axis = 0)\n",
    "    return features"
   ]
  },
  {
   "cell_type": "code",
   "execution_count": 7,
   "metadata": {},
   "outputs": [
    {
     "name": "stdout",
     "output_type": "stream",
     "text": [
      "(20000, 8)\n",
      "(20000, 50)\n",
      "(20000, 50)\n",
      "(20000, 50)\n"
     ]
    }
   ],
   "source": [
    "train_features = get_features(nice, train_coefficients[6])\n",
    "test_features = get_features(nice, test_coefficients[6])\n",
    "for key in train_features.keys():\n",
    "    print(train_features[key].shape)"
   ]
  },
  {
   "cell_type": "code",
   "execution_count": 8,
   "metadata": {},
   "outputs": [],
   "source": [
    "def get_rmse(first, second):\n",
    "    return np.sqrt(np.mean((first - second)**2))\n",
    "\n",
    "\n",
    "def get_standard_deviation(values):\n",
    "    return np.sqrt(np.mean((values - np.mean(values))**2))\n",
    "\n",
    "\n",
    "def get_relative_performance(predictions, values):\n",
    "    return get_rmse(predictions, values) / get_standard_deviation(values)\n",
    "\n",
    "\n",
    "def estimate_performance(regressor, data_train, data_test, targets_train,\n",
    "                         targets_test):\n",
    "    regressor.fit(data_train, targets_train)\n",
    "    return get_relative_performance(regressor.predict(data_test), targets_test)\n",
    "\n",
    "def get_lr(regressor, data_train, data_test, targets_train,\n",
    "           targets_test):\n",
    "    result = []\n",
    "    for el in GRID:\n",
    "        result.append(estimate_performance(regressor, data_train[:el], data_test,\n",
    "                                           targets_train[:el], targets_test))\n",
    "    return result"
   ]
  },
  {
   "cell_type": "code",
   "execution_count": 9,
   "metadata": {},
   "outputs": [
    {
     "name": "stdout",
     "output_type": "stream",
     "text": [
      "(20000, 8)\n",
      "(20000, 58)\n",
      "(20000, 108)\n",
      "(20000, 158)\n"
     ]
    },
    {
     "data": {
      "image/png": "[encoded data removed]",
      "text/plain": [
       "<Figure size 432x288 with 1 Axes>"
      ]
     },
     "metadata": {
      "needs_background": "light"
     },
     "output_type": "display_data"
    }
   ],
   "source": [
    "for index in range(1, 5):\n",
    "    train = [train_features[i] for i in range(1, index + 1)]\n",
    "    test = [test_features[i] for i in range(1, index + 1)]\n",
    "    train = np.concatenate(train, axis = 1)\n",
    "    test = np.concatenate(test, axis = 1)\n",
    "    print(train.shape)\n",
    "    lr = get_lr(BayesianRidge(), train, test, train_energies, test_energies)\n",
    "    plt.plot(GRID, lr, label = \"body order {}\".format(index))\n",
    "plt.xscale('log')\n",
    "plt.yscale('log')\n",
    "plt.legend()\n",
    "plt.show()"
   ]
  },
  {
   "cell_type": "code",
   "execution_count": 10,
   "metadata": {},
   "outputs": [
    {
     "name": "stdout",
     "output_type": "stream",
     "text": [
      "[0.3181373846548951, 0.30775174865984517, 0.29529693266160034, 0.26794536261405555, 0.1954519447744216, 0.18935240533145964, 0.1866751694642882, 0.18259329150968565, 0.17277856721785972, 0.16740282578210117, 0.16521483243916305, 0.16475365986539534, 0.16409701580761626, 0.1616050422529275]\n"
     ]
    }
   ],
   "source": [
    "print(lr)"
   ]
  },
  {
   "cell_type": "code",
   "execution_count": 11,
   "metadata": {},
   "outputs": [
    {
     "name": "stdout",
     "output_type": "stream",
     "text": [
      "1 (20000, 8) 0.5442384952797239\n",
      "2 (20000, 50) 0.042630350555598946\n",
      "3 (20000, 50) 0.1139468799706588\n",
      "4 (20000, 50) 0.24200286324022496\n"
     ]
    }
   ],
   "source": [
    "for key in train_features.keys():\n",
    "    print(key, train_features[key].shape, np.mean(np.sum(train_features[key] * train_features[key], axis = 1)))"
   ]
  },
  {
   "cell_type": "code",
   "execution_count": null,
   "metadata": {},
   "outputs": [],
   "source": []
  }
 ],
 "metadata": {
  "kernelspec": {
   "display_name": "Python 3",
   "language": "python",
   "name": "python3"
  },
  "language_info": {
   "codemirror_mode": {
    "name": "ipython",
    "version": 3
   },
   "file_extension": ".py",
   "mimetype": "text/x-python",
   "name": "python",
   "nbconvert_exporter": "python",
   "pygments_lexer": "ipython3",
   "version": "3.6.9"
  }
 },
 "nbformat": 4,
 "nbformat_minor": 4
}
