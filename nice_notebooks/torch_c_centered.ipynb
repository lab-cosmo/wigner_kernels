{
 "cells": [
  {
   "cell_type": "code",
   "execution_count": 1,
   "metadata": {},
   "outputs": [],
   "source": [
    "import numpy as np\n",
    "import ase.io\n",
    "import tqdm\n",
    "from pytorch_prototype.nice_blocks import *\n",
    "from pytorch_prototype.utilities import *\n",
    "from pytorch_prototype.clebsch_gordan import ClebschGordan\n",
    "from matplotlib import pyplot as plt\n",
    "from sklearn.linear_model import BayesianRidge\n",
    "from torch import nn\n",
    "from nice.rascal_coefficients import process_structures\n",
    "from rascal.neighbourlist.structure_manager import mask_center_atoms_by_species\n",
    "from pytorch_prototype.basic_operations import CovCat\n",
    "import time\n",
    "from typing import Dict, List"
   ]
  },
  {
   "cell_type": "code",
   "execution_count": 2,
   "metadata": {},
   "outputs": [],
   "source": [
    "LAMBDA_MAX = 4\n",
    "HARTREE_TO_EV = 27.211386245988\n",
    "FORCE_FACTOR = 51.42208619083232\n",
    "METHANE_PATH = '../methane.extxyz'\n",
    "clebsch = ClebschGordan(LAMBDA_MAX)\n",
    "HYPERS = {\n",
    "    'interaction_cutoff': 3.5,\n",
    "    'max_radial': 15,\n",
    "    'max_angular': LAMBDA_MAX,\n",
    "    'gaussian_sigma_type': 'Constant',\n",
    "    'gaussian_sigma_constant': 0.3,\n",
    "    'cutoff_smooth_width': 0.3,\n",
    "    'radial_basis': 'GTO'\n",
    "}\n",
    "train_slice = \"0:10000\"\n",
    "test_slice = '10000:15000'\n",
    "\n",
    "BATCH_SIZE_GRID = [1, 5, 10, 50, 100, 500, 1000, 5000]"
   ]
  },
  {
   "cell_type": "code",
   "execution_count": 3,
   "metadata": {},
   "outputs": [],
   "source": [
    "train_structures = process_structures(ase.io.read(METHANE_PATH, index=train_slice))\n",
    "test_structures = process_structures(ase.io.read(METHANE_PATH, index=test_slice))\n",
    "\n",
    "train_energies = [structure.info['energy'] for structure in train_structures]\n",
    "train_energies = np.array(train_energies) * HARTREE_TO_EV\n",
    "e_mean = np.mean(train_energies)\n",
    "train_energies -= e_mean\n",
    "\n",
    "test_energies = [structure.info['energy'] for structure in test_structures]\n",
    "test_energies = np.array(test_energies) * HARTREE_TO_EV\n",
    "test_energies -= e_mean\n",
    "\n",
    "test_structures = process_structures(ase.io.read(METHANE_PATH, index=test_slice))\n",
    "\n",
    "test_forces = [structure.arrays[\"forces\"] for structure in test_structures]\n",
    "test_forces = np.concatenate(test_forces, axis = 0) * FORCE_FACTOR\n",
    "\n",
    "mask = np.array(range(test_forces.shape[0])) % 5 == 0\n",
    "test_forces = test_forces[mask]\n",
    "\n",
    "all_species = get_all_species(train_structures + test_structures)\n",
    "    \n",
    "coef_der_test, central_indices_test, derivative_indices_test = \\\n",
    "get_coef_ders(test_structures, HYPERS, all_species)\n",
    "\n",
    "mask_central = central_indices_test % 5 == 0\n",
    "mask_derivative = derivative_indices_test % 5 == 0\n",
    "mask = np.logical_and(mask_central, mask_derivative)\n",
    "\n",
    "central_indices_test = central_indices_test[mask]\n",
    "derivative_indices_test = derivative_indices_test[mask]\n",
    "for key in coef_der_test.keys():\n",
    "    coef_der_test[key] = coef_der_test[key][mask]"
   ]
  },
  {
   "cell_type": "code",
   "execution_count": 4,
   "metadata": {},
   "outputs": [
    {
     "name": "stdout",
     "output_type": "stream",
     "text": [
      "l2:  0.028716539964079857\n",
      "0 torch.Size([10000, 30, 1])\n",
      "2 torch.Size([10000, 30, 5])\n",
      "4 torch.Size([10000, 30, 9])\n",
      "0 torch.Size([5000, 30, 1])\n",
      "2 torch.Size([5000, 30, 5])\n",
      "4 torch.Size([5000, 30, 9])\n"
     ]
    }
   ],
   "source": [
    "def split(coefficients : Dict[str, torch.Tensor]):\n",
    "    lambd_max = max([int(key) for key in coefficients.keys()])\n",
    "    even : Dict[str, torch.Tensor] = {}\n",
    "    odd : Dict[str, torch.Tensor] = {}\n",
    "    for lambd in range(lambd_max + 1):\n",
    "        if lambd % 2 == 0:\n",
    "            even[str(lambd)] = coefficients[str(lambd)]\n",
    "        else:\n",
    "            odd[str(lambd)] = coefficients[str(lambd)]\n",
    "    return even, odd\n",
    "\n",
    "\n",
    "for struc in train_structures:\n",
    "    mask_center_atoms_by_species(struc, species_select=[\"C\"])\n",
    "for struc in test_structures:\n",
    "    mask_center_atoms_by_species(struc, species_select=[\"C\"])\n",
    "    \n",
    "train_coefs = get_coefs(train_structures, HYPERS, all_species)\n",
    "test_coefs = get_coefs(test_structures, HYPERS, all_species)\n",
    "\n",
    "L2_mean = get_L2_mean(train_coefs)\n",
    "print('l2: ', float(np.sqrt(L2_mean)))\n",
    "for key in train_coefs.keys():\n",
    "    train_coefs[key] /= np.sqrt(L2_mean)\n",
    "    test_coefs[key] /= np.sqrt(L2_mean)\n",
    "    \n",
    "train_even, train_odd = split(train_coefs)\n",
    "test_even, test_odd = split(test_coefs)\n",
    "\n",
    "\n",
    "for key in train_even.keys():\n",
    "    print(key, train_even[key].shape)\n",
    "for key in test_even.keys():\n",
    "    print(key, test_even[key].shape)"
   ]
  },
  {
   "cell_type": "code",
   "execution_count": 5,
   "metadata": {},
   "outputs": [],
   "source": [
    "blocks = [[BodyOrderIteration(Expansioner(LAMBDA_MAX, num_expand = 100), \n",
    "                           None,\n",
    "                           Compressor(50)), \n",
    "           BodyOrderIteration(Expansioner(LAMBDA_MAX, num_expand = 100), \n",
    "                           None,\n",
    "                           Compressor(50))],\n",
    "        [BodyOrderIteration(Expansioner(LAMBDA_MAX, num_expand = 100), \n",
    "                           None,\n",
    "                           Compressor(50)), \n",
    "           BodyOrderIteration(Expansioner(LAMBDA_MAX, num_expand = 100), \n",
    "                           None,\n",
    "                           Compressor(50))],\n",
    "        [None, \n",
    "           BodyOrderIteration(Expansioner(LAMBDA_MAX, num_expand = 100), \n",
    "                           None,\n",
    "                           Compressor(50))]]\n",
    "nice_features = NICE(blocks, Compressor())"
   ]
  },
  {
   "cell_type": "code",
   "execution_count": 6,
   "metadata": {},
   "outputs": [
    {
     "name": "stdout",
     "output_type": "stream",
     "text": [
      "(10000, 169)\n"
     ]
    }
   ],
   "source": [
    "class NICE_Model(torch.nn.Module):\n",
    "    def __init__(self, nice_features):\n",
    "        super(NICE_Model, self).__init__()\n",
    "        self.nice_features = nice_features\n",
    "       \n",
    "    \n",
    "    def fit(self, coefs, targets):\n",
    "        even, odd = split(coefs)\n",
    "        self.nice_features.fit(even, odd)\n",
    "        \n",
    "        features, _, _, _ = self.nice_features(even, odd)\n",
    "        aligned = []\n",
    "        for key in sorted(features.keys()):\n",
    "            aligned.append(features[key])\n",
    "        aligned = torch.cat(aligned, dim = 1)\n",
    "        \n",
    "        aligned = aligned.data.cpu().numpy()\n",
    "        print(aligned.shape)\n",
    "        rgr = BayesianRidge()\n",
    "        rgr.fit(aligned, targets)\n",
    "        \n",
    "        self.linear = nn.Linear(aligned.shape[1], 1)\n",
    "        with torch.no_grad():\n",
    "            weights = torch.from_numpy(rgr.coef_)[None, :]\n",
    "            self.linear.weight.copy_(weights)\n",
    "            intercept = np.array([rgr.intercept_])\n",
    "            self.linear.bias.copy_(torch.from_numpy(intercept))\n",
    "        \n",
    "        \n",
    "    def forward(self, X : Dict[str, torch.Tensor]):\n",
    "        even, odd = split(X)\n",
    "        features, _, _, _ = self.nice_features(even, odd)\n",
    "        conc : List[torch.Tensor] = []\n",
    "        for key in sorted(features.keys()):\n",
    "            now = features[key]\n",
    "            assert now is not None\n",
    "            conc.append(now)\n",
    "            \n",
    "        #print(\"some\")\n",
    "        conc = torch.cat(conc, dim = 1)\n",
    "       \n",
    "        return self.linear(conc)[:, 0]\n",
    "        \n",
    "model_nice = NICE_Model(nice_features)\n",
    "model_nice.fit(train_coefs, train_energies)\n",
    "predictions = model_nice(test_coefs)\n",
    "predictions = predictions.data.cpu().numpy()\n"
   ]
  },
  {
   "cell_type": "code",
   "execution_count": 7,
   "metadata": {},
   "outputs": [
    {
     "name": "stdout",
     "output_type": "stream",
     "text": [
      "(5000,)\n",
      "(5000,)\n"
     ]
    },
    {
     "data": {
      "image/png": "[encoded data removed]",
      "text/plain": [
       "<Figure size 432x288 with 1 Axes>"
      ]
     },
     "metadata": {
      "needs_background": "light"
     },
     "output_type": "display_data"
    },
    {
     "name": "stdout",
     "output_type": "stream",
     "text": [
      "rmse :  0.4959903847835462\n",
      "spread:  3.201062168184157\n",
      "relative rmse:  0.15494556454206668\n"
     ]
    }
   ],
   "source": [
    "print(test_energies.shape)\n",
    "print(predictions.shape)\n",
    "plt.plot(test_energies, predictions, 'o')\n",
    "plt.show()\n",
    "rmse = np.sqrt(np.mean((test_energies - predictions) ** 2))\n",
    "spread = np.sqrt(np.mean((test_energies - np.mean(test_energies)) ** 2))\n",
    "print(\"rmse : \", rmse)\n",
    "print(\"spread: \", spread)\n",
    "print(\"relative rmse: \", rmse / spread)"
   ]
  },
  {
   "cell_type": "code",
   "execution_count": 8,
   "metadata": {},
   "outputs": [
    {
     "name": "stdout",
     "output_type": "stream",
     "text": [
      "torch.Size([5000, 30, 1])\n",
      "torch.Size([5000, 90, 1])\n",
      "torch.Size([5000, 150, 1])\n",
      "torch.Size([5000, 210, 1])\n",
      "torch.Size([5000, 270, 1])\n"
     ]
    }
   ],
   "source": [
    "for key in test_coefs.keys():\n",
    "    test_coefs[key].requires_grad = True\n",
    "predictions = model_nice(test_coefs)\n",
    "all_keys = sorted(test_coefs.keys())\n",
    "test_coefs_list = [test_coefs[key] for key in test_coefs.keys()]\n",
    "\n",
    "derivatives_list = torch.autograd.grad(outputs = predictions,\n",
    "                                     inputs = test_coefs_list,\n",
    "                                     grad_outputs = torch.ones_like(predictions))\n",
    "\n",
    "derivatives = {}\n",
    "for i, key in enumerate(all_keys):\n",
    "    derivatives[key] = derivatives_list[i]\n",
    "\n",
    "for key in derivatives.keys():\n",
    "    derivatives[key] = derivatives[key].reshape(derivatives[key].shape[0], -1, 1)\n",
    "    \n",
    "for el in derivatives.values():\n",
    "    print(el.shape)"
   ]
  },
  {
   "cell_type": "code",
   "execution_count": 9,
   "metadata": {},
   "outputs": [
    {
     "name": "stdout",
     "output_type": "stream",
     "text": [
      "(5000,)\n",
      "(5000,)\n",
      "0 torch.Size([5000, 3, 30])\n",
      "1 torch.Size([5000, 3, 90])\n",
      "2 torch.Size([5000, 3, 150])\n",
      "3 torch.Size([5000, 3, 210])\n",
      "4 torch.Size([5000, 3, 270])\n",
      "torch.Size([5000, 3])\n"
     ]
    }
   ],
   "source": [
    "print(central_indices_test.shape)\n",
    "print(derivative_indices_test.shape)\n",
    "for key in coef_der_test.keys():\n",
    "    coef_der_test[key] = coef_der_test[key].reshape(coef_der_test[key].shape[0], 3, -1)\n",
    "for key in coef_der_test.keys():\n",
    "    print(key, coef_der_test[key].shape)\n",
    "\n",
    "forces = 0\n",
    "for key in coef_der_test.keys():\n",
    "    forces -= torch.bmm(coef_der_test[key], derivatives[key]).squeeze()\n",
    "print(forces.shape)"
   ]
  },
  {
   "cell_type": "code",
   "execution_count": 10,
   "metadata": {},
   "outputs": [
    {
     "data": {
      "image/png": "[encoded data removed]",
      "text/plain": [
       "<Figure size 432x288 with 1 Axes>"
      ]
     },
     "metadata": {
      "needs_background": "light"
     },
     "output_type": "display_data"
    },
    {
     "name": "stdout",
     "output_type": "stream",
     "text": [
      "(15000,)\n",
      "(15000,)\n",
      "10.655805915298039\n"
     ]
    }
   ],
   "source": [
    "forces = forces.data.cpu().numpy()\n",
    "forces = forces.reshape([-1])\n",
    "test_forces = test_forces.reshape([-1])\n",
    "\n",
    "plt.plot(forces, test_forces, 'o')\n",
    "plt.show()\n",
    "print(forces.shape)\n",
    "print(test_forces.shape)\n",
    "print(np.sqrt(np.mean((test_forces - forces) ** 2)))"
   ]
  },
  {
   "cell_type": "code",
   "execution_count": 11,
   "metadata": {},
   "outputs": [
    {
     "name": "stdout",
     "output_type": "stream",
     "text": [
      "5.103958368301392\n"
     ]
    }
   ],
   "source": [
    "now = {}\n",
    "for key in test_coefs.keys():\n",
    "    now[key] = test_coefs[key].detach()[:5].to('cuda')\n",
    "with torch.no_grad():\n",
    "    model_nice = model_nice.to('cuda')\n",
    "    begin = time.time()\n",
    "    model_traced = torch.jit.trace(model_nice, now)\n",
    "    print(time.time() - begin)"
   ]
  },
  {
   "cell_type": "code",
   "execution_count": 14,
   "metadata": {},
   "outputs": [
    {
     "name": "stdout",
     "output_type": "stream",
     "text": [
      "ENERGIES GPU:\n",
      "________\n",
      "1 204.81716543861128\n",
      "5 1022.9534407098722\n",
      "10 1994.4767554685955\n",
      "50 9848.642825768224\n",
      "100 19484.99746285998\n",
      "500 95141.88655726248\n",
      "1000 176495.0404995621\n",
      "5000 411739.8409036337\n"
     ]
    }
   ],
   "source": [
    "def benchmark_forward_gpu(model, batch_size, n_experiments, n_warmup = 5):\n",
    "    \n",
    "    now = {}\n",
    "    for key in test_coefs.keys():\n",
    "        now[key] = test_coefs[key].detach()[:batch_size].to('cuda')\n",
    "    \n",
    "    with torch.no_grad():\n",
    "        for _ in range(n_warmup):\n",
    "            _ = model(now)\n",
    "       \n",
    "    torch.cuda.synchronize('cuda')\n",
    "    starter, ender = torch.cuda.Event(enable_timing=True), torch.cuda.Event(enable_timing=True)\n",
    "    times = []\n",
    "    with torch.no_grad():\n",
    "        for _ in range(n_experiments):\n",
    "            starter.record()\n",
    "            predictions = model(now)\n",
    "            ender.record()\n",
    "            torch.cuda.synchronize('cuda')\n",
    "            delta_time = starter.elapsed_time(ender)\n",
    "            times.append(delta_time / 1000.0)\n",
    "        \n",
    "    return np.mean(times)\n",
    "\n",
    "\n",
    "\n",
    "print(\"ENERGIES GPU:\\n________\")\n",
    "throughput_energies_gpu = []\n",
    "for batch_size in BATCH_SIZE_GRID:\n",
    "    time_now = benchmark_forward_gpu(model_traced, batch_size, 10)\n",
    "    throughput_energies_gpu.append(batch_size / time_now)\n",
    "    print(batch_size, batch_size / time_now)"
   ]
  },
  {
   "cell_type": "code",
   "execution_count": 16,
   "metadata": {},
   "outputs": [
    {
     "name": "stdout",
     "output_type": "stream",
     "text": [
      "BOTH GPU:\n",
      "________\n",
      "1 31.190279480105215\n",
      "5 157.29313812345092\n",
      "10 298.14392486714866\n",
      "50 1595.5260996308377\n",
      "100 3212.257436386871\n",
      "500 15452.27722707145\n",
      "1000 30397.546331359194\n",
      "5000 120237.49988487392\n"
     ]
    }
   ],
   "source": [
    "def evaluate(model, coefs):\n",
    "    predictions = model(coefs)\n",
    "    all_keys = sorted(coefs.keys())\n",
    "    coefs_list = [coefs[key] for key in coefs.keys()]\n",
    "    with torch.no_grad():\n",
    "        derivatives_list = torch.autograd.grad(outputs = predictions,\n",
    "                                               inputs = coefs_list,\n",
    "                                               grad_outputs = torch.ones_like(predictions).to('cuda'))\n",
    "    derivatives = {key : derivatives_list[i] for i, key in enumerate(all_keys)}\n",
    "    return predictions, derivatives\n",
    "    \n",
    "def benchmark_both_gpu(model, batch_size, n_experiments, n_warmup = 5):\n",
    "   \n",
    "    now = {}\n",
    "    for key in test_coefs.keys():\n",
    "        now[key] = test_coefs[key].detach()[:batch_size].to('cuda')\n",
    "        now[key].requires_grad = True\n",
    "        \n",
    "    for _ in range(n_warmup):\n",
    "        predictions, derivatives = evaluate(model, now)\n",
    "        \n",
    "    times = []\n",
    "    torch.cuda.synchronize('cuda')\n",
    "    starter, ender = torch.cuda.Event(enable_timing=True), torch.cuda.Event(enable_timing=True)\n",
    "    for _ in range(n_experiments):\n",
    "        starter.record()\n",
    "        predictions, derivatives = evaluate(model, now)\n",
    "        ender.record()\n",
    "        torch.cuda.synchronize('cuda')\n",
    "        delta_time = starter.elapsed_time(ender)\n",
    "        times.append(delta_time / 1000.0)\n",
    "    return np.mean(times)   \n",
    "\n",
    "throughput_both_gpu = []\n",
    "print(\"BOTH GPU:\\n________\")\n",
    "for batch_size in BATCH_SIZE_GRID:\n",
    "    time_now = benchmark_both_gpu(model_traced, batch_size, 10)\n",
    "    throughput_both_gpu.append(batch_size / time_now)\n",
    "    print(batch_size, batch_size / time_now)    "
   ]
  },
  {
   "cell_type": "code",
   "execution_count": 22,
   "metadata": {},
   "outputs": [
    {
     "name": "stdout",
     "output_type": "stream",
     "text": [
      "4.779760837554932\n"
     ]
    }
   ],
   "source": [
    "now = {}\n",
    "for key in test_coefs.keys():\n",
    "    now[key] = test_coefs[key].detach()[:5].to('cpu')\n",
    "with torch.no_grad():\n",
    "    model_nice = model_nice.to('cpu')\n",
    "    begin = time.time()\n",
    "    model_traced = torch.jit.trace(model_nice, now)\n",
    "    print(time.time() - begin)"
   ]
  },
  {
   "cell_type": "code",
   "execution_count": 15,
   "metadata": {},
   "outputs": [
    {
     "name": "stdout",
     "output_type": "stream",
     "text": [
      "ENERGIES CPU:\n",
      "________\n",
      "1 633.29367356183\n",
      "5 2378.8021778584393\n",
      "10 3818.384086667577\n",
      "50 8234.846937974147\n",
      "100 9802.638621092608\n",
      "500 10942.848242513928\n",
      "1000 10730.888365658835\n",
      "5000 10577.910525332487\n"
     ]
    }
   ],
   "source": [
    "def benchmark_forward_cpu(model, batch_size, n_experiments, n_warmup = 5):\n",
    "    torch.set_num_threads(1)\n",
    "    now = {}\n",
    "    for key in test_coefs.keys():\n",
    "        now[key] = test_coefs[key].detach()[:batch_size].to('cpu')\n",
    "    \n",
    "    with torch.no_grad():\n",
    "        for _ in range(n_warmup):\n",
    "            _ = model(now)\n",
    "       \n",
    "   \n",
    "    times = []\n",
    "    with torch.no_grad():\n",
    "        for _ in range(n_experiments):\n",
    "            begin = time.time()\n",
    "            predictions = model(now)\n",
    "            times.append(time.time() - begin)\n",
    "        \n",
    "    return np.mean(times)\n",
    "\n",
    "throughput_energies_cpu = []\n",
    "print(\"ENERGIES CPU:\\n________\")\n",
    "for batch_size in BATCH_SIZE_GRID:\n",
    "    time_now = benchmark_forward_cpu(model_traced, batch_size, 10)\n",
    "    throughput_energies_cpu.append(batch_size / time_now)\n",
    "    print(batch_size, batch_size / time_now)"
   ]
  },
  {
   "cell_type": "code",
   "execution_count": 16,
   "metadata": {},
   "outputs": [
    {
     "name": "stdout",
     "output_type": "stream",
     "text": [
      "BOTH CPU:\n",
      "________\n",
      "1 146.6350157497107\n",
      "5 598.3690845074441\n",
      "10 1061.5105055096349\n",
      "50 2989.342064563398\n",
      "100 3652.388204877683\n",
      "500 4670.128442606122\n",
      "1000 4769.161566209222\n",
      "5000 4479.382471851247\n"
     ]
    }
   ],
   "source": [
    "def evaluate(model, coefs):\n",
    "    predictions = model(coefs)\n",
    "    all_keys = sorted(coefs.keys())\n",
    "    coefs_list = [coefs[key] for key in coefs.keys()]\n",
    "    with torch.no_grad():\n",
    "        derivatives_list = torch.autograd.grad(outputs = predictions,\n",
    "                                               inputs = coefs_list,\n",
    "                                               grad_outputs = torch.ones_like(predictions).to('cpu'))\n",
    "    derivatives = {key : derivatives_list[i] for i, key in enumerate(all_keys)}\n",
    "    return predictions, derivatives\n",
    "    \n",
    "def benchmark_both_cpu(model, batch_size, n_experiments, n_warmup = 5):\n",
    "    torch.set_num_threads(1)\n",
    "    now = {}\n",
    "    for key in test_coefs.keys():\n",
    "        now[key] = test_coefs[key].detach()[:batch_size].to('cpu')\n",
    "        now[key].requires_grad = True\n",
    "        \n",
    "    for _ in range(n_warmup):\n",
    "        predictions, derivatives = evaluate(model, now)\n",
    "        \n",
    "    times = []\n",
    "    for _ in range(n_experiments):\n",
    "        begin = time.time()\n",
    "        predictions, derivatives = evaluate(model, now)\n",
    "        times.append(time.time() - begin)\n",
    "    return np.mean(times)   \n",
    "\n",
    "throughput_both_cpu = []\n",
    "print(\"BOTH CPU:\\n________\")\n",
    "for batch_size in BATCH_SIZE_GRID:\n",
    "    time_now = benchmark_both_cpu(model_traced, batch_size, 10)\n",
    "    throughput_both_cpu.append(batch_size / time_now)\n",
    "    print(batch_size, batch_size / time_now)    \n"
   ]
  },
  {
   "cell_type": "code",
   "execution_count": 17,
   "metadata": {},
   "outputs": [
    {
     "data": {
      "image/png": "[encoded data removed]",
      "text/plain": [
       "<Figure size 1152x576 with 2 Axes>"
      ]
     },
     "metadata": {
      "needs_background": "light"
     },
     "output_type": "display_data"
    }
   ],
   "source": [
    "import matplotlib \n",
    "font = {'size'   : 15}\n",
    "\n",
    "matplotlib.rc('font', **font) \n",
    "\n",
    "fig, axes = plt.subplots(1, 2, figsize = (16, 8), sharey = True)\n",
    "axes[0].set_title(\"GPU\")\n",
    "axes[0].set_xlabel(\"batch size\")\n",
    "axes[0].set_ylabel(\"atomic environments/sec\")\n",
    "axes[0].set_xscale('log')\n",
    "axes[1].set_yscale('log')\n",
    "axes[0].plot(BATCH_SIZE_GRID, throughput_both_gpu, label = 'energies and forces')\n",
    "axes[0].plot(BATCH_SIZE_GRID, throughput_energies_gpu, label = 'energies')\n",
    "axes[0].legend()\n",
    "\n",
    "axes[1].set_title(\"CPU\")\n",
    "axes[1].set_xlabel(\"batch_size\")\n",
    "axes[1].set_xscale('log')\n",
    "axes[1].set_yscale('log')\n",
    "axes[1].set_ylabel(\"atomic environments/sec\")\n",
    "axes[1].plot(BATCH_SIZE_GRID, throughput_both_cpu, label = 'energies and forces')\n",
    "axes[1].plot(BATCH_SIZE_GRID, throughput_energies_cpu, label = 'energies')\n",
    "axes[1].legend()\n",
    "\n",
    "plt.show()"
   ]
  },
  {
   "cell_type": "code",
   "execution_count": null,
   "metadata": {},
   "outputs": [],
   "source": []
  }
 ],
 "metadata": {
  "kernelspec": {
   "display_name": "Python 3",
   "language": "python",
   "name": "python3"
  },
  "language_info": {
   "codemirror_mode": {
    "name": "ipython",
    "version": 3
   },
   "file_extension": ".py",
   "mimetype": "text/x-python",
   "name": "python",
   "nbconvert_exporter": "python",
   "pygments_lexer": "ipython3",
   "version": "3.8.10"
  }
 },
 "nbformat": 4,
 "nbformat_minor": 4
}
