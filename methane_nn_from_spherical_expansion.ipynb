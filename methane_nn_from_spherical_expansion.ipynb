{
 "cells": [
  {
   "cell_type": "code",
   "execution_count": 1,
   "metadata": {},
   "outputs": [
    {
     "data": {
      "text/plain": [
       "'!wget \"https://archive.materialscloud.org/record/file?file_id=b612d8e3-58af-4374-96ba-b3551ac5d2f4&filename=methane.extxyz.gz&record_id=528\" -O methane.extxyz.gz\\n!gunzip -k methane.extxyz.gz'"
      ]
     },
     "execution_count": 1,
     "metadata": {},
     "output_type": "execute_result"
    }
   ],
   "source": [
    "# downloading dataset from https://archive.materialscloud.org/record/2020.110\n",
    "'''!wget \"https://archive.materialscloud.org/record/file?file_id=b612d8e3-58af-4374-96ba-b3551ac5d2f4&filename=methane.extxyz.gz&record_id=528\" -O methane.extxyz.gz\n",
    "!gunzip -k methane.extxyz.gz'''"
   ]
  },
  {
   "cell_type": "code",
   "execution_count": 2,
   "metadata": {},
   "outputs": [],
   "source": [
    "import numpy as np\n",
    "import ase.io\n",
    "import tqdm\n",
    "from nice.blocks import *\n",
    "from nice.utilities import *\n",
    "from matplotlib import pyplot as plt\n",
    "import torch\n",
    "torch.set_default_tensor_type(torch.DoubleTensor)\n",
    "from torch import nn\n",
    "import sys\n",
    "sys.path.append('./code/')\n",
    "from code_pytorch import *\n",
    "from utilities import *"
   ]
  },
  {
   "cell_type": "code",
   "execution_count": 3,
   "metadata": {
    "code_folding": []
   },
   "outputs": [],
   "source": [
    "HARTREE_TO_EV = 27.211386245988\n",
    "FORCE_FACTOR = 51.42208619083232\n",
    "LAMBDA_MAX = 5\n",
    "HYPERS = {\n",
    "    'interaction_cutoff': 6.3,\n",
    "    'max_radial': 5,\n",
    "    'max_angular': LAMBDA_MAX,\n",
    "    'gaussian_sigma_type': 'Constant',\n",
    "    'gaussian_sigma_constant': 0.05,\n",
    "    'cutoff_smooth_width': 0.3,\n",
    "    'radial_basis': 'GTO'\n",
    "}\n",
    "train_subset = '0:10000'\n",
    "test_subset = '10000:11000'\n",
    "DEVICE = 'cuda'\n",
    "MAGIC_NUMBER = 1\n",
    "FIRST_BATCH_NORM_EPSILON = 1e-20 #spherical expansion coefficients from rascal might be really small!"
   ]
  },
  {
   "cell_type": "code",
   "execution_count": 4,
   "metadata": {},
   "outputs": [
    {
     "name": "stderr",
     "output_type": "stream",
     "text": [
      "100%|██████████| 100/100 [00:00<00:00, 161.99it/s]\n",
      "100%|██████████| 10/10 [00:00<00:00, 153.65it/s]"
     ]
    },
    {
     "name": "stdout",
     "output_type": "stream",
     "text": [
      "(50000, 10, 6, 11)\n",
      "(5000, 10, 6, 11)\n"
     ]
    },
    {
     "name": "stderr",
     "output_type": "stream",
     "text": [
      "\n"
     ]
    }
   ],
   "source": [
    "train_structures = ase.io.read('methane.extxyz', index=train_subset)\n",
    "\n",
    "test_structures = ase.io.read('methane.extxyz', index=test_subset)\n",
    "\n",
    "all_species = get_all_species(train_structures + test_structures)\n",
    "\n",
    "train_coefficients = get_spherical_expansion(train_structures, HYPERS,\n",
    "                                             all_species, split_by_central_specie = False)\n",
    "\n",
    "test_coefficients = get_spherical_expansion(test_structures, HYPERS,\n",
    "                                            all_species, split_by_central_specie = False)\n",
    "\n",
    "\n",
    "train_coefficients *= MAGIC_NUMBER\n",
    "test_coefficients *= MAGIC_NUMBER\n",
    "print(train_coefficients.shape)\n",
    "print(test_coefficients.shape)"
   ]
  },
  {
   "cell_type": "code",
   "execution_count": 5,
   "metadata": {},
   "outputs": [
    {
     "name": "stdout",
     "output_type": "stream",
     "text": [
      "0\n",
      "2499\n",
      "0\n",
      "2499\n"
     ]
    }
   ],
   "source": [
    "train_energies = [structure.info['energy'] for structure in train_structures]\n",
    "train_energies = np.array(train_energies) * HARTREE_TO_EV\n",
    "\n",
    "test_energies = [structure.info['energy'] for structure in test_structures]\n",
    "test_energies = np.array(test_energies) * HARTREE_TO_EV\n",
    "\n",
    "mean_e = np.mean(train_energies)\n",
    "train_energies = train_energies - mean_e\n",
    "test_energies = test_energies - mean_e\n",
    "\n",
    "train_energies = torch.FloatTensor(train_energies).to(DEVICE)\n",
    "test_energies = torch.FloatTensor(test_energies).to(DEVICE)\n",
    "\n",
    "train_forces = [structure.arrays[\"forces\"] for structure in train_structures]\n",
    "train_forces = np.concatenate(train_forces, axis = 0) * FORCE_FACTOR\n",
    "\n",
    "test_forces = [structure.arrays[\"forces\"] for structure in test_structures]\n",
    "test_forces = np.concatenate(test_forces, axis = 0) * FORCE_FACTOR\n",
    "\n",
    "\n",
    "coef_der_train, central_indices_train, derivative_indices_train = \\\n",
    "get_coef_ders(train_structures, HYPERS, all_species)\n",
    "print(np.min(derivative_indices_train[0:12500]))\n",
    "print(np.max(derivative_indices_train[0:12500]))\n",
    "print(np.min(central_indices_train[0:12500]))\n",
    "print(np.max(central_indices_train[0:12500]))\n",
    "\n",
    "for key in coef_der_train.keys():\n",
    "    coef_der_train[key] = torch.from_numpy(coef_der_train[key])\\\n",
    "    .type(torch.get_default_dtype()).to(DEVICE) * MAGIC_NUMBER\n",
    "\n",
    "    \n",
    "coef_der_test, central_indices_test, derivative_indices_test = \\\n",
    "get_coef_ders(test_structures, HYPERS, all_species)\n",
    "\n",
    "\n",
    "for key in coef_der_test.keys():\n",
    "    coef_der_test[key] = torch.from_numpy(coef_der_test[key])\\\n",
    "    .type(torch.get_default_dtype()).to(DEVICE) * MAGIC_NUMBER"
   ]
  },
  {
   "cell_type": "code",
   "execution_count": 6,
   "metadata": {},
   "outputs": [
    {
     "name": "stdout",
     "output_type": "stream",
     "text": [
      "torch.Size([50000, 10, 1])\n",
      "torch.Size([50000, 10, 3])\n",
      "torch.Size([50000, 10, 5])\n",
      "torch.Size([50000, 10, 7])\n",
      "torch.Size([50000, 10, 9])\n",
      "torch.Size([50000, 10, 11])\n"
     ]
    }
   ],
   "source": [
    "def convert_to_torch(coefficients):\n",
    "    result = {}\n",
    "    for lambd in range(coefficients.shape[2]):\n",
    "        result[lambd] = torch.FloatTensor(coefficients[:, :, lambd, : 2 * lambd + 1])        \n",
    "    return result\n",
    "\n",
    "train_coefficients = convert_to_torch(train_coefficients)\n",
    "test_coefficients = convert_to_torch(test_coefficients)\n",
    "\n",
    "for key in train_coefficients.keys():\n",
    "    print(train_coefficients[key].shape)"
   ]
  },
  {
   "cell_type": "code",
   "execution_count": 7,
   "metadata": {},
   "outputs": [],
   "source": [
    "def get_loss(predictions, targets):\n",
    "    delta = predictions - targets\n",
    "    return torch.mean(delta * delta)\n",
    "\n",
    "def get_mae(first, second):\n",
    "    return np.mean(np.abs(first - second))\n",
    "\n",
    "def get_rmse(first, second):\n",
    "    delta = first - second\n",
    "    return np.sqrt(np.mean(delta * delta))\n",
    "\n",
    "class Model(torch.nn.Module):\n",
    "    def __init__(self, input_lambda_max):\n",
    "        super(Model, self).__init__()\n",
    "        clebsch = nice.clebsch_gordan.ClebschGordan(input_lambda_max)\n",
    "        self.clebsch_combining = ClebschCombining(clebsch.precomputed_, 0)\n",
    "        self.sequential = nn.Sequential(nn.BatchNorm1d(600, eps = FIRST_BATCH_NORM_EPSILON), nn.Linear(600, 200), nn.BatchNorm1d(200), nn.Tanh(),\n",
    "                                        nn.Linear(200, 200), nn.BatchNorm1d(200), nn.Tanh(),\n",
    "                                        nn.Linear(200, 1))\n",
    "        \n",
    "    def forward(self, X):\n",
    "        X = self.clebsch_combining(X, X)[0].squeeze()        \n",
    "        return {'predictions' : self.sequential(X).squeeze()}"
   ]
  },
  {
   "cell_type": "code",
   "execution_count": 8,
   "metadata": {},
   "outputs": [
    {
     "name": "stdout",
     "output_type": "stream",
     "text": [
      "<class 'dict'>\n",
      "torch.Size([50000])\n"
     ]
    }
   ],
   "source": [
    "model = Model(LAMBDA_MAX)\n",
    "result = model(train_coefficients)\n",
    "print(type(result))\n",
    "print(result['predictions'].shape)"
   ]
  },
  {
   "cell_type": "code",
   "execution_count": 9,
   "metadata": {},
   "outputs": [],
   "source": [
    "models = {}\n",
    "for key in all_species:\n",
    "    models[str(key)] = Model(LAMBDA_MAX)\n",
    "    "
   ]
  },
  {
   "cell_type": "code",
   "execution_count": 10,
   "metadata": {},
   "outputs": [
    {
     "name": "stdout",
     "output_type": "stream",
     "text": [
      "train mae:  1.1655603108145232\n",
      "train rmse:  1.8896581515251676\n",
      "test mae:  2.197414499728713\n",
      "test rmse:  3.50537499508842\n",
      "train mae:  0.26311277993046667\n",
      "train rmse:  0.36334181301338764\n",
      "test mae:  2.549471739565889\n",
      "test rmse:  3.9216425126287504\n",
      "train mae:  0.30925390364460703\n",
      "train rmse:  0.42343685212989773\n",
      "test mae:  1.3048296634274252\n",
      "test rmse:  1.7592668684236172\n",
      "train mae:  0.2573692318992271\n",
      "train rmse:  0.3433288117210309\n",
      "test mae:  0.2946264562145419\n",
      "test rmse:  0.4377907560466951\n",
      "train mae:  0.1877547376982925\n",
      "train rmse:  0.24433470831462573\n",
      "test mae:  0.29960335230122553\n",
      "test rmse:  0.41455701473637563\n",
      "train mae:  0.2839151594953074\n",
      "train rmse:  0.36333778606929706\n",
      "test mae:  0.2536603155585272\n",
      "test rmse:  0.37361408158041576\n",
      "train mae:  0.16329706395352545\n",
      "train rmse:  0.2121969377300555\n",
      "test mae:  0.19705938537297074\n",
      "test rmse:  0.3186553237146801\n",
      "train mae:  0.17654986859504423\n",
      "train rmse:  0.2422221827212775\n",
      "test mae:  0.21813449477503769\n",
      "test rmse:  0.32765383768455425\n",
      "train mae:  0.1831735112583882\n",
      "train rmse:  0.24458210739125652\n",
      "test mae:  0.2248465107515728\n",
      "test rmse:  0.34884053246436386\n",
      "train mae:  0.20151680264693267\n",
      "train rmse:  0.29286464973142423\n",
      "test mae:  0.21752667549832494\n",
      "test rmse:  0.3443943573011981\n"
     ]
    }
   ],
   "source": [
    "atomistic = Atomistic(models).to(DEVICE)\n",
    "optim = torch.optim.Adam(atomistic.parameters())\n",
    "\n",
    "\n",
    "\n",
    "\n",
    "train_struc = {'energies' : train_energies}\n",
    "test_struc = {'energies' : test_energies}\n",
    "#print(train_atomic[0].device)\n",
    "#print(torch.is_tensor(train_atomic[0]))\n",
    "BATCH_SIZE = 500\n",
    "history = {'train_mae' : [], 'test_mae' : [],\n",
    "           'train_rmse' : [], 'test_rmse' : []}\n",
    "for epoch_num in range(100):\n",
    "    train_predictions = []\n",
    "    atomistic.train(True)\n",
    "    for _, _, _, coef_batch, structural_batch, structures_batch in iterate_minibatches(None, None, None, train_coefficients, train_struc,\n",
    "                                                  train_structures, BATCH_SIZE, DEVICE):\n",
    "        energies_now = structural_batch['energies']\n",
    "       \n",
    "        predictions = atomistic(coef_batch, structures_batch)['predictions'].squeeze()\n",
    "        train_predictions.append(predictions.data.cpu().numpy())       \n",
    "        loss = get_loss(predictions, energies_now)\n",
    "        loss.backward()\n",
    "        optim.step()\n",
    "        optim.zero_grad()\n",
    "    atomistic.train(False)\n",
    "    train_predictions = np.concatenate(train_predictions, axis = 0)\n",
    "    train_mae = get_mae(train_predictions, train_energies.data.cpu().numpy())\n",
    "    train_rmse = get_rmse(train_predictions, train_energies.data.cpu().numpy())\n",
    "    if epoch_num % 10 == 0:\n",
    "        print(\"train mae: \", train_mae)\n",
    "        print(\"train rmse: \", train_rmse)\n",
    "        \n",
    "    test_predictions = []\n",
    "    for _, _, _, coef_batch, structural_batch, structures_batch in iterate_minibatches(None, None, None, test_coefficients, test_struc,\n",
    "                                                   test_structures, BATCH_SIZE, DEVICE):\n",
    "        \n",
    "        energies_now = structural_batch['energies']\n",
    "        predictions = atomistic(coef_batch, structures_batch)['predictions'].squeeze()\n",
    "        test_predictions.append(predictions.data.cpu().numpy())\n",
    "    test_predictions = np.concatenate(test_predictions, axis = 0)\n",
    "    test_mae = get_mae(test_predictions, test_energies.data.cpu().numpy())\n",
    "    test_rmse = get_rmse(test_predictions, test_energies.data.cpu().numpy())\n",
    "    if epoch_num % 10 == 0:\n",
    "        print(\"test mae: \", test_mae)\n",
    "        print(\"test rmse: \", test_rmse)\n",
    "    history['train_mae'].append(train_mae)\n",
    "    history['test_mae'].append(test_mae)\n",
    "    history['train_rmse'].append(train_rmse)\n",
    "    history['test_rmse'].append(test_rmse)"
   ]
  },
  {
   "cell_type": "code",
   "execution_count": 11,
   "metadata": {},
   "outputs": [
    {
     "data": {
      "image/png": "[encoded data removed]",
      "text/plain": [
       "<Figure size 432x288 with 1 Axes>"
      ]
     },
     "metadata": {
      "needs_background": "light"
     },
     "output_type": "display_data"
    },
    {
     "name": "stdout",
     "output_type": "stream",
     "text": [
      "train rmse 0.20770808617638067\n",
      "train mae:  0.1543317050295843\n"
     ]
    }
   ],
   "source": [
    "plt.plot(train_energies.data.cpu().numpy(), train_predictions, 'o')\n",
    "plt.title(\"train\")\n",
    "plt.show()\n",
    "print(\"train rmse\", get_rmse(train_energies.data.cpu().numpy(), train_predictions))\n",
    "print(\"train mae: \", get_mae(train_energies.data.cpu().numpy(), train_predictions))\n",
    "\n"
   ]
  },
  {
   "cell_type": "code",
   "execution_count": 12,
   "metadata": {},
   "outputs": [
    {
     "name": "stdout",
     "output_type": "stream",
     "text": [
      "test rmse 0.34218898180289026\n",
      "test mae:  0.22279230601494537\n"
     ]
    },
    {
     "data": {
      "image/png": "[encoded data removed]",
      "text/plain": [
       "<Figure size 432x288 with 1 Axes>"
      ]
     },
     "metadata": {
      "needs_background": "light"
     },
     "output_type": "display_data"
    }
   ],
   "source": [
    "plt.plot(test_energies.data.cpu().numpy(), test_predictions, 'o')\n",
    "plt.title(\"test\")\n",
    "\n",
    "print(\"test rmse\", get_rmse(test_energies.data.cpu().numpy(), test_predictions))\n",
    "print(\"test mae: \", get_mae(test_energies.data.cpu().numpy(), test_predictions))\n",
    "plt.show()"
   ]
  },
  {
   "cell_type": "code",
   "execution_count": 13,
   "metadata": {},
   "outputs": [
    {
     "name": "stdout",
     "output_type": "stream",
     "text": [
      "0\n",
      "2499\n"
     ]
    }
   ],
   "source": [
    "atomistic = atomistic.train(False)\n",
    "print(np.min(derivative_indices_train[0:12500]))\n",
    "print(np.max(derivative_indices_train[0:12500]))"
   ]
  },
  {
   "cell_type": "code",
   "execution_count": 14,
   "metadata": {},
   "outputs": [
    {
     "data": {
      "image/png": "[encoded data removed]",
      "text/plain": [
       "<Figure size 432x288 with 1 Axes>"
      ]
     },
     "metadata": {
      "needs_background": "light"
     },
     "output_type": "display_data"
    },
    {
     "name": "stdout",
     "output_type": "stream",
     "text": [
      "train mae:  0.5099954648277266\n",
      "train rmse:  2.475887254365614\n"
     ]
    }
   ],
   "source": [
    "forces_predictions_train = []\n",
    "for key in train_coefficients.keys():\n",
    "    train_coefficients[key].requires_grad = True\n",
    "for coef_der_batch, central_batch, derivative_batch, coef_batch, _, structures_batch in iterate_minibatches(coef_der_train,\n",
    "                                                    central_indices_train, derivative_indices_train, train_coefficients, None,\n",
    "                                                   train_structures, BATCH_SIZE, DEVICE):\n",
    "    forces_predictions_now = atomistic.get_forces(coef_batch, structures_batch, \n",
    "                                          coef_der_batch, central_batch, derivative_batch)\n",
    "    #print(forces_predictions_now.shape)\n",
    "    forces_predictions_train.append(forces_predictions_now)\n",
    "    \n",
    "forces_predictions_train = torch.cat(forces_predictions_train, dim = 0)\n",
    "forces_predictions_a = forces_predictions_train.data.cpu().numpy().reshape([-1])\n",
    "forces_a = train_forces.reshape([-1])\n",
    "plt.plot(forces_a, forces_predictions_a, 'o')\n",
    "plt.plot([np.min(forces_a), np.max(forces_a)],\n",
    "         [np.min(forces_a), np.max(forces_a)])\n",
    "plt.show()\n",
    "print(\"train mae: \", get_mae(forces_a, forces_predictions_a))\n",
    "print(\"train rmse: \", get_rmse(forces_a, forces_predictions_a))"
   ]
  },
  {
   "cell_type": "code",
   "execution_count": 15,
   "metadata": {},
   "outputs": [
    {
     "name": "stdout",
     "output_type": "stream",
     "text": [
      "torch.Size([2500, 3])\n",
      "torch.Size([2500, 3])\n"
     ]
    },
    {
     "data": {
      "image/png": "[encoded data removed]",
      "text/plain": [
       "<Figure size 432x288 with 1 Axes>"
      ]
     },
     "metadata": {
      "needs_background": "light"
     },
     "output_type": "display_data"
    },
    {
     "name": "stdout",
     "output_type": "stream",
     "text": [
      "test mae:  0.5528029570486329\n",
      "test rmse:  2.8871975145121263\n"
     ]
    }
   ],
   "source": [
    "forces_predictions_test = []\n",
    "for key in test_coefficients.keys():\n",
    "    test_coefficients[key].requires_grad = True\n",
    "    \n",
    "for coef_der_batch, central_batch, derivative_batch, coef_batch, _, structures_batch in iterate_minibatches(coef_der_test,\n",
    "                                                    central_indices_test, derivative_indices_test, test_coefficients, None,\n",
    "                                                   test_structures, BATCH_SIZE, DEVICE):\n",
    "    forces_predictions_now = atomistic.get_forces(coef_batch, structures_batch, \n",
    "                                          coef_der_batch, central_batch, derivative_batch)\n",
    "    print(forces_predictions_now.shape)\n",
    "    forces_predictions_test.append(forces_predictions_now)\n",
    "    \n",
    "forces_predictions_test = torch.cat(forces_predictions_test, dim = 0)\n",
    "forces_predictions_a = forces_predictions_test.data.cpu().numpy().reshape([-1])\n",
    "forces_a = test_forces.reshape([-1])\n",
    "plt.plot(forces_a, forces_predictions_a, 'o')\n",
    "plt.plot([np.min(forces_a), np.max(forces_a)],\n",
    "         [np.min(forces_a), np.max(forces_a)])\n",
    "\n",
    "plt.show()\n",
    "print(\"test mae: \", get_mae(forces_a, forces_predictions_a))\n",
    "print(\"test rmse: \", get_rmse(forces_a, forces_predictions_a))"
   ]
  },
  {
   "cell_type": "code",
   "execution_count": null,
   "metadata": {},
   "outputs": [],
   "source": []
  },
  {
   "cell_type": "code",
   "execution_count": null,
   "metadata": {},
   "outputs": [],
   "source": []
  }
 ],
 "metadata": {
  "kernelspec": {
   "display_name": "Python 3",
   "language": "python",
   "name": "python3"
  },
  "language_info": {
   "codemirror_mode": {
    "name": "ipython",
    "version": 3
   },
   "file_extension": ".py",
   "mimetype": "text/x-python",
   "name": "python",
   "nbconvert_exporter": "python",
   "pygments_lexer": "ipython3",
   "version": "3.8.5"
  }
 },
 "nbformat": 4,
 "nbformat_minor": 4
}
