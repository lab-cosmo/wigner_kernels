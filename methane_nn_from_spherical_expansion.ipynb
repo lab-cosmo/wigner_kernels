{
 "cells": [
  {
   "cell_type": "code",
   "execution_count": 1,
   "metadata": {},
   "outputs": [
    {
     "data": {
      "text/plain": [
       "'# downloading dataset from https://archive.materialscloud.org/record/2020.110\\n\\n!wget \"https://archive.materialscloud.org/record/file?file_id=b612d8e3-58af-4374-96ba-b3551ac5d2f4&filename=methane.extxyz.gz&record_id=528\" -O methane.extxyz.gz\\n!gunzip -k methane.extxyz.gz'"
      ]
     },
     "execution_count": 1,
     "metadata": {},
     "output_type": "execute_result"
    }
   ],
   "source": [
    "'''# downloading dataset from https://archive.materialscloud.org/record/2020.110\n",
    "\n",
    "!wget \"https://archive.materialscloud.org/record/file?file_id=b612d8e3-58af-4374-96ba-b3551ac5d2f4&filename=methane.extxyz.gz&record_id=528\" -O methane.extxyz.gz\n",
    "!gunzip -k methane.extxyz.gz'''"
   ]
  },
  {
   "cell_type": "code",
   "execution_count": 2,
   "metadata": {},
   "outputs": [],
   "source": [
    "import numpy as np\n",
    "import ase.io\n",
    "import tqdm\n",
    "from nice.blocks import *\n",
    "from nice.utilities import *\n",
    "from matplotlib import pyplot as plt\n",
    "import torch\n",
    "from torch import nn\n",
    "import sys\n",
    "sys.path.append('./code/')\n",
    "from code_pytorch import *\n",
    "from utilities import *"
   ]
  },
  {
   "cell_type": "code",
   "execution_count": 3,
   "metadata": {},
   "outputs": [],
   "source": [
    "HARTREE_TO_EV = 27.211386245988\n",
    "LAMBDA_MAX = 5\n",
    "HYPERS = {\n",
    "    'interaction_cutoff': 6.3,\n",
    "    'max_radial': 5,\n",
    "    'max_angular': LAMBDA_MAX,\n",
    "    'gaussian_sigma_type': 'Constant',\n",
    "    'gaussian_sigma_constant': 0.05,\n",
    "    'cutoff_smooth_width': 0.3,\n",
    "    'radial_basis': 'GTO'\n",
    "}\n",
    "train_subset = '0:1000'\n",
    "test_subset = '1000:1500'\n",
    "DEVICE = 'cuda'"
   ]
  },
  {
   "cell_type": "code",
   "execution_count": 4,
   "metadata": {},
   "outputs": [
    {
     "name": "stderr",
     "output_type": "stream",
     "text": [
      "100%|██████████| 10/10 [00:00<00:00, 80.54it/s]\n",
      "100%|██████████| 5/5 [00:00<00:00, 68.11it/s]"
     ]
    },
    {
     "name": "stdout",
     "output_type": "stream",
     "text": [
      "(5000, 10, 6, 11)\n",
      "(2500, 10, 6, 11)\n"
     ]
    },
    {
     "name": "stderr",
     "output_type": "stream",
     "text": [
      "\n"
     ]
    }
   ],
   "source": [
    "train_structures = ase.io.read('methane.extxyz', index=train_subset)\n",
    "\n",
    "test_structures = ase.io.read('methane.extxyz', index=test_subset)\n",
    "\n",
    "all_species = get_all_species(train_structures + test_structures)\n",
    "\n",
    "train_coefficients = get_spherical_expansion(train_structures, HYPERS,\n",
    "                                             all_species, split_by_central_specie = False)\n",
    "\n",
    "test_coefficients = get_spherical_expansion(test_structures, HYPERS,\n",
    "                                            all_species, split_by_central_specie = False)\n",
    "\n",
    "scaler = InitialScaler(mode='signal integral', individually=True)\n",
    "scaler.fit(train_coefficients[0:500])\n",
    "\n",
    "train_coefficients = scaler.transform(train_coefficients)\n",
    "test_coefficients = scaler.transform(test_coefficients)\n",
    "\n",
    "print(train_coefficients.shape)\n",
    "print(test_coefficients.shape)"
   ]
  },
  {
   "cell_type": "code",
   "execution_count": 5,
   "metadata": {},
   "outputs": [],
   "source": [
    "train_energies = [structure.info['energy'] for structure in train_structures]\n",
    "train_energies = np.array(train_energies) * HARTREE_TO_EV\n",
    "\n",
    "test_energies = [structure.info['energy'] for structure in test_structures]\n",
    "test_energies = np.array(test_energies) * HARTREE_TO_EV\n",
    "\n",
    "mean_e = np.mean(train_energies)\n",
    "train_energies = train_energies - mean_e\n",
    "test_energies = test_energies - mean_e\n",
    "\n",
    "train_energies = torch.FloatTensor(train_energies).to(DEVICE)\n",
    "test_energies = torch.FloatTensor(test_energies).to(DEVICE)"
   ]
  },
  {
   "cell_type": "code",
   "execution_count": 6,
   "metadata": {},
   "outputs": [
    {
     "name": "stdout",
     "output_type": "stream",
     "text": [
      "torch.Size([5000, 10, 1])\n",
      "torch.Size([5000, 10, 3])\n",
      "torch.Size([5000, 10, 5])\n",
      "torch.Size([5000, 10, 7])\n",
      "torch.Size([5000, 10, 9])\n",
      "torch.Size([5000, 10, 11])\n"
     ]
    }
   ],
   "source": [
    "def convert_to_torch(coefficients, device):\n",
    "    result = {}\n",
    "    for lambd in range(coefficients.shape[2]):\n",
    "        result[lambd] = torch.FloatTensor(coefficients[:, :, lambd, : 2 * lambd + 1]).to(device)        \n",
    "    return result\n",
    "\n",
    "train_coefficients = convert_to_torch(train_coefficients, DEVICE)\n",
    "test_coefficients = convert_to_torch(test_coefficients, DEVICE)\n",
    "\n",
    "for key in train_coefficients.keys():\n",
    "    print(train_coefficients[key].shape)"
   ]
  },
  {
   "cell_type": "code",
   "execution_count": 7,
   "metadata": {},
   "outputs": [],
   "source": [
    "def get_loss(predictions, targets):\n",
    "    delta = predictions - targets\n",
    "    return torch.mean(delta * delta)\n",
    "\n",
    "def get_mae(first, second):\n",
    "    return np.mean(np.abs(first - second))\n",
    "\n",
    "def get_rmse(first, second):\n",
    "    delta = first - second\n",
    "    return np.sqrt(np.mean(delta * delta))\n",
    "\n",
    "class Model(torch.nn.Module):\n",
    "    def __init__(self, input_lambda_max):\n",
    "        super(Model, self).__init__()\n",
    "        clebsch = nice.clebsch_gordan.ClebschGordan(input_lambda_max)\n",
    "        self.clebsch_combining = ClebschCombining(clebsch.precomputed_, 0)\n",
    "        self.sequential = nn.Sequential(nn.Linear(600, 100), nn.Tanh(), nn.Linear(100, 1))\n",
    "        \n",
    "    def forward(self, X):\n",
    "        X = self.clebsch_combining(X, X)[0].squeeze()        \n",
    "        return {'predictions' : self.sequential(X)}"
   ]
  },
  {
   "cell_type": "code",
   "execution_count": 8,
   "metadata": {},
   "outputs": [
    {
     "name": "stdout",
     "output_type": "stream",
     "text": [
      "<class 'dict'>\n",
      "torch.Size([5000, 1])\n"
     ]
    }
   ],
   "source": [
    "model = Model(LAMBDA_MAX)\n",
    "result = model(train_coefficients)\n",
    "print(type(result))\n",
    "print(result['predictions'].shape)"
   ]
  },
  {
   "cell_type": "code",
   "execution_count": 9,
   "metadata": {},
   "outputs": [],
   "source": [
    "models = {}\n",
    "for key in all_species:\n",
    "    models[str(key)] = Model(LAMBDA_MAX)\n",
    "    "
   ]
  },
  {
   "cell_type": "code",
   "execution_count": 10,
   "metadata": {},
   "outputs": [
    {
     "name": "stdout",
     "output_type": "stream",
     "text": [
      "train mae:  2.053918\n",
      "train rmse:  3.0281086\n",
      "test mae:  2.1994796\n",
      "test rmse:  3.460166\n",
      "train mae:  0.5847837\n",
      "train rmse:  0.8605154\n",
      "test mae:  0.6614871\n",
      "test rmse:  1.1908453\n",
      "train mae:  0.4644978\n",
      "train rmse:  0.6714235\n",
      "test mae:  0.5543523\n",
      "test rmse:  1.0004503\n",
      "train mae:  0.41906995\n",
      "train rmse:  0.5909478\n",
      "test mae:  0.50308204\n",
      "test rmse:  0.9036707\n",
      "train mae:  0.38852844\n",
      "train rmse:  0.53691465\n",
      "test mae:  0.47108242\n",
      "test rmse:  0.8360281\n",
      "train mae:  0.36306983\n",
      "train rmse:  0.49516112\n",
      "test mae:  0.44568366\n",
      "test rmse:  0.78390515\n",
      "train mae:  0.34316775\n",
      "train rmse:  0.4636498\n",
      "test mae:  0.42634398\n",
      "test rmse:  0.74396056\n",
      "train mae:  0.32839045\n",
      "train rmse:  0.44118676\n",
      "test mae:  0.41316906\n",
      "test rmse:  0.7146122\n",
      "train mae:  0.31763497\n",
      "train rmse:  0.4253206\n",
      "test mae:  0.40389985\n",
      "test rmse:  0.6934823\n",
      "train mae:  0.30984232\n",
      "train rmse:  0.41371515\n",
      "test mae:  0.39741507\n",
      "test rmse:  0.6784019\n"
     ]
    }
   ],
   "source": [
    "atomistic = Atomistic(models).to(DEVICE)\n",
    "optim = torch.optim.Adam(atomistic.parameters())\n",
    "train_structural_indices = get_structural_indices(train_structures)\n",
    "test_structural_indices = get_structural_indices(test_structures)\n",
    "\n",
    "\n",
    "train_central_species = get_central_species(train_structures)\n",
    "test_central_species = get_central_species(test_structures)\n",
    "\n",
    "train_atomic = copy.deepcopy(train_coefficients)\n",
    "train_atomic['central_species'] = train_central_species\n",
    "\n",
    "test_atomic = copy.deepcopy(test_coefficients)\n",
    "test_atomic['central_species'] = test_central_species\n",
    "\n",
    "train_struc = {'energies' : train_energies}\n",
    "test_struc = {'energies' : test_energies}\n",
    "\n",
    "BATCH_SIZE = 500\n",
    "for epoch_num in range(1000):\n",
    "    train_predictions = []\n",
    "    for atomic_batch, structural_batch, b_struc_ind in iterate_minibatches(train_atomic, train_struc,\n",
    "                                                  train_structural_indices, BATCH_SIZE):\n",
    "        central_species_now = atomic_batch['central_species']\n",
    "        coef_now = atomic_batch\n",
    "        del coef_now['central_species']\n",
    "        \n",
    "        energies_now = structural_batch['energies']\n",
    "        \n",
    "        predictions = atomistic(coef_now, central_species_now, b_struc_ind)['predictions'].squeeze()\n",
    "        train_predictions.append(predictions.data.cpu().numpy())       \n",
    "        loss = get_loss(predictions, energies_now)\n",
    "        loss.backward()\n",
    "        optim.step()\n",
    "        optim.zero_grad()\n",
    "    \n",
    "    train_predictions = np.concatenate(train_predictions, axis = 0)\n",
    "    if epoch_num % 100 == 0:\n",
    "        print(\"train mae: \", get_mae(train_predictions, train_energies.data.cpu().numpy()))\n",
    "        print(\"train rmse: \", get_rmse(train_predictions, train_energies.data.cpu().numpy()))\n",
    "        \n",
    "    test_predictions = []\n",
    "    for atomic_batch, structural_batch, b_struc_ind in iterate_minibatches(test_atomic, test_struc,\n",
    "                                                   test_structural_indices, BATCH_SIZE):\n",
    "        central_species_now =  atomic_batch['central_species']\n",
    "        coef_now = atomic_batch\n",
    "        del coef_now['central_species']\n",
    "        \n",
    "        energies_now = structural_batch['energies']\n",
    "        predictions = atomistic(coef_now, central_species_now, b_struc_ind)['predictions'].squeeze()\n",
    "        test_predictions.append(predictions.data.cpu().numpy())\n",
    "    test_predictions = np.concatenate(test_predictions, axis = 0)\n",
    "    if epoch_num % 100 == 0:\n",
    "        print(\"test mae: \", get_mae(test_predictions, test_energies.data.cpu().numpy()))\n",
    "        print(\"test rmse: \", get_rmse(test_predictions, test_energies.data.cpu().numpy()))\n",
    "    "
   ]
  },
  {
   "cell_type": "code",
   "execution_count": 11,
   "metadata": {},
   "outputs": [
    {
     "data": {
      "image/png": "[encoded data removed]",
      "text/plain": [
       "<Figure size 432x288 with 1 Axes>"
      ]
     },
     "metadata": {
      "needs_background": "light"
     },
     "output_type": "display_data"
    },
    {
     "name": "stdout",
     "output_type": "stream",
     "text": [
      "train rmse 0.4048437\n",
      "train mae:  0.30401772\n"
     ]
    }
   ],
   "source": [
    "plt.plot(train_energies.data.cpu().numpy(), train_predictions, 'o')\n",
    "plt.title(\"train\")\n",
    "plt.show()\n",
    "print(\"train rmse\", get_rmse(train_energies.data.cpu().numpy(), train_predictions))\n",
    "print(\"train mae: \", get_mae(train_energies.data.cpu().numpy(), train_predictions))\n",
    "\n"
   ]
  },
  {
   "cell_type": "code",
   "execution_count": 12,
   "metadata": {},
   "outputs": [
    {
     "name": "stdout",
     "output_type": "stream",
     "text": [
      "test rmse 0.66786796\n",
      "test mae:  0.39205006\n"
     ]
    },
    {
     "data": {
      "image/png": "[encoded data removed]",
      "text/plain": [
       "<Figure size 432x288 with 1 Axes>"
      ]
     },
     "metadata": {
      "needs_background": "light"
     },
     "output_type": "display_data"
    }
   ],
   "source": [
    "plt.plot(test_energies.data.cpu().numpy(), test_predictions, 'o')\n",
    "plt.title(\"test\")\n",
    "\n",
    "print(\"test rmse\", get_rmse(test_energies.data.cpu().numpy(), test_predictions))\n",
    "print(\"test mae: \", get_mae(test_energies.data.cpu().numpy(), test_predictions))\n",
    "plt.show()"
   ]
  },
  {
   "cell_type": "code",
   "execution_count": 30,
   "metadata": {},
   "outputs": [
    {
     "name": "stdout",
     "output_type": "stream",
     "text": [
      "0 torch.Size([2500, 10, 1])\n",
      "1 torch.Size([2500, 10, 3])\n",
      "2 torch.Size([2500, 10, 5])\n",
      "3 torch.Size([2500, 10, 7])\n",
      "4 torch.Size([2500, 10, 9])\n",
      "5 torch.Size([2500, 10, 11])\n",
      "True\n",
      "True\n",
      "torch.Size([500])\n",
      "torch.Size([2500, 10, 1])\n"
     ]
    }
   ],
   "source": [
    "for key in coef_now.keys():\n",
    "    print(key, coef_now[key].shape)\n",
    "    \n",
    "\n",
    "predictions = atomistic(coef_now, central_species_now, b_struc_ind)['predictions'].squeeze()\n",
    "print(predictions.requires_grad)\n",
    "print(coef_now[0].requires_grad)\n",
    "coef_now[0].requires_grad = True\n",
    "\n",
    "print(predictions.shape)\n",
    "derivatives = torch.autograd.grad(outputs = predictions, inputs = coef_now[0], \n",
    "                                  grad_outputs = torch.ones(predictions.shape, device = DEVICE))\n",
    "print(derivatives[0].shape)"
   ]
  },
  {
   "cell_type": "code",
   "execution_count": 31,
   "metadata": {},
   "outputs": [
    {
     "name": "stdout",
     "output_type": "stream",
     "text": [
      "tensor([-0.4884, -0.7990, -0.8001,  0.1582,  2.4297])\n"
     ]
    }
   ],
   "source": [
    "a = torch.randn(5)\n",
    "print(a)"
   ]
  },
  {
   "cell_type": "code",
   "execution_count": 34,
   "metadata": {},
   "outputs": [
    {
     "name": "stdout",
     "output_type": "stream",
     "text": [
      "2.429661750793457\n"
     ]
    }
   ],
   "source": [
    "print(torch.max(a).item())"
   ]
  },
  {
   "cell_type": "code",
   "execution_count": null,
   "metadata": {},
   "outputs": [],
   "source": []
  }
 ],
 "metadata": {
  "kernelspec": {
   "display_name": "Python 3",
   "language": "python",
   "name": "python3"
  },
  "language_info": {
   "codemirror_mode": {
    "name": "ipython",
    "version": 3
   },
   "file_extension": ".py",
   "mimetype": "text/x-python",
   "name": "python",
   "nbconvert_exporter": "python",
   "pygments_lexer": "ipython3",
   "version": "3.6.9"
  }
 },
 "nbformat": 4,
 "nbformat_minor": 4
}
