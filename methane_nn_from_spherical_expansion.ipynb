{
 "cells": [
  {
   "cell_type": "code",
   "execution_count": 1,
   "metadata": {},
   "outputs": [
    {
     "data": {
      "text/plain": [
       "'!wget \"https://archive.materialscloud.org/record/file?file_id=b612d8e3-58af-4374-96ba-b3551ac5d2f4&filename=methane.extxyz.gz&record_id=528\" -O methane.extxyz.gz\\n!gunzip -k methane.extxyz.gz'"
      ]
     },
     "execution_count": 1,
     "metadata": {},
     "output_type": "execute_result"
    }
   ],
   "source": [
    "# downloading dataset from https://archive.materialscloud.org/record/2020.110\n",
    "'''!wget \"https://archive.materialscloud.org/record/file?file_id=b612d8e3-58af-4374-96ba-b3551ac5d2f4&filename=methane.extxyz.gz&record_id=528\" -O methane.extxyz.gz\n",
    "!gunzip -k methane.extxyz.gz'''"
   ]
  },
  {
   "cell_type": "code",
   "execution_count": 2,
   "metadata": {},
   "outputs": [],
   "source": [
    "import numpy as np\n",
    "import ase.io\n",
    "import tqdm\n",
    "from nice.blocks import *\n",
    "from nice.utilities import *\n",
    "from matplotlib import pyplot as plt\n",
    "import torch\n",
    "torch.set_default_tensor_type(torch.DoubleTensor)\n",
    "from torch import nn\n",
    "import sys\n",
    "sys.path.append('./code/')\n",
    "from code_pytorch import *\n",
    "from utilities import *\n",
    "from test_utilities import *"
   ]
  },
  {
   "cell_type": "code",
   "execution_count": 3,
   "metadata": {
    "code_folding": []
   },
   "outputs": [],
   "source": [
    "HARTREE_TO_EV = 27.211386245988\n",
    "FORCE_FACTOR = 51.42208619083232\n",
    "LAMBDA_MAX = 5\n",
    "HYPERS = {\n",
    "    'interaction_cutoff': 6.3,\n",
    "    'max_radial': 5,\n",
    "    'max_angular': LAMBDA_MAX,\n",
    "    'gaussian_sigma_type': 'Constant',\n",
    "    'gaussian_sigma_constant': 0.05,\n",
    "    'cutoff_smooth_width': 0.3,\n",
    "    'radial_basis': 'GTO'\n",
    "}\n",
    "train_subset = '0:10000'\n",
    "test_subset = '10000:11000'\n",
    "DEVICE = 'cuda'\n",
    "MAGIC_NUMBER = 10"
   ]
  },
  {
   "cell_type": "code",
   "execution_count": 4,
   "metadata": {},
   "outputs": [
    {
     "name": "stderr",
     "output_type": "stream",
     "text": [
      "100%|██████████| 100/100 [00:00<00:00, 172.83it/s]\n",
      "100%|██████████| 10/10 [00:00<00:00, 159.44it/s]"
     ]
    },
    {
     "name": "stdout",
     "output_type": "stream",
     "text": [
      "(50000, 10, 6, 11)\n",
      "(5000, 10, 6, 11)\n"
     ]
    },
    {
     "name": "stderr",
     "output_type": "stream",
     "text": [
      "\n"
     ]
    }
   ],
   "source": [
    "train_structures = ase.io.read('methane.extxyz', index=train_subset)\n",
    "\n",
    "test_structures = ase.io.read('methane.extxyz', index=test_subset)\n",
    "\n",
    "all_species = get_all_species(train_structures + test_structures)\n",
    "\n",
    "train_coefficients = get_spherical_expansion(train_structures, HYPERS,\n",
    "                                             all_species, split_by_central_specie = False)\n",
    "\n",
    "test_coefficients = get_spherical_expansion(test_structures, HYPERS,\n",
    "                                            all_species, split_by_central_specie = False)\n",
    "\n",
    "\n",
    "train_coefficients *= MAGIC_NUMBER\n",
    "test_coefficients *= MAGIC_NUMBER\n",
    "print(train_coefficients.shape)\n",
    "print(test_coefficients.shape)"
   ]
  },
  {
   "cell_type": "code",
   "execution_count": 5,
   "metadata": {},
   "outputs": [],
   "source": [
    "train_energies = [structure.info['energy'] for structure in train_structures]\n",
    "train_energies = np.array(train_energies) * HARTREE_TO_EV\n",
    "\n",
    "test_energies = [structure.info['energy'] for structure in test_structures]\n",
    "test_energies = np.array(test_energies) * HARTREE_TO_EV\n",
    "\n",
    "mean_e = np.mean(train_energies)\n",
    "train_energies = train_energies - mean_e\n",
    "test_energies = test_energies - mean_e\n",
    "\n",
    "train_energies = torch.FloatTensor(train_energies).to(DEVICE)\n",
    "test_energies = torch.FloatTensor(test_energies).to(DEVICE)"
   ]
  },
  {
   "cell_type": "code",
   "execution_count": 6,
   "metadata": {},
   "outputs": [
    {
     "name": "stdout",
     "output_type": "stream",
     "text": [
      "torch.Size([50000, 10, 1])\n",
      "torch.Size([50000, 10, 3])\n",
      "torch.Size([50000, 10, 5])\n",
      "torch.Size([50000, 10, 7])\n",
      "torch.Size([50000, 10, 9])\n",
      "torch.Size([50000, 10, 11])\n"
     ]
    }
   ],
   "source": [
    "def convert_to_torch(coefficients):\n",
    "    result = {}\n",
    "    for lambd in range(coefficients.shape[2]):\n",
    "        result[lambd] = torch.FloatTensor(coefficients[:, :, lambd, : 2 * lambd + 1])        \n",
    "    return result\n",
    "\n",
    "train_coefficients = convert_to_torch(train_coefficients)\n",
    "test_coefficients = convert_to_torch(test_coefficients)\n",
    "\n",
    "for key in train_coefficients.keys():\n",
    "    print(train_coefficients[key].shape)"
   ]
  },
  {
   "cell_type": "code",
   "execution_count": 7,
   "metadata": {},
   "outputs": [],
   "source": [
    "def get_loss(predictions, targets):\n",
    "    delta = predictions - targets\n",
    "    return torch.mean(delta * delta)\n",
    "\n",
    "def get_mae(first, second):\n",
    "    return np.mean(np.abs(first - second))\n",
    "\n",
    "def get_rmse(first, second):\n",
    "    delta = first - second\n",
    "    return np.sqrt(np.mean(delta * delta))\n",
    "\n",
    "class Model(torch.nn.Module):\n",
    "    def __init__(self, input_lambda_max):\n",
    "        super(Model, self).__init__()\n",
    "        clebsch = nice.clebsch_gordan.ClebschGordan(input_lambda_max)\n",
    "        self.clebsch_combining = ClebschCombining(clebsch.precomputed_, 0)\n",
    "        self.sequential = nn.Sequential(nn.BatchNorm1d(600), nn.Linear(600, 200), nn.BatchNorm1d(200), nn.Tanh(),\n",
    "                                        nn.Linear(200, 200), nn.BatchNorm1d(200), nn.Tanh(),\n",
    "                                        nn.Linear(200, 1))\n",
    "        \n",
    "    def forward(self, X):\n",
    "        X = self.clebsch_combining(X, X)[0].squeeze()        \n",
    "        return {'predictions' : self.sequential(X).squeeze()}"
   ]
  },
  {
   "cell_type": "code",
   "execution_count": 8,
   "metadata": {},
   "outputs": [
    {
     "name": "stdout",
     "output_type": "stream",
     "text": [
      "<class 'dict'>\n",
      "torch.Size([50000])\n"
     ]
    }
   ],
   "source": [
    "model = Model(LAMBDA_MAX)\n",
    "result = model(train_coefficients)\n",
    "print(type(result))\n",
    "print(result['predictions'].shape)"
   ]
  },
  {
   "cell_type": "code",
   "execution_count": 9,
   "metadata": {},
   "outputs": [],
   "source": [
    "models = {}\n",
    "for key in all_species:\n",
    "    models[str(key)] = Model(LAMBDA_MAX)\n",
    "    "
   ]
  },
  {
   "cell_type": "code",
   "execution_count": 10,
   "metadata": {},
   "outputs": [
    {
     "name": "stdout",
     "output_type": "stream",
     "text": [
      "train mae:  1.1585753168322501\n",
      "train rmse:  1.8574056074395902\n",
      "test mae:  2.2000551073543475\n",
      "test rmse:  3.494420898945653\n",
      "train mae:  0.38300772137227185\n",
      "train rmse:  0.5230130383335805\n",
      "test mae:  1.3429817967430218\n",
      "test rmse:  1.4144083199023205\n",
      "train mae:  0.31730760466955304\n",
      "train rmse:  0.42161345885056295\n",
      "test mae:  1.3047523140083157\n",
      "test rmse:  1.3519335022464107\n",
      "train mae:  0.2903648643410508\n",
      "train rmse:  0.3821327143058382\n",
      "test mae:  1.7747811608236184\n",
      "test rmse:  1.814897082157868\n",
      "train mae:  0.2744928645810493\n",
      "train rmse:  0.35821709196787727\n",
      "test mae:  2.739483244354749\n",
      "test rmse:  2.766292753232224\n",
      "train mae:  0.26048914623280545\n",
      "train rmse:  0.338618307422872\n",
      "test mae:  2.2618378760120126\n",
      "test rmse:  2.295241068453526\n",
      "train mae:  0.25034350195649085\n",
      "train rmse:  0.32245469276015415\n",
      "test mae:  2.2337834952448024\n",
      "test rmse:  2.26107040420555\n",
      "train mae:  0.23675450226418043\n",
      "train rmse:  0.3044067829018737\n",
      "test mae:  2.0322283583858307\n",
      "test rmse:  2.064885380924063\n",
      "train mae:  0.21757831751052936\n",
      "train rmse:  0.2816532466171208\n",
      "test mae:  1.8713565246450348\n",
      "test rmse:  1.8991071194824545\n",
      "train mae:  0.20450646035521347\n",
      "train rmse:  0.26503994810008386\n",
      "test mae:  1.0405908315396828\n",
      "test rmse:  1.0760569688164987\n"
     ]
    }
   ],
   "source": [
    "atomistic = Atomistic(models).to(DEVICE)\n",
    "optim = torch.optim.Adam(atomistic.parameters())\n",
    "train_structural_indices = get_structural_indices(train_structures)\n",
    "test_structural_indices = get_structural_indices(test_structures)\n",
    "\n",
    "\n",
    "train_central_species = get_central_species(train_structures)\n",
    "test_central_species = get_central_species(test_structures)\n",
    "\n",
    "train_atomic = copy.deepcopy(train_coefficients)\n",
    "train_atomic['central_species'] = train_central_species\n",
    "\n",
    "test_atomic = copy.deepcopy(test_coefficients)\n",
    "test_atomic['central_species'] = test_central_species\n",
    "\n",
    "train_struc = {'energies' : train_energies}\n",
    "test_struc = {'energies' : test_energies}\n",
    "#print(train_atomic[0].device)\n",
    "#print(torch.is_tensor(train_atomic[0]))\n",
    "BATCH_SIZE = 500\n",
    "history = {'train_mae' : [], 'test_mae' : [],\n",
    "           'train_rmse' : [], 'test_rmse' : []}\n",
    "for epoch_num in range(100):\n",
    "    train_predictions = []\n",
    "    atomistic.train(True)\n",
    "    for atomic_batch, structural_batch, b_struc_ind in iterate_minibatches(train_atomic, train_struc,\n",
    "                                                  train_structural_indices, BATCH_SIZE, DEVICE):\n",
    "        central_species_now = atomic_batch['central_species']\n",
    "        coef_now = atomic_batch\n",
    "        del coef_now['central_species']\n",
    "        \n",
    "        energies_now = structural_batch['energies']\n",
    "       \n",
    "        predictions = atomistic(coef_now, central_species_now, b_struc_ind)['predictions'].squeeze()\n",
    "        train_predictions.append(predictions.data.cpu().numpy())       \n",
    "        loss = get_loss(predictions, energies_now)\n",
    "        loss.backward()\n",
    "        optim.step()\n",
    "        optim.zero_grad()\n",
    "    atomistic.train(False)\n",
    "    train_predictions = np.concatenate(train_predictions, axis = 0)\n",
    "    train_mae = get_mae(train_predictions, train_energies.data.cpu().numpy())\n",
    "    train_rmse = get_rmse(train_predictions, train_energies.data.cpu().numpy())\n",
    "    if epoch_num % 10 == 0:\n",
    "        print(\"train mae: \", train_mae)\n",
    "        print(\"train rmse: \", train_rmse)\n",
    "        \n",
    "    test_predictions = []\n",
    "    for atomic_batch, structural_batch, b_struc_ind in iterate_minibatches(test_atomic, test_struc,\n",
    "                                                   test_structural_indices, BATCH_SIZE, DEVICE):\n",
    "        central_species_now =  atomic_batch['central_species']\n",
    "        coef_now = atomic_batch\n",
    "        del coef_now['central_species']\n",
    "        \n",
    "        energies_now = structural_batch['energies']\n",
    "        predictions = atomistic(coef_now, central_species_now, b_struc_ind)['predictions'].squeeze()\n",
    "        test_predictions.append(predictions.data.cpu().numpy())\n",
    "    test_predictions = np.concatenate(test_predictions, axis = 0)\n",
    "    test_mae = get_mae(test_predictions, test_energies.data.cpu().numpy())\n",
    "    test_rmse = get_rmse(test_predictions, test_energies.data.cpu().numpy())\n",
    "    if epoch_num % 10 == 0:\n",
    "        print(\"test mae: \", test_mae)\n",
    "        print(\"test rmse: \", test_rmse)\n",
    "    history['train_mae'].append(train_mae)\n",
    "    history['test_mae'].append(test_mae)\n",
    "    history['train_rmse'].append(train_rmse)\n",
    "    history['test_rmse'].append(test_rmse)"
   ]
  },
  {
   "cell_type": "code",
   "execution_count": 11,
   "metadata": {},
   "outputs": [
    {
     "data": {
      "image/png": "[encoded data removed]",
      "text/plain": [
       "<Figure size 432x288 with 1 Axes>"
      ]
     },
     "metadata": {
      "needs_background": "light"
     },
     "output_type": "display_data"
    },
    {
     "name": "stdout",
     "output_type": "stream",
     "text": [
      "train rmse 0.2698034338887879\n",
      "train mae:  0.2068674488383003\n"
     ]
    }
   ],
   "source": [
    "plt.plot(train_energies.data.cpu().numpy(), train_predictions, 'o')\n",
    "plt.title(\"train\")\n",
    "plt.show()\n",
    "print(\"train rmse\", get_rmse(train_energies.data.cpu().numpy(), train_predictions))\n",
    "print(\"train mae: \", get_mae(train_energies.data.cpu().numpy(), train_predictions))\n",
    "\n"
   ]
  },
  {
   "cell_type": "code",
   "execution_count": 12,
   "metadata": {},
   "outputs": [
    {
     "name": "stdout",
     "output_type": "stream",
     "text": [
      "test rmse 2.9083671546549392\n",
      "test mae:  2.8901259015105962\n"
     ]
    },
    {
     "data": {
      "image/png": "[encoded data removed]",
      "text/plain": [
       "<Figure size 432x288 with 1 Axes>"
      ]
     },
     "metadata": {
      "needs_background": "light"
     },
     "output_type": "display_data"
    }
   ],
   "source": [
    "plt.plot(test_energies.data.cpu().numpy(), test_predictions, 'o')\n",
    "plt.title(\"test\")\n",
    "\n",
    "print(\"test rmse\", get_rmse(test_energies.data.cpu().numpy(), test_predictions))\n",
    "print(\"test mae: \", get_mae(test_energies.data.cpu().numpy(), test_predictions))\n",
    "plt.show()"
   ]
  },
  {
   "cell_type": "code",
   "execution_count": 13,
   "metadata": {},
   "outputs": [
    {
     "name": "stdout",
     "output_type": "stream",
     "text": [
      "0 torch.Size([2500, 10, 1])\n",
      "1 torch.Size([2500, 10, 3])\n",
      "2 torch.Size([2500, 10, 5])\n",
      "3 torch.Size([2500, 10, 7])\n",
      "4 torch.Size([2500, 10, 9])\n",
      "5 torch.Size([2500, 10, 11])\n",
      "False\n",
      "torch.Size([500])\n",
      "torch.Size([2500, 10, 1])\n"
     ]
    }
   ],
   "source": [
    "for key in coef_now.keys():\n",
    "    print(key, coef_now[key].shape)\n",
    "    \n",
    "\n",
    "print(coef_now[0].requires_grad)\n",
    "coef_now[0].requires_grad = True\n",
    "predictions = atomistic(coef_now, central_species_now, b_struc_ind)['predictions'].squeeze()\n",
    "\n",
    "\n",
    "print(predictions.shape)\n",
    "derivatives = torch.autograd.grad(outputs = predictions, inputs = coef_now[0], \n",
    "                                  grad_outputs = torch.ones(predictions.shape, device = DEVICE))\n",
    "print(derivatives[0].shape)"
   ]
  },
  {
   "cell_type": "code",
   "execution_count": 14,
   "metadata": {},
   "outputs": [
    {
     "name": "stderr",
     "output_type": "stream",
     "text": [
      "100%|██████████| 5/5 [00:00<00:00, 129.80it/s]"
     ]
    },
    {
     "name": "stdout",
     "output_type": "stream",
     "text": [
      "0 torch.Size([2500, 10, 1])\n",
      "1 torch.Size([2500, 10, 3])\n",
      "2 torch.Size([2500, 10, 5])\n",
      "3 torch.Size([2500, 10, 7])\n",
      "4 torch.Size([2500, 10, 9])\n",
      "5 torch.Size([2500, 10, 11])\n",
      "(500,)\n",
      "(2500,)\n",
      "(2500,)\n"
     ]
    },
    {
     "name": "stderr",
     "output_type": "stream",
     "text": [
      "\n"
     ]
    }
   ],
   "source": [
    "index_small = '0:500'\n",
    "structures = ase.io.read('methane.extxyz', index=index_small)\n",
    "coefficients = get_spherical_expansion(structures, HYPERS,\n",
    "                                             all_species, split_by_central_specie = False)\n",
    "\n",
    "coefficients *= MAGIC_NUMBER\n",
    "coefficients = convert_to_torch(coefficients)\n",
    "for key in coefficients.keys():\n",
    "    coefficients[key] = coefficients[key].to(DEVICE)\n",
    "\n",
    "energies =  [structure.info['energy'] for structure in structures]\n",
    "energies = np.array(energies) * HARTREE_TO_EV\n",
    "energies = energies - mean_e\n",
    "\n",
    "forces = [structure.arrays[\"forces\"] for structure in structures]\n",
    "forces = np.concatenate(forces, axis = 0) * FORCE_FACTOR\n",
    "\n",
    "structural_indices = get_structural_indices(structures)\n",
    "central_species = get_central_species(structures)\n",
    "\n",
    "for key in coefficients.keys():\n",
    "    print(key, coefficients[key].shape)\n",
    "print(energies.shape)\n",
    "print(structural_indices.shape)\n",
    "print(central_species.shape)"
   ]
  },
  {
   "cell_type": "code",
   "execution_count": 15,
   "metadata": {},
   "outputs": [
    {
     "data": {
      "image/png": "[encoded data removed]",
      "text/plain": [
       "<Figure size 432x288 with 1 Axes>"
      ]
     },
     "metadata": {
      "needs_background": "light"
     },
     "output_type": "display_data"
    }
   ],
   "source": [
    "atomistic.train(False)\n",
    "predictions = atomistic(coefficients, central_species,\n",
    "                        structural_indices)['predictions'].squeeze().data.cpu().numpy()\n",
    "\n",
    "plt.plot(energies, predictions, 'o')\n",
    "plt.show()"
   ]
  },
  {
   "cell_type": "code",
   "execution_count": 16,
   "metadata": {},
   "outputs": [
    {
     "name": "stderr",
     "output_type": "stream",
     "text": [
      "100%|██████████| 500/500 [00:00<00:00, 2061.80it/s]\n",
      "100%|██████████| 500/500 [00:00<00:00, 1564.04it/s]\n",
      "100%|██████████| 500/500 [00:00<00:00, 1515.54it/s]\n"
     ]
    },
    {
     "name": "stdout",
     "output_type": "stream",
     "text": [
      "torch.Size([12500])\n",
      "torch.Size([12500])\n",
      "torch.Size([2500, 3])\n"
     ]
    }
   ],
   "source": [
    "coef_der_ar, central_indices, derivative_indices = \\\n",
    "get_numerical_derivatives(structures, all_species,\\\n",
    "                          HYPERS, epsilon = 1e-6)\n",
    "coef_der_ar *= MAGIC_NUMBER\n",
    "coef_der = {}\n",
    "for l in range(coef_der_ar.shape[3]):\n",
    "    coef_der[l] = coef_der_ar[:, :, :, l, :(2 * l + 1)]\n",
    "    coef_der[l] = torch.from_numpy(coef_der[l]).type(torch.get_default_dtype()).to(DEVICE)\n",
    "\n",
    "central_indices = torch.from_numpy(central_indices).to(DEVICE)\n",
    "derivative_indices = torch.from_numpy(derivative_indices).to(DEVICE)\n",
    "print(central_indices.shape)\n",
    "print(derivative_indices.shape)\n",
    "for key in coefficients.keys():\n",
    "    coefficients[key].requires_grad = True\n",
    "forces_predictions = atomistic.get_forces(coefficients, central_species,\n",
    "                                          structural_indices, \n",
    "                                          coef_der, central_indices, derivative_indices)\n",
    "print(forces_predictions.shape)"
   ]
  },
  {
   "cell_type": "code",
   "execution_count": 17,
   "metadata": {},
   "outputs": [
    {
     "data": {
      "image/png": "[encoded data removed]",
      "text/plain": [
       "<Figure size 432x288 with 1 Axes>"
      ]
     },
     "metadata": {
      "needs_background": "light"
     },
     "output_type": "display_data"
    }
   ],
   "source": [
    "forces_predictions_a = forces_predictions.data.cpu().numpy().reshape([-1])\n",
    "forces_a = forces.reshape([-1])\n",
    "plt.plot(forces_a, forces_predictions_a, 'o')\n",
    "plt.plot([np.min(forces_a), np.max(forces_a)],\n",
    "         [np.min(forces_a), np.max(forces_a)])\n",
    "plt.show()"
   ]
  },
  {
   "cell_type": "code",
   "execution_count": 18,
   "metadata": {},
   "outputs": [
    {
     "data": {
      "text/plain": [
       "'print(len(test_energies))\\nprint(get_mae(test_energies.data.cpu().numpy(), np.zeros([5000])))\\nprint(get_rmse(test_energies.data.cpu().numpy(), np.zeros([5000])))'"
      ]
     },
     "execution_count": 18,
     "metadata": {},
     "output_type": "execute_result"
    }
   ],
   "source": [
    "'''print(len(test_energies))\n",
    "print(get_mae(test_energies.data.cpu().numpy(), np.zeros([5000])))\n",
    "print(get_rmse(test_energies.data.cpu().numpy(), np.zeros([5000])))'''"
   ]
  },
  {
   "cell_type": "code",
   "execution_count": null,
   "metadata": {},
   "outputs": [],
   "source": []
  },
  {
   "cell_type": "code",
   "execution_count": 19,
   "metadata": {},
   "outputs": [
    {
     "name": "stdout",
     "output_type": "stream",
     "text": [
      "100\n",
      "0.31307947910694633\n"
     ]
    }
   ],
   "source": [
    "print(len(history['test_mae']))\n",
    "print(np.min(history['test_mae']))"
   ]
  },
  {
   "cell_type": "code",
   "execution_count": null,
   "metadata": {},
   "outputs": [],
   "source": []
  }
 ],
 "metadata": {
  "kernelspec": {
   "display_name": "Python 3",
   "language": "python",
   "name": "python3"
  },
  "language_info": {
   "codemirror_mode": {
    "name": "ipython",
    "version": 3
   },
   "file_extension": ".py",
   "mimetype": "text/x-python",
   "name": "python",
   "nbconvert_exporter": "python",
   "pygments_lexer": "ipython3",
   "version": "3.8.5"
  }
 },
 "nbformat": 4,
 "nbformat_minor": 4
}
