{
 "cells": [
  {
   "cell_type": "code",
   "execution_count": 1,
   "metadata": {},
   "outputs": [
    {
     "data": {
      "text/plain": [
       "'# downloading dataset from https://archive.materialscloud.org/record/2020.110\\n\\n!wget \"https://archive.materialscloud.org/record/file?file_id=b612d8e3-58af-4374-96ba-b3551ac5d2f4&filename=methane.extxyz.gz&record_id=528\" -O methane.extxyz.gz\\n!gunzip -k methane.extxyz.gz'"
      ]
     },
     "execution_count": 1,
     "metadata": {},
     "output_type": "execute_result"
    }
   ],
   "source": [
    "'''# downloading dataset from https://archive.materialscloud.org/record/2020.110\n",
    "\n",
    "!wget \"https://archive.materialscloud.org/record/file?file_id=b612d8e3-58af-4374-96ba-b3551ac5d2f4&filename=methane.extxyz.gz&record_id=528\" -O methane.extxyz.gz\n",
    "!gunzip -k methane.extxyz.gz'''"
   ]
  },
  {
   "cell_type": "code",
   "execution_count": 2,
   "metadata": {},
   "outputs": [],
   "source": [
    "import numpy as np\n",
    "import ase.io\n",
    "import tqdm\n",
    "from nice.blocks import *\n",
    "from nice.utilities import *\n",
    "from matplotlib import pyplot as plt\n",
    "import sys\n",
    "sys.path.append('./code/')\n",
    "from code_pytorch import *\n",
    "from utilities import *\n",
    "import torch\n",
    "from torch import nn\n",
    "import torch.nn.functional as F"
   ]
  },
  {
   "cell_type": "code",
   "execution_count": 3,
   "metadata": {},
   "outputs": [],
   "source": [
    "HARTREE_TO_EV = 27.211386245988\n",
    "HYPERS = {\n",
    "    'interaction_cutoff': 6.3,\n",
    "    'max_radial': 5,\n",
    "    'max_angular': 5,\n",
    "    'gaussian_sigma_type': 'Constant',\n",
    "    'gaussian_sigma_constant': 0.05,\n",
    "    'cutoff_smooth_width': 0.3,\n",
    "    'radial_basis': 'GTO'\n",
    "}\n",
    "train_subset = '0:1000'\n",
    "test_subset = '1000:1500'\n",
    "DEVICE = 'cuda'"
   ]
  },
  {
   "cell_type": "code",
   "execution_count": 4,
   "metadata": {},
   "outputs": [
    {
     "name": "stderr",
     "output_type": "stream",
     "text": [
      "100%|██████████| 10/10 [00:00<00:00, 80.71it/s]\n",
      "100%|██████████| 5/5 [00:00<00:00, 68.30it/s]\n"
     ]
    }
   ],
   "source": [
    "train_structures = ase.io.read('methane.extxyz', index=train_subset)\n",
    "\n",
    "test_structures = ase.io.read('methane.extxyz', index=test_subset)\n",
    "\n",
    "all_species = get_all_species(train_structures + test_structures)\n",
    "\n",
    "train_coefficients = get_spherical_expansion(train_structures, HYPERS,\n",
    "                                             all_species, split_by_central_specie= False)\n",
    "\n",
    "test_coefficients = get_spherical_expansion(test_structures, HYPERS,\n",
    "                                            all_species, split_by_central_specie= False)\n",
    "\n",
    "scaler = InitialScaler(mode='signal integral', individually=True)\n",
    "scaler.fit(train_coefficients[0:500])\n",
    "\n",
    "train_coefficients = scaler.transform(train_coefficients)\n",
    "test_coefficients = scaler.transform(test_coefficients)\n"
   ]
  },
  {
   "cell_type": "code",
   "execution_count": 5,
   "metadata": {},
   "outputs": [],
   "source": [
    "train_energies = [structure.info['energy'] for structure in train_structures]\n",
    "train_energies = np.array(train_energies) * HARTREE_TO_EV\n",
    "\n",
    "test_energies = [structure.info['energy'] for structure in test_structures]\n",
    "test_energies = np.array(test_energies) * HARTREE_TO_EV\n",
    "\n",
    "mean_e = np.mean(train_energies)\n",
    "train_energies = train_energies - mean_e\n",
    "test_energies = test_energies - mean_e\n",
    "\n",
    "train_energies = torch.FloatTensor(train_energies).to(DEVICE)\n",
    "test_energies = torch.FloatTensor(test_energies).to(DEVICE)"
   ]
  },
  {
   "cell_type": "code",
   "execution_count": 6,
   "metadata": {},
   "outputs": [
    {
     "name": "stdout",
     "output_type": "stream",
     "text": [
      "torch.Size([5000, 600])\n",
      "torch.Size([2500, 600])\n"
     ]
    }
   ],
   "source": [
    "def get_nice_ps():\n",
    "    return StandardSequence([     \n",
    "        StandardBlock(None, None, None,\n",
    "                      ThresholdExpansioner(mode='invariants'),\n",
    "                      None,\n",
    "                      None)\n",
    "    ],\n",
    "                            initial_scaler=None)\n",
    "nice = get_nice_ps()\n",
    "indices = np.random.permutation(train_coefficients.shape[0])[0:500]\n",
    "nice.fit(train_coefficients[:500])\n",
    "\n",
    "train_ps = torch.FloatTensor(nice.transform(train_coefficients, return_only_invariants = True)[2]).to(DEVICE)\n",
    "test_ps = torch.FloatTensor(nice.transform(test_coefficients, return_only_invariants = True)[2]).to(DEVICE)\n",
    "\n",
    "print(train_ps.shape)\n",
    "print(test_ps.shape)"
   ]
  },
  {
   "cell_type": "code",
   "execution_count": 7,
   "metadata": {},
   "outputs": [],
   "source": [
    "class Model(torch.nn.Module):\n",
    "    def __init__(self):\n",
    "        super(Model, self).__init__()\n",
    "        self.sequential = nn.Sequential(nn.Linear(600, 100), nn.Tanh(), nn.Linear(100, 1))\n",
    "        \n",
    "    def forward(self, X):\n",
    "        return {'prediction' : self.sequential(X['ps'])}\n",
    "\n",
    "models = {}\n",
    "for key in all_species:\n",
    "    models[str(key)] = Model()"
   ]
  },
  {
   "cell_type": "code",
   "execution_count": 8,
   "metadata": {},
   "outputs": [],
   "source": [
    "def get_loss(predictions, targets):\n",
    "    delta = predictions - targets\n",
    "    return torch.mean(delta * delta)"
   ]
  },
  {
   "cell_type": "code",
   "execution_count": 9,
   "metadata": {},
   "outputs": [
    {
     "name": "stdout",
     "output_type": "stream",
     "text": [
      "5\n"
     ]
    }
   ],
   "source": [
    "print(torch.max(torch.LongTensor([1, 2, 4, 5, 2])).item())"
   ]
  },
  {
   "cell_type": "code",
   "execution_count": 10,
   "metadata": {},
   "outputs": [],
   "source": [
    "def get_mae(first, second):\n",
    "    return np.mean(np.abs(first - second))\n",
    "\n",
    "def get_rmse(first, second):\n",
    "    delta = first - second\n",
    "    return np.sqrt(np.mean(delta * delta))"
   ]
  },
  {
   "cell_type": "code",
   "execution_count": 11,
   "metadata": {},
   "outputs": [
    {
     "name": "stdout",
     "output_type": "stream",
     "text": [
      "train mae:  2.0145051\n",
      "train rmse:  3.0031924\n",
      "test mae:  2.1850777\n",
      "test rmse:  3.4471397\n",
      "train mae:  0.57089746\n",
      "train rmse:  0.8351044\n",
      "test mae:  0.6549264\n",
      "test rmse:  1.1441635\n",
      "train mae:  0.43956953\n",
      "train rmse:  0.64467543\n",
      "test mae:  0.5258223\n",
      "test rmse:  0.9545119\n",
      "train mae:  0.39664626\n",
      "train rmse:  0.5632434\n",
      "test mae:  0.48042306\n",
      "test rmse:  0.8624156\n",
      "train mae:  0.36899903\n",
      "train rmse:  0.5113139\n",
      "test mae:  0.45190978\n",
      "test rmse:  0.8002405\n",
      "train mae:  0.34038997\n",
      "train rmse:  0.46248457\n",
      "test mae:  0.42524368\n",
      "test rmse:  0.7561142\n",
      "train mae:  0.31777704\n",
      "train rmse:  0.42444375\n",
      "test mae:  0.40729633\n",
      "test rmse:  0.73413336\n",
      "train mae:  0.30192763\n",
      "train rmse:  0.39952102\n",
      "test mae:  0.3969538\n",
      "test rmse:  0.7275868\n",
      "train mae:  0.28944245\n",
      "train rmse:  0.38160405\n",
      "test mae:  0.39064172\n",
      "test rmse:  0.7264903\n",
      "train mae:  0.27726454\n",
      "train rmse:  0.36543652\n",
      "test mae:  0.38502392\n",
      "test rmse:  0.7246202\n"
     ]
    }
   ],
   "source": [
    "atomistic = Atomistic(models).to(DEVICE)\n",
    "optim = torch.optim.Adam(atomistic.parameters())\n",
    "train_structural_indices = get_structural_indices(train_structures)\n",
    "test_structural_indices = get_structural_indices(test_structures)\n",
    "\n",
    "train_central_species = get_central_species(train_structures)\n",
    "test_central_species = get_central_species(test_structures)\n",
    "\n",
    "train_atomic = {'ps' : train_ps, 'central_species' : train_central_species}\n",
    "test_atomic = {'ps' : test_ps, 'central_species' : test_central_species}\n",
    "train_struc = {'energies' : train_energies}\n",
    "test_struc = {'energies' : test_energies}\n",
    "\n",
    "BATCH_SIZE = 500\n",
    "for epoch_num in range(1000):\n",
    "    train_predictions = []\n",
    "    for atomic_batch, structural_batch, b_struc_ind in iterate_minibatches(train_atomic, train_struc,\n",
    "                                                  train_structural_indices, BATCH_SIZE):\n",
    "        ps_now, central_species_now = atomic_batch['ps'], atomic_batch['central_species']\n",
    "       \n",
    "        energies_now = structural_batch['energies']\n",
    "        \n",
    "        predictions = atomistic({'ps' : ps_now}, central_species_now, b_struc_ind)['prediction'].squeeze()\n",
    "        train_predictions.append(predictions.data.cpu().numpy())       \n",
    "        loss = get_loss(predictions, energies_now)\n",
    "        loss.backward()\n",
    "        optim.step()\n",
    "        optim.zero_grad()\n",
    "    \n",
    "    train_predictions = np.concatenate(train_predictions, axis = 0)\n",
    "    if epoch_num % 100 == 0:\n",
    "        print(\"train mae: \", get_mae(train_predictions, train_energies.data.cpu().numpy()))\n",
    "        print(\"train rmse: \", get_rmse(train_predictions, train_energies.data.cpu().numpy()))\n",
    "        \n",
    "    test_predictions = []\n",
    "    for atomic_batch, structural_batch, b_struc_ind in iterate_minibatches(test_atomic, test_struc,\n",
    "                                                   test_structural_indices, BATCH_SIZE):\n",
    "        ps_now, central_species_now = atomic_batch['ps'], atomic_batch['central_species']\n",
    "        energies_now = structural_batch['energies']\n",
    "        predictions = atomistic({'ps' : ps_now}, central_species_now, b_struc_ind)['prediction'].squeeze()\n",
    "        test_predictions.append(predictions.data.cpu().numpy())\n",
    "    test_predictions = np.concatenate(test_predictions, axis = 0)\n",
    "    if epoch_num % 100 == 0:\n",
    "        print(\"test mae: \", get_mae(test_predictions, test_energies.data.cpu().numpy()))\n",
    "        print(\"test rmse: \", get_rmse(test_predictions, test_energies.data.cpu().numpy()))\n",
    "    "
   ]
  },
  {
   "cell_type": "code",
   "execution_count": 12,
   "metadata": {},
   "outputs": [
    {
     "data": {
      "image/png": "[encoded data removed]",
      "text/plain": [
       "<Figure size 432x288 with 1 Axes>"
      ]
     },
     "metadata": {
      "needs_background": "light"
     },
     "output_type": "display_data"
    },
    {
     "name": "stdout",
     "output_type": "stream",
     "text": [
      "train rmse 0.34958708\n",
      "train mae:  0.2650934\n"
     ]
    }
   ],
   "source": [
    "plt.plot(train_energies.data.cpu().numpy(), train_predictions, 'o')\n",
    "plt.title(\"train\")\n",
    "plt.show()\n",
    "print(\"train rmse\", get_rmse(train_energies.data.cpu().numpy(), train_predictions))\n",
    "print(\"train mae: \", get_mae(train_energies.data.cpu().numpy(), train_predictions))\n",
    "\n"
   ]
  },
  {
   "cell_type": "code",
   "execution_count": 13,
   "metadata": {},
   "outputs": [
    {
     "name": "stdout",
     "output_type": "stream",
     "text": [
      "test rmse 0.71985376\n",
      "test mae:  0.37848175\n"
     ]
    },
    {
     "data": {
      "image/png": "[encoded data removed]",
      "text/plain": [
       "<Figure size 432x288 with 1 Axes>"
      ]
     },
     "metadata": {
      "needs_background": "light"
     },
     "output_type": "display_data"
    }
   ],
   "source": [
    "plt.plot(test_energies.data.cpu().numpy(), test_predictions, 'o')\n",
    "plt.title(\"test\")\n",
    "\n",
    "print(\"test rmse\", get_rmse(test_energies.data.cpu().numpy(), test_predictions))\n",
    "print(\"test mae: \", get_mae(test_energies.data.cpu().numpy(), test_predictions))\n",
    "plt.show()"
   ]
  },
  {
   "cell_type": "markdown",
   "metadata": {},
   "source": [
    "initial:\n",
    "\n",
    "train rmse 0.19329026\n",
    "train mae:  0.14513983\n",
    "\n",
    "test rmse 0.22161718\n",
    "test mae:  0.15779226"
   ]
  },
  {
   "cell_type": "markdown",
   "metadata": {},
   "source": [
    "dictionary:\n",
    "    \n",
    "train rmse 0.1894567\n",
    "train mae:  0.14205378\n",
    "\n",
    "test rmse 0.2163991\n",
    "test mae:  0.15425898"
   ]
  },
  {
   "cell_type": "markdown",
   "metadata": {},
   "source": [
    "train rmse 0.19735812\n",
    "train mae:  0.14855184\n",
    "\n",
    "test rmse 0.22645329\n",
    "test mae:  0.16187958"
   ]
  },
  {
   "cell_type": "code",
   "execution_count": 14,
   "metadata": {},
   "outputs": [
    {
     "ename": "SyntaxError",
     "evalue": "invalid syntax (<ipython-input-14-e62e0f6bde1d>, line 1)",
     "output_type": "error",
     "traceback": [
      "\u001b[0;36m  File \u001b[0;32m\"<ipython-input-14-e62e0f6bde1d>\"\u001b[0;36m, line \u001b[0;32m1\u001b[0m\n\u001b[0;31m    train rmse 0.19252892\u001b[0m\n\u001b[0m             ^\u001b[0m\n\u001b[0;31mSyntaxError\u001b[0m\u001b[0;31m:\u001b[0m invalid syntax\n"
     ]
    }
   ],
   "source": [
    "train rmse 0.19252892\n",
    "train mae:  0.14504704\n",
    "    \n",
    "test rmse 0.22191668\n",
    "test mae:  0.15767235"
   ]
  }
 ],
 "metadata": {
  "kernelspec": {
   "display_name": "Python 3",
   "language": "python",
   "name": "python3"
  },
  "language_info": {
   "codemirror_mode": {
    "name": "ipython",
    "version": 3
   },
   "file_extension": ".py",
   "mimetype": "text/x-python",
   "name": "python",
   "nbconvert_exporter": "python",
   "pygments_lexer": "ipython3",
   "version": "3.6.9"
  }
 },
 "nbformat": 4,
 "nbformat_minor": 4
}
