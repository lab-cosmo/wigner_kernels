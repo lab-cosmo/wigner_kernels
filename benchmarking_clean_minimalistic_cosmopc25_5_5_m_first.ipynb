{
 "cells": [
  {
   "cell_type": "code",
   "execution_count": 1,
   "metadata": {},
   "outputs": [],
   "source": [
    "import numpy as np\n",
    "from rascal.representations import SphericalExpansion as SPH\n",
    "import ase.io\n",
    "import tqdm\n",
    "from nice.blocks import *\n",
    "from nice.utilities import *\n",
    "from matplotlib import pyplot as plt\n",
    "from sklearn.linear_model import BayesianRidge\n",
    "import torch\n",
    "torch.set_num_threads(1)\n",
    "import torch.nn\n",
    "import sys\n",
    "sys.path.append('./code/')\n",
    "from code_pytorch import *\n",
    "import time\n",
    "import numpy as np\n",
    "from sympy.physics.wigner import wigner_3j\n",
    "from sympy.physics.quantum.spin import Rotation as rot\n",
    "from rascal.representations import SphericalInvariants as SOAP\n",
    "from torch2trt import torch2trt"
   ]
  },
  {
   "cell_type": "code",
   "execution_count": 2,
   "metadata": {},
   "outputs": [],
   "source": [
    "class Powerspectrum(torch.nn.Module):\n",
    "    def __init__(self, clebsch):\n",
    "        super(Powerspectrum, self).__init__()\n",
    "        self.first = ClebschCombining(clebsch, 0)       \n",
    "            \n",
    "    def forward(self, X):\n",
    "        ps_invariants = self.first(X, X)       \n",
    "        return ps_invariants\n",
    "    \n",
    "class Bispectrum(torch.nn.Module):\n",
    "    def __init__(self, clebsch, lambda_max):\n",
    "        super(Bispectrum, self).__init__()\n",
    "        self.first = ClebschCombining(clebsch, lambda_max)\n",
    "        self.second = ClebschCombining(clebsch, 0)\n",
    "            \n",
    "    def forward(self, X):\n",
    "        ps_covariants = self.first(X, X)\n",
    "        bs_invariants = self.second(ps_covariants, X)\n",
    "        return bs_invariants\n",
    "    \n",
    "def convert_to_torch(coefficients, device):\n",
    "    result = {}\n",
    "    for lambd in range(coefficients.shape[2]):\n",
    "        result[lambd] = torch.FloatTensor(coefficients[:, :, lambd, : 2 * lambd + 1]).to(device)\n",
    "        result[lambd] = result[lambd].transpose(0, -1)\n",
    "    return result"
   ]
  },
  {
   "cell_type": "code",
   "execution_count": 3,
   "metadata": {},
   "outputs": [],
   "source": [
    "LAMBDA_MAX = 5\n",
    "\n",
    "HYPERS = {\n",
    "    'interaction_cutoff': 6.3,\n",
    "    'max_radial': 5,\n",
    "    'max_angular': LAMBDA_MAX,\n",
    "    'gaussian_sigma_type': 'Constant',\n",
    "    'gaussian_sigma_constant': 0.3,\n",
    "    'cutoff_smooth_width': 0.3,\n",
    "    'radial_basis': 'GTO'\n",
    "}\n",
    "\n",
    "HYPERS_PS = copy.deepcopy(HYPERS)\n",
    "HYPERS_PS['soap_type'] = 'PowerSpectrum'\n",
    "\n",
    "HYPERS_BS = copy.deepcopy(HYPERS)\n",
    "HYPERS_BS['soap_type'] = 'BiSpectrum'\n",
    "HYPERS_BS['inversion_symmetry'] = False"
   ]
  },
  {
   "cell_type": "code",
   "execution_count": 4,
   "metadata": {},
   "outputs": [],
   "source": [
    "def get_rascal_ps(structures):\n",
    "    #nice.rascal_coefficients.process_structures(structures)\n",
    "    soap_ps = SOAP(**HYPERS_PS)   \n",
    "    ps = soap_ps.transform(structures).get_features(soap_ps)\n",
    "    return ps\n",
    "\n",
    "def get_rascal_bs(structures):\n",
    "    soap_bs = SOAP(**HYPERS_BS)    \n",
    "    bs = soap_bs.transform(structures).get_features(soap_bs)\n",
    "    return bs\n",
    "\n",
    "def get_torch_invariants(structures, device, model):\n",
    "    all_species = get_all_species(structures)\n",
    "    coefficients = get_spherical_expansion(structures, HYPERS,\n",
    "                                             all_species, show_progress=False)    \n",
    "    \n",
    "    result = {}\n",
    "    for specie in all_species:\n",
    "        result[specie] = model(convert_to_torch(coefficients[specie], device))\n",
    "        \n",
    "    return result"
   ]
  },
  {
   "cell_type": "markdown",
   "metadata": {},
   "source": [
    "# time PS computation"
   ]
  },
  {
   "cell_type": "code",
   "execution_count": 5,
   "metadata": {},
   "outputs": [],
   "source": [
    "structures = ase.io.read('methane.extxyz', index='0:1000')\n",
    "structures = nice.rascal_coefficients.process_structures(structures) #put all inside unit cell for rascal\n",
    "clebsch = nice.clebsch_gordan.ClebschGordan(LAMBDA_MAX)"
   ]
  },
  {
   "cell_type": "code",
   "execution_count": 6,
   "metadata": {},
   "outputs": [
    {
     "name": "stdout",
     "output_type": "stream",
     "text": [
      "157 ms ± 730 µs per loop (mean ± std. dev. of 7 runs, 10 loops each)\n"
     ]
    }
   ],
   "source": [
    "%%timeit\n",
    "_ = get_rascal_ps(structures)"
   ]
  },
  {
   "cell_type": "code",
   "execution_count": 7,
   "metadata": {},
   "outputs": [],
   "source": [
    "model_ps = Powerspectrum(clebsch.precomputed_)"
   ]
  },
  {
   "cell_type": "code",
   "execution_count": 8,
   "metadata": {},
   "outputs": [
    {
     "name": "stdout",
     "output_type": "stream",
     "text": [
      "521 ms ± 11.6 ms per loop (mean ± std. dev. of 7 runs, 1 loop each)\n"
     ]
    }
   ],
   "source": [
    "%%timeit\n",
    "_ = get_torch_invariants(structures, 'cpu', model_ps)"
   ]
  },
  {
   "cell_type": "code",
   "execution_count": 9,
   "metadata": {},
   "outputs": [],
   "source": [
    "model_ps = model_ps.cuda()"
   ]
  },
  {
   "cell_type": "code",
   "execution_count": 10,
   "metadata": {},
   "outputs": [
    {
     "name": "stdout",
     "output_type": "stream",
     "text": [
      "552 ms ± 9.81 ms per loop (mean ± std. dev. of 7 runs, 1 loop each)\n"
     ]
    }
   ],
   "source": [
    "%%timeit\n",
    "_ = get_torch_invariants(structures, 'cuda', model_ps)"
   ]
  },
  {
   "cell_type": "markdown",
   "metadata": {},
   "source": [
    "# time BS computation"
   ]
  },
  {
   "cell_type": "code",
   "execution_count": 11,
   "metadata": {},
   "outputs": [],
   "source": [
    "structures = ase.io.read('methane.extxyz', index='0:100')\n",
    "structures = nice.rascal_coefficients.process_structures(structures) #put all inside unit cell for rascal\n",
    "clebsch = nice.clebsch_gordan.ClebschGordan(LAMBDA_MAX)"
   ]
  },
  {
   "cell_type": "code",
   "execution_count": 12,
   "metadata": {},
   "outputs": [
    {
     "name": "stdout",
     "output_type": "stream",
     "text": [
      "33.4 s ± 34.4 ms per loop (mean ± std. dev. of 7 runs, 1 loop each)\n"
     ]
    }
   ],
   "source": [
    "%%timeit\n",
    "_ = get_rascal_bs(structures)"
   ]
  },
  {
   "cell_type": "code",
   "execution_count": 13,
   "metadata": {},
   "outputs": [],
   "source": [
    "model_bs = Bispectrum(clebsch.precomputed_, LAMBDA_MAX)"
   ]
  },
  {
   "cell_type": "code",
   "execution_count": 14,
   "metadata": {},
   "outputs": [
    {
     "name": "stdout",
     "output_type": "stream",
     "text": [
      "8 s ± 187 ms per loop (mean ± std. dev. of 7 runs, 1 loop each)\n"
     ]
    }
   ],
   "source": [
    "%%timeit\n",
    "_ = get_torch_invariants(structures, 'cpu', model_bs)"
   ]
  },
  {
   "cell_type": "code",
   "execution_count": 15,
   "metadata": {},
   "outputs": [],
   "source": [
    "model_bs = model_bs.cuda()"
   ]
  },
  {
   "cell_type": "code",
   "execution_count": 16,
   "metadata": {
    "scrolled": true
   },
   "outputs": [
    {
     "name": "stdout",
     "output_type": "stream",
     "text": [
      "1.57 s ± 24.4 ms per loop (mean ± std. dev. of 7 runs, 1 loop each)\n"
     ]
    }
   ],
   "source": [
    "%%timeit\n",
    "_ = get_torch_invariants(structures, 'cuda', model_bs)"
   ]
  },
  {
   "cell_type": "code",
   "execution_count": null,
   "metadata": {},
   "outputs": [],
   "source": []
  }
 ],
 "metadata": {
  "kernelspec": {
   "display_name": "Python 3",
   "language": "python",
   "name": "python3"
  },
  "language_info": {
   "codemirror_mode": {
    "name": "ipython",
    "version": 3
   },
   "file_extension": ".py",
   "mimetype": "text/x-python",
   "name": "python",
   "nbconvert_exporter": "python",
   "pygments_lexer": "ipython3",
   "version": "3.6.9"
  },
  "toc": {
   "base_numbering": 1,
   "nav_menu": {},
   "number_sections": true,
   "sideBar": true,
   "skip_h1_title": false,
   "title_cell": "Table of Contents",
   "title_sidebar": "Contents",
   "toc_cell": false,
   "toc_position": {},
   "toc_section_display": true,
   "toc_window_display": true
  }
 },
 "nbformat": 4,
 "nbformat_minor": 4
}
